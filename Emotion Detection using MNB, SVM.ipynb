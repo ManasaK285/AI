{
 "cells": [
  {
   "cell_type": "code",
   "execution_count": 1,
   "id": "5b77d6db-961a-4ab1-a440-83734b70c34f",
   "metadata": {},
   "outputs": [
    {
     "name": "stdout",
     "output_type": "stream",
     "text": [
      "Name: nltk\n",
      "Version: 3.9.1\n",
      "Summary: Natural Language Toolkit\n",
      "Home-page: https://www.nltk.org/\n",
      "Author: NLTK Team\n",
      "Author-email: nltk.team@gmail.com\n",
      "License: Apache License, Version 2.0\n",
      "Location: C:\\Users\\dell\\anaconda3\\Lib\\site-packages\n",
      "Requires: click, joblib, regex, tqdm\n",
      "Required-by: textblob\n",
      "Requirement already satisfied: nltk in c:\\users\\dell\\anaconda3\\lib\\site-packages (3.9.1)\n",
      "Requirement already satisfied: click in c:\\users\\dell\\anaconda3\\lib\\site-packages (from nltk) (8.1.7)\n",
      "Requirement already satisfied: joblib in c:\\users\\dell\\anaconda3\\lib\\site-packages (from nltk) (1.4.2)\n",
      "Requirement already satisfied: regex>=2021.8.3 in c:\\users\\dell\\anaconda3\\lib\\site-packages (from nltk) (2023.10.3)\n",
      "Requirement already satisfied: tqdm in c:\\users\\dell\\anaconda3\\lib\\site-packages (from nltk) (4.66.4)\n",
      "Requirement already satisfied: colorama in c:\\users\\dell\\anaconda3\\lib\\site-packages (from click->nltk) (0.4.6)\n"
     ]
    }
   ],
   "source": [
    "!pip show nltk\n",
    "!pip install --upgrade nltk"
   ]
  },
  {
   "cell_type": "code",
   "execution_count": 2,
   "id": "9ffebbac-8ba4-4b03-bf67-52d1882381b5",
   "metadata": {},
   "outputs": [
    {
     "name": "stdout",
     "output_type": "stream",
     "text": [
      "Requirement already satisfied: stop_words in c:\\users\\dell\\anaconda3\\lib\\site-packages (2018.7.23)\n"
     ]
    },
    {
     "name": "stderr",
     "output_type": "stream",
     "text": [
      "[nltk_data] Downloading package stopwords to\n",
      "[nltk_data]     C:\\Users\\dell\\AppData\\Roaming\\nltk_data...\n",
      "[nltk_data]   Package stopwords is already up-to-date!\n",
      "[nltk_data] Downloading package wordnet to\n",
      "[nltk_data]     C:\\Users\\dell\\AppData\\Roaming\\nltk_data...\n",
      "[nltk_data]   Package wordnet is already up-to-date!\n",
      "[nltk_data] Downloading package omw-1.4 to\n",
      "[nltk_data]     C:\\Users\\dell\\AppData\\Roaming\\nltk_data...\n",
      "[nltk_data]   Package omw-1.4 is already up-to-date!\n",
      "[nltk_data] Downloading package punkt to\n",
      "[nltk_data]     C:\\Users\\dell\\AppData\\Roaming\\nltk_data...\n",
      "[nltk_data]   Package punkt is already up-to-date!\n"
     ]
    }
   ],
   "source": [
    "import pandas as pd\n",
    "import numpy as np\n",
    "\n",
    "import re\n",
    "import nltk\n",
    "from nltk.stem import PorterStemmer\n",
    "from nltk.stem import WordNetLemmatizer\n",
    "from sklearn.datasets import load_files\n",
    "!pip install stop_words\n",
    "nltk.download('stopwords')\n",
    "import pickle\n",
    "\n",
    "from nltk.corpus import stopwords\n",
    "nltk.download('wordnet')\n",
    "nltk.download('omw-1.4')\n",
    "nltk.download('punkt')\n",
    "from nltk.tokenize import sent_tokenize\n",
    "#!pip install stop_words\n",
    "\n",
    "from sklearn.model_selection import train_test_split\n",
    "from sklearn.feature_extraction.text import TfidfTransformer\n",
    "from sklearn.feature_extraction.text import CountVectorizer, TfidfVectorizer\n",
    "\n",
    "from sklearn.naive_bayes import MultinomialNB\n",
    "from sklearn.metrics import classification_report, accuracy_score, confusion_matrix\n",
    "from sklearn.model_selection import cross_val_predict, StratifiedKFold\n",
    "from sklearn.neural_network import MLPClassifier\n",
    "import matplotlib.pyplot as plt\n",
    "from sklearn.metrics import accuracy_score, precision_score, recall_score, f1_score, confusion_matrix, classification_report\n",
    "\n",
    "from sklearn.pipeline import Pipeline\n",
    "from sklearn.svm import SVC\n",
    "import matplotlib.pyplot as plt\n"
   ]
  },
  {
   "cell_type": "code",
   "execution_count": 3,
   "id": "81ceba06-ad4e-4cd0-9a57-f14dfab4cc42",
   "metadata": {},
   "outputs": [
    {
     "data": {
      "text/html": [
       "<div>\n",
       "<style scoped>\n",
       "    .dataframe tbody tr th:only-of-type {\n",
       "        vertical-align: middle;\n",
       "    }\n",
       "\n",
       "    .dataframe tbody tr th {\n",
       "        vertical-align: top;\n",
       "    }\n",
       "\n",
       "    .dataframe thead th {\n",
       "        text-align: right;\n",
       "    }\n",
       "</style>\n",
       "<table border=\"1\" class=\"dataframe\">\n",
       "  <thead>\n",
       "    <tr style=\"text-align: right;\">\n",
       "      <th></th>\n",
       "      <th>tweet_id</th>\n",
       "      <th>sentiment</th>\n",
       "      <th>content</th>\n",
       "    </tr>\n",
       "  </thead>\n",
       "  <tbody>\n",
       "    <tr>\n",
       "      <th>0</th>\n",
       "      <td>1956967341</td>\n",
       "      <td>empty</td>\n",
       "      <td>@tiffanylue i know  i was listenin to bad habi...</td>\n",
       "    </tr>\n",
       "    <tr>\n",
       "      <th>1</th>\n",
       "      <td>1956967666</td>\n",
       "      <td>sadness</td>\n",
       "      <td>Layin n bed with a headache  ughhhh...waitin o...</td>\n",
       "    </tr>\n",
       "    <tr>\n",
       "      <th>2</th>\n",
       "      <td>1956967696</td>\n",
       "      <td>sadness</td>\n",
       "      <td>Funeral ceremony...gloomy friday...</td>\n",
       "    </tr>\n",
       "    <tr>\n",
       "      <th>3</th>\n",
       "      <td>1956967789</td>\n",
       "      <td>enthusiasm</td>\n",
       "      <td>wants to hang out with friends SOON!</td>\n",
       "    </tr>\n",
       "    <tr>\n",
       "      <th>4</th>\n",
       "      <td>1956968416</td>\n",
       "      <td>neutral</td>\n",
       "      <td>@dannycastillo We want to trade with someone w...</td>\n",
       "    </tr>\n",
       "    <tr>\n",
       "      <th>5</th>\n",
       "      <td>1956968477</td>\n",
       "      <td>worry</td>\n",
       "      <td>Re-pinging @ghostridah14: why didn't you go to...</td>\n",
       "    </tr>\n",
       "    <tr>\n",
       "      <th>6</th>\n",
       "      <td>1956968487</td>\n",
       "      <td>sadness</td>\n",
       "      <td>I should be sleep, but im not! thinking about ...</td>\n",
       "    </tr>\n",
       "    <tr>\n",
       "      <th>7</th>\n",
       "      <td>1956968636</td>\n",
       "      <td>worry</td>\n",
       "      <td>Hmmm. http://www.djhero.com/ is down</td>\n",
       "    </tr>\n",
       "    <tr>\n",
       "      <th>8</th>\n",
       "      <td>1956969035</td>\n",
       "      <td>sadness</td>\n",
       "      <td>@charviray Charlene my love. I miss you</td>\n",
       "    </tr>\n",
       "    <tr>\n",
       "      <th>9</th>\n",
       "      <td>1956969172</td>\n",
       "      <td>sadness</td>\n",
       "      <td>@kelcouch I'm sorry  at least it's Friday?</td>\n",
       "    </tr>\n",
       "  </tbody>\n",
       "</table>\n",
       "</div>"
      ],
      "text/plain": [
       "     tweet_id   sentiment                                            content\n",
       "0  1956967341       empty  @tiffanylue i know  i was listenin to bad habi...\n",
       "1  1956967666     sadness  Layin n bed with a headache  ughhhh...waitin o...\n",
       "2  1956967696     sadness                Funeral ceremony...gloomy friday...\n",
       "3  1956967789  enthusiasm               wants to hang out with friends SOON!\n",
       "4  1956968416     neutral  @dannycastillo We want to trade with someone w...\n",
       "5  1956968477       worry  Re-pinging @ghostridah14: why didn't you go to...\n",
       "6  1956968487     sadness  I should be sleep, but im not! thinking about ...\n",
       "7  1956968636       worry               Hmmm. http://www.djhero.com/ is down\n",
       "8  1956969035     sadness            @charviray Charlene my love. I miss you\n",
       "9  1956969172     sadness         @kelcouch I'm sorry  at least it's Friday?"
      ]
     },
     "execution_count": 3,
     "metadata": {},
     "output_type": "execute_result"
    }
   ],
   "source": [
    "df = pd.read_csv(r'C:\\Users\\dell\\Desktop\\MyDocs\\Docs\\MK\\\\tweet_emotions.csv')\n",
    "df.head(10)"
   ]
  },
  {
   "cell_type": "code",
   "execution_count": 4,
   "id": "55a5371c-5029-423c-a304-f742b21d825e",
   "metadata": {},
   "outputs": [
    {
     "name": "stdout",
     "output_type": "stream",
     "text": [
      "<class 'pandas.core.frame.DataFrame'>\n",
      "RangeIndex: 40000 entries, 0 to 39999\n",
      "Data columns (total 3 columns):\n",
      " #   Column     Non-Null Count  Dtype \n",
      "---  ------     --------------  ----- \n",
      " 0   tweet_id   40000 non-null  int64 \n",
      " 1   sentiment  40000 non-null  object\n",
      " 2   content    40000 non-null  object\n",
      "dtypes: int64(1), object(2)\n",
      "memory usage: 937.6+ KB\n"
     ]
    }
   ],
   "source": [
    "df.info()"
   ]
  },
  {
   "cell_type": "code",
   "execution_count": 5,
   "id": "62e92dac-74e3-4ed7-a7d5-4a4880e15637",
   "metadata": {},
   "outputs": [
    {
     "name": "stdout",
     "output_type": "stream",
     "text": [
      "Num of numerical variables: 1\n",
      "\n",
      "The numerical variables are:  ['tweet_id']\n"
     ]
    }
   ],
   "source": [
    "# Find any numerical variables.\n",
    "numerical = [var for var in df.columns if df[var].dtype!='O']\n",
    "\n",
    "print('Num of numerical variables: {}\\n'.format(len(numerical)))\n",
    "print('The numerical variables are: ', numerical)"
   ]
  },
  {
   "cell_type": "code",
   "execution_count": 6,
   "id": "1d096b39-daa0-497b-9beb-996f32f79768",
   "metadata": {},
   "outputs": [],
   "source": [
    "# Drop the unecessary column (numerical variables)\n",
    "df = df.drop(columns=['tweet_id'])"
   ]
  },
  {
   "cell_type": "code",
   "execution_count": 7,
   "id": "59ee0324-3141-4cdf-92ad-3b92d20e0c24",
   "metadata": {},
   "outputs": [
    {
     "name": "stdout",
     "output_type": "stream",
     "text": [
      "Total duplicated rows: 91\n"
     ]
    }
   ],
   "source": [
    "# Count duplicates\n",
    "duplicates_count = df.duplicated().sum()\n",
    "print(f'Total duplicated rows: {duplicates_count}')"
   ]
  },
  {
   "cell_type": "code",
   "execution_count": 8,
   "id": "1ac4ee70-823a-408c-8050-84ff3951055f",
   "metadata": {},
   "outputs": [
    {
     "data": {
      "text/html": [
       "<div>\n",
       "<style scoped>\n",
       "    .dataframe tbody tr th:only-of-type {\n",
       "        vertical-align: middle;\n",
       "    }\n",
       "\n",
       "    .dataframe tbody tr th {\n",
       "        vertical-align: top;\n",
       "    }\n",
       "\n",
       "    .dataframe thead th {\n",
       "        text-align: right;\n",
       "    }\n",
       "</style>\n",
       "<table border=\"1\" class=\"dataframe\">\n",
       "  <thead>\n",
       "    <tr style=\"text-align: right;\">\n",
       "      <th></th>\n",
       "      <th>sentiment</th>\n",
       "      <th>content</th>\n",
       "    </tr>\n",
       "  </thead>\n",
       "  <tbody>\n",
       "    <tr>\n",
       "      <th>366</th>\n",
       "      <td>worry</td>\n",
       "      <td>I feel so deflated. No more doggy.</td>\n",
       "    </tr>\n",
       "    <tr>\n",
       "      <th>521</th>\n",
       "      <td>worry</td>\n",
       "      <td>Somebody please save the polar bears!</td>\n",
       "    </tr>\n",
       "    <tr>\n",
       "      <th>1026</th>\n",
       "      <td>neutral</td>\n",
       "      <td>I'm at work</td>\n",
       "    </tr>\n",
       "    <tr>\n",
       "      <th>3684</th>\n",
       "      <td>sadness</td>\n",
       "      <td>@dublins98dave me too! I am down 400 euro</td>\n",
       "    </tr>\n",
       "    <tr>\n",
       "      <th>4363</th>\n",
       "      <td>worry</td>\n",
       "      <td>is upset, I left my phone at home again</td>\n",
       "    </tr>\n",
       "    <tr>\n",
       "      <th>...</th>\n",
       "      <td>...</td>\n",
       "      <td>...</td>\n",
       "    </tr>\n",
       "    <tr>\n",
       "      <th>39859</th>\n",
       "      <td>love</td>\n",
       "      <td>Happy Mothers Day</td>\n",
       "    </tr>\n",
       "    <tr>\n",
       "      <th>39898</th>\n",
       "      <td>love</td>\n",
       "      <td>happy mothers day!</td>\n",
       "    </tr>\n",
       "    <tr>\n",
       "      <th>39913</th>\n",
       "      <td>happiness</td>\n",
       "      <td>happy mother's day!</td>\n",
       "    </tr>\n",
       "    <tr>\n",
       "      <th>39915</th>\n",
       "      <td>love</td>\n",
       "      <td>happy mother's day everyone</td>\n",
       "    </tr>\n",
       "    <tr>\n",
       "      <th>39945</th>\n",
       "      <td>love</td>\n",
       "      <td>Happy Mother's Day to all the moms out there!</td>\n",
       "    </tr>\n",
       "  </tbody>\n",
       "</table>\n",
       "<p>173 rows × 2 columns</p>\n",
       "</div>"
      ],
      "text/plain": [
       "       sentiment                                        content\n",
       "366        worry             I feel so deflated. No more doggy.\n",
       "521        worry          Somebody please save the polar bears!\n",
       "1026     neutral                                    I'm at work\n",
       "3684     sadness      @dublins98dave me too! I am down 400 euro\n",
       "4363       worry        is upset, I left my phone at home again\n",
       "...          ...                                            ...\n",
       "39859       love                              Happy Mothers Day\n",
       "39898       love                             happy mothers day!\n",
       "39913  happiness                            happy mother's day!\n",
       "39915       love                    happy mother's day everyone\n",
       "39945       love  Happy Mother's Day to all the moms out there!\n",
       "\n",
       "[173 rows x 2 columns]"
      ]
     },
     "execution_count": 8,
     "metadata": {},
     "output_type": "execute_result"
    }
   ],
   "source": [
    "# Check for duplicates\n",
    "df[df['content'].duplicated() == True]"
   ]
  },
  {
   "cell_type": "code",
   "execution_count": 9,
   "id": "ec5b5141-42bd-442a-b322-57d9a03066a9",
   "metadata": {},
   "outputs": [],
   "source": [
    "# Drop duplicated values\n",
    "index = df[df['content'].duplicated() == True].index\n",
    "df.drop(index, axis = 0, inplace = True)\n",
    "df.reset_index(inplace=True, drop = True)"
   ]
  },
  {
   "cell_type": "code",
   "execution_count": 10,
   "id": "ee7f06f2-8ad4-4256-9f10-182cea14e428",
   "metadata": {},
   "outputs": [
    {
     "data": {
      "text/plain": [
       "(39827, 2)"
      ]
     },
     "execution_count": 10,
     "metadata": {},
     "output_type": "execute_result"
    }
   ],
   "source": [
    "# Final shape of data after dropping duplicates\n",
    "df.shape"
   ]
  },
  {
   "cell_type": "code",
   "execution_count": 11,
   "id": "41379e83-46dc-45eb-aeed-0982c8424ef1",
   "metadata": {},
   "outputs": [
    {
     "name": "stdout",
     "output_type": "stream",
     "text": [
      "['empty' 'sadness' 'enthusiasm' 'neutral' 'worry' 'surprise' 'love' 'fun'\n",
      " 'hate' 'happiness' 'boredom' 'relief' 'anger']\n"
     ]
    }
   ],
   "source": [
    "# Unique values from 'sentiment'\n",
    "unique_sentiments = df['sentiment'].unique()\n",
    "print(unique_sentiments)"
   ]
  },
  {
   "cell_type": "code",
   "execution_count": 12,
   "id": "0b32bee0-e7fc-4c2c-b98d-476dfc493e32",
   "metadata": {},
   "outputs": [
    {
     "name": "stdout",
     "output_type": "stream",
     "text": [
      "            Counts  Percentage\n",
      "sentiment                     \n",
      "neutral       8598   21.588370\n",
      "worry         8437   21.184121\n",
      "happiness     5184   13.016295\n",
      "sadness       5154   12.940970\n",
      "love          3785    9.503603\n",
      "surprise      2181    5.476184\n",
      "fun           1775    4.456776\n",
      "relief        1522    3.821528\n",
      "hate          1322    3.319356\n",
      "empty          822    2.063926\n",
      "enthusiasm     758    1.903231\n",
      "boredom        179    0.449444\n",
      "anger          110    0.276195\n",
      "\n",
      "total values: 13\n"
     ]
    }
   ],
   "source": [
    "# Frequency distribution of'sentiment'\n",
    "frequency_counts = df['sentiment'].value_counts()\n",
    "\n",
    "frequency_percentage = (frequency_counts / len(df['sentiment'])) * 100\n",
    "frequency_df = pd.DataFrame({'Counts': frequency_counts, 'Percentage': frequency_percentage})\n",
    "\n",
    "print(frequency_df)\n",
    "\n",
    "# Print total value\n",
    "cardinality = df['sentiment'].nunique()\n",
    "print(f\"\\ntotal values: {cardinality}\")"
   ]
  },
  {
   "cell_type": "code",
   "execution_count": 13,
   "id": "de9fa234-ce9a-44e6-9a98-ff8958fdb0fe",
   "metadata": {},
   "outputs": [
    {
     "data": {
      "image/png": "[encoded data removed]",
      "text/plain": [
       "<Figure size 640x480 with 1 Axes>"
      ]
     },
     "metadata": {},
     "output_type": "display_data"
    }
   ],
   "source": [
    "# Extract sentiment values & frequencies\n",
    "sentiment_counts = df['sentiment'].value_counts().sort_index()\n",
    "\n",
    "sentiments = sentiment_counts.index\n",
    "frequencies = sentiment_counts.values\n",
    "\n",
    "# Plot\n",
    "plt.barh(sentiments, frequencies, color='orange')\n",
    "plt.xlabel('Frequency')\n",
    "plt.ylabel('Sentiment')\n",
    "plt.title('Distribution of class \"sentiment\"')\n",
    "plt.gca().invert_yaxis()  # Invert the y-axis to have the highest sentiment at the top\n",
    "plt.show()"
   ]
  },
  {
   "cell_type": "code",
   "execution_count": 14,
   "id": "45ebb97d-5b8e-4d86-a27e-3d9e4fa1f183",
   "metadata": {},
   "outputs": [
    {
     "name": "stdout",
     "output_type": "stream",
     "text": [
      "['empty' 'sadness' 'enthusiasm' 'neutral' 'worry' 'surprise' 'love' 'fun'\n",
      " 'hate' 'happiness' 'boredom' 'relief' 'anger']\n"
     ]
    }
   ],
   "source": [
    "# Values from 'sentiment'\n",
    "unique_sentiments = df['sentiment'].unique()\n",
    "print(unique_sentiments)"
   ]
  },
  {
   "cell_type": "code",
   "execution_count": 15,
   "id": "9e567d08-c4de-41b3-9223-2505ccab072a",
   "metadata": {},
   "outputs": [],
   "source": [
    "sentiment_mapping = {\n",
    "    'empty': 'negative',\n",
    "    'sadness': 'negative',\n",
    "    'worry': 'negative',\n",
    "    'hate': 'negative',\n",
    "    'boredom': 'negative',\n",
    "    'anger': 'negative',\n",
    "    'enthusiasm': 'positive',\n",
    "    'neutral': 'neutral',\n",
    "    'surprise': 'neutral',\n",
    "    'love': 'positive',\n",
    "    'fun': 'positive',\n",
    "    'happiness': 'positive',\n",
    "    'relief': 'positive'\n",
    "}\n",
    "\n",
    "# Create a new col for the mapping\n",
    "df['label'] = df['sentiment'].map(sentiment_mapping)"
   ]
  },
  {
   "cell_type": "code",
   "execution_count": 16,
   "id": "1a32c587-0120-490b-8976-3900c04de5c1",
   "metadata": {},
   "outputs": [
    {
     "name": "stdout",
     "output_type": "stream",
     "text": [
      "39827\n",
      "39827\n"
     ]
    }
   ],
   "source": [
    "X = df['content']\n",
    "y = df['label']\n",
    "\n",
    "# Making sure that X y have the same length\n",
    "print(len(X))\n",
    "print(len(y))"
   ]
  },
  {
   "cell_type": "code",
   "execution_count": 17,
   "id": "021fd09a-66e0-4e45-b963-514e8eea4b54",
   "metadata": {},
   "outputs": [],
   "source": [
    "# Cleaning and lemmatising\n",
    "cleaned = []\n",
    "\n",
    "for sen in range(0, len(X)):\n",
    "    # Remove all the special characters (any letter or a digit)\n",
    "    document = re.sub(r'\\W', ' ', str(X[sen]))\n",
    "\n",
    "    # remove all single characters (surrounded by whitespace)\n",
    "    document = re.sub(r'\\s+[a-zA-Z]\\s+', ' ', document)\n",
    "\n",
    "    # Remove single characters from the start\n",
    "    document = re.sub(r'\\^[a-zA-Z]\\s+', ' ', document)\n",
    "\n",
    "    # Substituting multiple spaces with single space\n",
    "    document = re.sub(r'\\s+', ' ', document, flags=re.I)\n",
    "\n",
    "    # Removing prefixed 'b'\n",
    "    document = re.sub(r'^b\\s+', '', document)\n",
    "\n",
    "    # Converting to Lowercase\n",
    "    document = document.lower()\n",
    "\n",
    "    # Lemmatization- splits into list of words ['The', 'quick', ....]\n",
    "    document = document.split()\n",
    "\n",
    "    lemma = WordNetLemmatizer()\n",
    "    document = [lemma.lemmatize(word) for word in document]\n",
    "    document = ' '.join(document)\n",
    "    cleaned.append(document)"
   ]
  },
  {
   "cell_type": "code",
   "execution_count": 18,
   "id": "3e032fb2-5559-445e-adaf-5b046830f759",
   "metadata": {},
   "outputs": [
    {
     "data": {
      "text/plain": [
       "39827"
      ]
     },
     "execution_count": 18,
     "metadata": {},
     "output_type": "execute_result"
    }
   ],
   "source": [
    "# Making sure that cleaned data has the same length as X\n",
    "len(cleaned)"
   ]
  },
  {
   "cell_type": "code",
   "execution_count": 19,
   "id": "152c7fa0-c797-45fa-b215-927a3e827a3e",
   "metadata": {},
   "outputs": [
    {
     "name": "stderr",
     "output_type": "stream",
     "text": [
      "[nltk_data] Downloading package punkt to\n",
      "[nltk_data]     C:\\Users\\dell\\AppData\\Roaming\\nltk_data...\n",
      "[nltk_data]   Package punkt is already up-to-date!\n"
     ]
    }
   ],
   "source": [
    "# Count stopwords present in the data\n",
    "nltk.download('punkt')\n",
    "def count_stopwords(text):\n",
    "    stop_words = set(stopwords.words(\"english\"))\n",
    "    words = nltk.word_tokenize(text)\n",
    "    return len(set(words) & stop_words)\n",
    "\n",
    "# Add a new col 'stop_words' that contains the count of stopwords\n",
    "df['stop_words'] = df['content'].apply(count_stopwords)\n",
    "value_counts = df['stop_words'].value_counts()\n"
   ]
  },
  {
   "cell_type": "code",
   "execution_count": 20,
   "id": "46e13d3f-0549-423a-b88b-5e70909f7bf6",
   "metadata": {},
   "outputs": [
    {
     "name": "stdout",
     "output_type": "stream",
     "text": [
      "        sentiment                                            content  \\\n",
      "0           empty  @tiffanylue i know  i was listenin to bad habi...   \n",
      "1         sadness  Layin n bed with a headache  ughhhh...waitin o...   \n",
      "3      enthusiasm               wants to hang out with friends SOON!   \n",
      "4         neutral  @dannycastillo We want to trade with someone w...   \n",
      "5           worry  Re-pinging @ghostridah14: why didn't you go to...   \n",
      "...           ...                                                ...   \n",
      "39819     neutral  @jasimmo Ooo showing of your French skills!! l...   \n",
      "39820     neutral  @sendsome2me haha, yeah. Twitter has many uses...   \n",
      "39823        love                     Happy Mothers Day  All my love   \n",
      "39824        love  Happy Mother's Day to all the mommies out ther...   \n",
      "39826        love  @mopedronin bullet train from tokyo    the gf ...   \n",
      "\n",
      "          label  stop_words  \n",
      "0      negative           6  \n",
      "1      negative           4  \n",
      "3      positive           3  \n",
      "4       neutral           6  \n",
      "5      negative           5  \n",
      "...         ...         ...  \n",
      "39819   neutral           6  \n",
      "39820   neutral          11  \n",
      "39823  positive           1  \n",
      "39824  positive          12  \n",
      "39826  positive           6  \n",
      "\n",
      "[36279 rows x 4 columns]\n"
     ]
    }
   ],
   "source": [
    "# Count the number of stopwords in the data\n",
    "temp = df.copy()\n",
    "stop_words = set(stopwords.words(\"english\"))\n",
    "temp['stop_words'] = temp['content'].apply(lambda x: len(set(x.split()) & stop_words))\n",
    "\n",
    "# Print rows that contain stopwords\n",
    "rows_with_stopwords = temp[temp['stop_words'] > 0]\n",
    "print(rows_with_stopwords)"
   ]
  },
  {
   "cell_type": "code",
   "execution_count": 21,
   "id": "2efed403-0fc6-42a7-ad9d-ecbcdfc9a3c0",
   "metadata": {},
   "outputs": [
    {
     "data": {
      "text/plain": [
       "'wants to hang out with friends SOON!'"
      ]
     },
     "execution_count": 21,
     "metadata": {},
     "output_type": "execute_result"
    }
   ],
   "source": [
    "# Explore tweet that contains stopwords\n",
    "df['content'][3]\n",
    "# df.loc[3]"
   ]
  },
  {
   "cell_type": "code",
   "execution_count": 22,
   "id": "dadc1f2a-abdb-4283-8a05-151098f371a8",
   "metadata": {},
   "outputs": [
    {
     "data": {
      "text/plain": [
       "3"
      ]
     },
     "execution_count": 22,
     "metadata": {},
     "output_type": "execute_result"
    }
   ],
   "source": [
    "# Count stopwords in index 3\n",
    "stop_words = set(stopwords.words(\"english\"))\n",
    "df_indx = df['content'][3]\n",
    "stopword_count = len([word for word in df_indx.split() if word in stop_words])\n",
    "stopword_count"
   ]
  },
  {
   "cell_type": "code",
   "execution_count": 23,
   "id": "bc835072-9d69-4bbc-aa7e-4f884897e250",
   "metadata": {},
   "outputs": [
    {
     "name": "stdout",
     "output_type": "stream",
     "text": [
      "Stopwords in df['content'][3]:\n",
      "['to', 'out', 'with']\n"
     ]
    }
   ],
   "source": [
    "# Print all the stopwords in index 3\n",
    "stopwords_in_content = [word for word in df_indx.split() if word in stop_words]\n",
    "\n",
    "print(\"Stopwords in df['content'][3]:\")\n",
    "print(stopwords_in_content)"
   ]
  },
  {
   "cell_type": "code",
   "execution_count": 24,
   "id": "bd9ec8cb-5db8-4351-a21f-c860f28b84b0",
   "metadata": {},
   "outputs": [
    {
     "name": "stdout",
     "output_type": "stream",
     "text": [
      "<class 'list'>\n",
      "39827\n",
      "tiffanylue know wa listenin to bad habit earlier and started freakin at his part\n",
      "layin bed with headache ughhhh waitin on your call\n",
      "funeral ceremony gloomy friday\n",
      "want to hang out with friend soon\n",
      "dannycastillo we want to trade with someone who ha houston ticket but no one will\n",
      "re pinging ghostridah14 why didn you go to prom bc my bf didn like my friend\n",
      "i should be sleep but im not thinking about an old friend who want but he married now damn amp he want me 2 scandalous\n",
      "hmmm http www djhero com is down\n",
      "charviray charlene my love miss you\n",
      "kelcouch m sorry at least it friday\n",
      "cant fall asleep\n",
      "choked on her retainer\n",
      "ugh have to beat this stupid song to get to the next rude\n",
      "brodyjenner if watch the hill in london will realise what tourture it is because were week and week late just watch itonlinelol\n",
      "got the news\n"
     ]
    }
   ],
   "source": [
    "cleaned_tokenized = []\n",
    "for each in cleaned:\n",
    "    doc = sent_tokenize(each)\n",
    "    for sentence in doc:\n",
    "        cleaned_tokenized.append(sentence)\n",
    "\n",
    "# Type and length of the cleaned & tokenised sentence\n",
    "print(type(cleaned_tokenized))\n",
    "print(len(cleaned_tokenized))\n",
    "\n",
    "# Print the fist 15 lines of the cleaned & tokenised sentence\n",
    "for i in range(15):\n",
    "  print(cleaned_tokenized[i])"
   ]
  },
  {
   "cell_type": "code",
   "execution_count": 25,
   "id": "6b8e3ba1-0f96-4626-9acf-3f0e2e4c3486",
   "metadata": {},
   "outputs": [],
   "source": [
    "# Crate a new colum that contains processed text\n",
    "df['processed_content'] = cleaned_tokenized\n",
    "\n",
    "# Reorder col\n",
    "desired_order = ['content', 'processed_content', 'label']\n",
    "df = df[desired_order]\n",
    "df.head(10)\n",
    "\n",
    "X = cleaned_tokenized"
   ]
  },
  {
   "cell_type": "code",
   "execution_count": 26,
   "id": "33927d96-0cfd-4fd2-be16-198c6af6428c",
   "metadata": {},
   "outputs": [
    {
     "data": {
      "text/plain": [
       "content              wants to hang out with friends SOON!\n",
       "processed_content       want to hang out with friend soon\n",
       "label                                            positive\n",
       "Name: 3, dtype: object"
      ]
     },
     "execution_count": 26,
     "metadata": {},
     "output_type": "execute_result"
    }
   ],
   "source": [
    "# Pick a random row, count SW in that sentence\n",
    "df.loc[3]"
   ]
  },
  {
   "cell_type": "code",
   "execution_count": 37,
   "id": "d3efae1b-4714-43e0-bb68-52ed1d414958",
   "metadata": {},
   "outputs": [],
   "source": [
    "count_vectorizer = CountVectorizer()\n",
    "count_vectorizer.fit_transform(X)\n",
    "freq_term_matrix = count_vectorizer.transform(X)      # CV sparse matrix\n",
    "\n",
    "tfidf = TfidfTransformer(norm = \"l2\")\n",
    "tfidf.fit(freq_term_matrix)\n",
    "tf_idf_matrix = tfidf.fit_transform(freq_term_matrix) # tf-idf sparse matrix\n",
    "# print(tf_idf_matrix)\n",
    "dense_tf_idf_matrix = tf_idf_matrix.toarray()         # tf-idf dense matrix\n",
    "# print(dense_tf_idf_matrix)\n",
    "\n",
    "X_train, X_test, y_train, y_test = train_test_split(tf_idf_matrix, y, test_size=0.2, random_state=42)"
   ]
  },
  {
   "cell_type": "code",
   "execution_count": 38,
   "id": "26bfbec6-5b7c-4f7f-a089-d9bac2a38d61",
   "metadata": {},
   "outputs": [
    {
     "name": "stdout",
     "output_type": "stream",
     "text": [
      "['negative' 'positive' 'neutral']\n"
     ]
    }
   ],
   "source": [
    "# Final check - Extract unique values from 'sentiment'\n",
    "import pandas as pd\n",
    "\n",
    "unique_sentiments = df['label'].unique()\n",
    "print(unique_sentiments)"
   ]
  },
  {
   "cell_type": "code",
   "execution_count": 54,
   "id": "b732f302-3262-4887-a6fd-ef332df9e78e",
   "metadata": {},
   "outputs": [
    {
     "data": {
      "text/html": [
       "<div>\n",
       "<style scoped>\n",
       "    .dataframe tbody tr th:only-of-type {\n",
       "        vertical-align: middle;\n",
       "    }\n",
       "\n",
       "    .dataframe tbody tr th {\n",
       "        vertical-align: top;\n",
       "    }\n",
       "\n",
       "    .dataframe thead th {\n",
       "        text-align: right;\n",
       "    }\n",
       "</style>\n",
       "<table border=\"1\" class=\"dataframe\">\n",
       "  <thead>\n",
       "    <tr style=\"text-align: right;\">\n",
       "      <th></th>\n",
       "      <th>content</th>\n",
       "      <th>processed_content</th>\n",
       "      <th>label</th>\n",
       "    </tr>\n",
       "  </thead>\n",
       "  <tbody>\n",
       "    <tr>\n",
       "      <th>0</th>\n",
       "      <td>@tiffanylue i know  i was listenin to bad habi...</td>\n",
       "      <td>tiffanylue know wa listenin to bad habit earli...</td>\n",
       "      <td>negative</td>\n",
       "    </tr>\n",
       "    <tr>\n",
       "      <th>1</th>\n",
       "      <td>Layin n bed with a headache  ughhhh...waitin o...</td>\n",
       "      <td>layin bed with headache ughhhh waitin on your ...</td>\n",
       "      <td>negative</td>\n",
       "    </tr>\n",
       "    <tr>\n",
       "      <th>2</th>\n",
       "      <td>Funeral ceremony...gloomy friday...</td>\n",
       "      <td>funeral ceremony gloomy friday</td>\n",
       "      <td>negative</td>\n",
       "    </tr>\n",
       "    <tr>\n",
       "      <th>3</th>\n",
       "      <td>wants to hang out with friends SOON!</td>\n",
       "      <td>want to hang out with friend soon</td>\n",
       "      <td>positive</td>\n",
       "    </tr>\n",
       "    <tr>\n",
       "      <th>4</th>\n",
       "      <td>@dannycastillo We want to trade with someone w...</td>\n",
       "      <td>dannycastillo we want to trade with someone wh...</td>\n",
       "      <td>neutral</td>\n",
       "    </tr>\n",
       "  </tbody>\n",
       "</table>\n",
       "</div>"
      ],
      "text/plain": [
       "                                             content  \\\n",
       "0  @tiffanylue i know  i was listenin to bad habi...   \n",
       "1  Layin n bed with a headache  ughhhh...waitin o...   \n",
       "2                Funeral ceremony...gloomy friday...   \n",
       "3               wants to hang out with friends SOON!   \n",
       "4  @dannycastillo We want to trade with someone w...   \n",
       "\n",
       "                                   processed_content     label  \n",
       "0  tiffanylue know wa listenin to bad habit earli...  negative  \n",
       "1  layin bed with headache ughhhh waitin on your ...  negative  \n",
       "2                     funeral ceremony gloomy friday  negative  \n",
       "3                  want to hang out with friend soon  positive  \n",
       "4  dannycastillo we want to trade with someone wh...   neutral  "
      ]
     },
     "execution_count": 54,
     "metadata": {},
     "output_type": "execute_result"
    }
   ],
   "source": [
    "df.head(5)"
   ]
  },
  {
   "cell_type": "code",
   "execution_count": 56,
   "id": "1f89ac72-d407-4a9e-99b9-738b68df1709",
   "metadata": {},
   "outputs": [
    {
     "name": "stdout",
     "output_type": "stream",
     "text": [
      "          Counts  Percentage\n",
      "label                       \n",
      "negative   16024   40.234012\n",
      "positive   13024   32.701434\n",
      "neutral    10779   27.064554\n",
      "\n",
      "total values: 3\n"
     ]
    }
   ],
   "source": [
    "# Calculate the frequency distribution of 'sentiment'\n",
    "frequency_counts = df['label'].value_counts()\n",
    "\n",
    "frequency_percentage = (frequency_counts / len(df['label'])) * 100\n",
    "frequency_df = pd.DataFrame({'Counts': frequency_counts, 'Percentage': frequency_percentage})\n",
    "\n",
    "print(frequency_df)\n",
    "\n",
    "# Total value count\n",
    "cardinality = df['label'].nunique()\n",
    "print(f\"\\ntotal values: {cardinality}\")"
   ]
  },
  {
   "cell_type": "code",
   "execution_count": 58,
   "id": "4b4396d1-69d1-4be7-b680-56c451f1306b",
   "metadata": {},
   "outputs": [
    {
     "data": {
      "image/png": "[encoded data removed]",
      "text/plain": [
       "<Figure size 640x480 with 1 Axes>"
      ]
     },
     "metadata": {},
     "output_type": "display_data"
    }
   ],
   "source": [
    "sentiment_counts = df['label'].value_counts().sort_index()\n",
    "\n",
    "# Extract sentiment values & frequencies\n",
    "sentiments = sentiment_counts.index\n",
    "frequencies = sentiment_counts.values\n",
    "\n",
    "total = sum(frequencies)  # Calculate the total frequency\n",
    "\n",
    "plt.barh(sentiments, frequencies, color='orange')\n",
    "plt.xlabel('Frequency')\n",
    "plt.ylabel('Sentiment')\n",
    "plt.title('Distribution of the combined classes (sentiment)')\n",
    "plt.gca().invert_yaxis()\n",
    "\n",
    "# Annotate each bar with its percentage\n",
    "for index, value in enumerate(frequencies):\n",
    "    percentage = (value / total) * 100\n",
    "    plt.text(value - (max(frequencies) * 0.09), index, f'{percentage:.2f}%', ha='center', va='center', color='black')\n",
    "\n",
    "plt.show()"
   ]
  },
  {
   "cell_type": "code",
   "execution_count": 59,
   "id": "b1eb752b-ac1b-47c7-b212-78a6612264c9",
   "metadata": {},
   "outputs": [
    {
     "data": {
      "text/html": [
       "<div>\n",
       "<style scoped>\n",
       "    .dataframe tbody tr th:only-of-type {\n",
       "        vertical-align: middle;\n",
       "    }\n",
       "\n",
       "    .dataframe tbody tr th {\n",
       "        vertical-align: top;\n",
       "    }\n",
       "\n",
       "    .dataframe thead th {\n",
       "        text-align: right;\n",
       "    }\n",
       "</style>\n",
       "<table border=\"1\" class=\"dataframe\">\n",
       "  <thead>\n",
       "    <tr style=\"text-align: right;\">\n",
       "      <th></th>\n",
       "      <th>content</th>\n",
       "      <th>processed_content</th>\n",
       "      <th>label_num</th>\n",
       "    </tr>\n",
       "  </thead>\n",
       "  <tbody>\n",
       "    <tr>\n",
       "      <th>0</th>\n",
       "      <td>@tiffanylue i know  i was listenin to bad habi...</td>\n",
       "      <td>tiffanylue know wa listenin to bad habit earli...</td>\n",
       "      <td>0</td>\n",
       "    </tr>\n",
       "    <tr>\n",
       "      <th>1</th>\n",
       "      <td>Layin n bed with a headache  ughhhh...waitin o...</td>\n",
       "      <td>layin bed with headache ughhhh waitin on your ...</td>\n",
       "      <td>0</td>\n",
       "    </tr>\n",
       "    <tr>\n",
       "      <th>2</th>\n",
       "      <td>Funeral ceremony...gloomy friday...</td>\n",
       "      <td>funeral ceremony gloomy friday</td>\n",
       "      <td>0</td>\n",
       "    </tr>\n",
       "    <tr>\n",
       "      <th>3</th>\n",
       "      <td>wants to hang out with friends SOON!</td>\n",
       "      <td>want to hang out with friend soon</td>\n",
       "      <td>1</td>\n",
       "    </tr>\n",
       "    <tr>\n",
       "      <th>4</th>\n",
       "      <td>@dannycastillo We want to trade with someone w...</td>\n",
       "      <td>dannycastillo we want to trade with someone wh...</td>\n",
       "      <td>2</td>\n",
       "    </tr>\n",
       "  </tbody>\n",
       "</table>\n",
       "</div>"
      ],
      "text/plain": [
       "                                             content  \\\n",
       "0  @tiffanylue i know  i was listenin to bad habi...   \n",
       "1  Layin n bed with a headache  ughhhh...waitin o...   \n",
       "2                Funeral ceremony...gloomy friday...   \n",
       "3               wants to hang out with friends SOON!   \n",
       "4  @dannycastillo We want to trade with someone w...   \n",
       "\n",
       "                                   processed_content  label_num  \n",
       "0  tiffanylue know wa listenin to bad habit earli...          0  \n",
       "1  layin bed with headache ughhhh waitin on your ...          0  \n",
       "2                     funeral ceremony gloomy friday          0  \n",
       "3                  want to hang out with friend soon          1  \n",
       "4  dannycastillo we want to trade with someone wh...          2  "
      ]
     },
     "execution_count": 59,
     "metadata": {},
     "output_type": "execute_result"
    }
   ],
   "source": [
    "# Mapping sentiment num / encode\n",
    "df[\"label_num\"] = df.label.map({\n",
    "    'negative': 0,\n",
    "    'positive': 1,\n",
    "    'neutral': 2\n",
    "})\n",
    "\n",
    "df = df.drop(columns=['label'])\n",
    "df.head(5)"
   ]
  },
  {
   "cell_type": "code",
   "execution_count": 62,
   "id": "2326cba4-9a58-41e3-8dc2-d1ad44bf6d14",
   "metadata": {},
   "outputs": [
    {
     "name": "stdout",
     "output_type": "stream",
     "text": [
      "39827\n",
      "39827\n"
     ]
    }
   ],
   "source": [
    "X = df['content']\n",
    "y = df['label_num']\n",
    "\n",
    "# Making sure that X y have the same length\n",
    "print(len(X))\n",
    "print(len(y))"
   ]
  },
  {
   "cell_type": "code",
   "execution_count": 64,
   "id": "8519aebc-57ab-4cf9-af46-3d13e4a71bf5",
   "metadata": {},
   "outputs": [],
   "source": [
    "# Cleaning and lemmatising\n",
    "cleaned = []\n",
    "\n",
    "for sen in range(0, len(X)):\n",
    "    # Remove all the special characters (any letter or a digit)\n",
    "    document = re.sub(r'\\W', ' ', str(X[sen]))\n",
    "\n",
    "    # remove all single characters (surrounded by whitespace)\n",
    "    document = re.sub(r'\\s+[a-zA-Z]\\s+', ' ', document)\n",
    "\n",
    "    # Remove single characters from the start\n",
    "    document = re.sub(r'\\^[a-zA-Z]\\s+', ' ', document)\n",
    "\n",
    "    # Substituting multiple spaces with single space\n",
    "    document = re.sub(r'\\s+', ' ', document, flags=re.I)\n",
    "\n",
    "    # Removing prefixed 'b'\n",
    "    document = re.sub(r'^b\\s+', '', document)\n",
    "\n",
    "    # Converting to Lowercase\n",
    "    document = document.lower()\n",
    "\n",
    "    # Lemmatization- splits into list of words ['The', 'quick', ....]\n",
    "    document = document.split()\n",
    "\n",
    "    lemma = WordNetLemmatizer()\n",
    "    document = [lemma.lemmatize(word) for word in document]\n",
    "    document = ' '.join(document)\n",
    "    cleaned.append(document)"
   ]
  },
  {
   "cell_type": "code",
   "execution_count": 65,
   "id": "988731d1-e2ea-46a3-a473-17a947bcbc59",
   "metadata": {},
   "outputs": [
    {
     "data": {
      "text/plain": [
       "39827"
      ]
     },
     "execution_count": 65,
     "metadata": {},
     "output_type": "execute_result"
    }
   ],
   "source": [
    "len(cleaned)"
   ]
  },
  {
   "cell_type": "code",
   "execution_count": 66,
   "id": "8903e245-1e9b-48b1-8b7f-8fe5a257f312",
   "metadata": {},
   "outputs": [
    {
     "name": "stderr",
     "output_type": "stream",
     "text": [
      "[nltk_data] Downloading package punkt to\n",
      "[nltk_data]     C:\\Users\\dell\\AppData\\Roaming\\nltk_data...\n",
      "[nltk_data]   Package punkt is already up-to-date!\n"
     ]
    }
   ],
   "source": [
    "# Count stopwords present in the data\n",
    "nltk.download('punkt')\n",
    "def count_stopwords(text):\n",
    "    stop_words = set(stopwords.words(\"english\"))\n",
    "    words = nltk.word_tokenize(text)\n",
    "    return len(set(words) & stop_words)\n",
    "\n",
    "# Add a new col 'stop_words' that contains the count of stopwords\n",
    "df['stop_words'] = df['content'].apply(count_stopwords)\n",
    "value_counts = df['stop_words'].value_counts()"
   ]
  },
  {
   "cell_type": "code",
   "execution_count": 67,
   "id": "3508803c-89ef-4241-92e1-cec455fdcb4b",
   "metadata": {},
   "outputs": [
    {
     "name": "stdout",
     "output_type": "stream",
     "text": [
      "                                                 content  \\\n",
      "0      @tiffanylue i know  i was listenin to bad habi...   \n",
      "1      Layin n bed with a headache  ughhhh...waitin o...   \n",
      "3                   wants to hang out with friends SOON!   \n",
      "4      @dannycastillo We want to trade with someone w...   \n",
      "5      Re-pinging @ghostridah14: why didn't you go to...   \n",
      "...                                                  ...   \n",
      "39819  @jasimmo Ooo showing of your French skills!! l...   \n",
      "39820  @sendsome2me haha, yeah. Twitter has many uses...   \n",
      "39823                     Happy Mothers Day  All my love   \n",
      "39824  Happy Mother's Day to all the mommies out ther...   \n",
      "39826  @mopedronin bullet train from tokyo    the gf ...   \n",
      "\n",
      "                                       processed_content  label_num  \\\n",
      "0      tiffanylue know wa listenin to bad habit earli...          0   \n",
      "1      layin bed with headache ughhhh waitin on your ...          0   \n",
      "3                      want to hang out with friend soon          1   \n",
      "4      dannycastillo we want to trade with someone wh...          2   \n",
      "5      re pinging ghostridah14 why didn you go to pro...          0   \n",
      "...                                                  ...        ...   \n",
      "39819  jasimmo ooo showing of your french skill lol t...          2   \n",
      "39820  sendsome2me haha yeah twitter ha many us for m...          2   \n",
      "39823                       happy mother day all my love          1   \n",
      "39824  happy mother day to all the mommy out there be...          1   \n",
      "39826  mopedronin bullet train from tokyo the gf and ...          1   \n",
      "\n",
      "       stop_words  \n",
      "0               6  \n",
      "1               4  \n",
      "3               3  \n",
      "4               6  \n",
      "5               5  \n",
      "...           ...  \n",
      "39819           6  \n",
      "39820          11  \n",
      "39823           1  \n",
      "39824          12  \n",
      "39826           6  \n",
      "\n",
      "[36279 rows x 4 columns]\n"
     ]
    }
   ],
   "source": [
    "# Count the number of stopwords in the data\n",
    "temp = df.copy()\n",
    "stop_words = set(stopwords.words(\"english\"))\n",
    "temp['stop_words'] = temp['content'].apply(lambda x: len(set(x.split()) & stop_words))\n",
    "\n",
    "# Print rows that contain stopwords\n",
    "rows_with_stopwords = temp[temp['stop_words'] > 0]\n",
    "print(rows_with_stopwords)"
   ]
  },
  {
   "cell_type": "code",
   "execution_count": 68,
   "id": "194cce6e-9e76-4118-8449-5397aca24a34",
   "metadata": {},
   "outputs": [
    {
     "data": {
      "text/plain": [
       "'wants to hang out with friends SOON!'"
      ]
     },
     "execution_count": 68,
     "metadata": {},
     "output_type": "execute_result"
    }
   ],
   "source": [
    "# Explore tweet that contains stopwords\n",
    "df['content'][3]\n",
    "# df.loc[3]"
   ]
  },
  {
   "cell_type": "code",
   "execution_count": 69,
   "id": "354e11cd-4bb3-41db-a066-e715f847c569",
   "metadata": {},
   "outputs": [
    {
     "data": {
      "text/plain": [
       "3"
      ]
     },
     "execution_count": 69,
     "metadata": {},
     "output_type": "execute_result"
    }
   ],
   "source": [
    "# Count stopwords in index 3\n",
    "stop_words = set(stopwords.words(\"english\"))\n",
    "df_indx = df['content'][3]\n",
    "stopword_count = len([word for word in df_indx.split() if word in stop_words])\n",
    "stopword_count"
   ]
  },
  {
   "cell_type": "code",
   "execution_count": 70,
   "id": "43bad85b-5233-4589-98fe-6561c83db4ee",
   "metadata": {},
   "outputs": [
    {
     "name": "stdout",
     "output_type": "stream",
     "text": [
      "Stopwords in df['content'][3]:\n",
      "['to', 'out', 'with']\n"
     ]
    },
    {
     "data": {
      "text/plain": [
       "\"\\nThe cleaned sentence from 4th row, ['wants to hang out with friends SOON!']\\ncontains 3 stopwords, 'to', 'out', and 'with'\\n\""
      ]
     },
     "execution_count": 70,
     "metadata": {},
     "output_type": "execute_result"
    }
   ],
   "source": [
    "# Print all the stopwords in index 3\n",
    "stopwords_in_content = [word for word in df_indx.split() if word in stop_words]\n",
    "\n",
    "print(\"Stopwords in df['content'][3]:\")\n",
    "print(stopwords_in_content)\n",
    "\n",
    "'''\n",
    "The cleaned sentence from 4th row, ['wants to hang out with friends SOON!']\n",
    "contains 3 stopwords, 'to', 'out', and 'with'\n",
    "'''"
   ]
  },
  {
   "cell_type": "code",
   "execution_count": 71,
   "id": "fbb45644-426b-4e1b-aa64-0484ed1899b8",
   "metadata": {},
   "outputs": [
    {
     "name": "stdout",
     "output_type": "stream",
     "text": [
      "<class 'list'>\n",
      "39827\n",
      "tiffanylue know wa listenin to bad habit earlier and started freakin at his part\n",
      "layin bed with headache ughhhh waitin on your call\n",
      "funeral ceremony gloomy friday\n",
      "want to hang out with friend soon\n",
      "dannycastillo we want to trade with someone who ha houston ticket but no one will\n",
      "re pinging ghostridah14 why didn you go to prom bc my bf didn like my friend\n",
      "i should be sleep but im not thinking about an old friend who want but he married now damn amp he want me 2 scandalous\n",
      "hmmm http www djhero com is down\n",
      "charviray charlene my love miss you\n",
      "kelcouch m sorry at least it friday\n",
      "cant fall asleep\n",
      "choked on her retainer\n",
      "ugh have to beat this stupid song to get to the next rude\n",
      "brodyjenner if watch the hill in london will realise what tourture it is because were week and week late just watch itonlinelol\n",
      "got the news\n"
     ]
    }
   ],
   "source": [
    "cleaned_tokenized = []\n",
    "for each in cleaned:\n",
    "    doc = sent_tokenize(each)\n",
    "    for sentence in doc:\n",
    "        cleaned_tokenized.append(sentence)\n",
    "\n",
    "# Type and length of the cleaned & tokenised sentence\n",
    "print(type(cleaned_tokenized))\n",
    "print(len(cleaned_tokenized))\n",
    "\n",
    "# Print the fist 15 lines of the cleaned & tokenised sentence\n",
    "for i in range(15):\n",
    "  print(cleaned_tokenized[i])"
   ]
  },
  {
   "cell_type": "code",
   "execution_count": 75,
   "id": "6f53b00d-1775-4b82-bce3-97c78f53dee1",
   "metadata": {},
   "outputs": [],
   "source": [
    "# Crate a new colum that contains processed text\n",
    "df['processed_content'] = cleaned_tokenized\n",
    "\n",
    "# Reorder col\n",
    "desired_order = ['content', 'processed_content']\n",
    "df = df[desired_order]\n",
    "df.head(10)\n",
    "\n",
    "X = cleaned_tokenized"
   ]
  },
  {
   "cell_type": "code",
   "execution_count": 77,
   "id": "92e19d13-0546-4f8f-b5b4-92266de252f2",
   "metadata": {},
   "outputs": [
    {
     "data": {
      "text/plain": [
       "content              wants to hang out with friends SOON!\n",
       "processed_content       want to hang out with friend soon\n",
       "Name: 3, dtype: object"
      ]
     },
     "execution_count": 77,
     "metadata": {},
     "output_type": "execute_result"
    }
   ],
   "source": [
    "# Pick a random row, count SW in that sentence\n",
    "df.loc[3]"
   ]
  },
  {
   "cell_type": "code",
   "execution_count": 79,
   "id": "34d58ea8-2f75-4a33-a0a1-87526a81a812",
   "metadata": {},
   "outputs": [],
   "source": [
    "count_vectorizer = CountVectorizer()\n",
    "count_vectorizer.fit_transform(X)\n",
    "freq_term_matrix = count_vectorizer.transform(X)      # CV sparse matrix\n",
    "\n",
    "tfidf = TfidfTransformer(norm = \"l2\")\n",
    "tfidf.fit(freq_term_matrix)\n",
    "tf_idf_matrix = tfidf.fit_transform(freq_term_matrix) # tf-idf sparse matrix\n",
    "# print(tf_idf_matrix)\n",
    "dense_tf_idf_matrix = tf_idf_matrix.toarray()         # tf-idf dense matrix\n",
    "# print(dense_tf_idf_matrix)\n",
    "\n",
    "X_train, X_test, y_train, y_test = train_test_split(tf_idf_matrix, y, test_size=0.2, random_state=42)"
   ]
  },
  {
   "cell_type": "code",
   "execution_count": 80,
   "id": "521ea5f3-ab7c-4272-a3e7-3e3776579690",
   "metadata": {},
   "outputs": [
    {
     "name": "stdout",
     "output_type": "stream",
     "text": [
      "Classification Report (Cross-Validation):\n",
      "               precision    recall  f1-score   support\n",
      "\n",
      "           0       0.49      0.92      0.64     12834\n",
      "           1       0.63      0.45      0.53     10395\n",
      "           2       0.53      0.02      0.05      8632\n",
      "\n",
      "    accuracy                           0.53     31861\n",
      "   macro avg       0.55      0.47      0.41     31861\n",
      "weighted avg       0.55      0.53      0.44     31861\n",
      "\n",
      "Accuracy (Cross-Validation): 0.5254072376887103\n",
      "Classification Report (Test Data):\n",
      "               precision    recall  f1-score   support\n",
      "\n",
      "           0       0.49      0.91      0.64      3190\n",
      "           1       0.65      0.49      0.56      2629\n",
      "           2       0.50      0.03      0.05      2147\n",
      "\n",
      "    accuracy                           0.53      7966\n",
      "   macro avg       0.55      0.48      0.42      7966\n",
      "weighted avg       0.55      0.53      0.46      7966\n",
      "\n",
      "Accuracy (Test Data): 0.5333919156414763\n"
     ]
    },
    {
     "data": {
      "image/png": "[encoded data removed]",
      "text/plain": [
       "<Figure size 800x600 with 1 Axes>"
      ]
     },
     "metadata": {},
     "output_type": "display_data"
    }
   ],
   "source": [
    "model = MultinomialNB()\n",
    "\n",
    "# Train\n",
    "model.fit(X_train, y_train)\n",
    "\n",
    "# Test\n",
    "y_pred = model.predict(X_test)\n",
    "\n",
    "# Evaluate\n",
    "cv = StratifiedKFold(n_splits=5, shuffle=True, random_state=42)\n",
    "\n",
    "y_pred_cv = cross_val_predict(model, X_train, y_train, cv=cv)\n",
    "\n",
    "classification_rep = classification_report(y_train, y_pred_cv)\n",
    "print(\"Classification Report (Cross-Validation):\\n\", classification_rep)\n",
    "\n",
    "accuracy = accuracy_score(y_train, y_pred_cv)\n",
    "print(\"Accuracy (Cross-Validation):\", accuracy)\n",
    "\n",
    "model.fit(X_train, y_train)\n",
    "y_pred_test = model.predict(X_test)\n",
    "\n",
    "classification_rep_test = classification_report(y_test, y_pred_test)\n",
    "print(\"Classification Report (Test Data):\\n\", classification_rep_test)\n",
    "\n",
    "accuracy_test = accuracy_score(y_test, y_pred_test)\n",
    "print(\"Accuracy (Test Data):\", accuracy_test)\n",
    "\n",
    "import seaborn as sns\n",
    "import matplotlib.pyplot as plt\n",
    "from sklearn.metrics import confusion_matrix\n",
    "\n",
    "# Calculating the confusion matrix\n",
    "confusion_mat = confusion_matrix(y_test, y_pred)\n",
    "\n",
    "# Heatmap of the confusion matrix\n",
    "plt.figure(figsize=(8, 6))\n",
    "sns.heatmap(confusion_mat, annot=True, fmt='d', cmap='Blues', cbar=False)\n",
    "plt.xlabel('Predicted Labels')\n",
    "plt.ylabel('True Labels')\n",
    "plt.title('Confusion Matrix NB')\n",
    "plt.show()\n"
   ]
  },
  {
   "cell_type": "code",
   "execution_count": 81,
   "id": "0f02a28a-8d1c-493f-b49e-3f336d3adc06",
   "metadata": {},
   "outputs": [
    {
     "name": "stdout",
     "output_type": "stream",
     "text": [
      "Classification Report:\n",
      "               precision    recall  f1-score   support\n",
      "\n",
      "           0       0.60      0.75      0.67      3190\n",
      "           1       0.65      0.59      0.62      2629\n",
      "           2       0.48      0.35      0.41      2147\n",
      "\n",
      "    accuracy                           0.59      7966\n",
      "   macro avg       0.58      0.56      0.56      7966\n",
      "weighted avg       0.58      0.59      0.58      7966\n",
      "\n",
      "Accuracy: 0.5902585990459452\n"
     ]
    }
   ],
   "source": [
    "# Train\n",
    "model = SVC()\n",
    "model.fit(X_train, y_train)\n",
    "\n",
    "# Test\n",
    "y_pred = model.predict(X_test)\n",
    "\n",
    "# Evaluate\n",
    "classification_rep = classification_report(y_test, y_pred)\n",
    "print(\"Classification Report:\\n\", classification_rep)\n",
    "\n",
    "accuracy = accuracy_score(y_test, y_pred)\n",
    "print(\"Accuracy:\", accuracy)"
   ]
  }
 ],
 "metadata": {
  "kernelspec": {
   "display_name": "Python 3 (ipykernel)",
   "language": "python",
   "name": "python3"
  },
  "language_info": {
   "codemirror_mode": {
    "name": "ipython",
    "version": 3
   },
   "file_extension": ".py",
   "mimetype": "text/x-python",
   "name": "python",
   "nbconvert_exporter": "python",
   "pygments_lexer": "ipython3",
   "version": "3.12.4"
  }
 },
 "nbformat": 4,
 "nbformat_minor": 5
}
