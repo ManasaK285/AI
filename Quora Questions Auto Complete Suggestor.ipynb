{
 "cells": [
  {
   "cell_type": "markdown",
   "id": "c2d892b2",
   "metadata": {},
   "source": [
    "<center><em>Courtesy:KGPTalkie</em></center>\n",
    "\n",
    "- The user can enter a question, and the code retrieves the most similar questions from the dataset using the util.semantic_search method.\n",
    "\n",
    "- This is a symmetric search task, as the search queries have the same length and content as the questions in the corpus.\n",
    "\n",
    "- Quora Questions Dataset: https://www.quora.com/q/quoradata/First-Quora-Dataset-Release-Question-Pairs\n",
    "\n",
    "\n",
    "\n",
    "- As embeddings model, we use the SBERT model `quora-distilbert-multilingual`,\n",
    "that it aligned for 100 languages. I.e., you can type in a question in various languages and it will return the closest questions in the corpus (questions in the corpus are mainly in English)."
   ]
  },
  {
   "cell_type": "code",
   "execution_count": 3,
   "id": "6995f2f4",
   "metadata": {},
   "outputs": [
    {
     "name": "stdout",
     "output_type": "stream",
     "text": [
      "Looking in indexes: https://pypi.org/simple, https://download.pytorch.org/whl/cu113"
     ]
    },
    {
     "name": "stderr",
     "output_type": "stream",
     "text": [
      "WARNING: Retrying (Retry(total=4, connect=None, read=None, redirect=None, status=None)) after connection broken by 'NewConnectionError('<pip._vendor.urllib3.connection.HTTPSConnection object at 0x0000029D2E19F150>: Failed to establish a new connection: [Errno 11001] getaddrinfo failed')': /simple/torchvision/\n",
      "WARNING: Retrying (Retry(total=3, connect=None, read=None, redirect=None, status=None)) after connection broken by 'NewConnectionError('<pip._vendor.urllib3.connection.HTTPSConnection object at 0x0000029D2E195050>: Failed to establish a new connection: [Errno 11001] getaddrinfo failed')': /simple/torchvision/\n",
      "WARNING: Retrying (Retry(total=2, connect=None, read=None, redirect=None, status=None)) after connection broken by 'NewConnectionError('<pip._vendor.urllib3.connection.HTTPSConnection object at 0x0000029D2E1BA4D0>: Failed to establish a new connection: [Errno 11001] getaddrinfo failed')': /simple/torchvision/\n",
      "WARNING: Retrying (Retry(total=1, connect=None, read=None, redirect=None, status=None)) after connection broken by 'NewConnectionError('<pip._vendor.urllib3.connection.HTTPSConnection object at 0x0000029D2E1E1390>: Failed to establish a new connection: [Errno 11001] getaddrinfo failed')': /simple/torchvision/\n",
      "WARNING: Retrying (Retry(total=0, connect=None, read=None, redirect=None, status=None)) after connection broken by 'NewConnectionError('<pip._vendor.urllib3.connection.HTTPSConnection object at 0x0000029D2E1EB9D0>: Failed to establish a new connection: [Errno 11001] getaddrinfo failed')': /simple/torchvision/\n"
     ]
    },
    {
     "name": "stdout",
     "output_type": "stream",
     "text": [
      "\n",
      "Requirement already satisfied: torch in c:\\users\\mmanasanjani\\appdata\\local\\anaconda3\\lib\\site-packages (2.2.1)\n",
      "Collecting torchvision\n",
      "  Downloading torchvision-0.17.1-cp311-cp311-win_amd64.whl (1.2 MB)\n",
      "                                              0.0/1.2 MB ? eta -:--:--\n",
      "                                              0.0/1.2 MB ? eta -:--:--\n",
      "                                              0.0/1.2 MB ? eta -:--:--\n",
      "     -                                        0.0/1.2 MB 325.1 kB/s eta 0:00:04\n",
      "     -                                        0.0/1.2 MB 325.1 kB/s eta 0:00:04\n",
      "     -                                        0.0/1.2 MB 325.1 kB/s eta 0:00:04\n",
      "     -                                        0.0/1.2 MB 130.7 kB/s eta 0:00:09\n",
      "     --                                       0.1/1.2 MB 181.6 kB/s eta 0:00:07\n",
      "     --                                       0.1/1.2 MB 229.0 kB/s eta 0:00:05\n",
      "     ---                                      0.1/1.2 MB 273.1 kB/s eta 0:00:04\n",
      "     ---                                      0.1/1.2 MB 273.1 kB/s eta 0:00:04\n",
      "     ---                                      0.1/1.2 MB 273.1 kB/s eta 0:00:04\n",
      "     ----                                     0.1/1.2 MB 232.2 kB/s eta 0:00:05\n",
      "     ----                                     0.1/1.2 MB 232.2 kB/s eta 0:00:05\n",
      "     ----                                     0.1/1.2 MB 232.2 kB/s eta 0:00:05\n",
      "     ----                                     0.1/1.2 MB 232.2 kB/s eta 0:00:05\n",
      "     ----                                     0.1/1.2 MB 232.2 kB/s eta 0:00:05\n",
      "     ----                                     0.1/1.2 MB 232.2 kB/s eta 0:00:05\n",
      "     ----                                     0.1/1.2 MB 232.2 kB/s eta 0:00:05\n",
      "     -------                                  0.2/1.2 MB 234.7 kB/s eta 0:00:05\n",
      "     --------                                 0.2/1.2 MB 264.3 kB/s eta 0:00:04\n",
      "     ---------                                0.3/1.2 MB 293.5 kB/s eta 0:00:04\n",
      "     ---------                                0.3/1.2 MB 293.5 kB/s eta 0:00:04\n",
      "     ---------                                0.3/1.2 MB 293.5 kB/s eta 0:00:04\n",
      "     -------------                            0.4/1.2 MB 361.9 kB/s eta 0:00:03\n",
      "     ---------------                          0.4/1.2 MB 382.3 kB/s eta 0:00:02\n",
      "     ----------------                         0.5/1.2 MB 410.6 kB/s eta 0:00:02\n",
      "     -----------------                        0.5/1.2 MB 413.7 kB/s eta 0:00:02\n",
      "     -----------------                        0.5/1.2 MB 413.7 kB/s eta 0:00:02\n",
      "     -----------------                        0.5/1.2 MB 413.7 kB/s eta 0:00:02\n",
      "     ------------------                       0.5/1.2 MB 384.0 kB/s eta 0:00:02\n",
      "     -------------------                      0.6/1.2 MB 400.3 kB/s eta 0:00:02\n",
      "     --------------------                     0.6/1.2 MB 403.3 kB/s eta 0:00:02\n",
      "     ---------------------                    0.6/1.2 MB 406.8 kB/s eta 0:00:02\n",
      "     ----------------------                   0.6/1.2 MB 414.4 kB/s eta 0:00:02\n",
      "     ----------------------                   0.6/1.2 MB 414.4 kB/s eta 0:00:02\n",
      "     -----------------------                  0.7/1.2 MB 409.6 kB/s eta 0:00:02\n",
      "     ------------------------                 0.7/1.2 MB 412.5 kB/s eta 0:00:02\n",
      "     ------------------------                 0.7/1.2 MB 420.7 kB/s eta 0:00:02\n",
      "     --------------------------               0.8/1.2 MB 423.3 kB/s eta 0:00:01\n",
      "     --------------------------               0.8/1.2 MB 431.0 kB/s eta 0:00:01\n",
      "     ---------------------------              0.8/1.2 MB 422.0 kB/s eta 0:00:01\n",
      "     ----------------------------             0.8/1.2 MB 433.2 kB/s eta 0:00:01\n",
      "     -----------------------------            0.9/1.2 MB 435.0 kB/s eta 0:00:01\n",
      "     ------------------------------           0.9/1.2 MB 436.8 kB/s eta 0:00:01\n",
      "     -------------------------------          0.9/1.2 MB 441.8 kB/s eta 0:00:01\n",
      "     --------------------------------         0.9/1.2 MB 441.6 kB/s eta 0:00:01\n",
      "     --------------------------------         1.0/1.2 MB 440.0 kB/s eta 0:00:01\n",
      "     ----------------------------------       1.0/1.2 MB 449.3 kB/s eta 0:00:01\n",
      "     -----------------------------------      1.0/1.2 MB 453.6 kB/s eta 0:00:01\n",
      "     ------------------------------------     1.1/1.2 MB 457.7 kB/s eta 0:00:01\n",
      "     ------------------------------------     1.1/1.2 MB 460.4 kB/s eta 0:00:01\n",
      "     -------------------------------------    1.1/1.2 MB 461.3 kB/s eta 0:00:01\n",
      "     --------------------------------------   1.1/1.2 MB 459.5 kB/s eta 0:00:01\n",
      "     --------------------------------------   1.1/1.2 MB 459.5 kB/s eta 0:00:01\n",
      "     --------------------------------------   1.1/1.2 MB 459.5 kB/s eta 0:00:01\n",
      "     --------------------------------------   1.1/1.2 MB 459.5 kB/s eta 0:00:01\n",
      "     --------------------------------------   1.1/1.2 MB 459.5 kB/s eta 0:00:01\n",
      "     --------------------------------------   1.1/1.2 MB 459.5 kB/s eta 0:00:01\n",
      "     --------------------------------------   1.1/1.2 MB 459.5 kB/s eta 0:00:01\n",
      "     ---------------------------------------- 1.2/1.2 MB 420.1 kB/s eta 0:00:00\n",
      "Collecting torchaudio\n",
      "  Downloading torchaudio-2.2.1-cp311-cp311-win_amd64.whl (2.4 MB)\n",
      "                                              0.0/2.4 MB ? eta -:--:--\n",
      "                                              0.0/2.4 MB ? eta -:--:--\n",
      "                                              0.0/2.4 MB ? eta -:--:--\n",
      "                                              0.0/2.4 MB ? eta -:--:--\n",
      "                                              0.0/2.4 MB ? eta -:--:--\n",
      "                                              0.0/2.4 MB ? eta -:--:--\n",
      "                                              0.0/2.4 MB ? eta -:--:--\n",
      "                                              0.0/2.4 MB 131.3 kB/s eta 0:00:18\n",
      "                                              0.0/2.4 MB 131.3 kB/s eta 0:00:18\n",
      "                                              0.0/2.4 MB 122.9 kB/s eta 0:00:19\n",
      "                                              0.0/2.4 MB 122.9 kB/s eta 0:00:19\n",
      "     -                                        0.1/2.4 MB 148.8 kB/s eta 0:00:16\n",
      "     -                                        0.1/2.4 MB 169.9 kB/s eta 0:00:14\n",
      "     -                                        0.1/2.4 MB 169.9 kB/s eta 0:00:14\n",
      "     -                                        0.1/2.4 MB 163.8 kB/s eta 0:00:14\n",
      "     -                                        0.1/2.4 MB 182.2 kB/s eta 0:00:13\n",
      "     -                                        0.1/2.4 MB 182.2 kB/s eta 0:00:13\n",
      "     --                                       0.1/2.4 MB 175.7 kB/s eta 0:00:13\n",
      "     --                                       0.1/2.4 MB 193.8 kB/s eta 0:00:12\n",
      "     --                                       0.2/2.4 MB 204.8 kB/s eta 0:00:11\n",
      "     --                                       0.2/2.4 MB 204.8 kB/s eta 0:00:11\n",
      "     --                                       0.2/2.4 MB 201.8 kB/s eta 0:00:11\n",
      "     ---                                      0.2/2.4 MB 214.6 kB/s eta 0:00:11\n",
      "     ---                                      0.2/2.4 MB 211.0 kB/s eta 0:00:11\n",
      "     ---                                      0.2/2.4 MB 221.9 kB/s eta 0:00:10\n",
      "     ----                                     0.2/2.4 MB 231.8 kB/s eta 0:00:10\n",
      "     ----                                     0.3/2.4 MB 231.4 kB/s eta 0:00:10\n",
      "     ----                                     0.3/2.4 MB 240.1 kB/s eta 0:00:09\n",
      "     ----                                     0.3/2.4 MB 240.1 kB/s eta 0:00:09\n",
      "     ----                                     0.3/2.4 MB 235.9 kB/s eta 0:00:09\n",
      "     -----                                    0.3/2.4 MB 250.7 kB/s eta 0:00:09\n",
      "     -----                                    0.3/2.4 MB 250.7 kB/s eta 0:00:09\n",
      "     -----                                    0.3/2.4 MB 249.8 kB/s eta 0:00:09\n",
      "     ------                                   0.4/2.4 MB 256.2 kB/s eta 0:00:08\n",
      "     ------                                   0.4/2.4 MB 263.7 kB/s eta 0:00:08\n",
      "     ------                                   0.4/2.4 MB 266.2 kB/s eta 0:00:08\n",
      "     -------                                  0.4/2.4 MB 267.5 kB/s eta 0:00:08\n",
      "     -------                                  0.4/2.4 MB 272.5 kB/s eta 0:00:08\n",
      "     -------                                  0.5/2.4 MB 273.7 kB/s eta 0:00:08\n",
      "     -------                                  0.5/2.4 MB 278.3 kB/s eta 0:00:07\n",
      "     --------                                 0.5/2.4 MB 282.6 kB/s eta 0:00:07\n",
      "     --------                                 0.5/2.4 MB 280.9 kB/s eta 0:00:07\n",
      "     --------                                 0.5/2.4 MB 288.2 kB/s eta 0:00:07\n",
      "     ---------                                0.6/2.4 MB 291.9 kB/s eta 0:00:07\n",
      "     ---------                                0.6/2.4 MB 297.8 kB/s eta 0:00:07\n",
      "     ---------                                0.6/2.4 MB 298.4 kB/s eta 0:00:06\n",
      "     ----------                               0.6/2.4 MB 301.6 kB/s eta 0:00:06\n",
      "     ----------                               0.6/2.4 MB 299.7 kB/s eta 0:00:06\n",
      "     -----------                              0.7/2.4 MB 308.1 kB/s eta 0:00:06\n",
      "     -----------                              0.7/2.4 MB 306.1 kB/s eta 0:00:06\n",
      "     -----------                              0.7/2.4 MB 313.5 kB/s eta 0:00:06\n",
      "     ------------                             0.7/2.4 MB 316.3 kB/s eta 0:00:06\n",
      "     ------------                             0.7/2.4 MB 320.8 kB/s eta 0:00:06\n",
      "     ------------                             0.7/2.4 MB 318.9 kB/s eta 0:00:06\n",
      "     ------------                             0.8/2.4 MB 323.3 kB/s eta 0:00:05\n",
      "     -------------                            0.8/2.4 MB 325.5 kB/s eta 0:00:05\n",
      "     -------------                            0.8/2.4 MB 329.8 kB/s eta 0:00:05\n",
      "     -------------                            0.8/2.4 MB 327.7 kB/s eta 0:00:05\n",
      "     --------------                           0.9/2.4 MB 333.7 kB/s eta 0:00:05\n",
      "     --------------                           0.9/2.4 MB 337.6 kB/s eta 0:00:05\n",
      "     ---------------                          0.9/2.4 MB 339.4 kB/s eta 0:00:05\n",
      "     ---------------                          0.9/2.4 MB 337.2 kB/s eta 0:00:05\n",
      "     ---------------                          0.9/2.4 MB 337.2 kB/s eta 0:00:05\n",
      "     ---------------                          0.9/2.4 MB 337.2 kB/s eta 0:00:05\n",
      "     ---------------                          0.9/2.4 MB 337.2 kB/s eta 0:00:05\n",
      "     ---------------                          0.9/2.4 MB 337.2 kB/s eta 0:00:05\n",
      "     ---------------                          0.9/2.4 MB 337.2 kB/s eta 0:00:05\n",
      "     ---------------                          0.9/2.4 MB 337.2 kB/s eta 0:00:05\n",
      "     ---------------                          0.9/2.4 MB 337.2 kB/s eta 0:00:05\n",
      "     ---------------                          0.9/2.4 MB 337.2 kB/s eta 0:00:05\n",
      "     ------------------                       1.1/2.4 MB 340.8 kB/s eta 0:00:04\n",
      "     ------------------                       1.1/2.4 MB 340.8 kB/s eta 0:00:04\n",
      "     ------------------                       1.1/2.4 MB 340.4 kB/s eta 0:00:04\n",
      "     -------------------                      1.1/2.4 MB 345.1 kB/s eta 0:00:04\n",
      "     -------------------                      1.1/2.4 MB 345.1 kB/s eta 0:00:04\n",
      "     -------------------                      1.1/2.4 MB 338.4 kB/s eta 0:00:04\n",
      "     -------------------                      1.2/2.4 MB 336.7 kB/s eta 0:00:04\n",
      "     -------------------                      1.2/2.4 MB 339.6 kB/s eta 0:00:04\n",
      "     --------------------                     1.2/2.4 MB 339.5 kB/s eta 0:00:04\n",
      "     --------------------                     1.2/2.4 MB 340.8 kB/s eta 0:00:04\n",
      "     --------------------                     1.2/2.4 MB 342.1 kB/s eta 0:00:04\n",
      "     --------------------                     1.2/2.4 MB 339.0 kB/s eta 0:00:04\n",
      "     --------------------                     1.2/2.4 MB 339.0 kB/s eta 0:00:04\n",
      "     ---------------------                    1.3/2.4 MB 338.7 kB/s eta 0:00:04\n",
      "     ---------------------                    1.3/2.4 MB 341.3 kB/s eta 0:00:04\n",
      "     ----------------------                   1.3/2.4 MB 342.5 kB/s eta 0:00:04\n",
      "     ----------------------                   1.3/2.4 MB 342.5 kB/s eta 0:00:04\n",
      "     ----------------------                   1.3/2.4 MB 342.5 kB/s eta 0:00:04\n",
      "     ----------------------                   1.4/2.4 MB 340.7 kB/s eta 0:00:03\n",
      "     -----------------------                  1.4/2.4 MB 341.8 kB/s eta 0:00:03\n",
      "     -----------------------                  1.4/2.4 MB 342.9 kB/s eta 0:00:03\n",
      "     -----------------------                  1.4/2.4 MB 341.5 kB/s eta 0:00:03\n",
      "     ------------------------                 1.4/2.4 MB 341.2 kB/s eta 0:00:03\n",
      "     ------------------------                 1.4/2.4 MB 342.5 kB/s eta 0:00:03\n",
      "     ------------------------                 1.5/2.4 MB 345.8 kB/s eta 0:00:03\n",
      "     -------------------------                1.5/2.4 MB 344.4 kB/s eta 0:00:03\n",
      "     -------------------------                1.5/2.4 MB 346.7 kB/s eta 0:00:03\n",
      "     -------------------------                1.5/2.4 MB 346.7 kB/s eta 0:00:03\n",
      "     -------------------------                1.5/2.4 MB 341.6 kB/s eta 0:00:03\n",
      "     -------------------------                1.5/2.4 MB 343.9 kB/s eta 0:00:03\n",
      "     -------------------------                1.5/2.4 MB 343.9 kB/s eta 0:00:03\n",
      "     -------------------------                1.5/2.4 MB 343.9 kB/s eta 0:00:03\n",
      "     -------------------------                1.5/2.4 MB 343.9 kB/s eta 0:00:03\n",
      "     -------------------------                1.5/2.4 MB 343.9 kB/s eta 0:00:03\n",
      "     -------------------------                1.5/2.4 MB 343.9 kB/s eta 0:00:03\n",
      "     -------------------------                1.5/2.4 MB 343.9 kB/s eta 0:00:03\n",
      "     -------------------------                1.5/2.4 MB 343.9 kB/s eta 0:00:03\n",
      "     -------------------------                1.5/2.4 MB 343.9 kB/s eta 0:00:03\n",
      "     -------------------------                1.5/2.4 MB 343.9 kB/s eta 0:00:03\n",
      "     -------------------------                1.5/2.4 MB 343.9 kB/s eta 0:00:03\n",
      "     ----------------------------             1.7/2.4 MB 338.0 kB/s eta 0:00:03\n",
      "     ----------------------------             1.7/2.4 MB 338.0 kB/s eta 0:00:03\n",
      "     ----------------------------             1.7/2.4 MB 332.7 kB/s eta 0:00:03\n",
      "     -----------------------------            1.7/2.4 MB 334.7 kB/s eta 0:00:02\n",
      "     -----------------------------            1.7/2.4 MB 334.7 kB/s eta 0:00:02\n",
      "     -----------------------------            1.7/2.4 MB 329.6 kB/s eta 0:00:02\n",
      "     -----------------------------            1.7/2.4 MB 329.6 kB/s eta 0:00:02\n",
      "     -----------------------------            1.8/2.4 MB 329.6 kB/s eta 0:00:02\n",
      "     -----------------------------            1.8/2.4 MB 328.7 kB/s eta 0:00:02\n",
      "     -----------------------------            1.8/2.4 MB 328.7 kB/s eta 0:00:02\n",
      "     ------------------------------           1.8/2.4 MB 326.7 kB/s eta 0:00:02\n",
      "     ------------------------------           1.8/2.4 MB 327.7 kB/s eta 0:00:02\n",
      "     ------------------------------           1.8/2.4 MB 325.8 kB/s eta 0:00:02\n",
      "     ------------------------------           1.8/2.4 MB 327.7 kB/s eta 0:00:02\n",
      "     -------------------------------          1.9/2.4 MB 327.7 kB/s eta 0:00:02\n",
      "     -------------------------------          1.9/2.4 MB 325.9 kB/s eta 0:00:02\n",
      "     -------------------------------          1.9/2.4 MB 325.9 kB/s eta 0:00:02\n",
      "     -------------------------------          1.9/2.4 MB 325.9 kB/s eta 0:00:02\n",
      "     -------------------------------          1.9/2.4 MB 325.0 kB/s eta 0:00:02\n",
      "     --------------------------------         1.9/2.4 MB 325.9 kB/s eta 0:00:02\n",
      "     --------------------------------         1.9/2.4 MB 326.0 kB/s eta 0:00:02\n",
      "     --------------------------------         1.9/2.4 MB 325.1 kB/s eta 0:00:02\n",
      "     --------------------------------         1.9/2.4 MB 325.1 kB/s eta 0:00:02\n",
      "     ---------------------------------        2.0/2.4 MB 325.1 kB/s eta 0:00:02\n",
      "     ---------------------------------        2.0/2.4 MB 325.2 kB/s eta 0:00:02\n",
      "     ---------------------------------        2.0/2.4 MB 325.2 kB/s eta 0:00:02\n",
      "     ----------------------------------       2.0/2.4 MB 326.0 kB/s eta 0:00:02\n",
      "     ----------------------------------       2.0/2.4 MB 324.4 kB/s eta 0:00:02\n",
      "     ----------------------------------       2.0/2.4 MB 325.2 kB/s eta 0:00:01\n",
      "     ----------------------------------       2.1/2.4 MB 324.5 kB/s eta 0:00:01\n",
      "     -----------------------------------      2.1/2.4 MB 324.5 kB/s eta 0:00:01\n",
      "     -----------------------------------      2.1/2.4 MB 325.3 kB/s eta 0:00:01\n",
      "     -----------------------------------      2.1/2.4 MB 324.5 kB/s eta 0:00:01\n",
      "     -----------------------------------      2.1/2.4 MB 324.5 kB/s eta 0:00:01\n",
      "     ------------------------------------     2.1/2.4 MB 324.6 kB/s eta 0:00:01\n",
      "     ------------------------------------     2.2/2.4 MB 326.1 kB/s eta 0:00:01\n",
      "     ------------------------------------     2.2/2.4 MB 324.6 kB/s eta 0:00:01\n",
      "     ------------------------------------     2.2/2.4 MB 324.6 kB/s eta 0:00:01\n",
      "     -------------------------------------    2.2/2.4 MB 324.6 kB/s eta 0:00:01\n",
      "     -------------------------------------    2.2/2.4 MB 325.4 kB/s eta 0:00:01\n",
      "     -------------------------------------    2.2/2.4 MB 324.7 kB/s eta 0:00:01\n",
      "     -------------------------------------    2.2/2.4 MB 325.5 kB/s eta 0:00:01\n",
      "     --------------------------------------   2.3/2.4 MB 326.2 kB/s eta 0:00:01\n",
      "     --------------------------------------   2.3/2.4 MB 324.7 kB/s eta 0:00:01\n",
      "     --------------------------------------   2.3/2.4 MB 325.5 kB/s eta 0:00:01\n",
      "     --------------------------------------   2.3/2.4 MB 324.8 kB/s eta 0:00:01\n",
      "     ---------------------------------------  2.3/2.4 MB 324.8 kB/s eta 0:00:01\n",
      "     ---------------------------------------  2.3/2.4 MB 324.8 kB/s eta 0:00:01\n",
      "     ---------------------------------------  2.3/2.4 MB 323.4 kB/s eta 0:00:01\n",
      "     ---------------------------------------  2.4/2.4 MB 323.4 kB/s eta 0:00:01\n",
      "     ---------------------------------------  2.4/2.4 MB 323.5 kB/s eta 0:00:01\n",
      "     ---------------------------------------- 2.4/2.4 MB 322.1 kB/s eta 0:00:00\n",
      "Requirement already satisfied: filelock in c:\\users\\mmanasanjani\\appdata\\local\\anaconda3\\lib\\site-packages (from torch) (3.9.0)\n",
      "Requirement already satisfied: typing-extensions>=4.8.0 in c:\\users\\mmanasanjani\\appdata\\local\\anaconda3\\lib\\site-packages (from torch) (4.9.0)\n",
      "Requirement already satisfied: sympy in c:\\users\\mmanasanjani\\appdata\\local\\anaconda3\\lib\\site-packages (from torch) (1.11.1)\n",
      "Requirement already satisfied: networkx in c:\\users\\mmanasanjani\\appdata\\local\\anaconda3\\lib\\site-packages (from torch) (2.8.4)\n",
      "Requirement already satisfied: jinja2 in c:\\users\\mmanasanjani\\appdata\\local\\anaconda3\\lib\\site-packages (from torch) (3.1.2)\n",
      "Requirement already satisfied: fsspec in c:\\users\\mmanasanjani\\appdata\\local\\anaconda3\\lib\\site-packages (from torch) (2023.12.2)\n",
      "Requirement already satisfied: numpy in c:\\users\\mmanasanjani\\appdata\\local\\anaconda3\\lib\\site-packages (from torchvision) (1.24.3)\n",
      "Requirement already satisfied: pillow!=8.3.*,>=5.3.0 in c:\\users\\mmanasanjani\\appdata\\local\\anaconda3\\lib\\site-packages (from torchvision) (9.4.0)\n",
      "Requirement already satisfied: MarkupSafe>=2.0 in c:\\users\\mmanasanjani\\appdata\\local\\anaconda3\\lib\\site-packages (from jinja2->torch) (2.1.1)\n",
      "Requirement already satisfied: mpmath>=0.19 in c:\\users\\mmanasanjani\\appdata\\local\\anaconda3\\lib\\site-packages (from sympy->torch) (1.2.1)\n",
      "Installing collected packages: torchvision, torchaudio\n",
      "Successfully installed torchaudio-2.2.1 torchvision-0.17.1\n"
     ]
    },
    {
     "name": "stdout",
     "output_type": "stream",
     "text": [
      "Requirement already satisfied: sentence-transformers in c:\\users\\mmanasanjani\\appdata\\local\\anaconda3\\lib\\site-packages (2.5.1)\n",
      "Requirement already satisfied: transformers<5.0.0,>=4.32.0 in c:\\users\\mmanasanjani\\appdata\\local\\anaconda3\\lib\\site-packages (from sentence-transformers) (4.38.2)\n",
      "Requirement already satisfied: tqdm in c:\\users\\mmanasanjani\\appdata\\local\\anaconda3\\lib\\site-packages (from sentence-transformers) (4.65.0)\n",
      "Requirement already satisfied: torch>=1.11.0 in c:\\users\\mmanasanjani\\appdata\\local\\anaconda3\\lib\\site-packages (from sentence-transformers) (2.2.1)\n",
      "Requirement already satisfied: numpy in c:\\users\\mmanasanjani\\appdata\\local\\anaconda3\\lib\\site-packages (from sentence-transformers) (1.24.3)\n",
      "Requirement already satisfied: scikit-learn in c:\\users\\mmanasanjani\\appdata\\local\\anaconda3\\lib\\site-packages (from sentence-transformers) (1.2.2)\n",
      "Requirement already satisfied: scipy in c:\\users\\mmanasanjani\\appdata\\local\\anaconda3\\lib\\site-packages (from sentence-transformers) (1.10.1)\n",
      "Requirement already satisfied: huggingface-hub>=0.15.1 in c:\\users\\mmanasanjani\\appdata\\local\\anaconda3\\lib\\site-packages (from sentence-transformers) (0.19.4)\n",
      "Requirement already satisfied: Pillow in c:\\users\\mmanasanjani\\appdata\\local\\anaconda3\\lib\\site-packages (from sentence-transformers) (9.4.0)\n",
      "Requirement already satisfied: filelock in c:\\users\\mmanasanjani\\appdata\\local\\anaconda3\\lib\\site-packages (from huggingface-hub>=0.15.1->sentence-transformers) (3.9.0)\n",
      "Requirement already satisfied: fsspec>=2023.5.0 in c:\\users\\mmanasanjani\\appdata\\local\\anaconda3\\lib\\site-packages (from huggingface-hub>=0.15.1->sentence-transformers) (2023.12.2)\n",
      "Requirement already satisfied: requests in c:\\users\\mmanasanjani\\appdata\\local\\anaconda3\\lib\\site-packages (from huggingface-hub>=0.15.1->sentence-transformers) (2.29.0)\n",
      "Requirement already satisfied: pyyaml>=5.1 in c:\\users\\mmanasanjani\\appdata\\local\\anaconda3\\lib\\site-packages (from huggingface-hub>=0.15.1->sentence-transformers) (6.0)\n",
      "Requirement already satisfied: typing-extensions>=3.7.4.3 in c:\\users\\mmanasanjani\\appdata\\local\\anaconda3\\lib\\site-packages (from huggingface-hub>=0.15.1->sentence-transformers) (4.9.0)\n",
      "Requirement already satisfied: packaging>=20.9 in c:\\users\\mmanasanjani\\appdata\\local\\anaconda3\\lib\\site-packages (from huggingface-hub>=0.15.1->sentence-transformers) (23.2)\n",
      "Requirement already satisfied: sympy in c:\\users\\mmanasanjani\\appdata\\local\\anaconda3\\lib\\site-packages (from torch>=1.11.0->sentence-transformers) (1.11.1)\n",
      "Requirement already satisfied: networkx in c:\\users\\mmanasanjani\\appdata\\local\\anaconda3\\lib\\site-packages (from torch>=1.11.0->sentence-transformers) (2.8.4)\n",
      "Requirement already satisfied: jinja2 in c:\\users\\mmanasanjani\\appdata\\local\\anaconda3\\lib\\site-packages (from torch>=1.11.0->sentence-transformers) (3.1.2)\n",
      "Requirement already satisfied: colorama in c:\\users\\mmanasanjani\\appdata\\local\\anaconda3\\lib\\site-packages (from tqdm->sentence-transformers) (0.4.6)\n",
      "Requirement already satisfied: regex!=2019.12.17 in c:\\users\\mmanasanjani\\appdata\\local\\anaconda3\\lib\\site-packages (from transformers<5.0.0,>=4.32.0->sentence-transformers) (2022.7.9)\n",
      "Requirement already satisfied: tokenizers<0.19,>=0.14 in c:\\users\\mmanasanjani\\appdata\\local\\anaconda3\\lib\\site-packages (from transformers<5.0.0,>=4.32.0->sentence-transformers) (0.15.2)\n",
      "Requirement already satisfied: safetensors>=0.4.1 in c:\\users\\mmanasanjani\\appdata\\local\\anaconda3\\lib\\site-packages (from transformers<5.0.0,>=4.32.0->sentence-transformers) (0.4.2)\n",
      "Requirement already satisfied: joblib>=1.1.1 in c:\\users\\mmanasanjani\\appdata\\local\\anaconda3\\lib\\site-packages (from scikit-learn->sentence-transformers) (1.2.0)\n",
      "Requirement already satisfied: threadpoolctl>=2.0.0 in c:\\users\\mmanasanjani\\appdata\\local\\anaconda3\\lib\\site-packages (from scikit-learn->sentence-transformers) (2.2.0)\n",
      "Requirement already satisfied: MarkupSafe>=2.0 in c:\\users\\mmanasanjani\\appdata\\local\\anaconda3\\lib\\site-packages (from jinja2->torch>=1.11.0->sentence-transformers) (2.1.1)\n",
      "Requirement already satisfied: charset-normalizer<4,>=2 in c:\\users\\mmanasanjani\\appdata\\local\\anaconda3\\lib\\site-packages (from requests->huggingface-hub>=0.15.1->sentence-transformers) (2.0.4)\n",
      "Requirement already satisfied: idna<4,>=2.5 in c:\\users\\mmanasanjani\\appdata\\local\\anaconda3\\lib\\site-packages (from requests->huggingface-hub>=0.15.1->sentence-transformers) (3.4)\n",
      "Requirement already satisfied: urllib3<1.27,>=1.21.1 in c:\\users\\mmanasanjani\\appdata\\local\\anaconda3\\lib\\site-packages (from requests->huggingface-hub>=0.15.1->sentence-transformers) (1.26.16)\n",
      "Requirement already satisfied: certifi>=2017.4.17 in c:\\users\\mmanasanjani\\appdata\\local\\anaconda3\\lib\\site-packages (from requests->huggingface-hub>=0.15.1->sentence-transformers) (2023.5.7)\n",
      "Requirement already satisfied: mpmath>=0.19 in c:\\users\\mmanasanjani\\appdata\\local\\anaconda3\\lib\\site-packages (from sympy->torch>=1.11.0->sentence-transformers) (1.2.1)\n"
     ]
    }
   ],
   "source": [
    "# https://pytorch.org/get-started/locally/\n",
    "!pip install torch torchvision torchaudio --extra-index-url https://download.pytorch.org/whl/cu113\n",
    "!pip install -U sentence-transformers"
   ]
  },
  {
   "cell_type": "code",
   "execution_count": 4,
   "id": "dd2c2561",
   "metadata": {},
   "outputs": [
    {
     "data": {
      "text/plain": [
       "'2.2.1+cpu'"
      ]
     },
     "execution_count": 4,
     "metadata": {},
     "output_type": "execute_result"
    }
   ],
   "source": [
    "#algorithm is for fine tuned question retrieval\n",
    "#pytorch==> when dealing with local system\n",
    "import torch\n",
    "torch.__version__"
   ]
  },
  {
   "cell_type": "code",
   "execution_count": 5,
   "id": "cfa7efce",
   "metadata": {},
   "outputs": [],
   "source": [
    "from sentence_transformers import SentenceTransformer, util\n",
    "import os\n",
    "import time\n",
    "import pandas as pd"
   ]
  },
  {
   "cell_type": "code",
   "execution_count": 6,
   "id": "a0dfb86c",
   "metadata": {},
   "outputs": [],
   "source": [
    "df = pd.read_csv(r'C:\\Users\\mmanasanjani\\Desktop\\Extra\\MK\\AMLDLP\\quora_duplicate_questions.tsv', sep='\\t', nrows=20000)"
   ]
  },
  {
   "cell_type": "code",
   "execution_count": 7,
   "id": "78b34f71",
   "metadata": {},
   "outputs": [
    {
     "data": {
      "text/plain": [
       "(20000, 6)"
      ]
     },
     "execution_count": 7,
     "metadata": {},
     "output_type": "execute_result"
    }
   ],
   "source": [
    "df.shape"
   ]
  },
  {
   "cell_type": "code",
   "execution_count": 8,
   "id": "53a34932",
   "metadata": {},
   "outputs": [
    {
     "data": {
      "text/html": [
       "<div>\n",
       "<style scoped>\n",
       "    .dataframe tbody tr th:only-of-type {\n",
       "        vertical-align: middle;\n",
       "    }\n",
       "\n",
       "    .dataframe tbody tr th {\n",
       "        vertical-align: top;\n",
       "    }\n",
       "\n",
       "    .dataframe thead th {\n",
       "        text-align: right;\n",
       "    }\n",
       "</style>\n",
       "<table border=\"1\" class=\"dataframe\">\n",
       "  <thead>\n",
       "    <tr style=\"text-align: right;\">\n",
       "      <th></th>\n",
       "      <th>id</th>\n",
       "      <th>qid1</th>\n",
       "      <th>qid2</th>\n",
       "      <th>question1</th>\n",
       "      <th>question2</th>\n",
       "      <th>is_duplicate</th>\n",
       "    </tr>\n",
       "  </thead>\n",
       "  <tbody>\n",
       "    <tr>\n",
       "      <th>0</th>\n",
       "      <td>0</td>\n",
       "      <td>1</td>\n",
       "      <td>2</td>\n",
       "      <td>What is the step by step guide to invest in sh...</td>\n",
       "      <td>What is the step by step guide to invest in sh...</td>\n",
       "      <td>0</td>\n",
       "    </tr>\n",
       "    <tr>\n",
       "      <th>1</th>\n",
       "      <td>1</td>\n",
       "      <td>3</td>\n",
       "      <td>4</td>\n",
       "      <td>What is the story of Kohinoor (Koh-i-Noor) Dia...</td>\n",
       "      <td>What would happen if the Indian government sto...</td>\n",
       "      <td>0</td>\n",
       "    </tr>\n",
       "    <tr>\n",
       "      <th>2</th>\n",
       "      <td>2</td>\n",
       "      <td>5</td>\n",
       "      <td>6</td>\n",
       "      <td>How can I increase the speed of my internet co...</td>\n",
       "      <td>How can Internet speed be increased by hacking...</td>\n",
       "      <td>0</td>\n",
       "    </tr>\n",
       "    <tr>\n",
       "      <th>3</th>\n",
       "      <td>3</td>\n",
       "      <td>7</td>\n",
       "      <td>8</td>\n",
       "      <td>Why am I mentally very lonely? How can I solve...</td>\n",
       "      <td>Find the remainder when [math]23^{24}[/math] i...</td>\n",
       "      <td>0</td>\n",
       "    </tr>\n",
       "    <tr>\n",
       "      <th>4</th>\n",
       "      <td>4</td>\n",
       "      <td>9</td>\n",
       "      <td>10</td>\n",
       "      <td>Which one dissolve in water quikly sugar, salt...</td>\n",
       "      <td>Which fish would survive in salt water?</td>\n",
       "      <td>0</td>\n",
       "    </tr>\n",
       "  </tbody>\n",
       "</table>\n",
       "</div>"
      ],
      "text/plain": [
       "   id  qid1  qid2                                          question1  \\\n",
       "0   0     1     2  What is the step by step guide to invest in sh...   \n",
       "1   1     3     4  What is the story of Kohinoor (Koh-i-Noor) Dia...   \n",
       "2   2     5     6  How can I increase the speed of my internet co...   \n",
       "3   3     7     8  Why am I mentally very lonely? How can I solve...   \n",
       "4   4     9    10  Which one dissolve in water quikly sugar, salt...   \n",
       "\n",
       "                                           question2  is_duplicate  \n",
       "0  What is the step by step guide to invest in sh...             0  \n",
       "1  What would happen if the Indian government sto...             0  \n",
       "2  How can Internet speed be increased by hacking...             0  \n",
       "3  Find the remainder when [math]23^{24}[/math] i...             0  \n",
       "4            Which fish would survive in salt water?             0  "
      ]
     },
     "execution_count": 8,
     "metadata": {},
     "output_type": "execute_result"
    }
   ],
   "source": [
    "df.head()"
   ]
  },
  {
   "cell_type": "code",
   "execution_count": 9,
   "id": "23bf2a20",
   "metadata": {},
   "outputs": [
    {
     "data": {
      "text/plain": [
       "37766"
      ]
     },
     "execution_count": 9,
     "metadata": {},
     "output_type": "execute_result"
    }
   ],
   "source": [
    "#mixing question1 and question2 to get 40000 unique questions:\n",
    "corpus_senteces = list(set(df['question1'].tolist() + df['question2'].tolist())) #set--> to get unique \n",
    "len(corpus_senteces)"
   ]
  },
  {
   "cell_type": "code",
   "execution_count": 12,
   "id": "88047498",
   "metadata": {},
   "outputs": [
    {
     "data": {
      "application/vnd.jupyter.widget-view+json": {
       "model_id": "b081d42752214c56915dd513a12029d2",
       "version_major": 2,
       "version_minor": 0
      },
      "text/plain": [
       "pytorch_model.bin:   0%|          | 0.00/539M [00:00<?, ?B/s]"
      ]
     },
     "metadata": {},
     "output_type": "display_data"
    },
    {
     "data": {
      "application/vnd.jupyter.widget-view+json": {
       "model_id": "baf80be8320d40e1a3d687b2ddd5ebd4",
       "version_major": 2,
       "version_minor": 0
      },
      "text/plain": [
       "tokenizer_config.json:   0%|          | 0.00/447 [00:00<?, ?B/s]"
      ]
     },
     "metadata": {},
     "output_type": "display_data"
    },
    {
     "data": {
      "application/vnd.jupyter.widget-view+json": {
       "model_id": "67b8d360d9824f808caf46dad5057ac1",
       "version_major": 2,
       "version_minor": 0
      },
      "text/plain": [
       "vocab.txt:   0%|          | 0.00/996k [00:00<?, ?B/s]"
      ]
     },
     "metadata": {},
     "output_type": "display_data"
    },
    {
     "data": {
      "application/vnd.jupyter.widget-view+json": {
       "model_id": "42c798ea61cc4630b415796c72ca0ccd",
       "version_major": 2,
       "version_minor": 0
      },
      "text/plain": [
       "tokenizer.json:   0%|          | 0.00/1.96M [00:00<?, ?B/s]"
      ]
     },
     "metadata": {},
     "output_type": "display_data"
    },
    {
     "data": {
      "application/vnd.jupyter.widget-view+json": {
       "model_id": "1095266ef58840578d621406696c1c36",
       "version_major": 2,
       "version_minor": 0
      },
      "text/plain": [
       "special_tokens_map.json:   0%|          | 0.00/112 [00:00<?, ?B/s]"
      ]
     },
     "metadata": {},
     "output_type": "display_data"
    },
    {
     "data": {
      "application/vnd.jupyter.widget-view+json": {
       "model_id": "c73efbd3072d433fa8c081a32bbf1130",
       "version_major": 2,
       "version_minor": 0
      },
      "text/plain": [
       "1_Pooling/config.json:   0%|          | 0.00/190 [00:00<?, ?B/s]"
      ]
     },
     "metadata": {},
     "output_type": "display_data"
    }
   ],
   "source": [
    "model = SentenceTransformer('quora-distilbert-multilingual') #search questions in other languages too"
   ]
  },
  {
   "cell_type": "code",
   "execution_count": 13,
   "id": "c2e897dc",
   "metadata": {},
   "outputs": [
    {
     "data": {
      "application/vnd.jupyter.widget-view+json": {
       "model_id": "4cf27ae1cf33438fafc1f73a19c77b25",
       "version_major": 2,
       "version_minor": 0
      },
      "text/plain": [
       "Batches:   0%|          | 0/1181 [00:00<?, ?it/s]"
      ]
     },
     "metadata": {},
     "output_type": "display_data"
    }
   ],
   "source": [
    "corpus_embeddings = model.encode(corpus_senteces, show_progress_bar=True, convert_to_tensor=True)"
   ]
  },
  {
   "cell_type": "code",
   "execution_count": 14,
   "id": "c9a58472",
   "metadata": {},
   "outputs": [
    {
     "name": "stderr",
     "output_type": "stream",
     "text": [
      "`SentenceTransformer._target_device` has been removed, please use `SentenceTransformer.device` instead.\n"
     ]
    },
    {
     "data": {
      "text/plain": [
       "device(type='cpu')"
      ]
     },
     "execution_count": 14,
     "metadata": {},
     "output_type": "execute_result"
    }
   ],
   "source": [
    "model._target_device"
   ]
  },
  {
   "cell_type": "code",
   "execution_count": 16,
   "id": "1844444e",
   "metadata": {},
   "outputs": [
    {
     "name": "stderr",
     "output_type": "stream",
     "text": [
      "`SentenceTransformer._target_device` has been removed, please use `SentenceTransformer.device` instead.\n"
     ]
    }
   ],
   "source": [
    "corpus_embeddings = corpus_embeddings.to(model._target_device)"
   ]
  },
  {
   "cell_type": "code",
   "execution_count": 18,
   "id": "af273204",
   "metadata": {},
   "outputs": [
    {
     "name": "stdout",
     "output_type": "stream",
     "text": [
      "Please enter a question: what is python\n",
      "[{'corpus_id': 3036, 'score': 0.9261703491210938}, {'corpus_id': 34677, 'score': 0.9184613227844238}, {'corpus_id': 3122, 'score': 0.9140185117721558}, {'corpus_id': 17883, 'score': 0.913104236125946}, {'corpus_id': 16515, 'score': 0.9106531143188477}]\n",
      "0.9261703491210938 :  What are some cool python scripts?\n",
      "0.9184613227844238 :  What is the difference between () and [] in Python?\n",
      "0.9140185117721558 :  What are the differences between Python 1, 2, 3?\n",
      "0.913104236125946 :  The world's largest dinosaur discovered is a titanosaur. How big was his poop?\n",
      "0.9106531143188477 :  What is the best beginner friendly book on python?\n",
      "\n",
      "\n",
      "\n",
      "\n",
      "\n",
      "Please enter a question: how to learn python\n",
      "[{'corpus_id': 3425, 'score': 0.9927082061767578}, {'corpus_id': 34979, 'score': 0.9891511797904968}, {'corpus_id': 26144, 'score': 0.9827980995178223}, {'corpus_id': 4060, 'score': 0.963792085647583}, {'corpus_id': 22154, 'score': 0.9635708332061768}]\n",
      "0.9927082061767578 :  What are some of the best ways to learn python?\n",
      "0.9891511797904968 :  What's the best way to learn python on my own?\n",
      "0.9827980995178223 :  What are some tips for learning python?\n",
      "0.963792085647583 :  How do I learn Python systematically?\n",
      "0.9635708332061768 :  What's the best way to learn Python?\n",
      "\n",
      "\n",
      "\n",
      "\n",
      "\n",
      "Please enter a question: how to learn Machine and Deep Learning\n",
      "[{'corpus_id': 25824, 'score': 0.9643182158470154}, {'corpus_id': 15154, 'score': 0.9609043598175049}, {'corpus_id': 5412, 'score': 0.9602285027503967}, {'corpus_id': 33563, 'score': 0.9570599794387817}, {'corpus_id': 7911, 'score': 0.9510340690612793}]\n",
      "0.9643182158470154 :  What is the usual way to start learning Machine learning?\n",
      "0.9609043598175049 :  Should a machine learning beginner go straight for deep learning?\n",
      "0.9602285027503967 :  How do i get started on machine learning?\n",
      "0.9570599794387817 :  How can I understand machine learning?\n",
      "0.9510340690612793 :  How do I learn deep learning?\n",
      "\n",
      "\n",
      "\n",
      "\n",
      "\n",
      "Please enter a question: How to Develop an AI app\n",
      "[{'corpus_id': 5307, 'score': 0.8845053911209106}, {'corpus_id': 7874, 'score': 0.8838170766830444}, {'corpus_id': 31132, 'score': 0.8811867237091064}, {'corpus_id': 12039, 'score': 0.8799452185630798}, {'corpus_id': 1565, 'score': 0.8773924708366394}]\n",
      "0.8845053911209106 :  What are the best ways to build a web application?\n",
      "0.8838170766830444 :  What is the Best way to build a web application?\n",
      "0.8811867237091064 :  What are some online resources to learn UI design?\n",
      "0.8799452185630798 :  How do I to build app IOS by ionic framework on windows?\n",
      "0.8773924708366394 :  What are good resources for learning Software UI design.\n",
      "\n",
      "\n",
      "\n",
      "\n",
      "\n",
      "Please enter a question: How to develop an ML app\n",
      "[{'corpus_id': 10128, 'score': 0.9045913815498352}, {'corpus_id': 25228, 'score': 0.8998863101005554}, {'corpus_id': 11141, 'score': 0.892848789691925}, {'corpus_id': 20167, 'score': 0.889417827129364}, {'corpus_id': 22262, 'score': 0.8849233388900757}]\n",
      "0.9045913815498352 :  How do I begin with android application development?\n",
      "0.8998863101005554 :  How do I get started with Android application development?\n",
      "0.892848789691925 :  How do I design my mobile app?\n",
      "0.889417827129364 :  How do I design for my Mobile app?\n",
      "0.8849233388900757 :  What should I do to make an Android app?\n",
      "\n",
      "\n",
      "\n",
      "\n",
      "\n",
      "Please enter a question: n\n"
     ]
    }
   ],
   "source": [
    "while True:\n",
    "    query = input(\"Please enter a question: \")\n",
    "\n",
    "    if query == 'n':\n",
    "        break\n",
    "\n",
    "    question_embedding = model.encode(query, convert_to_tensor=True) #need to project query into same vector space to find similar questions\n",
    "    hits = util.semantic_search(question_embedding, corpus_embeddings, top_k=5) #semnatic search functionality-query,corpus embeddings, top5 results\n",
    "    hits = hits[0]\n",
    "    print(hits)\n",
    "\n",
    "    for hit in hits:\n",
    "        print(hit['score'], \": \", corpus_senteces[hit['corpus_id']])\n",
    "\n",
    "    print('\\n\\n\\n\\n')"
   ]
  }
 ],
 "metadata": {
  "kernelspec": {
   "display_name": "Python 3 (ipykernel)",
   "language": "python",
   "name": "python3"
  },
  "language_info": {
   "codemirror_mode": {
    "name": "ipython",
    "version": 3
   },
   "file_extension": ".py",
   "mimetype": "text/x-python",
   "name": "python",
   "nbconvert_exporter": "python",
   "pygments_lexer": "ipython3",
   "version": "3.11.3"
  }
 },
 "nbformat": 4,
 "nbformat_minor": 5
}
