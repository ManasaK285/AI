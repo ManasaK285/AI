{
 "cells": [
  {
   "cell_type": "code",
   "execution_count": 20,
   "id": "c3bdde17-6c96-4c26-831f-343253c7f86d",
   "metadata": {},
   "outputs": [
    {
     "data": {
      "text/html": [
       "<div>\n",
       "<style scoped>\n",
       "    .dataframe tbody tr th:only-of-type {\n",
       "        vertical-align: middle;\n",
       "    }\n",
       "\n",
       "    .dataframe tbody tr th {\n",
       "        vertical-align: top;\n",
       "    }\n",
       "\n",
       "    .dataframe thead th {\n",
       "        text-align: right;\n",
       "    }\n",
       "</style>\n",
       "<table border=\"1\" class=\"dataframe\">\n",
       "  <thead>\n",
       "    <tr style=\"text-align: right;\">\n",
       "      <th></th>\n",
       "      <th>Unnamed: 0</th>\n",
       "      <th>Headline</th>\n",
       "      <th>Link</th>\n",
       "      <th>Content</th>\n",
       "      <th>Sentiment</th>\n",
       "      <th>Justification</th>\n",
       "    </tr>\n",
       "  </thead>\n",
       "  <tbody>\n",
       "    <tr>\n",
       "      <th>0</th>\n",
       "      <td>0</td>\n",
       "      <td>Australia's year ahead in climate and environm...</td>\n",
       "      <td>https://www.abc.net.au/news/science/2024-01-23...</td>\n",
       "      <td>The year has barely started and extreme weath...</td>\n",
       "      <td>0.0</td>\n",
       "      <td>The headline is unclear about its direct impac...</td>\n",
       "    </tr>\n",
       "    <tr>\n",
       "      <th>1</th>\n",
       "      <td>1</td>\n",
       "      <td>Projections reveal the vulnerability of freshw...</td>\n",
       "      <td>https://news.griffith.edu.au/2024/01/09/projec...</td>\n",
       "      <td>“Water from groundwater, rivers and rainfall ...</td>\n",
       "      <td>-0.5</td>\n",
       "      <td>The vulnerability of freshwater is concerning ...</td>\n",
       "    </tr>\n",
       "    <tr>\n",
       "      <th>2</th>\n",
       "      <td>2</td>\n",
       "      <td>Record heat in 2023 worsened global droughts, ...</td>\n",
       "      <td>https://www.anu.edu.au/news/all-news/record-he...</td>\n",
       "      <td>2023 saw an increase in the frequency and int...</td>\n",
       "      <td>-1.0</td>\n",
       "      <td>The headline describes worsening environmental...</td>\n",
       "    </tr>\n",
       "    <tr>\n",
       "      <th>3</th>\n",
       "      <td>3</td>\n",
       "      <td>It's not just the total rainfall \"“ why is eas...</td>\n",
       "      <td>https://www.theguardian.com/australia-news/202...</td>\n",
       "      <td>The number of storms in some regions is decre...</td>\n",
       "      <td>0.0</td>\n",
       "      <td>The headline is unclear about its stance on cl...</td>\n",
       "    </tr>\n",
       "    <tr>\n",
       "      <th>4</th>\n",
       "      <td>4</td>\n",
       "      <td>Expert Commentary: 2023 was the warmest year o...</td>\n",
       "      <td>https://www.csiro.au/en/news/all/news/2024/jan...</td>\n",
       "      <td>The European Union's Copernicus Climate Chang...</td>\n",
       "      <td>-0.5</td>\n",
       "      <td>While highlighting the reality of climate chan...</td>\n",
       "    </tr>\n",
       "  </tbody>\n",
       "</table>\n",
       "</div>"
      ],
      "text/plain": [
       "   Unnamed: 0                                           Headline  \\\n",
       "0           0  Australia's year ahead in climate and environm...   \n",
       "1           1  Projections reveal the vulnerability of freshw...   \n",
       "2           2  Record heat in 2023 worsened global droughts, ...   \n",
       "3           3  It's not just the total rainfall \"“ why is eas...   \n",
       "4           4  Expert Commentary: 2023 was the warmest year o...   \n",
       "\n",
       "                                                Link  \\\n",
       "0  https://www.abc.net.au/news/science/2024-01-23...   \n",
       "1  https://news.griffith.edu.au/2024/01/09/projec...   \n",
       "2  https://www.anu.edu.au/news/all-news/record-he...   \n",
       "3  https://www.theguardian.com/australia-news/202...   \n",
       "4  https://www.csiro.au/en/news/all/news/2024/jan...   \n",
       "\n",
       "                                             Content  Sentiment  \\\n",
       "0   The year has barely started and extreme weath...        0.0   \n",
       "1   “Water from groundwater, rivers and rainfall ...       -0.5   \n",
       "2   2023 saw an increase in the frequency and int...       -1.0   \n",
       "3   The number of storms in some regions is decre...        0.0   \n",
       "4   The European Union's Copernicus Climate Chang...       -0.5   \n",
       "\n",
       "                                       Justification  \n",
       "0  The headline is unclear about its direct impac...  \n",
       "1  The vulnerability of freshwater is concerning ...  \n",
       "2  The headline describes worsening environmental...  \n",
       "3  The headline is unclear about its stance on cl...  \n",
       "4  While highlighting the reality of climate chan...  "
      ]
     },
     "execution_count": 20,
     "metadata": {},
     "output_type": "execute_result"
    }
   ],
   "source": [
    "import pandas as pd\n",
    "import numpy as np\n",
    "import seaborn as sns\n",
    "import matplotlib.pyplot as plt\n",
    "import warnings\n",
    "warnings.filterwarnings('ignore')\n",
    "%matplotlib inline\n",
    "\n",
    "# Load the dataset\n",
    "file_path = r'C:\\Users\\dell\\Desktop\\MyDocs\\Docs\\MK\\climate_headlines_sentiment.csv'\n",
    "df = pd.read_csv(file_path)\n",
    "df.head()"
   ]
  },
  {
   "cell_type": "code",
   "execution_count": 22,
   "id": "80bafd8b-695c-488b-b151-396be7c37ced",
   "metadata": {},
   "outputs": [
    {
     "data": {
      "text/plain": [
       "Headline         0\n",
       "Link             0\n",
       "Content          0\n",
       "Sentiment        1\n",
       "Justification    1\n",
       "dtype: int64"
      ]
     },
     "execution_count": 22,
     "metadata": {},
     "output_type": "execute_result"
    }
   ],
   "source": [
    "# Drop the 'Unnamed: 0' column as it is just an index\n",
    "df.drop(columns=['Unnamed: 0'], inplace=True)\n",
    "\n",
    "# Check for missing values\n",
    "df.isnull().sum()"
   ]
  },
  {
   "cell_type": "code",
   "execution_count": 24,
   "id": "71bef27e-a93b-4679-9d1a-a7dba7841ae3",
   "metadata": {},
   "outputs": [
    {
     "data": {
      "text/plain": [
       "Headline         0\n",
       "Link             0\n",
       "Content          0\n",
       "Sentiment        0\n",
       "Justification    0\n",
       "dtype: int64"
      ]
     },
     "execution_count": 24,
     "metadata": {},
     "output_type": "execute_result"
    }
   ],
   "source": [
    "# Drop rows with missing sentiment values\n",
    "df.dropna(subset=['Sentiment'], inplace=True)\n",
    "\n",
    "# Verify missing values are handled\n",
    "df.isnull().sum()"
   ]
  },
  {
   "cell_type": "code",
   "execution_count": 26,
   "id": "6c0bfd09-716f-4e40-8092-1d57f86bb026",
   "metadata": {},
   "outputs": [
    {
     "data": {
      "image/png": "[encoded data removed]",
      "text/plain": [
       "<Figure size 640x480 with 1 Axes>"
      ]
     },
     "metadata": {},
     "output_type": "display_data"
    }
   ],
   "source": [
    "# Distribution of Sentiments\n",
    "sns.histplot(df['Sentiment'], bins=30, kde=True)\n",
    "plt.title('Distribution of Sentiments')\n",
    "plt.xlabel('Sentiment')\n",
    "plt.ylabel('Frequency')\n",
    "plt.show()"
   ]
  },
  {
   "cell_type": "code",
   "execution_count": 28,
   "id": "c7f67488-59fb-47cf-978f-f7b0a25cc375",
   "metadata": {},
   "outputs": [
    {
     "data": {
      "text/plain": [
       "1.1658411716334713"
      ]
     },
     "execution_count": 28,
     "metadata": {},
     "output_type": "execute_result"
    }
   ],
   "source": [
    "from sklearn.model_selection import train_test_split\n",
    "from sklearn.feature_extraction.text import TfidfVectorizer\n",
    "from sklearn.linear_model import LinearRegression\n",
    "from sklearn.metrics import mean_squared_error\n",
    "\n",
    "# Prepare the data\n",
    "X = df['Headline']\n",
    "y = df['Sentiment']\n",
    "\n",
    "# Split the data\n",
    "X_train, X_test, y_train, y_test = train_test_split(X, y, test_size=0.2, random_state=42)\n",
    "\n",
    "# Vectorize the text data\n",
    "vectorizer = TfidfVectorizer(max_features=1000)\n",
    "X_train_vec = vectorizer.fit_transform(X_train)\n",
    "X_test_vec = vectorizer.transform(X_test)\n",
    "\n",
    "# Train a linear regression model\n",
    "model = LinearRegression()\n",
    "model.fit(X_train_vec, y_train)\n",
    "\n",
    "# Predict and evaluate\n",
    "y_pred = model.predict(X_test_vec)\n",
    "mse = mean_squared_error(y_test, y_pred)\n",
    "\n",
    "mse"
   ]
  }
 ],
 "metadata": {
  "kernelspec": {
   "display_name": "Python 3 (ipykernel)",
   "language": "python",
   "name": "python3"
  },
  "language_info": {
   "codemirror_mode": {
    "name": "ipython",
    "version": 3
   },
   "file_extension": ".py",
   "mimetype": "text/x-python",
   "name": "python",
   "nbconvert_exporter": "python",
   "pygments_lexer": "ipython3",
   "version": "3.12.4"
  }
 },
 "nbformat": 4,
 "nbformat_minor": 5
}
