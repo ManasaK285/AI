{
 "cells": [
  {
   "cell_type": "code",
   "execution_count": 2,
   "id": "e6f2d474-ad1b-4601-a0ba-6cde4b86320f",
   "metadata": {},
   "outputs": [
    {
     "data": {
      "text/html": [
       "<div>\n",
       "<style scoped>\n",
       "    .dataframe tbody tr th:only-of-type {\n",
       "        vertical-align: middle;\n",
       "    }\n",
       "\n",
       "    .dataframe tbody tr th {\n",
       "        vertical-align: top;\n",
       "    }\n",
       "\n",
       "    .dataframe thead th {\n",
       "        text-align: right;\n",
       "    }\n",
       "</style>\n",
       "<table border=\"1\" class=\"dataframe\">\n",
       "  <thead>\n",
       "    <tr style=\"text-align: right;\">\n",
       "      <th></th>\n",
       "      <th>EKSAMI_SOORITAJA</th>\n",
       "      <th>KUUPAEV</th>\n",
       "      <th>BYROO</th>\n",
       "      <th>KATEGOORIA</th>\n",
       "      <th>ERITINGIMUSED</th>\n",
       "      <th>VIIMANE_AUTOKOOL</th>\n",
       "      <th>SOIDUOPETAJA_KAASAS</th>\n",
       "      <th>EKSAMINEERIJA</th>\n",
       "      <th>SEISUND</th>\n",
       "      <th>KESTUS</th>\n",
       "      <th>KATK_POHJUS</th>\n",
       "      <th>MITTEARVESTATUD</th>\n",
       "      <th>VEAD</th>\n",
       "    </tr>\n",
       "  </thead>\n",
       "  <tbody>\n",
       "    <tr>\n",
       "      <th>0</th>\n",
       "      <td>fb6f44a4e71821f2</td>\n",
       "      <td>2023-01</td>\n",
       "      <td>Valga</td>\n",
       "      <td>B</td>\n",
       "      <td>101</td>\n",
       "      <td>osaühing Kursus &amp; Ko</td>\n",
       "      <td>E</td>\n",
       "      <td>bf2b7218d36e2a3d</td>\n",
       "      <td>MITTE_SOORITATUD</td>\n",
       "      <td>28.0</td>\n",
       "      <td>NaN</td>\n",
       "      <td>LIIKLUSOHUTUS|TEELPUSIMINE</td>\n",
       "      <td>NaN</td>\n",
       "    </tr>\n",
       "    <tr>\n",
       "      <th>1</th>\n",
       "      <td>82ed52e5990f8204</td>\n",
       "      <td>2023-01</td>\n",
       "      <td>Jõgeva</td>\n",
       "      <td>B</td>\n",
       "      <td>101</td>\n",
       "      <td>OÜ AUTOSÕIT</td>\n",
       "      <td>E</td>\n",
       "      <td>844452b4e4bac2ef</td>\n",
       "      <td>SOORITATUD</td>\n",
       "      <td>44.0</td>\n",
       "      <td>NaN</td>\n",
       "      <td>NaN</td>\n",
       "      <td>NaN</td>\n",
       "    </tr>\n",
       "    <tr>\n",
       "      <th>2</th>\n",
       "      <td>e72eeaf255d74785</td>\n",
       "      <td>2023-01</td>\n",
       "      <td>Narva</td>\n",
       "      <td>B</td>\n",
       "      <td>101|78</td>\n",
       "      <td>OSAÜHING ERMAN AUTOKOOL</td>\n",
       "      <td>E</td>\n",
       "      <td>d67d168bc8d04278</td>\n",
       "      <td>SOORITATUD</td>\n",
       "      <td>45.0</td>\n",
       "      <td>NaN</td>\n",
       "      <td>NaN</td>\n",
       "      <td>NaN</td>\n",
       "    </tr>\n",
       "    <tr>\n",
       "      <th>3</th>\n",
       "      <td>d0dd38daf0397c9d</td>\n",
       "      <td>2023-01</td>\n",
       "      <td>Valga</td>\n",
       "      <td>B</td>\n",
       "      <td>101</td>\n",
       "      <td>osaühing Kursus &amp; Ko</td>\n",
       "      <td>J</td>\n",
       "      <td>bf2b7218d36e2a3d</td>\n",
       "      <td>MITTE_SOORITATUD</td>\n",
       "      <td>33.0</td>\n",
       "      <td>NaN</td>\n",
       "      <td>LIIKLUSOHUTUS</td>\n",
       "      <td>NaN</td>\n",
       "    </tr>\n",
       "    <tr>\n",
       "      <th>4</th>\n",
       "      <td>655194a10a21cd56</td>\n",
       "      <td>2023-01</td>\n",
       "      <td>Paide</td>\n",
       "      <td>B</td>\n",
       "      <td>101|78</td>\n",
       "      <td>Autokool Drive OÜ</td>\n",
       "      <td>E</td>\n",
       "      <td>f6097462dafbd97c</td>\n",
       "      <td>MITTE_SOORITATUD</td>\n",
       "      <td>18.0</td>\n",
       "      <td>NaN</td>\n",
       "      <td>PARKIMINE_MANOOVRIGA</td>\n",
       "      <td>EBAPIISAV_ETTEVALMISTUS|PARKIMINE_MARGISEL</td>\n",
       "    </tr>\n",
       "  </tbody>\n",
       "</table>\n",
       "</div>"
      ],
      "text/plain": [
       "   EKSAMI_SOORITAJA  KUUPAEV   BYROO KATEGOORIA ERITINGIMUSED  \\\n",
       "0  fb6f44a4e71821f2  2023-01   Valga          B           101   \n",
       "1  82ed52e5990f8204  2023-01  Jõgeva          B           101   \n",
       "2  e72eeaf255d74785  2023-01   Narva          B        101|78   \n",
       "3  d0dd38daf0397c9d  2023-01   Valga          B           101   \n",
       "4  655194a10a21cd56  2023-01   Paide          B        101|78   \n",
       "\n",
       "          VIIMANE_AUTOKOOL SOIDUOPETAJA_KAASAS     EKSAMINEERIJA  \\\n",
       "0     osaühing Kursus & Ko                   E  bf2b7218d36e2a3d   \n",
       "1              OÜ AUTOSÕIT                   E  844452b4e4bac2ef   \n",
       "2  OSAÜHING ERMAN AUTOKOOL                   E  d67d168bc8d04278   \n",
       "3     osaühing Kursus & Ko                   J  bf2b7218d36e2a3d   \n",
       "4        Autokool Drive OÜ                   E  f6097462dafbd97c   \n",
       "\n",
       "            SEISUND  KESTUS KATK_POHJUS             MITTEARVESTATUD  \\\n",
       "0  MITTE_SOORITATUD    28.0         NaN  LIIKLUSOHUTUS|TEELPUSIMINE   \n",
       "1        SOORITATUD    44.0         NaN                         NaN   \n",
       "2        SOORITATUD    45.0         NaN                         NaN   \n",
       "3  MITTE_SOORITATUD    33.0         NaN               LIIKLUSOHUTUS   \n",
       "4  MITTE_SOORITATUD    18.0         NaN        PARKIMINE_MANOOVRIGA   \n",
       "\n",
       "                                         VEAD  \n",
       "0                                         NaN  \n",
       "1                                         NaN  \n",
       "2                                         NaN  \n",
       "3                                         NaN  \n",
       "4  EBAPIISAV_ETTEVALMISTUS|PARKIMINE_MARGISEL  "
      ]
     },
     "execution_count": 2,
     "metadata": {},
     "output_type": "execute_result"
    }
   ],
   "source": [
    "import pandas as pd\n",
    "import numpy as np\n",
    "import seaborn as sns\n",
    "import matplotlib.pyplot as plt\n",
    "from sklearn.model_selection import train_test_split\n",
    "from sklearn.ensemble import RandomForestClassifier\n",
    "from sklearn.metrics import accuracy_score, confusion_matrix, classification_report\n",
    "from sklearn.impute import SimpleImputer\n",
    "import warnings\n",
    "warnings.filterwarnings('ignore')\n",
    "\n",
    "# Load the data\n",
    "files = [\n",
    "    r'C:\\Users\\dell\\Desktop\\MyDocs\\Docs\\MK\\97c98d51-8793-4ded-90de-fda30e84b85c-se_2023.csv.csv',\n",
    "    r'C:\\Users\\dell\\Desktop\\MyDocs\\Docs\\MK\\ad1d4846-20e3-440b-97e3-f14aa7655fff-se_2024.csv.csv',\n",
    "    r'C:\\Users\\dell\\Desktop\\MyDocs\\Docs\\MK\\d6184542-8fc2-4439-86df-f4f56f323114-se_2021.csv.csv',\n",
    "    r'C:\\Users\\dell\\Desktop\\MyDocs\\Docs\\MK\\c1778898-488f-4b68-bd1d-a6813165de73-se_2022.csv.csv'\n",
    "]\n",
    "\n",
    "df_list = [pd.read_csv(file) for file in files]\n",
    "df = pd.concat(df_list, ignore_index=True)\n",
    "df.head()"
   ]
  },
  {
   "cell_type": "code",
   "execution_count": 3,
   "id": "c80ac016-2440-45b1-a3d9-df6e78d3152c",
   "metadata": {},
   "outputs": [
    {
     "data": {
      "text/plain": [
       "ERITINGIMUSED           50700\n",
       "VIIMANE_AUTOKOOL        10218\n",
       "SOIDUOPETAJA_KAASAS      4935\n",
       "KESTUS                   5310\n",
       "KATK_POHJUS            175125\n",
       "MITTEARVESTATUD        103038\n",
       "VEAD                   161715\n",
       "dtype: int64"
      ]
     },
     "execution_count": 3,
     "metadata": {},
     "output_type": "execute_result"
    }
   ],
   "source": [
    "# Convert date column to datetime\n",
    "df['KUUPAEV'] = pd.to_datetime(df['KUUPAEV'], errors='coerce')\n",
    "\n",
    "# Check for missing values\n",
    "missing_values = df.isnull().sum()\n",
    "missing_values[missing_values > 0]"
   ]
  },
  {
   "cell_type": "code",
   "execution_count": 4,
   "id": "993857c4-725e-4a76-8cee-f4f5fe255bc8",
   "metadata": {},
   "outputs": [
    {
     "data": {
      "text/plain": [
       "EKSAMI_SOORITAJA            0\n",
       "KUUPAEV                     0\n",
       "BYROO                       0\n",
       "KATEGOORIA                  0\n",
       "ERITINGIMUSED           50700\n",
       "VIIMANE_AUTOKOOL        10218\n",
       "SOIDUOPETAJA_KAASAS      4935\n",
       "EKSAMINEERIJA               0\n",
       "SEISUND                     0\n",
       "KESTUS                      0\n",
       "KATK_POHJUS            175125\n",
       "MITTEARVESTATUD        103038\n",
       "VEAD                   161715\n",
       "dtype: int64"
      ]
     },
     "execution_count": 4,
     "metadata": {},
     "output_type": "execute_result"
    }
   ],
   "source": [
    "# Impute missing values for numeric columns\n",
    "imputer = SimpleImputer(strategy='mean')\n",
    "df['KESTUS'] = imputer.fit_transform(df[['KESTUS']])\n",
    "\n",
    "# Drop rows with missing target values\n",
    "df.dropna(subset=['SEISUND'], inplace=True)\n",
    "\n",
    "# Check again for missing values\n",
    "df.isnull().sum()"
   ]
  },
  {
   "cell_type": "code",
   "execution_count": 5,
   "id": "85c7290c-cf88-4882-8350-8cfff4fbc314",
   "metadata": {},
   "outputs": [
    {
     "data": {
      "image/png": "[encoded data removed]",
      "text/plain": [
       "<Figure size 640x480 with 1 Axes>"
      ]
     },
     "metadata": {},
     "output_type": "display_data"
    }
   ],
   "source": [
    "# Distribution of test outcomes\n",
    "sns.countplot(x='SEISUND', data=df)\n",
    "plt.title('Distribution of Test Outcomes')\n",
    "plt.show()"
   ]
  },
  {
   "cell_type": "code",
   "execution_count": 6,
   "id": "3043fc3c-9ebf-465d-a35e-cd9e0e83248a",
   "metadata": {},
   "outputs": [
    {
     "data": {
      "image/png": "[encoded data removed]",
      "text/plain": [
       "<Figure size 640x480 with 2 Axes>"
      ]
     },
     "metadata": {},
     "output_type": "display_data"
    }
   ],
   "source": [
    "# Correlation heatmap for numeric features\n",
    "numeric_df = df.select_dtypes(include=[np.number])\n",
    "sns.heatmap(numeric_df.corr(), annot=True, cmap='coolwarm')\n",
    "plt.title('Correlation Heatmap')\n",
    "plt.show()"
   ]
  },
  {
   "cell_type": "code",
   "execution_count": 7,
   "id": "5b19aa1b-60c6-48ac-b053-ba8fe7131d1a",
   "metadata": {},
   "outputs": [
    {
     "data": {
      "text/plain": [
       "(0.9681352175117761,\n",
       " array([[  82,    0,    0,    4],\n",
       "        [   0,   34,    1,    5],\n",
       "        [   0,    0, 1454,   96],\n",
       "        [   0,    0,    9, 1924]], dtype=int64),\n",
       " '                   precision    recall  f1-score   support\\n\\nEI_ILMUNUD_KOHALE       1.00      0.95      0.98        86\\n      KATKESTATUD       1.00      0.85      0.92        40\\n MITTE_SOORITATUD       0.99      0.94      0.96      1550\\n       SOORITATUD       0.95      1.00      0.97      1933\\n\\n         accuracy                           0.97      3609\\n        macro avg       0.99      0.93      0.96      3609\\n     weighted avg       0.97      0.97      0.97      3609\\n')"
      ]
     },
     "execution_count": 7,
     "metadata": {},
     "output_type": "execute_result"
    }
   ],
   "source": [
    "# Reduce memory usage by selecting a subset of the data\n",
    "df_sample = df.sample(frac=0.1, random_state=42)\n",
    "\n",
    "# Prepare the data for modeling\n",
    "X = df_sample.drop(columns=['SEISUND', 'KUUPAEV'])\n",
    "y = df_sample['SEISUND']\n",
    "\n",
    "# Convert categorical variables to dummy variables\n",
    "X = pd.get_dummies(X, drop_first=True)\n",
    "\n",
    "# Handle any remaining missing values\n",
    "X = X.fillna(X.mean())\n",
    "\n",
    "# Split the data into training and testing sets\n",
    "X_train, X_test, y_train, y_test = train_test_split(X, y, test_size=0.2, random_state=42)\n",
    "\n",
    "# Initialize and train the Random Forest Classifier\n",
    "model = RandomForestClassifier(random_state=42)\n",
    "model.fit(X_train, y_train)\n",
    "\n",
    "# Make predictions\n",
    "y_pred = model.predict(X_test)\n",
    "\n",
    "# Evaluate the model\n",
    "accuracy = accuracy_score(y_test, y_pred)\n",
    "conf_matrix = confusion_matrix(y_test, y_pred)\n",
    "class_report = classification_report(y_test, y_pred)\n",
    "\n",
    "accuracy, conf_matrix, class_report"
   ]
  }
 ],
 "metadata": {
  "kernelspec": {
   "display_name": "Python 3 (ipykernel)",
   "language": "python",
   "name": "python3"
  },
  "language_info": {
   "codemirror_mode": {
    "name": "ipython",
    "version": 3
   },
   "file_extension": ".py",
   "mimetype": "text/x-python",
   "name": "python",
   "nbconvert_exporter": "python",
   "pygments_lexer": "ipython3",
   "version": "3.12.7"
  }
 },
 "nbformat": 4,
 "nbformat_minor": 5
}
