{
 "cells": [
  {
   "cell_type": "code",
   "execution_count": 1,
   "id": "7ad202dc",
   "metadata": {},
   "outputs": [
    {
     "name": "stdout",
     "output_type": "stream",
     "text": [
      "Requirement already satisfied: sentence-transformers in c:\\users\\mmanasanjani\\appdata\\local\\anaconda3\\lib\\site-packages (2.5.1)\n",
      "Requirement already satisfied: transformers<5.0.0,>=4.32.0 in c:\\users\\mmanasanjani\\appdata\\local\\anaconda3\\lib\\site-packages (from sentence-transformers) (4.38.2)\n",
      "Requirement already satisfied: tqdm in c:\\users\\mmanasanjani\\appdata\\local\\anaconda3\\lib\\site-packages (from sentence-transformers) (4.65.0)\n",
      "Requirement already satisfied: torch>=1.11.0 in c:\\users\\mmanasanjani\\appdata\\local\\anaconda3\\lib\\site-packages (from sentence-transformers) (2.2.1)\n",
      "Requirement already satisfied: numpy in c:\\users\\mmanasanjani\\appdata\\local\\anaconda3\\lib\\site-packages (from sentence-transformers) (1.24.3)\n",
      "Requirement already satisfied: scikit-learn in c:\\users\\mmanasanjani\\appdata\\local\\anaconda3\\lib\\site-packages (from sentence-transformers) (1.2.2)\n",
      "Requirement already satisfied: scipy in c:\\users\\mmanasanjani\\appdata\\local\\anaconda3\\lib\\site-packages (from sentence-transformers) (1.10.1)\n",
      "Requirement already satisfied: huggingface-hub>=0.15.1 in c:\\users\\mmanasanjani\\appdata\\local\\anaconda3\\lib\\site-packages (from sentence-transformers) (0.19.4)\n",
      "Requirement already satisfied: Pillow in c:\\users\\mmanasanjani\\appdata\\local\\anaconda3\\lib\\site-packages (from sentence-transformers) (9.4.0)\n",
      "Requirement already satisfied: filelock in c:\\users\\mmanasanjani\\appdata\\local\\anaconda3\\lib\\site-packages (from huggingface-hub>=0.15.1->sentence-transformers) (3.9.0)\n",
      "Requirement already satisfied: fsspec>=2023.5.0 in c:\\users\\mmanasanjani\\appdata\\local\\anaconda3\\lib\\site-packages (from huggingface-hub>=0.15.1->sentence-transformers) (2023.12.2)\n",
      "Requirement already satisfied: requests in c:\\users\\mmanasanjani\\appdata\\local\\anaconda3\\lib\\site-packages (from huggingface-hub>=0.15.1->sentence-transformers) (2.29.0)\n",
      "Requirement already satisfied: pyyaml>=5.1 in c:\\users\\mmanasanjani\\appdata\\local\\anaconda3\\lib\\site-packages (from huggingface-hub>=0.15.1->sentence-transformers) (6.0)\n",
      "Requirement already satisfied: typing-extensions>=3.7.4.3 in c:\\users\\mmanasanjani\\appdata\\local\\anaconda3\\lib\\site-packages (from huggingface-hub>=0.15.1->sentence-transformers) (4.9.0)\n",
      "Requirement already satisfied: packaging>=20.9 in c:\\users\\mmanasanjani\\appdata\\local\\anaconda3\\lib\\site-packages (from huggingface-hub>=0.15.1->sentence-transformers) (23.2)\n",
      "Requirement already satisfied: sympy in c:\\users\\mmanasanjani\\appdata\\local\\anaconda3\\lib\\site-packages (from torch>=1.11.0->sentence-transformers) (1.11.1)\n",
      "Requirement already satisfied: networkx in c:\\users\\mmanasanjani\\appdata\\local\\anaconda3\\lib\\site-packages (from torch>=1.11.0->sentence-transformers) (2.8.4)\n",
      "Requirement already satisfied: jinja2 in c:\\users\\mmanasanjani\\appdata\\local\\anaconda3\\lib\\site-packages (from torch>=1.11.0->sentence-transformers) (3.1.2)\n",
      "Requirement already satisfied: colorama in c:\\users\\mmanasanjani\\appdata\\local\\anaconda3\\lib\\site-packages (from tqdm->sentence-transformers) (0.4.6)\n",
      "Requirement already satisfied: regex!=2019.12.17 in c:\\users\\mmanasanjani\\appdata\\local\\anaconda3\\lib\\site-packages (from transformers<5.0.0,>=4.32.0->sentence-transformers) (2022.7.9)\n",
      "Requirement already satisfied: tokenizers<0.19,>=0.14 in c:\\users\\mmanasanjani\\appdata\\local\\anaconda3\\lib\\site-packages (from transformers<5.0.0,>=4.32.0->sentence-transformers) (0.15.2)\n",
      "Requirement already satisfied: safetensors>=0.4.1 in c:\\users\\mmanasanjani\\appdata\\local\\anaconda3\\lib\\site-packages (from transformers<5.0.0,>=4.32.0->sentence-transformers) (0.4.2)\n",
      "Requirement already satisfied: joblib>=1.1.1 in c:\\users\\mmanasanjani\\appdata\\local\\anaconda3\\lib\\site-packages (from scikit-learn->sentence-transformers) (1.2.0)\n",
      "Requirement already satisfied: threadpoolctl>=2.0.0 in c:\\users\\mmanasanjani\\appdata\\local\\anaconda3\\lib\\site-packages (from scikit-learn->sentence-transformers) (2.2.0)\n",
      "Requirement already satisfied: MarkupSafe>=2.0 in c:\\users\\mmanasanjani\\appdata\\local\\anaconda3\\lib\\site-packages (from jinja2->torch>=1.11.0->sentence-transformers) (2.1.1)\n",
      "Requirement already satisfied: charset-normalizer<4,>=2 in c:\\users\\mmanasanjani\\appdata\\local\\anaconda3\\lib\\site-packages (from requests->huggingface-hub>=0.15.1->sentence-transformers) (2.0.4)\n",
      "Requirement already satisfied: idna<4,>=2.5 in c:\\users\\mmanasanjani\\appdata\\local\\anaconda3\\lib\\site-packages (from requests->huggingface-hub>=0.15.1->sentence-transformers) (3.4)\n",
      "Requirement already satisfied: urllib3<1.27,>=1.21.1 in c:\\users\\mmanasanjani\\appdata\\local\\anaconda3\\lib\\site-packages (from requests->huggingface-hub>=0.15.1->sentence-transformers) (1.26.16)\n",
      "Requirement already satisfied: certifi>=2017.4.17 in c:\\users\\mmanasanjani\\appdata\\local\\anaconda3\\lib\\site-packages (from requests->huggingface-hub>=0.15.1->sentence-transformers) (2023.5.7)\n",
      "Requirement already satisfied: mpmath>=0.19 in c:\\users\\mmanasanjani\\appdata\\local\\anaconda3\\lib\\site-packages (from sympy->torch>=1.11.0->sentence-transformers) (1.2.1)\n"
     ]
    }
   ],
   "source": [
    "!pip install -U sentence-transformers"
   ]
  },
  {
   "cell_type": "code",
   "execution_count": 2,
   "id": "f2298c26",
   "metadata": {},
   "outputs": [],
   "source": [
    "from sentence_transformers import SentenceTransformer,util"
   ]
  },
  {
   "cell_type": "code",
   "execution_count": 3,
   "id": "b15ec950",
   "metadata": {},
   "outputs": [],
   "source": [
    "import torch"
   ]
  },
  {
   "cell_type": "code",
   "execution_count": 4,
   "id": "13437165",
   "metadata": {},
   "outputs": [
    {
     "data": {
      "application/vnd.jupyter.widget-view+json": {
       "model_id": "9494e666715046ee8dcd85a153a5c7e2",
       "version_major": 2,
       "version_minor": 0
      },
      "text/plain": [
       "config_sentence_transformers.json:   0%|          | 0.00/116 [00:00<?, ?B/s]"
      ]
     },
     "metadata": {},
     "output_type": "display_data"
    },
    {
     "name": "stderr",
     "output_type": "stream",
     "text": [
      "C:\\Users\\mmanasanjani\\AppData\\Local\\anaconda3\\Lib\\site-packages\\huggingface_hub\\file_download.py:147: UserWarning: `huggingface_hub` cache-system uses symlinks by default to efficiently store duplicated files but your machine does not support them in C:\\Users\\mmanasanjani\\.cache\\huggingface\\hub. Caching files will still work but in a degraded version that might require more space on your disk. This warning can be disabled by setting the `HF_HUB_DISABLE_SYMLINKS_WARNING` environment variable. For more details, see https://huggingface.co/docs/huggingface_hub/how-to-cache#limitations.\n",
      "To support symlinks on Windows, you either need to activate Developer Mode or to run Python as an administrator. In order to see activate developer mode, see this article: https://docs.microsoft.com/en-us/windows/apps/get-started/enable-your-device-for-development\n",
      "  warnings.warn(message)\n"
     ]
    },
    {
     "data": {
      "application/vnd.jupyter.widget-view+json": {
       "model_id": "51bc2a9ed3a34be6ad14fb5166ffb029",
       "version_major": 2,
       "version_minor": 0
      },
      "text/plain": [
       "README.md:   0%|          | 0.00/11.6k [00:00<?, ?B/s]"
      ]
     },
     "metadata": {},
     "output_type": "display_data"
    },
    {
     "data": {
      "application/vnd.jupyter.widget-view+json": {
       "model_id": "5094aff268534b399916f58d106eca98",
       "version_major": 2,
       "version_minor": 0
      },
      "text/plain": [
       "sentence_bert_config.json:   0%|          | 0.00/53.0 [00:00<?, ?B/s]"
      ]
     },
     "metadata": {},
     "output_type": "display_data"
    },
    {
     "data": {
      "application/vnd.jupyter.widget-view+json": {
       "model_id": "a91be484f6ca473a82405d8f9111ceaa",
       "version_major": 2,
       "version_minor": 0
      },
      "text/plain": [
       "config.json:   0%|          | 0.00/612 [00:00<?, ?B/s]"
      ]
     },
     "metadata": {},
     "output_type": "display_data"
    },
    {
     "data": {
      "application/vnd.jupyter.widget-view+json": {
       "model_id": "3e727a3d584d4e55927d6ed40e4b7092",
       "version_major": 2,
       "version_minor": 0
      },
      "text/plain": [
       "pytorch_model.bin:   0%|          | 0.00/90.9M [00:00<?, ?B/s]"
      ]
     },
     "metadata": {},
     "output_type": "display_data"
    },
    {
     "data": {
      "application/vnd.jupyter.widget-view+json": {
       "model_id": "33ce7f59cde04f07ab4bb3981dae9f01",
       "version_major": 2,
       "version_minor": 0
      },
      "text/plain": [
       "tokenizer_config.json:   0%|          | 0.00/383 [00:00<?, ?B/s]"
      ]
     },
     "metadata": {},
     "output_type": "display_data"
    },
    {
     "data": {
      "application/vnd.jupyter.widget-view+json": {
       "model_id": "83a9bf102cd9469b875f0997d0b360dd",
       "version_major": 2,
       "version_minor": 0
      },
      "text/plain": [
       "vocab.txt:   0%|          | 0.00/232k [00:00<?, ?B/s]"
      ]
     },
     "metadata": {},
     "output_type": "display_data"
    },
    {
     "data": {
      "application/vnd.jupyter.widget-view+json": {
       "model_id": "036818d268324d5aa312726ecc40a5c0",
       "version_major": 2,
       "version_minor": 0
      },
      "text/plain": [
       "tokenizer.json:   0%|          | 0.00/466k [00:00<?, ?B/s]"
      ]
     },
     "metadata": {},
     "output_type": "display_data"
    },
    {
     "data": {
      "application/vnd.jupyter.widget-view+json": {
       "model_id": "8f3a1b60274243c4b2982adb87c83f16",
       "version_major": 2,
       "version_minor": 0
      },
      "text/plain": [
       "special_tokens_map.json:   0%|          | 0.00/112 [00:00<?, ?B/s]"
      ]
     },
     "metadata": {},
     "output_type": "display_data"
    },
    {
     "data": {
      "application/vnd.jupyter.widget-view+json": {
       "model_id": "57bbc529f00147c0b557a20680bb733d",
       "version_major": 2,
       "version_minor": 0
      },
      "text/plain": [
       "1_Pooling/config.json:   0%|          | 0.00/190 [00:00<?, ?B/s]"
      ]
     },
     "metadata": {},
     "output_type": "display_data"
    }
   ],
   "source": [
    "#getting language model for symmetric semantic search(rephrase same question)\n",
    "model=SentenceTransformer('multi-qa-MiniLM-L6-cos-v1')"
   ]
  },
  {
   "cell_type": "code",
   "execution_count": 5,
   "id": "23a07a27",
   "metadata": {},
   "outputs": [],
   "source": [
    "#building corpus(a sentence)\n",
    "#extracting sbert corpus from github https://github.com/laxmimerit\n",
    "import requests"
   ]
  },
  {
   "cell_type": "code",
   "execution_count": 6,
   "id": "ee723199",
   "metadata": {},
   "outputs": [
    {
     "data": {
      "text/plain": [
       "['A man is eating food.',\n",
       " 'A man is eating a piece of bread.',\n",
       " 'A man is eating pasta.',\n",
       " 'The girl is carrying a baby.',\n",
       " 'The baby is carried by the woman',\n",
       " 'A man is riding a horse.',\n",
       " 'A man is riding a white horse on an enclosed ground.',\n",
       " 'A monkey is playing drums.',\n",
       " 'Someone in a gorilla costume is playing a set of drums.',\n",
       " 'A cheetah is running behind its prey.',\n",
       " 'A cheetah chases prey on across a field.']"
      ]
     },
     "execution_count": 6,
     "metadata": {},
     "output_type": "execute_result"
    }
   ],
   "source": [
    "response=requests.get(\"https://raw.githubusercontent.com/laxmimerit/machine-learning-dataset/master/text-dataset-for-machine-learning/sbert-corpus.txt\")\n",
    "corpus=response.text.split('\\r\\n')\n",
    "corpus"
   ]
  },
  {
   "cell_type": "code",
   "execution_count": 7,
   "id": "3097c9dc",
   "metadata": {},
   "outputs": [],
   "source": [
    "responseq=requests.get(\"https://raw.githubusercontent.com/laxmimerit/machine-learning-dataset/master/text-dataset-for-machine-learning/sbert-queries.txt\")\n",
    "queries=responseq.text.split('\\r\\n')"
   ]
  },
  {
   "cell_type": "code",
   "execution_count": 8,
   "id": "014d4ead",
   "metadata": {},
   "outputs": [
    {
     "data": {
      "text/plain": [
       "['A man is eating pasta.',\n",
       " 'Someone in a gorilla costume is playing a set of drums.',\n",
       " 'A cheetah chases prey on across a field.']"
      ]
     },
     "execution_count": 8,
     "metadata": {},
     "output_type": "execute_result"
    }
   ],
   "source": [
    "queries"
   ]
  },
  {
   "cell_type": "code",
   "execution_count": 9,
   "id": "81d0b343",
   "metadata": {},
   "outputs": [],
   "source": [
    "#getting matching question(symmetric semantic search) similar to google\n",
    "corpus_embeddings=model.encode(corpus,convert_to_tensor=True)\n",
    "queries_embeddings=model.encode(queries,convert_to_tensor=True)"
   ]
  },
  {
   "cell_type": "code",
   "execution_count": 10,
   "id": "e7772f6f",
   "metadata": {},
   "outputs": [
    {
     "data": {
      "text/plain": [
       "tensor([ 5.6192e-02,  1.8235e-02,  2.3670e-02, -9.4500e-03, -8.8719e-02,\n",
       "        -7.9260e-03,  1.2745e-01, -5.0578e-02, -4.5912e-02, -3.8198e-02,\n",
       "         5.0214e-02, -1.1839e-01, -6.2974e-02,  1.0486e-02,  1.3573e-03,\n",
       "        -1.1340e-01,  3.3087e-02, -8.4886e-02,  8.9617e-02,  8.3860e-03,\n",
       "         3.9334e-02,  6.8932e-02,  3.8834e-02, -1.0982e-01, -4.0440e-02,\n",
       "        -2.5900e-02,  2.4625e-02, -5.3700e-02, -6.7910e-03,  4.6003e-02,\n",
       "         1.0470e-01, -9.7853e-03,  1.6974e-02, -5.5376e-02, -2.8779e-02,\n",
       "        -1.6152e-02,  2.3247e-02, -3.6139e-02, -5.9265e-03,  1.6874e-02,\n",
       "        -5.4818e-02, -5.0854e-02, -1.4955e-02,  5.4211e-03,  1.2918e-03,\n",
       "         6.1188e-02, -9.7889e-02,  8.7380e-03,  5.4717e-02, -3.3443e-02,\n",
       "        -1.3637e-01,  1.7047e-02, -1.4716e-02, -7.7342e-03,  6.1286e-02,\n",
       "        -2.3434e-02,  3.1187e-02,  3.2096e-02, -4.1245e-02, -2.8374e-02,\n",
       "         7.7506e-02,  3.8242e-03,  3.6766e-02,  6.7190e-02,  1.2711e-01,\n",
       "        -2.2905e-02,  6.4229e-03, -2.7661e-02, -2.2183e-02,  8.2921e-02,\n",
       "         7.7601e-02,  3.0927e-02, -7.6772e-03, -4.5074e-02,  7.8244e-04,\n",
       "        -8.0719e-02, -5.0590e-02, -9.1914e-02,  4.9976e-02, -2.1416e-02,\n",
       "        -3.1466e-02, -4.3439e-02,  3.8737e-02,  1.9107e-02, -6.9255e-03,\n",
       "         3.6015e-02, -8.9182e-02, -6.1245e-02, -2.8552e-02,  4.9489e-02,\n",
       "        -1.6042e-01, -8.4789e-02,  1.5234e-02, -3.4141e-02,  4.4082e-02,\n",
       "         7.8422e-02, -7.5261e-02,  2.9775e-02, -6.3917e-02,  5.6945e-02,\n",
       "         1.4821e-02,  4.3229e-02, -2.2224e-02,  3.4897e-02,  4.5407e-02,\n",
       "         2.6310e-02, -7.8171e-02,  1.5865e-02,  4.2655e-02,  1.4222e-02,\n",
       "        -1.0636e-01,  1.6543e-02, -3.0701e-02,  4.4123e-02, -2.4778e-03,\n",
       "        -5.7298e-02,  2.0706e-02, -5.6765e-02,  3.5288e-02,  2.7992e-02,\n",
       "        -2.9728e-02, -2.5992e-03, -3.0567e-02, -1.8894e-03,  3.6343e-02,\n",
       "        -3.8262e-02,  4.3922e-02,  6.6346e-31, -1.8171e-02, -8.6405e-02,\n",
       "         1.1416e-01, -7.7463e-03,  2.2995e-03,  2.4710e-02, -1.9269e-02,\n",
       "        -3.4387e-02,  1.0617e-01, -3.3753e-02,  4.7231e-02, -5.8019e-02,\n",
       "        -9.2483e-02,  1.3488e-01, -1.7283e-02, -2.8042e-02,  4.6584e-02,\n",
       "         5.7397e-02,  7.3002e-02, -2.4229e-02, -5.3795e-02, -5.1746e-02,\n",
       "         1.5918e-02,  1.6590e-02,  2.7229e-02, -6.9289e-02,  3.4109e-03,\n",
       "        -3.8033e-03,  9.2949e-03, -1.0063e-02, -3.7213e-02,  7.9226e-02,\n",
       "         1.9007e-02,  2.2145e-03, -2.4934e-02, -1.0941e-01,  8.7101e-03,\n",
       "        -1.7080e-02, -4.3945e-02, -2.9079e-02, -2.8736e-02,  1.1822e-02,\n",
       "         1.4704e-02, -3.1371e-03, -8.5004e-02, -3.5954e-02,  2.2802e-02,\n",
       "         8.2564e-02, -2.2319e-03,  3.8325e-02,  3.6501e-02,  8.5562e-03,\n",
       "         1.3077e-01, -2.4565e-02, -9.1195e-03, -5.4756e-02,  7.5168e-02,\n",
       "         2.8388e-02, -9.9462e-02,  1.3051e-02,  9.0355e-02,  1.9332e-02,\n",
       "         7.4277e-02,  6.6528e-02, -4.0946e-02, -1.0810e-01,  1.6700e-02,\n",
       "        -1.6153e-02,  1.5560e-02,  7.4739e-02, -5.2696e-02, -5.8189e-02,\n",
       "         4.5860e-04,  1.8504e-02,  1.6433e-02,  1.3004e-02, -2.7919e-02,\n",
       "        -5.2979e-02, -3.0127e-02, -2.8118e-02,  1.6479e-02, -6.1648e-02,\n",
       "         1.1059e-02,  9.9300e-03, -1.1813e-01,  1.6614e-01, -2.4873e-02,\n",
       "        -7.8483e-02,  1.2033e-01,  8.0100e-02, -1.4998e-02, -3.1170e-02,\n",
       "         1.0174e-02,  5.5742e-02, -4.2169e-02, -2.5920e-33, -5.9348e-02,\n",
       "        -2.4277e-02, -5.8995e-02,  2.3215e-02, -2.8255e-02, -6.7299e-02,\n",
       "        -5.9844e-02, -2.8424e-02,  2.1180e-02, -4.7538e-02,  1.0309e-02,\n",
       "        -1.1316e-02,  5.3914e-02,  4.2021e-02,  4.8168e-02,  1.2325e-03,\n",
       "         2.0544e-02,  1.3813e-03, -2.3389e-02,  8.5815e-02, -2.2772e-02,\n",
       "         3.6497e-02,  4.3195e-03, -8.7872e-03, -5.4281e-02,  1.7888e-02,\n",
       "         9.2487e-02,  5.0529e-02, -1.8932e-02, -2.6404e-02,  5.7868e-02,\n",
       "        -1.1826e-02, -2.1557e-02, -6.7468e-02,  4.4546e-03,  3.0382e-02,\n",
       "        -2.1224e-02, -3.1409e-02,  2.7070e-02,  4.0323e-02,  1.2272e-02,\n",
       "         4.4401e-02,  5.7195e-02,  4.9582e-02,  9.1523e-02, -1.9326e-02,\n",
       "        -1.0728e-02, -3.9077e-02, -8.0790e-03,  5.9003e-02,  3.0663e-03,\n",
       "         2.1743e-02, -4.8087e-02, -5.3128e-02, -2.5819e-02,  7.9228e-02,\n",
       "        -5.2943e-02, -5.2359e-02,  3.1686e-02,  1.3361e-02, -8.5453e-02,\n",
       "         4.9427e-02,  5.8925e-02,  5.3147e-02, -1.0148e-02,  1.2774e-02,\n",
       "        -2.2384e-02,  1.3562e-02,  3.1603e-02,  9.4335e-03,  3.8683e-02,\n",
       "        -3.1551e-02,  4.0190e-02, -3.9444e-02, -3.2548e-02,  4.7423e-04,\n",
       "        -5.3639e-02,  3.0016e-02,  6.1180e-02, -8.3641e-02, -4.0628e-02,\n",
       "        -4.7226e-02,  8.3788e-02,  1.2124e-02, -7.4983e-02, -6.9191e-02,\n",
       "        -3.0245e-02, -3.6270e-03, -8.3307e-03,  6.4793e-02, -3.5931e-02,\n",
       "        -4.5742e-02, -6.6672e-02,  3.6583e-02,  2.3630e-02, -3.7857e-33,\n",
       "         5.4031e-02, -4.1403e-02,  2.1269e-03,  1.1500e-03,  1.0349e-01,\n",
       "         2.5314e-02,  3.5637e-02, -9.5644e-02,  4.9486e-02,  2.8311e-02,\n",
       "        -2.5915e-05,  8.0175e-02,  3.3275e-02,  8.5903e-02, -2.7846e-02,\n",
       "        -2.7695e-02, -3.9142e-02, -8.6623e-03, -9.6959e-02,  1.6977e-02,\n",
       "         8.9568e-02, -6.4664e-02, -3.7884e-02,  8.3301e-02,  1.2118e-02,\n",
       "         4.3621e-04, -4.4811e-02,  7.6874e-02,  5.2238e-02,  5.7062e-02,\n",
       "        -6.3038e-03,  4.1091e-02, -6.1517e-02, -2.7928e-02,  5.7283e-02,\n",
       "         4.8042e-02, -1.8534e-02,  1.7227e-02, -1.8262e-02, -6.0259e-02,\n",
       "        -3.8248e-02,  6.0602e-02, -8.6261e-03,  1.8555e-02, -4.1599e-02,\n",
       "         3.5032e-02, -1.9239e-02,  6.0902e-02,  2.0597e-02,  3.6513e-02,\n",
       "        -4.9616e-02,  2.6391e-02,  5.4094e-02,  3.6141e-02,  6.0287e-02,\n",
       "        -2.8636e-02,  2.6727e-02, -3.1698e-02, -2.4089e-02, -3.2638e-02,\n",
       "         6.6701e-02,  3.0070e-02,  7.3176e-04,  6.8720e-03])"
      ]
     },
     "execution_count": 10,
     "metadata": {},
     "output_type": "execute_result"
    }
   ],
   "source": [
    "#let's normalize vectors for fast calculations\n",
    "#cosine similarity between multiple vectors(corpus)\n",
    "#instead of whole vector space we are going to do dot product\n",
    "#for that, we should normalize vector\n",
    "corpus_embeddings[0]"
   ]
  },
  {
   "cell_type": "code",
   "execution_count": 11,
   "id": "3a23b157",
   "metadata": {},
   "outputs": [],
   "source": [
    "corpus_embeddings=util.normalize_embeddings(corpus_embeddings)\n",
    "queries_embeddings=util.normalize_embeddings(queries_embeddings)"
   ]
  },
  {
   "cell_type": "code",
   "execution_count": 12,
   "id": "46814c00",
   "metadata": {},
   "outputs": [
    {
     "data": {
      "text/plain": [
       "384"
      ]
     },
     "execution_count": 12,
     "metadata": {},
     "output_type": "execute_result"
    }
   ],
   "source": [
    "len(corpus_embeddings[0])"
   ]
  },
  {
   "cell_type": "code",
   "execution_count": 13,
   "id": "13802523",
   "metadata": {},
   "outputs": [],
   "source": [
    "hits=util.semantic_search(queries_embeddings,corpus_embeddings,score_function=util.dot_score) #semantic search will do matchings of queries embeddings with corpus embeddings"
   ]
  },
  {
   "cell_type": "code",
   "execution_count": 14,
   "id": "29158699",
   "metadata": {},
   "outputs": [
    {
     "data": {
      "text/plain": [
       "[[{'corpus_id': 2, 'score': 0.9999998211860657},\n",
       "  {'corpus_id': 0, 'score': 0.8384666442871094},\n",
       "  {'corpus_id': 1, 'score': 0.7468274831771851},\n",
       "  {'corpus_id': 5, 'score': 0.5328126549720764},\n",
       "  {'corpus_id': 6, 'score': 0.36956483125686646},\n",
       "  {'corpus_id': 7, 'score': 0.358096182346344},\n",
       "  {'corpus_id': 3, 'score': 0.3572564721107483},\n",
       "  {'corpus_id': 10, 'score': 0.2998370826244354},\n",
       "  {'corpus_id': 9, 'score': 0.2915250062942505},\n",
       "  {'corpus_id': 4, 'score': 0.26753929257392883}],\n",
       " [{'corpus_id': 8, 'score': 1.0},\n",
       "  {'corpus_id': 7, 'score': 0.7612734436988831},\n",
       "  {'corpus_id': 3, 'score': 0.3815288245677948},\n",
       "  {'corpus_id': 6, 'score': 0.36845868825912476},\n",
       "  {'corpus_id': 10, 'score': 0.3676949739456177},\n",
       "  {'corpus_id': 5, 'score': 0.3185703456401825},\n",
       "  {'corpus_id': 9, 'score': 0.31449681520462036},\n",
       "  {'corpus_id': 1, 'score': 0.27469491958618164},\n",
       "  {'corpus_id': 0, 'score': 0.2099388688802719},\n",
       "  {'corpus_id': 2, 'score': 0.2016819268465042}],\n",
       " [{'corpus_id': 10, 'score': 1.0000001192092896},\n",
       "  {'corpus_id': 9, 'score': 0.870399534702301},\n",
       "  {'corpus_id': 6, 'score': 0.37411707639694214},\n",
       "  {'corpus_id': 8, 'score': 0.3676948845386505},\n",
       "  {'corpus_id': 7, 'score': 0.3468022048473358},\n",
       "  {'corpus_id': 5, 'score': 0.3163101077079773},\n",
       "  {'corpus_id': 2, 'score': 0.2998370826244354},\n",
       "  {'corpus_id': 3, 'score': 0.28087401390075684},\n",
       "  {'corpus_id': 0, 'score': 0.2637261748313904},\n",
       "  {'corpus_id': 1, 'score': 0.22314386069774628}]]"
      ]
     },
     "execution_count": 14,
     "metadata": {},
     "output_type": "execute_result"
    }
   ],
   "source": [
    "hits"
   ]
  },
  {
   "cell_type": "code",
   "execution_count": 16,
   "id": "a779b078",
   "metadata": {},
   "outputs": [],
   "source": [
    "top_hits=util.semantic_search(queries_embeddings,corpus_embeddings,score_function=util.dot_score,top_k=3) #semantic search will do matchings of queries embeddings with corpus embeddings\n",
    "#topk gives 3 matching results of each of the search query"
   ]
  },
  {
   "cell_type": "code",
   "execution_count": 17,
   "id": "4a7b4323",
   "metadata": {},
   "outputs": [
    {
     "data": {
      "text/plain": [
       "[[{'corpus_id': 2, 'score': 0.9999998211860657},\n",
       "  {'corpus_id': 0, 'score': 0.8384666442871094},\n",
       "  {'corpus_id': 1, 'score': 0.7468274831771851}],\n",
       " [{'corpus_id': 8, 'score': 1.0},\n",
       "  {'corpus_id': 7, 'score': 0.7612734436988831},\n",
       "  {'corpus_id': 3, 'score': 0.3815288245677948}],\n",
       " [{'corpus_id': 10, 'score': 1.0000001192092896},\n",
       "  {'corpus_id': 9, 'score': 0.870399534702301},\n",
       "  {'corpus_id': 6, 'score': 0.37411707639694214}]]"
      ]
     },
     "execution_count": 17,
     "metadata": {},
     "output_type": "execute_result"
    }
   ],
   "source": [
    "top_hits"
   ]
  },
  {
   "cell_type": "code",
   "execution_count": 19,
   "id": "773ca2db",
   "metadata": {},
   "outputs": [
    {
     "data": {
      "text/plain": [
       "['A man is eating pasta.',\n",
       " 'Someone in a gorilla costume is playing a set of drums.',\n",
       " 'A cheetah chases prey on across a field.']"
      ]
     },
     "execution_count": 19,
     "metadata": {},
     "output_type": "execute_result"
    }
   ],
   "source": [
    "#validating the search\n",
    "queries"
   ]
  },
  {
   "cell_type": "code",
   "execution_count": 20,
   "id": "ae6f928e",
   "metadata": {},
   "outputs": [
    {
     "data": {
      "text/plain": [
       "['A man is eating food.',\n",
       " 'A man is eating a piece of bread.',\n",
       " 'A man is eating pasta.',\n",
       " 'The girl is carrying a baby.',\n",
       " 'The baby is carried by the woman',\n",
       " 'A man is riding a horse.',\n",
       " 'A man is riding a white horse on an enclosed ground.',\n",
       " 'A monkey is playing drums.',\n",
       " 'Someone in a gorilla costume is playing a set of drums.',\n",
       " 'A cheetah is running behind its prey.',\n",
       " 'A cheetah chases prey on across a field.']"
      ]
     },
     "execution_count": 20,
     "metadata": {},
     "output_type": "execute_result"
    }
   ],
   "source": [
    "corpus"
   ]
  },
  {
   "cell_type": "code",
   "execution_count": 22,
   "id": "518f36a5",
   "metadata": {},
   "outputs": [
    {
     "name": "stdout",
     "output_type": "stream",
     "text": [
      "A man is eating pasta. <> A man is eating pasta. --> 0.9999998211860657\n",
      "A man is eating pasta. <> A man is eating food. --> 0.8384666442871094\n",
      "A man is eating pasta. <> A man is eating a piece of bread. --> 0.7468274831771851\n",
      "\n",
      "Someone in a gorilla costume is playing a set of drums. <> Someone in a gorilla costume is playing a set of drums. --> 1.0\n",
      "Someone in a gorilla costume is playing a set of drums. <> A monkey is playing drums. --> 0.7612734436988831\n",
      "Someone in a gorilla costume is playing a set of drums. <> The girl is carrying a baby. --> 0.3815288245677948\n",
      "\n",
      "A cheetah chases prey on across a field. <> A cheetah chases prey on across a field. --> 1.0000001192092896\n",
      "A cheetah chases prey on across a field. <> A cheetah is running behind its prey. --> 0.870399534702301\n",
      "A cheetah chases prey on across a field. <> A man is riding a white horse on an enclosed ground. --> 0.37411707639694214\n",
      "\n"
     ]
    }
   ],
   "source": [
    "for query,hit in zip(queries,top_hits): #iterate queries and hits together, total 3 search queries, top 3 corpus, so 3 vectors\n",
    "    for q_hit in hit:\n",
    "        id=q_hit['corpus_id']\n",
    "        score=q_hit['score']\n",
    "        \n",
    "        print(query,\"<>\",corpus[id],'-->',score)\n",
    "    \n",
    "    print()"
   ]
  }
 ],
 "metadata": {
  "kernelspec": {
   "display_name": "Python 3 (ipykernel)",
   "language": "python",
   "name": "python3"
  },
  "language_info": {
   "codemirror_mode": {
    "name": "ipython",
    "version": 3
   },
   "file_extension": ".py",
   "mimetype": "text/x-python",
   "name": "python",
   "nbconvert_exporter": "python",
   "pygments_lexer": "ipython3",
   "version": "3.11.3"
  }
 },
 "nbformat": 4,
 "nbformat_minor": 5
}
