{
 "cells": [
  {
   "cell_type": "markdown",
   "id": "2b1090c4",
   "metadata": {},
   "source": [
    "# K-Mean Clustering"
   ]
  },
  {
   "cell_type": "code",
   "execution_count": 1,
   "id": "5f677a50",
   "metadata": {},
   "outputs": [],
   "source": [
    "from sentence_transformers import SentenceTransformer"
   ]
  },
  {
   "cell_type": "code",
   "execution_count": 2,
   "id": "10431290",
   "metadata": {},
   "outputs": [],
   "source": [
    "from sklearn.cluster import KMeans"
   ]
  },
  {
   "cell_type": "code",
   "execution_count": 3,
   "id": "fc0f2dd6",
   "metadata": {},
   "outputs": [],
   "source": [
    "model=SentenceTransformer('all-MiniLM-L6-v2')"
   ]
  },
  {
   "cell_type": "code",
   "execution_count": 4,
   "id": "e0d8e0ed",
   "metadata": {},
   "outputs": [],
   "source": [
    "import requests"
   ]
  },
  {
   "cell_type": "code",
   "execution_count": 5,
   "id": "fd820ea1",
   "metadata": {},
   "outputs": [],
   "source": [
    "response=requests.get('https://raw.githubusercontent.com/laxmimerit/machine-learning-dataset/master/text-dataset-for-machine-learning/sbert-corpus.txt')"
   ]
  },
  {
   "cell_type": "code",
   "execution_count": 6,
   "id": "1da1da38",
   "metadata": {},
   "outputs": [],
   "source": [
    "corpus=response.text.split('\\r\\n')"
   ]
  },
  {
   "cell_type": "code",
   "execution_count": 7,
   "id": "cafef9af",
   "metadata": {},
   "outputs": [
    {
     "data": {
      "text/plain": [
       "['A man is eating food.',\n",
       " 'A man is eating a piece of bread.',\n",
       " 'A man is eating pasta.',\n",
       " 'The girl is carrying a baby.',\n",
       " 'The baby is carried by the woman',\n",
       " 'A man is riding a horse.',\n",
       " 'A man is riding a white horse on an enclosed ground.',\n",
       " 'A monkey is playing drums.',\n",
       " 'Someone in a gorilla costume is playing a set of drums.',\n",
       " 'A cheetah is running behind its prey.',\n",
       " 'A cheetah chases prey on across a field.']"
      ]
     },
     "execution_count": 7,
     "metadata": {},
     "output_type": "execute_result"
    }
   ],
   "source": [
    "corpus"
   ]
  },
  {
   "cell_type": "code",
   "execution_count": 8,
   "id": "105e8c1e",
   "metadata": {},
   "outputs": [
    {
     "data": {
      "text/plain": [
       "11"
      ]
     },
     "execution_count": 8,
     "metadata": {},
     "output_type": "execute_result"
    }
   ],
   "source": [
    "len(corpus)"
   ]
  },
  {
   "cell_type": "code",
   "execution_count": 9,
   "id": "062465a1",
   "metadata": {},
   "outputs": [],
   "source": [
    "#Applying K mean clustering on corpus data\n",
    "corpus_embeddings=model.encode(corpus)"
   ]
  },
  {
   "cell_type": "code",
   "execution_count": 10,
   "id": "e31913f7",
   "metadata": {},
   "outputs": [
    {
     "name": "stderr",
     "output_type": "stream",
     "text": [
      "C:\\Users\\mmanasanjani\\AppData\\Local\\anaconda3\\Lib\\site-packages\\sklearn\\cluster\\_kmeans.py:870: FutureWarning: The default value of `n_init` will change from 10 to 'auto' in 1.4. Set the value of `n_init` explicitly to suppress the warning\n",
      "  warnings.warn(\n",
      "C:\\Users\\mmanasanjani\\AppData\\Local\\anaconda3\\Lib\\site-packages\\sklearn\\cluster\\_kmeans.py:1382: UserWarning: KMeans is known to have a memory leak on Windows with MKL, when there are less chunks than available threads. You can avoid it by setting the environment variable OMP_NUM_THREADS=1.\n",
      "  warnings.warn(\n"
     ]
    }
   ],
   "source": [
    "num_clusters=5\n",
    "clustering_model=KMeans(n_clusters=num_clusters)\n",
    "clustering_model.fit(corpus_embeddings)\n",
    "cluster_assignment=clustering_model.labels_"
   ]
  },
  {
   "cell_type": "code",
   "execution_count": 11,
   "id": "c23b7a87",
   "metadata": {},
   "outputs": [
    {
     "data": {
      "text/plain": [
       "array([2, 2, 2, 0, 0, 3, 3, 4, 4, 1, 1])"
      ]
     },
     "execution_count": 11,
     "metadata": {},
     "output_type": "execute_result"
    }
   ],
   "source": [
    "cluster_assignment"
   ]
  },
  {
   "cell_type": "code",
   "execution_count": 12,
   "id": "b9f64f72",
   "metadata": {},
   "outputs": [],
   "source": [
    "clustered_sentences=[[]for i in range(num_clusters)]"
   ]
  },
  {
   "cell_type": "code",
   "execution_count": 13,
   "id": "6b10580e",
   "metadata": {},
   "outputs": [
    {
     "data": {
      "text/plain": [
       "[[], [], [], [], []]"
      ]
     },
     "execution_count": 13,
     "metadata": {},
     "output_type": "execute_result"
    }
   ],
   "source": [
    "clustered_sentences"
   ]
  },
  {
   "cell_type": "code",
   "execution_count": 14,
   "id": "06862086",
   "metadata": {},
   "outputs": [],
   "source": [
    "for sentence_id,cluster_id in enumerate(cluster_assignment): #enumerate--> to give sentence id\n",
    "    clustered_sentences[cluster_id].append(corpus[sentence_id])"
   ]
  },
  {
   "cell_type": "code",
   "execution_count": 15,
   "id": "f9ead5c1",
   "metadata": {},
   "outputs": [
    {
     "name": "stdout",
     "output_type": "stream",
     "text": [
      "Cluster: 1\n",
      "['The girl is carrying a baby.', 'The baby is carried by the woman']\n",
      "\n",
      "Cluster: 2\n",
      "['A cheetah is running behind its prey.', 'A cheetah chases prey on across a field.']\n",
      "\n",
      "Cluster: 3\n",
      "['A man is eating food.', 'A man is eating a piece of bread.', 'A man is eating pasta.']\n",
      "\n",
      "Cluster: 4\n",
      "['A man is riding a horse.', 'A man is riding a white horse on an enclosed ground.']\n",
      "\n",
      "Cluster: 5\n",
      "['A monkey is playing drums.', 'Someone in a gorilla costume is playing a set of drums.']\n",
      "\n"
     ]
    }
   ],
   "source": [
    "for i,cluster in enumerate(clustered_sentences):\n",
    "    print(\"Cluster:\",i+1)\n",
    "    print(cluster)\n",
    "    print()"
   ]
  },
  {
   "cell_type": "markdown",
   "id": "e85d1d02",
   "metadata": {},
   "source": [
    "# Text Clustering/Agglomeration Clustering on Text Data"
   ]
  },
  {
   "cell_type": "markdown",
   "id": "12939e90",
   "metadata": {},
   "source": [
    "- It is a type of hierarchical clustering. The hierarchical clustering analysis is a method of cluster analysis that seeks to build a hierarchy of clusters i.e. tree-type structure based on the hierarchy.\n",
    "- ![image.png](data:image/png;base64,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)\n",
    "- It is known as bottom-up approach or hierarchical agglomerative clustering (HAC)\n",
    "- In contrast to k-means, we can specify a threshold for the clustering.\n",
    "- It is useful if the number of clusters is unknown"
   ]
  },
  {
   "cell_type": "code",
   "execution_count": 16,
   "id": "86cfbdb2",
   "metadata": {},
   "outputs": [],
   "source": [
    "from sentence_transformers import SentenceTransformer\n",
    "from sklearn.cluster import AgglomerativeClustering\n",
    "import numpy as np"
   ]
  },
  {
   "cell_type": "code",
   "execution_count": 17,
   "id": "df04421c",
   "metadata": {},
   "outputs": [],
   "source": [
    "model=SentenceTransformer('all-MiniLM-L6-v2')"
   ]
  },
  {
   "cell_type": "code",
   "execution_count": 18,
   "id": "b92654ba",
   "metadata": {},
   "outputs": [],
   "source": [
    "import requests\n",
    "response = requests.get('https://raw.githubusercontent.com/laxmimerit/machine-learning-dataset/master/text-dataset-for-machine-learning/sbert-corpus.txt')\n",
    "corpus = response.text.split('\\r\\n')"
   ]
  },
  {
   "cell_type": "code",
   "execution_count": 19,
   "id": "3f1af47e",
   "metadata": {},
   "outputs": [
    {
     "data": {
      "text/plain": [
       "['A man is eating food.',\n",
       " 'A man is eating a piece of bread.',\n",
       " 'A man is eating pasta.',\n",
       " 'The girl is carrying a baby.',\n",
       " 'The baby is carried by the woman',\n",
       " 'A man is riding a horse.',\n",
       " 'A man is riding a white horse on an enclosed ground.',\n",
       " 'A monkey is playing drums.',\n",
       " 'Someone in a gorilla costume is playing a set of drums.',\n",
       " 'A cheetah is running behind its prey.',\n",
       " 'A cheetah chases prey on across a field.']"
      ]
     },
     "execution_count": 19,
     "metadata": {},
     "output_type": "execute_result"
    }
   ],
   "source": [
    "corpus"
   ]
  },
  {
   "cell_type": "code",
   "execution_count": 20,
   "id": "d687d5e8",
   "metadata": {},
   "outputs": [],
   "source": [
    "corpus_embeddings=model.encode(corpus)"
   ]
  },
  {
   "cell_type": "code",
   "execution_count": 21,
   "id": "e2c5f1f8",
   "metadata": {},
   "outputs": [],
   "source": [
    "#doing non-linearization\n",
    "corpus_embeddings=corpus_embeddings/np.linalg.norm(corpus_embeddings,axis=1,keepdims=True) #linear algorithm normalization, axis=1--> for each subset,keep dimensions same as earlier"
   ]
  },
  {
   "cell_type": "code",
   "execution_count": 22,
   "id": "3add9dcd",
   "metadata": {},
   "outputs": [
    {
     "data": {
      "text/html": [
       "<style>#sk-container-id-1 {color: black;background-color: white;}#sk-container-id-1 pre{padding: 0;}#sk-container-id-1 div.sk-toggleable {background-color: white;}#sk-container-id-1 label.sk-toggleable__label {cursor: pointer;display: block;width: 100%;margin-bottom: 0;padding: 0.3em;box-sizing: border-box;text-align: center;}#sk-container-id-1 label.sk-toggleable__label-arrow:before {content: \"▸\";float: left;margin-right: 0.25em;color: #696969;}#sk-container-id-1 label.sk-toggleable__label-arrow:hover:before {color: black;}#sk-container-id-1 div.sk-estimator:hover label.sk-toggleable__label-arrow:before {color: black;}#sk-container-id-1 div.sk-toggleable__content {max-height: 0;max-width: 0;overflow: hidden;text-align: left;background-color: #f0f8ff;}#sk-container-id-1 div.sk-toggleable__content pre {margin: 0.2em;color: black;border-radius: 0.25em;background-color: #f0f8ff;}#sk-container-id-1 input.sk-toggleable__control:checked~div.sk-toggleable__content {max-height: 200px;max-width: 100%;overflow: auto;}#sk-container-id-1 input.sk-toggleable__control:checked~label.sk-toggleable__label-arrow:before {content: \"▾\";}#sk-container-id-1 div.sk-estimator input.sk-toggleable__control:checked~label.sk-toggleable__label {background-color: #d4ebff;}#sk-container-id-1 div.sk-label input.sk-toggleable__control:checked~label.sk-toggleable__label {background-color: #d4ebff;}#sk-container-id-1 input.sk-hidden--visually {border: 0;clip: rect(1px 1px 1px 1px);clip: rect(1px, 1px, 1px, 1px);height: 1px;margin: -1px;overflow: hidden;padding: 0;position: absolute;width: 1px;}#sk-container-id-1 div.sk-estimator {font-family: monospace;background-color: #f0f8ff;border: 1px dotted black;border-radius: 0.25em;box-sizing: border-box;margin-bottom: 0.5em;}#sk-container-id-1 div.sk-estimator:hover {background-color: #d4ebff;}#sk-container-id-1 div.sk-parallel-item::after {content: \"\";width: 100%;border-bottom: 1px solid gray;flex-grow: 1;}#sk-container-id-1 div.sk-label:hover label.sk-toggleable__label {background-color: #d4ebff;}#sk-container-id-1 div.sk-serial::before {content: \"\";position: absolute;border-left: 1px solid gray;box-sizing: border-box;top: 0;bottom: 0;left: 50%;z-index: 0;}#sk-container-id-1 div.sk-serial {display: flex;flex-direction: column;align-items: center;background-color: white;padding-right: 0.2em;padding-left: 0.2em;position: relative;}#sk-container-id-1 div.sk-item {position: relative;z-index: 1;}#sk-container-id-1 div.sk-parallel {display: flex;align-items: stretch;justify-content: center;background-color: white;position: relative;}#sk-container-id-1 div.sk-item::before, #sk-container-id-1 div.sk-parallel-item::before {content: \"\";position: absolute;border-left: 1px solid gray;box-sizing: border-box;top: 0;bottom: 0;left: 50%;z-index: -1;}#sk-container-id-1 div.sk-parallel-item {display: flex;flex-direction: column;z-index: 1;position: relative;background-color: white;}#sk-container-id-1 div.sk-parallel-item:first-child::after {align-self: flex-end;width: 50%;}#sk-container-id-1 div.sk-parallel-item:last-child::after {align-self: flex-start;width: 50%;}#sk-container-id-1 div.sk-parallel-item:only-child::after {width: 0;}#sk-container-id-1 div.sk-dashed-wrapped {border: 1px dashed gray;margin: 0 0.4em 0.5em 0.4em;box-sizing: border-box;padding-bottom: 0.4em;background-color: white;}#sk-container-id-1 div.sk-label label {font-family: monospace;font-weight: bold;display: inline-block;line-height: 1.2em;}#sk-container-id-1 div.sk-label-container {text-align: center;}#sk-container-id-1 div.sk-container {/* jupyter's `normalize.less` sets `[hidden] { display: none; }` but bootstrap.min.css set `[hidden] { display: none !important; }` so we also need the `!important` here to be able to override the default hidden behavior on the sphinx rendered scikit-learn.org. See: https://github.com/scikit-learn/scikit-learn/issues/21755 */display: inline-block !important;position: relative;}#sk-container-id-1 div.sk-text-repr-fallback {display: none;}</style><div id=\"sk-container-id-1\" class=\"sk-top-container\"><div class=\"sk-text-repr-fallback\"><pre>AgglomerativeClustering(distance_threshold=1.5, n_clusters=None)</pre><b>In a Jupyter environment, please rerun this cell to show the HTML representation or trust the notebook. <br />On GitHub, the HTML representation is unable to render, please try loading this page with nbviewer.org.</b></div><div class=\"sk-container\" hidden><div class=\"sk-item\"><div class=\"sk-estimator sk-toggleable\"><input class=\"sk-toggleable__control sk-hidden--visually\" id=\"sk-estimator-id-1\" type=\"checkbox\" checked><label for=\"sk-estimator-id-1\" class=\"sk-toggleable__label sk-toggleable__label-arrow\">AgglomerativeClustering</label><div class=\"sk-toggleable__content\"><pre>AgglomerativeClustering(distance_threshold=1.5, n_clusters=None)</pre></div></div></div></div></div>"
      ],
      "text/plain": [
       "AgglomerativeClustering(distance_threshold=1.5, n_clusters=None)"
      ]
     },
     "execution_count": 22,
     "metadata": {},
     "output_type": "execute_result"
    }
   ],
   "source": [
    "clustering_model=AgglomerativeClustering(n_clusters=None,distance_threshold=1.5) #none-as its not known, number of clusters is none, euclidian affinity, can use other affinities like cosine similarity/manhattan distance\n",
    "clustering_model.fit(corpus_embeddings)"
   ]
  },
  {
   "cell_type": "code",
   "execution_count": 23,
   "id": "71354598",
   "metadata": {},
   "outputs": [],
   "source": [
    "cluster_assignment=clustering_model.labels_"
   ]
  },
  {
   "cell_type": "code",
   "execution_count": 24,
   "id": "39bf5ade",
   "metadata": {},
   "outputs": [
    {
     "data": {
      "text/plain": [
       "array([0, 0, 0, 4, 4, 1, 1, 2, 2, 3, 3], dtype=int64)"
      ]
     },
     "execution_count": 24,
     "metadata": {},
     "output_type": "execute_result"
    }
   ],
   "source": [
    "cluster_assignment"
   ]
  },
  {
   "cell_type": "code",
   "execution_count": 25,
   "id": "a01827d5",
   "metadata": {},
   "outputs": [],
   "source": [
    "#number of clusters should be unique values in the cluster assignment\n",
    "num_clusters=len(np.unique(cluster_assignment))"
   ]
  },
  {
   "cell_type": "code",
   "execution_count": 26,
   "id": "c5841624",
   "metadata": {},
   "outputs": [],
   "source": [
    "clustered_sentences=[[]for i in range(num_clusters)]"
   ]
  },
  {
   "cell_type": "code",
   "execution_count": 27,
   "id": "c7febeb5",
   "metadata": {},
   "outputs": [
    {
     "data": {
      "text/plain": [
       "[[], [], [], [], []]"
      ]
     },
     "execution_count": 27,
     "metadata": {},
     "output_type": "execute_result"
    }
   ],
   "source": [
    "clustered_sentences"
   ]
  },
  {
   "cell_type": "code",
   "execution_count": 28,
   "id": "d728bdb7",
   "metadata": {},
   "outputs": [],
   "source": [
    "for sentence_id,cluster_id in enumerate(cluster_assignment): #enumerate--> to give sentence id\n",
    "    clustered_sentences[cluster_id].append(corpus[sentence_id])"
   ]
  },
  {
   "cell_type": "code",
   "execution_count": 29,
   "id": "02ab3bee",
   "metadata": {},
   "outputs": [
    {
     "name": "stdout",
     "output_type": "stream",
     "text": [
      "Cluster: 1\n",
      "['A man is eating food.', 'A man is eating a piece of bread.', 'A man is eating pasta.']\n",
      "\n",
      "Cluster: 2\n",
      "['A man is riding a horse.', 'A man is riding a white horse on an enclosed ground.']\n",
      "\n",
      "Cluster: 3\n",
      "['A monkey is playing drums.', 'Someone in a gorilla costume is playing a set of drums.']\n",
      "\n",
      "Cluster: 4\n",
      "['A cheetah is running behind its prey.', 'A cheetah chases prey on across a field.']\n",
      "\n",
      "Cluster: 5\n",
      "['The girl is carrying a baby.', 'The baby is carried by the woman']\n",
      "\n"
     ]
    }
   ],
   "source": [
    "for i,cluster in enumerate(clustered_sentences):\n",
    "    print(\"Cluster:\",i+1)\n",
    "    print(cluster)\n",
    "    print()"
   ]
  },
  {
   "cell_type": "code",
   "execution_count": 30,
   "id": "cfd2ee54",
   "metadata": {},
   "outputs": [
    {
     "data": {
      "text/html": [
       "<style>#sk-container-id-2 {color: black;background-color: white;}#sk-container-id-2 pre{padding: 0;}#sk-container-id-2 div.sk-toggleable {background-color: white;}#sk-container-id-2 label.sk-toggleable__label {cursor: pointer;display: block;width: 100%;margin-bottom: 0;padding: 0.3em;box-sizing: border-box;text-align: center;}#sk-container-id-2 label.sk-toggleable__label-arrow:before {content: \"▸\";float: left;margin-right: 0.25em;color: #696969;}#sk-container-id-2 label.sk-toggleable__label-arrow:hover:before {color: black;}#sk-container-id-2 div.sk-estimator:hover label.sk-toggleable__label-arrow:before {color: black;}#sk-container-id-2 div.sk-toggleable__content {max-height: 0;max-width: 0;overflow: hidden;text-align: left;background-color: #f0f8ff;}#sk-container-id-2 div.sk-toggleable__content pre {margin: 0.2em;color: black;border-radius: 0.25em;background-color: #f0f8ff;}#sk-container-id-2 input.sk-toggleable__control:checked~div.sk-toggleable__content {max-height: 200px;max-width: 100%;overflow: auto;}#sk-container-id-2 input.sk-toggleable__control:checked~label.sk-toggleable__label-arrow:before {content: \"▾\";}#sk-container-id-2 div.sk-estimator input.sk-toggleable__control:checked~label.sk-toggleable__label {background-color: #d4ebff;}#sk-container-id-2 div.sk-label input.sk-toggleable__control:checked~label.sk-toggleable__label {background-color: #d4ebff;}#sk-container-id-2 input.sk-hidden--visually {border: 0;clip: rect(1px 1px 1px 1px);clip: rect(1px, 1px, 1px, 1px);height: 1px;margin: -1px;overflow: hidden;padding: 0;position: absolute;width: 1px;}#sk-container-id-2 div.sk-estimator {font-family: monospace;background-color: #f0f8ff;border: 1px dotted black;border-radius: 0.25em;box-sizing: border-box;margin-bottom: 0.5em;}#sk-container-id-2 div.sk-estimator:hover {background-color: #d4ebff;}#sk-container-id-2 div.sk-parallel-item::after {content: \"\";width: 100%;border-bottom: 1px solid gray;flex-grow: 1;}#sk-container-id-2 div.sk-label:hover label.sk-toggleable__label {background-color: #d4ebff;}#sk-container-id-2 div.sk-serial::before {content: \"\";position: absolute;border-left: 1px solid gray;box-sizing: border-box;top: 0;bottom: 0;left: 50%;z-index: 0;}#sk-container-id-2 div.sk-serial {display: flex;flex-direction: column;align-items: center;background-color: white;padding-right: 0.2em;padding-left: 0.2em;position: relative;}#sk-container-id-2 div.sk-item {position: relative;z-index: 1;}#sk-container-id-2 div.sk-parallel {display: flex;align-items: stretch;justify-content: center;background-color: white;position: relative;}#sk-container-id-2 div.sk-item::before, #sk-container-id-2 div.sk-parallel-item::before {content: \"\";position: absolute;border-left: 1px solid gray;box-sizing: border-box;top: 0;bottom: 0;left: 50%;z-index: -1;}#sk-container-id-2 div.sk-parallel-item {display: flex;flex-direction: column;z-index: 1;position: relative;background-color: white;}#sk-container-id-2 div.sk-parallel-item:first-child::after {align-self: flex-end;width: 50%;}#sk-container-id-2 div.sk-parallel-item:last-child::after {align-self: flex-start;width: 50%;}#sk-container-id-2 div.sk-parallel-item:only-child::after {width: 0;}#sk-container-id-2 div.sk-dashed-wrapped {border: 1px dashed gray;margin: 0 0.4em 0.5em 0.4em;box-sizing: border-box;padding-bottom: 0.4em;background-color: white;}#sk-container-id-2 div.sk-label label {font-family: monospace;font-weight: bold;display: inline-block;line-height: 1.2em;}#sk-container-id-2 div.sk-label-container {text-align: center;}#sk-container-id-2 div.sk-container {/* jupyter's `normalize.less` sets `[hidden] { display: none; }` but bootstrap.min.css set `[hidden] { display: none !important; }` so we also need the `!important` here to be able to override the default hidden behavior on the sphinx rendered scikit-learn.org. See: https://github.com/scikit-learn/scikit-learn/issues/21755 */display: inline-block !important;position: relative;}#sk-container-id-2 div.sk-text-repr-fallback {display: none;}</style><div id=\"sk-container-id-2\" class=\"sk-top-container\"><div class=\"sk-text-repr-fallback\"><pre>AgglomerativeClustering(distance_threshold=0.1, n_clusters=None)</pre><b>In a Jupyter environment, please rerun this cell to show the HTML representation or trust the notebook. <br />On GitHub, the HTML representation is unable to render, please try loading this page with nbviewer.org.</b></div><div class=\"sk-container\" hidden><div class=\"sk-item\"><div class=\"sk-estimator sk-toggleable\"><input class=\"sk-toggleable__control sk-hidden--visually\" id=\"sk-estimator-id-2\" type=\"checkbox\" checked><label for=\"sk-estimator-id-2\" class=\"sk-toggleable__label sk-toggleable__label-arrow\">AgglomerativeClustering</label><div class=\"sk-toggleable__content\"><pre>AgglomerativeClustering(distance_threshold=0.1, n_clusters=None)</pre></div></div></div></div></div>"
      ],
      "text/plain": [
       "AgglomerativeClustering(distance_threshold=0.1, n_clusters=None)"
      ]
     },
     "execution_count": 30,
     "metadata": {},
     "output_type": "execute_result"
    }
   ],
   "source": [
    "#updating distance threshold to minimum value\n",
    "clustering_model=AgglomerativeClustering(n_clusters=None,distance_threshold=0.1)\n",
    "clustering_model.fit(corpus_embeddings)"
   ]
  },
  {
   "cell_type": "code",
   "execution_count": 31,
   "id": "7060db82",
   "metadata": {},
   "outputs": [],
   "source": [
    "cluster_assignment=clustering_model.labels_"
   ]
  },
  {
   "cell_type": "code",
   "execution_count": 32,
   "id": "77f14770",
   "metadata": {},
   "outputs": [
    {
     "data": {
      "text/plain": [
       "array([ 8,  7,  5,  9, 10,  3,  6,  2,  4,  1,  0], dtype=int64)"
      ]
     },
     "execution_count": 32,
     "metadata": {},
     "output_type": "execute_result"
    }
   ],
   "source": [
    "cluster_assignment"
   ]
  },
  {
   "cell_type": "code",
   "execution_count": 33,
   "id": "7d5de47e",
   "metadata": {},
   "outputs": [],
   "source": [
    "#number of clusters should be unique values in the cluster assignment\n",
    "num_clusters=len(np.unique(cluster_assignment))"
   ]
  },
  {
   "cell_type": "code",
   "execution_count": 34,
   "id": "5fc03cd4",
   "metadata": {},
   "outputs": [],
   "source": [
    "clustered_sentences=[[]for i in range(num_clusters)]"
   ]
  },
  {
   "cell_type": "code",
   "execution_count": 35,
   "id": "23104ce7",
   "metadata": {},
   "outputs": [
    {
     "data": {
      "text/plain": [
       "[[], [], [], [], [], [], [], [], [], [], []]"
      ]
     },
     "execution_count": 35,
     "metadata": {},
     "output_type": "execute_result"
    }
   ],
   "source": [
    "clustered_sentences"
   ]
  },
  {
   "cell_type": "code",
   "execution_count": 36,
   "id": "15a6209a",
   "metadata": {},
   "outputs": [],
   "source": [
    "for sentence_id,cluster_id in enumerate(cluster_assignment): #enumerate--> to give sentence id\n",
    "    clustered_sentences[cluster_id].append(corpus[sentence_id])"
   ]
  },
  {
   "cell_type": "code",
   "execution_count": 37,
   "id": "19aaf332",
   "metadata": {},
   "outputs": [
    {
     "name": "stdout",
     "output_type": "stream",
     "text": [
      "Cluster: 1\n",
      "['A cheetah chases prey on across a field.']\n",
      "\n",
      "Cluster: 2\n",
      "['A cheetah is running behind its prey.']\n",
      "\n",
      "Cluster: 3\n",
      "['A monkey is playing drums.']\n",
      "\n",
      "Cluster: 4\n",
      "['A man is riding a horse.']\n",
      "\n",
      "Cluster: 5\n",
      "['Someone in a gorilla costume is playing a set of drums.']\n",
      "\n",
      "Cluster: 6\n",
      "['A man is eating pasta.']\n",
      "\n",
      "Cluster: 7\n",
      "['A man is riding a white horse on an enclosed ground.']\n",
      "\n",
      "Cluster: 8\n",
      "['A man is eating a piece of bread.']\n",
      "\n",
      "Cluster: 9\n",
      "['A man is eating food.']\n",
      "\n",
      "Cluster: 10\n",
      "['The girl is carrying a baby.']\n",
      "\n",
      "Cluster: 11\n",
      "['The baby is carried by the woman']\n",
      "\n"
     ]
    }
   ],
   "source": [
    "for i,cluster in enumerate(clustered_sentences):\n",
    "    print(\"Cluster:\",i+1)\n",
    "    print(cluster)\n",
    "    print()"
   ]
  },
  {
   "cell_type": "code",
   "execution_count": 38,
   "id": "7a26c0df",
   "metadata": {},
   "outputs": [
    {
     "data": {
      "text/html": [
       "<style>#sk-container-id-3 {color: black;background-color: white;}#sk-container-id-3 pre{padding: 0;}#sk-container-id-3 div.sk-toggleable {background-color: white;}#sk-container-id-3 label.sk-toggleable__label {cursor: pointer;display: block;width: 100%;margin-bottom: 0;padding: 0.3em;box-sizing: border-box;text-align: center;}#sk-container-id-3 label.sk-toggleable__label-arrow:before {content: \"▸\";float: left;margin-right: 0.25em;color: #696969;}#sk-container-id-3 label.sk-toggleable__label-arrow:hover:before {color: black;}#sk-container-id-3 div.sk-estimator:hover label.sk-toggleable__label-arrow:before {color: black;}#sk-container-id-3 div.sk-toggleable__content {max-height: 0;max-width: 0;overflow: hidden;text-align: left;background-color: #f0f8ff;}#sk-container-id-3 div.sk-toggleable__content pre {margin: 0.2em;color: black;border-radius: 0.25em;background-color: #f0f8ff;}#sk-container-id-3 input.sk-toggleable__control:checked~div.sk-toggleable__content {max-height: 200px;max-width: 100%;overflow: auto;}#sk-container-id-3 input.sk-toggleable__control:checked~label.sk-toggleable__label-arrow:before {content: \"▾\";}#sk-container-id-3 div.sk-estimator input.sk-toggleable__control:checked~label.sk-toggleable__label {background-color: #d4ebff;}#sk-container-id-3 div.sk-label input.sk-toggleable__control:checked~label.sk-toggleable__label {background-color: #d4ebff;}#sk-container-id-3 input.sk-hidden--visually {border: 0;clip: rect(1px 1px 1px 1px);clip: rect(1px, 1px, 1px, 1px);height: 1px;margin: -1px;overflow: hidden;padding: 0;position: absolute;width: 1px;}#sk-container-id-3 div.sk-estimator {font-family: monospace;background-color: #f0f8ff;border: 1px dotted black;border-radius: 0.25em;box-sizing: border-box;margin-bottom: 0.5em;}#sk-container-id-3 div.sk-estimator:hover {background-color: #d4ebff;}#sk-container-id-3 div.sk-parallel-item::after {content: \"\";width: 100%;border-bottom: 1px solid gray;flex-grow: 1;}#sk-container-id-3 div.sk-label:hover label.sk-toggleable__label {background-color: #d4ebff;}#sk-container-id-3 div.sk-serial::before {content: \"\";position: absolute;border-left: 1px solid gray;box-sizing: border-box;top: 0;bottom: 0;left: 50%;z-index: 0;}#sk-container-id-3 div.sk-serial {display: flex;flex-direction: column;align-items: center;background-color: white;padding-right: 0.2em;padding-left: 0.2em;position: relative;}#sk-container-id-3 div.sk-item {position: relative;z-index: 1;}#sk-container-id-3 div.sk-parallel {display: flex;align-items: stretch;justify-content: center;background-color: white;position: relative;}#sk-container-id-3 div.sk-item::before, #sk-container-id-3 div.sk-parallel-item::before {content: \"\";position: absolute;border-left: 1px solid gray;box-sizing: border-box;top: 0;bottom: 0;left: 50%;z-index: -1;}#sk-container-id-3 div.sk-parallel-item {display: flex;flex-direction: column;z-index: 1;position: relative;background-color: white;}#sk-container-id-3 div.sk-parallel-item:first-child::after {align-self: flex-end;width: 50%;}#sk-container-id-3 div.sk-parallel-item:last-child::after {align-self: flex-start;width: 50%;}#sk-container-id-3 div.sk-parallel-item:only-child::after {width: 0;}#sk-container-id-3 div.sk-dashed-wrapped {border: 1px dashed gray;margin: 0 0.4em 0.5em 0.4em;box-sizing: border-box;padding-bottom: 0.4em;background-color: white;}#sk-container-id-3 div.sk-label label {font-family: monospace;font-weight: bold;display: inline-block;line-height: 1.2em;}#sk-container-id-3 div.sk-label-container {text-align: center;}#sk-container-id-3 div.sk-container {/* jupyter's `normalize.less` sets `[hidden] { display: none; }` but bootstrap.min.css set `[hidden] { display: none !important; }` so we also need the `!important` here to be able to override the default hidden behavior on the sphinx rendered scikit-learn.org. See: https://github.com/scikit-learn/scikit-learn/issues/21755 */display: inline-block !important;position: relative;}#sk-container-id-3 div.sk-text-repr-fallback {display: none;}</style><div id=\"sk-container-id-3\" class=\"sk-top-container\"><div class=\"sk-text-repr-fallback\"><pre>AgglomerativeClustering(distance_threshold=2.5, n_clusters=None)</pre><b>In a Jupyter environment, please rerun this cell to show the HTML representation or trust the notebook. <br />On GitHub, the HTML representation is unable to render, please try loading this page with nbviewer.org.</b></div><div class=\"sk-container\" hidden><div class=\"sk-item\"><div class=\"sk-estimator sk-toggleable\"><input class=\"sk-toggleable__control sk-hidden--visually\" id=\"sk-estimator-id-3\" type=\"checkbox\" checked><label for=\"sk-estimator-id-3\" class=\"sk-toggleable__label sk-toggleable__label-arrow\">AgglomerativeClustering</label><div class=\"sk-toggleable__content\"><pre>AgglomerativeClustering(distance_threshold=2.5, n_clusters=None)</pre></div></div></div></div></div>"
      ],
      "text/plain": [
       "AgglomerativeClustering(distance_threshold=2.5, n_clusters=None)"
      ]
     },
     "execution_count": 38,
     "metadata": {},
     "output_type": "execute_result"
    }
   ],
   "source": [
    "#updating distance threshold to 2.5 value\n",
    "clustering_model=AgglomerativeClustering(n_clusters=None,distance_threshold=2.5)\n",
    "clustering_model.fit(corpus_embeddings)"
   ]
  },
  {
   "cell_type": "code",
   "execution_count": 39,
   "id": "3707bf2c",
   "metadata": {},
   "outputs": [],
   "source": [
    "cluster_assignment=clustering_model.labels_"
   ]
  },
  {
   "cell_type": "code",
   "execution_count": 40,
   "id": "8371305f",
   "metadata": {},
   "outputs": [
    {
     "data": {
      "text/plain": [
       "array([0, 0, 0, 0, 0, 0, 0, 0, 0, 0, 0], dtype=int64)"
      ]
     },
     "execution_count": 40,
     "metadata": {},
     "output_type": "execute_result"
    }
   ],
   "source": [
    "cluster_assignment"
   ]
  },
  {
   "cell_type": "code",
   "execution_count": 41,
   "id": "92cf5a05",
   "metadata": {},
   "outputs": [],
   "source": [
    "#number of clusters should be unique values in the cluster assignment\n",
    "num_clusters=len(np.unique(cluster_assignment))"
   ]
  },
  {
   "cell_type": "code",
   "execution_count": 42,
   "id": "aaf8acca",
   "metadata": {},
   "outputs": [],
   "source": [
    "clustered_sentences=[[]for i in range(num_clusters)]"
   ]
  },
  {
   "cell_type": "code",
   "execution_count": 43,
   "id": "041fa200",
   "metadata": {},
   "outputs": [
    {
     "data": {
      "text/plain": [
       "[[]]"
      ]
     },
     "execution_count": 43,
     "metadata": {},
     "output_type": "execute_result"
    }
   ],
   "source": [
    "clustered_sentences"
   ]
  },
  {
   "cell_type": "code",
   "execution_count": 44,
   "id": "20b9fe85",
   "metadata": {},
   "outputs": [],
   "source": [
    "for sentence_id,cluster_id in enumerate(cluster_assignment): #enumerate--> to give sentence id\n",
    "    clustered_sentences[cluster_id].append(corpus[sentence_id])"
   ]
  },
  {
   "cell_type": "code",
   "execution_count": 45,
   "id": "3f16d8c4",
   "metadata": {},
   "outputs": [
    {
     "name": "stdout",
     "output_type": "stream",
     "text": [
      "Cluster: 1\n",
      "['A man is eating food.', 'A man is eating a piece of bread.', 'A man is eating pasta.', 'The girl is carrying a baby.', 'The baby is carried by the woman', 'A man is riding a horse.', 'A man is riding a white horse on an enclosed ground.', 'A monkey is playing drums.', 'Someone in a gorilla costume is playing a set of drums.', 'A cheetah is running behind its prey.', 'A cheetah chases prey on across a field.']\n",
      "\n"
     ]
    }
   ],
   "source": [
    "for i,cluster in enumerate(clustered_sentences):\n",
    "    print(\"Cluster:\",i+1)\n",
    "    print(cluster)\n",
    "    print()"
   ]
  },
  {
   "cell_type": "code",
   "execution_count": 46,
   "id": "c939b149",
   "metadata": {},
   "outputs": [
    {
     "data": {
      "text/html": [
       "<style>#sk-container-id-4 {color: black;background-color: white;}#sk-container-id-4 pre{padding: 0;}#sk-container-id-4 div.sk-toggleable {background-color: white;}#sk-container-id-4 label.sk-toggleable__label {cursor: pointer;display: block;width: 100%;margin-bottom: 0;padding: 0.3em;box-sizing: border-box;text-align: center;}#sk-container-id-4 label.sk-toggleable__label-arrow:before {content: \"▸\";float: left;margin-right: 0.25em;color: #696969;}#sk-container-id-4 label.sk-toggleable__label-arrow:hover:before {color: black;}#sk-container-id-4 div.sk-estimator:hover label.sk-toggleable__label-arrow:before {color: black;}#sk-container-id-4 div.sk-toggleable__content {max-height: 0;max-width: 0;overflow: hidden;text-align: left;background-color: #f0f8ff;}#sk-container-id-4 div.sk-toggleable__content pre {margin: 0.2em;color: black;border-radius: 0.25em;background-color: #f0f8ff;}#sk-container-id-4 input.sk-toggleable__control:checked~div.sk-toggleable__content {max-height: 200px;max-width: 100%;overflow: auto;}#sk-container-id-4 input.sk-toggleable__control:checked~label.sk-toggleable__label-arrow:before {content: \"▾\";}#sk-container-id-4 div.sk-estimator input.sk-toggleable__control:checked~label.sk-toggleable__label {background-color: #d4ebff;}#sk-container-id-4 div.sk-label input.sk-toggleable__control:checked~label.sk-toggleable__label {background-color: #d4ebff;}#sk-container-id-4 input.sk-hidden--visually {border: 0;clip: rect(1px 1px 1px 1px);clip: rect(1px, 1px, 1px, 1px);height: 1px;margin: -1px;overflow: hidden;padding: 0;position: absolute;width: 1px;}#sk-container-id-4 div.sk-estimator {font-family: monospace;background-color: #f0f8ff;border: 1px dotted black;border-radius: 0.25em;box-sizing: border-box;margin-bottom: 0.5em;}#sk-container-id-4 div.sk-estimator:hover {background-color: #d4ebff;}#sk-container-id-4 div.sk-parallel-item::after {content: \"\";width: 100%;border-bottom: 1px solid gray;flex-grow: 1;}#sk-container-id-4 div.sk-label:hover label.sk-toggleable__label {background-color: #d4ebff;}#sk-container-id-4 div.sk-serial::before {content: \"\";position: absolute;border-left: 1px solid gray;box-sizing: border-box;top: 0;bottom: 0;left: 50%;z-index: 0;}#sk-container-id-4 div.sk-serial {display: flex;flex-direction: column;align-items: center;background-color: white;padding-right: 0.2em;padding-left: 0.2em;position: relative;}#sk-container-id-4 div.sk-item {position: relative;z-index: 1;}#sk-container-id-4 div.sk-parallel {display: flex;align-items: stretch;justify-content: center;background-color: white;position: relative;}#sk-container-id-4 div.sk-item::before, #sk-container-id-4 div.sk-parallel-item::before {content: \"\";position: absolute;border-left: 1px solid gray;box-sizing: border-box;top: 0;bottom: 0;left: 50%;z-index: -1;}#sk-container-id-4 div.sk-parallel-item {display: flex;flex-direction: column;z-index: 1;position: relative;background-color: white;}#sk-container-id-4 div.sk-parallel-item:first-child::after {align-self: flex-end;width: 50%;}#sk-container-id-4 div.sk-parallel-item:last-child::after {align-self: flex-start;width: 50%;}#sk-container-id-4 div.sk-parallel-item:only-child::after {width: 0;}#sk-container-id-4 div.sk-dashed-wrapped {border: 1px dashed gray;margin: 0 0.4em 0.5em 0.4em;box-sizing: border-box;padding-bottom: 0.4em;background-color: white;}#sk-container-id-4 div.sk-label label {font-family: monospace;font-weight: bold;display: inline-block;line-height: 1.2em;}#sk-container-id-4 div.sk-label-container {text-align: center;}#sk-container-id-4 div.sk-container {/* jupyter's `normalize.less` sets `[hidden] { display: none; }` but bootstrap.min.css set `[hidden] { display: none !important; }` so we also need the `!important` here to be able to override the default hidden behavior on the sphinx rendered scikit-learn.org. See: https://github.com/scikit-learn/scikit-learn/issues/21755 */display: inline-block !important;position: relative;}#sk-container-id-4 div.sk-text-repr-fallback {display: none;}</style><div id=\"sk-container-id-4\" class=\"sk-top-container\"><div class=\"sk-text-repr-fallback\"><pre>AgglomerativeClustering(distance_threshold=2, n_clusters=None)</pre><b>In a Jupyter environment, please rerun this cell to show the HTML representation or trust the notebook. <br />On GitHub, the HTML representation is unable to render, please try loading this page with nbviewer.org.</b></div><div class=\"sk-container\" hidden><div class=\"sk-item\"><div class=\"sk-estimator sk-toggleable\"><input class=\"sk-toggleable__control sk-hidden--visually\" id=\"sk-estimator-id-4\" type=\"checkbox\" checked><label for=\"sk-estimator-id-4\" class=\"sk-toggleable__label sk-toggleable__label-arrow\">AgglomerativeClustering</label><div class=\"sk-toggleable__content\"><pre>AgglomerativeClustering(distance_threshold=2, n_clusters=None)</pre></div></div></div></div></div>"
      ],
      "text/plain": [
       "AgglomerativeClustering(distance_threshold=2, n_clusters=None)"
      ]
     },
     "execution_count": 46,
     "metadata": {},
     "output_type": "execute_result"
    }
   ],
   "source": [
    "#updating distance threshold to 2 value\n",
    "clustering_model=AgglomerativeClustering(n_clusters=None,distance_threshold=2)\n",
    "clustering_model.fit(corpus_embeddings)"
   ]
  },
  {
   "cell_type": "code",
   "execution_count": 47,
   "id": "079d5303",
   "metadata": {},
   "outputs": [],
   "source": [
    "cluster_assignment=clustering_model.labels_"
   ]
  },
  {
   "cell_type": "code",
   "execution_count": 48,
   "id": "d56b84c1",
   "metadata": {},
   "outputs": [
    {
     "data": {
      "text/plain": [
       "array([0, 0, 0, 1, 1, 0, 0, 0, 0, 0, 0], dtype=int64)"
      ]
     },
     "execution_count": 48,
     "metadata": {},
     "output_type": "execute_result"
    }
   ],
   "source": [
    "cluster_assignment"
   ]
  },
  {
   "cell_type": "code",
   "execution_count": 49,
   "id": "d38ec95d",
   "metadata": {},
   "outputs": [],
   "source": [
    "#number of clusters should be unique values in the cluster assignment\n",
    "num_clusters=len(np.unique(cluster_assignment))"
   ]
  },
  {
   "cell_type": "code",
   "execution_count": 50,
   "id": "adbfe46a",
   "metadata": {},
   "outputs": [],
   "source": [
    "clustered_sentences=[[]for i in range(num_clusters)]"
   ]
  },
  {
   "cell_type": "code",
   "execution_count": 51,
   "id": "4df3b03b",
   "metadata": {},
   "outputs": [
    {
     "data": {
      "text/plain": [
       "[[], []]"
      ]
     },
     "execution_count": 51,
     "metadata": {},
     "output_type": "execute_result"
    }
   ],
   "source": [
    "clustered_sentences"
   ]
  },
  {
   "cell_type": "code",
   "execution_count": 52,
   "id": "d4567c4c",
   "metadata": {},
   "outputs": [],
   "source": [
    "for sentence_id,cluster_id in enumerate(cluster_assignment): #enumerate--> to give sentence id\n",
    "    clustered_sentences[cluster_id].append(corpus[sentence_id])"
   ]
  },
  {
   "cell_type": "code",
   "execution_count": 53,
   "id": "d470ed53",
   "metadata": {},
   "outputs": [
    {
     "name": "stdout",
     "output_type": "stream",
     "text": [
      "Cluster: 1\n",
      "['A man is eating food.', 'A man is eating a piece of bread.', 'A man is eating pasta.', 'A man is riding a horse.', 'A man is riding a white horse on an enclosed ground.', 'A monkey is playing drums.', 'Someone in a gorilla costume is playing a set of drums.', 'A cheetah is running behind its prey.', 'A cheetah chases prey on across a field.']\n",
      "\n",
      "Cluster: 2\n",
      "['The girl is carrying a baby.', 'The baby is carried by the woman']\n",
      "\n"
     ]
    }
   ],
   "source": [
    "for i,cluster in enumerate(clustered_sentences):\n",
    "    print(\"Cluster:\",i+1)\n",
    "    print(cluster)\n",
    "    print()"
   ]
  },
  {
   "cell_type": "markdown",
   "id": "e56e6b5c",
   "metadata": {},
   "source": [
    "# Fast Clustering"
   ]
  },
  {
   "cell_type": "markdown",
   "id": "e938c283",
   "metadata": {},
   "source": [
    "- Agglomerative: only for few datasets\n",
    "- Fast: 50,000 datasets in few seconds\n",
    "- Quora duplicate questions dataset will be used: https://quoradata.quora.com/First-Quora-Dataset-Release-Question-Pairs"
   ]
  },
  {
   "cell_type": "code",
   "execution_count": 54,
   "id": "200e278b",
   "metadata": {},
   "outputs": [],
   "source": [
    "from sentence_transformers import SentenceTransformer,util"
   ]
  },
  {
   "cell_type": "code",
   "execution_count": 55,
   "id": "f1135999",
   "metadata": {},
   "outputs": [],
   "source": [
    "import pandas as pd\n",
    "import time"
   ]
  },
  {
   "cell_type": "code",
   "execution_count": 56,
   "id": "05ee3f5f",
   "metadata": {},
   "outputs": [],
   "source": [
    "model=SentenceTransformer('all-MiniLM-L6-v2')"
   ]
  },
  {
   "cell_type": "code",
   "execution_count": 63,
   "id": "a9b24f21",
   "metadata": {},
   "outputs": [
    {
     "data": {
      "text/plain": [
       "(404290, 6)"
      ]
     },
     "execution_count": 63,
     "metadata": {},
     "output_type": "execute_result"
    }
   ],
   "source": [
    "#df = pd.read_csv('http://qim.fs.quoracdn.net/quora_duplicate_questions.tsv', sep='\\t')\n",
    "#getting 403 forbidden error in above code, so downloaded, accessing it\n",
    "df = pd.read_csv(r'C:\\Users\\mmanasanjani\\Desktop\\Extra\\MK\\AMLDLP\\quora_duplicate_questions.tsv', sep='\\t')\n",
    "df.shape"
   ]
  },
  {
   "cell_type": "code",
   "execution_count": 64,
   "id": "83117fcb",
   "metadata": {},
   "outputs": [
    {
     "data": {
      "text/plain": [
       "<bound method NDFrame.head of             id    qid1    qid2  \\\n",
       "0            0       1       2   \n",
       "1            1       3       4   \n",
       "2            2       5       6   \n",
       "3            3       7       8   \n",
       "4            4       9      10   \n",
       "...        ...     ...     ...   \n",
       "404285  404285  433578  379845   \n",
       "404286  404286   18840  155606   \n",
       "404287  404287  537928  537929   \n",
       "404288  404288  537930  537931   \n",
       "404289  404289  537932  537933   \n",
       "\n",
       "                                                question1  \\\n",
       "0       What is the step by step guide to invest in sh...   \n",
       "1       What is the story of Kohinoor (Koh-i-Noor) Dia...   \n",
       "2       How can I increase the speed of my internet co...   \n",
       "3       Why am I mentally very lonely? How can I solve...   \n",
       "4       Which one dissolve in water quikly sugar, salt...   \n",
       "...                                                   ...   \n",
       "404285  How many keywords are there in the Racket prog...   \n",
       "404286          Do you believe there is life after death?   \n",
       "404287                                  What is one coin?   \n",
       "404288  What is the approx annual cost of living while...   \n",
       "404289              What is like to have sex with cousin?   \n",
       "\n",
       "                                                question2  is_duplicate  \n",
       "0       What is the step by step guide to invest in sh...             0  \n",
       "1       What would happen if the Indian government sto...             0  \n",
       "2       How can Internet speed be increased by hacking...             0  \n",
       "3       Find the remainder when [math]23^{24}[/math] i...             0  \n",
       "4                 Which fish would survive in salt water?             0  \n",
       "...                                                   ...           ...  \n",
       "404285  How many keywords are there in PERL Programmin...             0  \n",
       "404286         Is it true that there is life after death?             1  \n",
       "404287                                  What's this coin?             0  \n",
       "404288  I am having little hairfall problem but I want...             0  \n",
       "404289      What is it like to have sex with your cousin?             0  \n",
       "\n",
       "[404290 rows x 6 columns]>"
      ]
     },
     "execution_count": 64,
     "metadata": {},
     "output_type": "execute_result"
    }
   ],
   "source": [
    "df.head"
   ]
  },
  {
   "cell_type": "code",
   "execution_count": 65,
   "id": "a9095521",
   "metadata": {},
   "outputs": [
    {
     "data": {
      "text/html": [
       "<div>\n",
       "<style scoped>\n",
       "    .dataframe tbody tr th:only-of-type {\n",
       "        vertical-align: middle;\n",
       "    }\n",
       "\n",
       "    .dataframe tbody tr th {\n",
       "        vertical-align: top;\n",
       "    }\n",
       "\n",
       "    .dataframe thead th {\n",
       "        text-align: right;\n",
       "    }\n",
       "</style>\n",
       "<table border=\"1\" class=\"dataframe\">\n",
       "  <thead>\n",
       "    <tr style=\"text-align: right;\">\n",
       "      <th></th>\n",
       "      <th>id</th>\n",
       "      <th>qid1</th>\n",
       "      <th>qid2</th>\n",
       "      <th>question1</th>\n",
       "      <th>question2</th>\n",
       "      <th>is_duplicate</th>\n",
       "    </tr>\n",
       "  </thead>\n",
       "  <tbody>\n",
       "    <tr>\n",
       "      <th>0</th>\n",
       "      <td>0</td>\n",
       "      <td>1</td>\n",
       "      <td>2</td>\n",
       "      <td>What is the step by step guide to invest in sh...</td>\n",
       "      <td>What is the step by step guide to invest in sh...</td>\n",
       "      <td>0</td>\n",
       "    </tr>\n",
       "    <tr>\n",
       "      <th>1</th>\n",
       "      <td>1</td>\n",
       "      <td>3</td>\n",
       "      <td>4</td>\n",
       "      <td>What is the story of Kohinoor (Koh-i-Noor) Dia...</td>\n",
       "      <td>What would happen if the Indian government sto...</td>\n",
       "      <td>0</td>\n",
       "    </tr>\n",
       "    <tr>\n",
       "      <th>2</th>\n",
       "      <td>2</td>\n",
       "      <td>5</td>\n",
       "      <td>6</td>\n",
       "      <td>How can I increase the speed of my internet co...</td>\n",
       "      <td>How can Internet speed be increased by hacking...</td>\n",
       "      <td>0</td>\n",
       "    </tr>\n",
       "    <tr>\n",
       "      <th>3</th>\n",
       "      <td>3</td>\n",
       "      <td>7</td>\n",
       "      <td>8</td>\n",
       "      <td>Why am I mentally very lonely? How can I solve...</td>\n",
       "      <td>Find the remainder when [math]23^{24}[/math] i...</td>\n",
       "      <td>0</td>\n",
       "    </tr>\n",
       "    <tr>\n",
       "      <th>4</th>\n",
       "      <td>4</td>\n",
       "      <td>9</td>\n",
       "      <td>10</td>\n",
       "      <td>Which one dissolve in water quikly sugar, salt...</td>\n",
       "      <td>Which fish would survive in salt water?</td>\n",
       "      <td>0</td>\n",
       "    </tr>\n",
       "  </tbody>\n",
       "</table>\n",
       "</div>"
      ],
      "text/plain": [
       "   id  qid1  qid2                                          question1  \\\n",
       "0   0     1     2  What is the step by step guide to invest in sh...   \n",
       "1   1     3     4  What is the story of Kohinoor (Koh-i-Noor) Dia...   \n",
       "2   2     5     6  How can I increase the speed of my internet co...   \n",
       "3   3     7     8  Why am I mentally very lonely? How can I solve...   \n",
       "4   4     9    10  Which one dissolve in water quikly sugar, salt...   \n",
       "\n",
       "                                           question2  is_duplicate  \n",
       "0  What is the step by step guide to invest in sh...             0  \n",
       "1  What would happen if the Indian government sto...             0  \n",
       "2  How can Internet speed be increased by hacking...             0  \n",
       "3  Find the remainder when [math]23^{24}[/math] i...             0  \n",
       "4            Which fish would survive in salt water?             0  "
      ]
     },
     "execution_count": 65,
     "metadata": {},
     "output_type": "execute_result"
    }
   ],
   "source": [
    "df.head()"
   ]
  },
  {
   "cell_type": "code",
   "execution_count": 66,
   "id": "f2b9c878",
   "metadata": {},
   "outputs": [
    {
     "data": {
      "text/plain": [
       "1000"
      ]
     },
     "execution_count": 66,
     "metadata": {},
     "output_type": "execute_result"
    }
   ],
   "source": [
    "#hitting 1000 sentence pairs and then doing clusterings accordingly\n",
    "sentences = df['question1'].tolist()[:1000]\n",
    "len(sentences)"
   ]
  },
  {
   "cell_type": "code",
   "execution_count": 67,
   "id": "92d6a6ce",
   "metadata": {},
   "outputs": [
    {
     "data": {
      "application/vnd.jupyter.widget-view+json": {
       "model_id": "3892758f7d4e4985b4905b34a79cd136",
       "version_major": 2,
       "version_minor": 0
      },
      "text/plain": [
       "Batches:   0%|          | 0/16 [00:00<?, ?it/s]"
      ]
     },
     "metadata": {},
     "output_type": "display_data"
    }
   ],
   "source": [
    "corpus_embeddings = model.encode(sentences, batch_size=64, show_progress_bar=True)"
   ]
  },
  {
   "cell_type": "code",
   "execution_count": 68,
   "id": "0dc7107a",
   "metadata": {},
   "outputs": [],
   "source": [
    "clusters = util.community_detection(corpus_embeddings, min_community_size=5, threshold=0.5) #utility function->community detection\n",
    "#atleast 5 community samples"
   ]
  },
  {
   "cell_type": "code",
   "execution_count": 72,
   "id": "4c89d89c",
   "metadata": {},
   "outputs": [
    {
     "data": {
      "text/plain": [
       "[[304, 777, 870, 723, 978, 688, 92, 919, 607, 103],\n",
       " [439, 675, 321, 295, 689, 199, 877, 907, 105],\n",
       " [28, 78, 945, 284, 647, 564, 784, 273],\n",
       " [725, 733, 549, 726, 79, 590, 299],\n",
       " [140, 618, 287, 669, 598, 100],\n",
       " [263, 544, 93, 930, 401, 957],\n",
       " [644, 72, 969, 686, 364, 198],\n",
       " [734, 973, 752, 722, 895, 384],\n",
       " [49, 566, 967, 591, 302],\n",
       " [63, 3, 115, 218, 910],\n",
       " [233, 333, 425, 422, 419],\n",
       " [502, 532, 608, 852, 317],\n",
       " [540, 219, 703, 742, 858],\n",
       " [796, 996, 926, 612, 175]]"
      ]
     },
     "execution_count": 72,
     "metadata": {},
     "output_type": "execute_result"
    }
   ],
   "source": [
    "clusters #14 clusters"
   ]
  },
  {
   "cell_type": "code",
   "execution_count": 71,
   "id": "ba6eda23",
   "metadata": {},
   "outputs": [
    {
     "name": "stdout",
     "output_type": "stream",
     "text": [
      "\n",
      "Cluster 1, #10 Questions\n",
      "\t Which are the best Hollywood thriller movies?\n",
      "\t What are the most underrated and overrated movies you've seen?\n",
      "\t What are the best films that take place in one room?\n",
      "\t ...\n",
      "\n",
      "Cluster 2, #9 Questions\n",
      "\t What are your views on Modi governments decision to demonetize 500 and 1000 rupee notes? How will this affect economy?\n",
      "\t What's your opinion about the decision on removal of 500 and 1000 rupees currency notes?\n",
      "\t How will Indian GDP be affected from banning 500 and 1000 rupees notes?\n",
      "\t ...\n",
      "\n",
      "Cluster 3, #8 Questions\n",
      "\t What is best way to make money online?\n",
      "\t How can I make money through the Internet?\n",
      "\t What are the easy ways to earn money online?\n",
      "\t ...\n",
      "\n",
      "Cluster 4, #7 Questions\n",
      "\t What are the most important things for living a good life?\n",
      "\t What is most important in life - money or values?\n",
      "\t What is the best lesson in life?\n",
      "\t ...\n",
      "\n",
      "Cluster 5, #6 Questions\n",
      "\t What is our stance against Pakistan?\n",
      "\t What is the reason Pakistan supports terrorism?\n",
      "\t If there will be a war between India and Pakistan who will win?\n",
      "\t ...\n",
      "\n",
      "Cluster 6, #6 Questions\n",
      "\t What do you do if you had a bad dream?\n",
      "\t What can you do in lucid dreams?\n",
      "\t What causes a nightmare?\n",
      "\t ...\n",
      "\n",
      "Cluster 7, #6 Questions\n",
      "\t How can I improve my spoken English ability?\n",
      "\t How I can speak English fluently?\n",
      "\t HOw do I speak Fluent English?\n",
      "\t ...\n",
      "\n",
      "Cluster 8, #6 Questions\n",
      "\t Who are the best hackers in India?\n",
      "\t Where can I find a hacker for good cause?\n",
      "\t Who are some of great coders from Tamil Nadu?\n",
      "\t ...\n",
      "\n",
      "Cluster 9, #5 Questions\n",
      "\t How do I make friends.\n",
      "\t On Facebook, how can I add mutual friends?\n",
      "\t How do I get to be a people person?\n",
      "\t ...\n",
      "\n",
      "Cluster 10, #5 Questions\n",
      "\t Why do I always get depressed?\n",
      "\t Why am I mentally very lonely? How can I solve it?\n",
      "\t Why do we cry when we are happy and when we are sad?\n",
      "\t ...\n",
      "\n",
      "Cluster 11, #5 Questions\n",
      "\t Do porn stars watch porn?\n",
      "\t Why do male porn stars masturbate to ejaculate?\n",
      "\t How does it feel to be a spouse of a renowned porn star?\n",
      "\t ...\n",
      "\n",
      "Cluster 12, #5 Questions\n",
      "\t What will most likely cause World War III?\n",
      "\t How imminent is world war III?\n",
      "\t Can World War 3 ever take place?\n",
      "\t ...\n",
      "\n",
      "Cluster 13, #5 Questions\n",
      "\t How can I become a true computer science engineer?\n",
      "\t How can I learn computer security?\n",
      "\t What is the difference between IT and computer science engineering?\n",
      "\t ...\n",
      "\n",
      "Cluster 14, #5 Questions\n",
      "\t What stocks are the best to invest in right now?\n",
      "\t Which is the best shares to purchase and sale daily trading?\n",
      "\t How do you determine what's a good investment brokerage and what's not?\n",
      "\t ...\n"
     ]
    }
   ],
   "source": [
    "for i,cluster in enumerate(clusters):\n",
    "    print(\"\\nCluster {}, #{} Questions\".format(i+1, len(cluster)))\n",
    "    for id in cluster[0:3]: #printing top 3 questions from each cluster\n",
    "        print(\"\\t\", sentences[id])\n",
    "    print(\"\\t\", \"...\")"
   ]
  }
 ],
 "metadata": {
  "kernelspec": {
   "display_name": "Python 3 (ipykernel)",
   "language": "python",
   "name": "python3"
  },
  "language_info": {
   "codemirror_mode": {
    "name": "ipython",
    "version": 3
   },
   "file_extension": ".py",
   "mimetype": "text/x-python",
   "name": "python",
   "nbconvert_exporter": "python",
   "pygments_lexer": "ipython3",
   "version": "3.11.3"
  }
 },
 "nbformat": 4,
 "nbformat_minor": 5
}
