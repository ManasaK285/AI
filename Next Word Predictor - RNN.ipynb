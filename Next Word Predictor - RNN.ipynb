{
 "cells": [
  {
   "cell_type": "code",
   "execution_count": 5,
   "id": "c97e3a75-bf54-4e1e-b40e-127af3e91e9c",
   "metadata": {},
   "outputs": [],
   "source": [
    "import numpy as np\n",
    "import random\n",
    "\n",
    "file_path = r\"C:\\Users\\dell\\Desktop\\MyDocs\\Docs\\MK\\1661-0.txt\"\n",
    "\n",
    "# Try opening the file with 'utf-8' encoding\n",
    "with open(file_path, \"r\", encoding=\"utf-8\") as file:\n",
    "    raw_text = file.readlines()"
   ]
  },
  {
   "cell_type": "code",
   "execution_count": 6,
   "id": "5acab9cd-a21c-47b8-879e-145c147c8902",
   "metadata": {},
   "outputs": [],
   "source": [
    "merged_text = \" \".join(raw_text)\n",
    "\n",
    "# Optional: Strip extra spaces and normalize spacing\n",
    "merged_text = merged_text.replace(\"\\n\", \" \").replace(\"\\r\", \" \").strip()\n",
    "merged_text = \" \".join(merged_text.split())  # Ensure single spacing\n",
    "\n",
    "merged_text = merged_text[1171:]\n",
    "merged_text = merged_text.replace('“', '')\n",
    "merged_text = merged_text.replace('”', '')\n",
    "merged_text = merged_text.replace('-', ' ')\n",
    "merged_text = merged_text.replace('_', ' ')"
   ]
  },
  {
   "cell_type": "code",
   "execution_count": 7,
   "id": "2e152a81-c4fe-4d23-9b7c-67fc165105b6",
   "metadata": {},
   "outputs": [],
   "source": [
    "import re\n",
    "# sentences = merged_text \n",
    "sentences = re.split(r'(?<=[.!?])\\s+', merged_text.strip())"
   ]
  },
  {
   "cell_type": "code",
   "execution_count": 8,
   "id": "ab74191e-a089-4328-8166-46582224360c",
   "metadata": {},
   "outputs": [
    {
     "name": "stdout",
     "output_type": "stream",
     "text": [
      "10\n"
     ]
    }
   ],
   "source": [
    "sentences = sentences[:10]\n",
    "\n",
    "print(len(sentences))"
   ]
  },
  {
   "cell_type": "code",
   "execution_count": 9,
   "id": "95819846-9254-4c24-9b64-a831a4c3bf80",
   "metadata": {},
   "outputs": [],
   "source": [
    "sentences = [re.sub(r'(\\w)([.,!?;:])', r'\\1 \\2', sentence) for sentence in sentences]"
   ]
  },
  {
   "cell_type": "code",
   "execution_count": 10,
   "id": "8df16180-4b8c-432f-a683-68ede000e7c8",
   "metadata": {},
   "outputs": [
    {
     "name": "stdout",
     "output_type": "stream",
     "text": [
      "[======================----------------------------] 46.0% 764.7/1662.8MB downloaded"
     ]
    },
    {
     "name": "stderr",
     "output_type": "stream",
     "text": [
      "IOPub message rate exceeded.\n",
      "The Jupyter server will temporarily stop sending output\n",
      "to the client in order to avoid crashing it.\n",
      "To change this limit, set the config variable\n",
      "`--ServerApp.iopub_msg_rate_limit`.\n",
      "\n",
      "Current values:\n",
      "ServerApp.iopub_msg_rate_limit=1000.0 (msgs/sec)\n",
      "ServerApp.rate_limit_window=3.0 (secs)\n",
      "\n"
     ]
    },
    {
     "name": "stdout",
     "output_type": "stream",
     "text": [
      "[======================================------------] 76.2% 1266.3/1662.8MB downloaded"
     ]
    },
    {
     "name": "stderr",
     "output_type": "stream",
     "text": [
      "IOPub message rate exceeded.\n",
      "The Jupyter server will temporarily stop sending output\n",
      "to the client in order to avoid crashing it.\n",
      "To change this limit, set the config variable\n",
      "`--ServerApp.iopub_msg_rate_limit`.\n",
      "\n",
      "Current values:\n",
      "ServerApp.iopub_msg_rate_limit=1000.0 (msgs/sec)\n",
      "ServerApp.rate_limit_window=3.0 (secs)\n",
      "\n"
     ]
    },
    {
     "name": "stdout",
     "output_type": "stream",
     "text": [
      "[=============================================-----] 90.3% 1500.9/1662.8MB downloaded"
     ]
    }
   ],
   "source": [
    "import gensim.downloader as api\n",
    "\n",
    "# takes 3-10 minutes to load\n",
    "wv = api.load('word2vec-google-news-300')"
   ]
  },
  {
   "cell_type": "code",
   "execution_count": 11,
   "id": "d237f060-efb9-4b93-90b9-7db02dc7f139",
   "metadata": {},
   "outputs": [],
   "source": [
    "ready_sentences = []\n",
    "for sentence in sentences:\n",
    "    # Loại bỏ dấu câu trước khi tách từ\n",
    "    clean_sentence = re.sub(r'[^\\w\\s]', '', sentence)\n",
    "    ready_sentences.append(clean_sentence.split())"
   ]
  },
  {
   "cell_type": "code",
   "execution_count": 12,
   "id": "a2343849-b1f5-4f77-a6c1-d167a84ce360",
   "metadata": {},
   "outputs": [],
   "source": [
    "def create_training_data(sentences):\n",
    "    data = []\n",
    "    \n",
    "    for sentence in sentences:\n",
    "        filtered_sentence = [word for word in sentence if word in wv]\n",
    "        if len(filtered_sentence) < 6:  \n",
    "            continue\n",
    "        \n",
    "        for end in range(5, len(filtered_sentence) - 1):\n",
    "            input_seq = filtered_sentence[:end]\n",
    "            target_word = filtered_sentence[end]\n",
    "            \n",
    "            input_ = [np.array(wv[word]).reshape(300, 1) for word in input_seq]\n",
    "            target_ = np.array(wv[target_word]).reshape(300, 1)\n",
    "            \n",
    "            data.append((input_, target_))\n",
    "    return data\n",
    "\n",
    "\n",
    "training_data = create_training_data(ready_sentences)"
   ]
  },
  {
   "cell_type": "code",
   "execution_count": 13,
   "id": "983469a8-e5a9-4b27-a890-774801e906fb",
   "metadata": {},
   "outputs": [
    {
     "name": "stdout",
     "output_type": "stream",
     "text": [
      "99\n"
     ]
    }
   ],
   "source": [
    "print(len(training_data))"
   ]
  },
  {
   "cell_type": "code",
   "execution_count": 14,
   "id": "6a72e8e5-2ae3-4794-b274-5410291ef7c6",
   "metadata": {},
   "outputs": [
    {
     "name": "stdout",
     "output_type": "stream",
     "text": [
      "Iteration 10: Current Loss = -0.3069\n",
      "Iteration 20: Current Loss = -0.3049\n",
      "Iteration 30: Current Loss = -0.3110\n",
      "Iteration 40: Current Loss = -0.3312\n",
      "Iteration 50: Current Loss = -0.3302\n",
      "Iteration 60: Current Loss = -0.3343\n",
      "Iteration 70: Current Loss = -0.3312\n",
      "Iteration 80: Current Loss = -0.3324\n",
      "Iteration 90: Current Loss = -0.3409\n",
      "Epoch 1, Loss: -0.3429\n"
     ]
    }
   ],
   "source": [
    "def softmax(xs):\n",
    "    return np.exp(xs) / np.sum(np.exp(xs), axis=0)\n",
    "def calculate_mse(out, target_word):\n",
    "    mse = np.mean((out - target_word) ** 2)\n",
    "    return mse\n",
    "\n",
    "class RNN:\n",
    "    def __init__(self, input_size, output_size, hidden_size=512):\n",
    "        self.Whh = np.random.randn(hidden_size, hidden_size) / 1000\n",
    "        self.Wxh = np.random.randn(hidden_size, input_size) / 1000\n",
    "        self.Why = np.random.randn(output_size, hidden_size) / 1000\n",
    "        self.bh = np.zeros((hidden_size, 1))\n",
    "        self.by = np.zeros((output_size, 1))\n",
    "\n",
    "    def forward(self, inputs):\n",
    "        # h = embedded_words[1][1] \n",
    "        h = np.zeros((self.Whh.shape[0], 1))\n",
    "        # print(h.shape)\n",
    "        self.last_inputs = inputs\n",
    "        self.last_hs = {0: h}\n",
    "        for i, x in enumerate(inputs):  \n",
    "            h = np.tanh(self.Wxh @ x + self.Whh @ h + self.bh)\n",
    "            # print(h.shape)\n",
    "            self.last_hs[i + 1] = h\n",
    "        y = self.Why @ h + self.by\n",
    "    \n",
    "        return y, h\n",
    "\n",
    "    def backprop(self, d_y, learn_rate=2e-2):\n",
    "        n = len(self.last_inputs)\n",
    "        d_Why = d_y @ self.last_hs[n].T\n",
    "        d_by = d_y\n",
    "        d_Whh = np.zeros(self.Whh.shape)\n",
    "        d_Wxh = np.zeros(self.Wxh.shape)\n",
    "        d_bh = np.zeros(self.bh.shape)\n",
    "        d_h = self.Why.T @ d_y\n",
    "        for t in reversed(range(n)):\n",
    "            temp = ((1 - self.last_hs[t + 1] ** 2) * d_h)\n",
    "            d_bh += temp\n",
    "            d_Whh += temp @ self.last_hs[t].T\n",
    "            d_Wxh += temp @ self.last_inputs[t].T\n",
    "            d_h = self.Whh @ temp\n",
    "        for d in [d_Wxh, d_Whh, d_Why, d_bh, d_by]:\n",
    "            d[:] = np.clip(d, -1, 1)\n",
    "        self.Whh -= learn_rate * d_Whh\n",
    "        self.Wxh -= learn_rate * d_Wxh\n",
    "        self.Why -= learn_rate * d_Why\n",
    "        self.bh -= learn_rate * d_bh\n",
    "        self.by -= learn_rate * d_by\n",
    "\n",
    "rnn = RNN(300, 300)\n",
    "\n",
    "import matplotlib.pyplot as plt\n",
    "\n",
    "loss_history = [] \n",
    "\n",
    "def train_rnn(data, epochs=1):\n",
    "    global loss_history\n",
    "    for epoch in range(epochs):\n",
    "        loss = 0\n",
    "        cnt = 1\n",
    "        for input_words, target_word in data:\n",
    "            out, _ = rnn.forward(input_words)\n",
    "            # if cnt == 1: \n",
    "            #     print(out)\n",
    "            # probs = softmax(out)\n",
    "            dot_product = np.dot(target_word.T, out)\n",
    "            norm_target = np.linalg.norm(target_word)\n",
    "            norm_out = np.linalg.norm(out)\n",
    "            cosine_similarity = dot_product / (norm_target * norm_out)\n",
    "\n",
    "            # Công thức gradient\n",
    "            d_L_d_y= (target_word / (norm_target * norm_out)) - (dot_product * out) / (norm_target * (norm_out ** 3))\n",
    "            # print(cosine_similarity)\n",
    "            loss += cosine_similarity[0][0]   \n",
    "            rnn.backprop(d_L_d_y)\n",
    "            if cnt % 10 == 0: \n",
    "                avg_loss = loss / cnt \n",
    "                print(f\"Iteration {cnt}: Current Loss = {avg_loss:.4f}\")\n",
    "            cnt = cnt + 1 \n",
    "        avg_loss = loss / len(data)\n",
    "        loss_history.append(avg_loss)\n",
    "        print(f\"Epoch {epoch + 1}, Loss: {avg_loss.item():.4f}\")\n",
    "\n",
    "\n",
    "train_rnn(training_data)"
   ]
  },
  {
   "cell_type": "code",
   "execution_count": 15,
   "id": "b6092edc-0795-4203-aa4f-11c69b0020f9",
   "metadata": {},
   "outputs": [
    {
     "data": {
      "image/png": "[encoded data removed]",
      "text/plain": [
       "<Figure size 640x480 with 1 Axes>"
      ]
     },
     "metadata": {},
     "output_type": "display_data"
    }
   ],
   "source": [
    "plt.plot(range(1, len(loss_history) + 1), loss_history, label=\"Loss\")\n",
    "plt.xlabel(\"Epochs\")\n",
    "plt.ylabel(\"Loss\")\n",
    "plt.title(\"Training Loss Over Epochs\")\n",
    "plt.legend()\n",
    "plt.show()"
   ]
  },
  {
   "cell_type": "code",
   "execution_count": 27,
   "id": "68ed2ca1-d49b-42c4-aa91-9cd586d86dc6",
   "metadata": {},
   "outputs": [],
   "source": [
    "import numpy as np\n",
    "import re\n",
    "\n",
    "def predict_next_words(input_words, top_k=2):\n",
    "    # Preprocess input words\n",
    "    input_words = [word.replace('“', '').replace('”', '').replace('-', ' ').replace('_', ' ') for word in input_words]\n",
    "    \n",
    "    # Join words into a single sentence for further processing\n",
    "    sentence = ' '.join(input_words)\n",
    "    \n",
    "    # Further clean the sentence using regex\n",
    "    sentence = re.sub(r'(\\w)([.,!?;:])', r'\\1 \\2', sentence)  # Adds space before punctuation\n",
    "    \n",
    "    # Split the sentence into words (tokens)\n",
    "    words = sentence.split()\n",
    "\n",
    "    # Now, assuming `wv` is a word2vec model (word embeddings) and `rnn` is an RNN model\n",
    "    # You need to convert words to embeddings (e.g., using word2vec or any embeddings)\n",
    "    input_embeddings = [np.array(wv[word]).reshape(300, 1) for word in words if word in wv]  # Ensure words exist in `wv`\n",
    "    \n",
    "    if len(input_embeddings) == 0:\n",
    "        raise ValueError(\"None of the input words were found in the vocabulary.\")\n",
    "    \n",
    "    # Pass word embeddings through the RNN model\n",
    "    out, _ = rnn.forward(input_embeddings)  # Assuming `rnn.forward()` returns output for next word prediction\n",
    "    \n",
    "    mse = []  # Store Mean Squared Error for each word\n",
    "    for word in wv.key_to_index:  # Use `key_to_index` to access all words in `wv`\n",
    "        embedded_v = wv[word]  # Get word embedding for each word in the vocabulary\n",
    "        mse_value = calculate_mse(out, embedded_v)  # You need to define `calculate_mse`\n",
    "        mse.append((word, mse_value))\n",
    "    \n",
    "    # Sort words by MSE in ascending order\n",
    "    mse_sorted = sorted(mse, key=lambda x: x[1])\n",
    "    \n",
    "    # Extract top_k predicted words\n",
    "    predictions = [row[0] for row in mse_sorted[:top_k]]\n",
    "    \n",
    "    return predictions\n"
   ]
  },
  {
   "cell_type": "code",
   "execution_count": null,
   "id": "1d2dcde1-5235-438a-948b-fdfae6da6f7b",
   "metadata": {},
   "outputs": [
    {
     "name": "stdin",
     "output_type": "stream",
     "text": [
      "Enter a sentence (or type 'exit' to quit):  It is\n"
     ]
    },
    {
     "name": "stdout",
     "output_type": "stream",
     "text": [
      "Input: it is\n",
      "Predicted next words: AP_HOCKEY_NEWS, BY_WAYNE_PHILLIPS\n"
     ]
    }
   ],
   "source": [
    "while True:\n",
    "    user_input = input(\"Enter a sentence (or type 'exit' to quit): \")\n",
    "    if user_input.lower() == 'exit':\n",
    "        print(\"Exiting the program. Goodbye!\")\n",
    "        break\n",
    "    \n",
    "    # Convert input sentence to a list of lowercase words\n",
    "    input_words = user_input.lower().split()  # Split sentence into individual words\n",
    "    \n",
    "    try:\n",
    "        # Pass the list of words to predict_next_words\n",
    "        predicted_words = predict_next_words(input_words, top_k=2)\n",
    "        \n",
    "        # Print the input sentence and predicted words\n",
    "        print(f\"Input: {' '.join(input_words)}\")\n",
    "        print(f\"Predicted next words: {', '.join(predicted_words)}\")\n",
    "        \n",
    "    except KeyError as e:\n",
    "        print(f\"Error: {e}. Please ensure your input contains words from the vocabulary.\")"
   ]
  }
 ],
 "metadata": {
  "kernelspec": {
   "display_name": "Python 3 (ipykernel)",
   "language": "python",
   "name": "python3"
  },
  "language_info": {
   "codemirror_mode": {
    "name": "ipython",
    "version": 3
   },
   "file_extension": ".py",
   "mimetype": "text/x-python",
   "name": "python",
   "nbconvert_exporter": "python",
   "pygments_lexer": "ipython3",
   "version": "3.12.7"
  }
 },
 "nbformat": 4,
 "nbformat_minor": 5
}
