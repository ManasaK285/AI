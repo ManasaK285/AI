{
 "cells": [
  {
   "cell_type": "code",
   "execution_count": 20,
   "id": "6556fedf-bb23-4e43-bdd5-0db0e082e52d",
   "metadata": {},
   "outputs": [],
   "source": [
    "import numpy as np # linear algebra\n",
    "import pandas as pd # data processing, CSV file I/O (e.g. pd.read_csv)\n",
    "from sklearn.feature_extraction.text import CountVectorizer\n",
    "from sklearn.ensemble import RandomForestClassifier\n",
    "from sklearn.model_selection import train_test_split"
   ]
  },
  {
   "cell_type": "code",
   "execution_count": 22,
   "id": "67ff0313-7e9c-4a54-81be-d69aa9d331ba",
   "metadata": {},
   "outputs": [],
   "source": [
    "df = pd.read_csv(r'C:\\Users\\dell\\Desktop\\MyDocs\\Docs\\MK\\YoutubeCommentsDataSet.csv')\n",
    "stopwords = ['call', 'upon', 'still', 'nevertheless', 'down', 'every', 'forty', '‘re', 'always', 'whole', 'side', \"n't\", 'now', 'however', 'an', 'show', 'least', 'give', 'below', 'did', 'sometimes', 'which', \"'s\", 'nowhere', 'per', 'hereupon', 'yours', 'she', 'moreover', 'eight', 'somewhere', 'within', 'whereby', 'few', 'has', 'so', 'have', 'for', 'noone', 'top', 'were', 'those', 'thence', 'eleven', 'after', 'no', '’ll', 'others', 'ourselves', 'themselves', 'though', 'that', 'nor', 'just', '’s', 'before', 'had', 'toward', 'another', 'should', 'herself', 'and', 'these', 'such', 'elsewhere', 'further', 'next', 'indeed', 'bottom', 'anyone', 'his', 'each', 'then', 'both', 'became', 'third', 'whom', '‘ve', 'mine', 'take', 'many', 'anywhere', 'to', 'well', 'thereafter', 'besides', 'almost', 'front', 'fifteen', 'towards', 'none', 'be', 'herein', 'two', 'using', 'whatever', 'please', 'perhaps', 'full', 'ca', 'we', 'latterly', 'here', 'therefore', 'us', 'how', 'was', 'made', 'the', 'or', 'may', '’re', 'namely', \"'ve\", 'anyway', 'amongst', 'used', 'ever', 'of', 'there', 'than', 'why', 'really', 'whither', 'in', 'only', 'wherein', 'last', 'under', 'own', 'therein', 'go', 'seems', '‘m', 'wherever', 'either', 'someone', 'up', 'doing', 'on', 'rather', 'ours', 'again', 'same', 'over', '‘s', 'latter', 'during', 'done', \"'re\", 'put', \"'m\", 'much', 'neither', 'among', 'seemed', 'into', 'once', 'my', 'otherwise', 'part', 'everywhere', 'never', 'myself', 'must', 'will', 'am', 'can', 'else', 'although', 'as', 'beyond', 'are', 'too', 'becomes', 'does', 'a', 'everyone', 'but', 'some', 'regarding', '‘ll', 'against', 'throughout', 'yourselves', 'him', \"'d\", 'it', 'himself', 'whether', 'move', '’m', 'hereafter', 're', 'while', 'whoever', 'your', 'first', 'amount', 'twelve', 'serious', 'other', 'any', 'off', 'seeming', 'four', 'itself', 'nothing', 'beforehand', 'make', 'out', 'very', 'already', 'various', 'until', 'hers', 'they', 'not', 'them', 'where', 'would', 'since', 'everything', 'at', 'together', 'yet', 'more', 'six', 'back', 'with', 'thereupon', 'becoming', 'around', 'due', 'keep', 'somehow', 'n‘t', 'across', 'all', 'when', 'i', 'empty', 'nine', 'five', 'get', 'see', 'been', 'name', 'between', 'hence', 'ten', 'several', 'from', 'whereupon', 'through', 'hereby', \"'ll\", 'alone', 'something', 'formerly', 'without', 'above', 'onto', 'except', 'enough', 'become', 'behind', '’d', 'its', 'most', 'n’t', 'might', 'whereas', 'anything', 'if', 'her', 'via', 'fifty', 'is', 'thereby', 'twenty', 'often', 'whereafter', 'their', 'also', 'anyhow', 'cannot', 'our', 'could', 'because', 'who', 'beside', 'by', 'whence', 'being', 'meanwhile', 'this', 'afterwards', 'whenever', 'mostly', 'what', 'one', 'nobody', 'seem', 'less', 'do', '‘d', 'say', 'thus', 'unless', 'along', 'yourself', 'former', 'thru', 'he', 'hundred', 'three', 'sixty', 'me', 'sometime', 'whose', 'you', 'quite', '’ve', 'about', 'even']"
   ]
  },
  {
   "cell_type": "code",
   "execution_count": 23,
   "id": "c5a36a9e-497e-4af5-b1cd-bfabaf239d84",
   "metadata": {},
   "outputs": [],
   "source": [
    "df = df.dropna(subset=['Comment'])"
   ]
  },
  {
   "cell_type": "code",
   "execution_count": 24,
   "id": "e7191742-4a45-4317-acd1-49c9cb5ca8d9",
   "metadata": {},
   "outputs": [],
   "source": [
    "com = \"This was a really nice video. Thank you.\""
   ]
  },
  {
   "cell_type": "code",
   "execution_count": 25,
   "id": "15daa542-3e24-4aa9-a6a2-3717320dd79f",
   "metadata": {},
   "outputs": [],
   "source": [
    "comdf = pd.DataFrame({\"Comment\": [com], \"Sentiment\": [0]})"
   ]
  },
  {
   "cell_type": "code",
   "execution_count": 26,
   "id": "c628f4f0-b9e6-466c-873c-e2809394c348",
   "metadata": {},
   "outputs": [],
   "source": [
    "for word in stopwords:\n",
    "    word = \" \" + word + \" \" \n",
    "    df['Comment'] = df['Comment'].str.replace(word, \" \")"
   ]
  },
  {
   "cell_type": "code",
   "execution_count": 27,
   "id": "e341cf00-839d-4889-9ce6-432b7eb7dc34",
   "metadata": {},
   "outputs": [],
   "source": [
    "cv = CountVectorizer(max_features=50)"
   ]
  },
  {
   "cell_type": "code",
   "execution_count": 28,
   "id": "d2b82fd8-7134-47b5-8f02-d2404460f801",
   "metadata": {},
   "outputs": [],
   "source": [
    "x = cv.fit_transform(df['Comment']).toarray()\n",
    "y = df['Sentiment']"
   ]
  },
  {
   "cell_type": "code",
   "execution_count": 29,
   "id": "48cba6c0-872b-4fb6-aac0-9cb6288979cb",
   "metadata": {},
   "outputs": [],
   "source": [
    "pred = x[-1].copy()"
   ]
  },
  {
   "cell_type": "code",
   "execution_count": 30,
   "id": "a97d9165-c566-4cbb-8283-c57b7e7cd6f9",
   "metadata": {},
   "outputs": [],
   "source": [
    "x = x[0:-1]\n",
    "y = y[0:-1]"
   ]
  },
  {
   "cell_type": "code",
   "execution_count": 31,
   "id": "36c99b1b-0bd3-4f14-838d-5d5eb9c3b181",
   "metadata": {},
   "outputs": [],
   "source": [
    "x_train, x_test, y_train, y_test = train_test_split(x, y, random_state=21, train_size=0.7)"
   ]
  },
  {
   "cell_type": "code",
   "execution_count": 32,
   "id": "56639ed0-1793-4215-9f45-30f097fdfb1f",
   "metadata": {},
   "outputs": [],
   "source": [
    "rf = RandomForestClassifier()\n",
    "model = rf.fit(x_train, y_train)\n",
    "score = model.score(x_test, y_test)"
   ]
  },
  {
   "cell_type": "code",
   "execution_count": 33,
   "id": "4c213846-0a31-4a49-8b9d-def0bf0c9908",
   "metadata": {},
   "outputs": [
    {
     "name": "stdout",
     "output_type": "stream",
     "text": [
      "Result :  ['positive']  Score :  0.6309675077146487\n"
     ]
    }
   ],
   "source": [
    "result = model.predict([pred])\n",
    "print(\"Result : \", result,\" Score : \", score)"
   ]
  }
 ],
 "metadata": {
  "kernelspec": {
   "display_name": "Python 3 (ipykernel)",
   "language": "python",
   "name": "python3"
  },
  "language_info": {
   "codemirror_mode": {
    "name": "ipython",
    "version": 3
   },
   "file_extension": ".py",
   "mimetype": "text/x-python",
   "name": "python",
   "nbconvert_exporter": "python",
   "pygments_lexer": "ipython3",
   "version": "3.12.7"
  }
 },
 "nbformat": 4,
 "nbformat_minor": 5
}
