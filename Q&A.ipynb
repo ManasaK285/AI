{
 "cells": [
  {
   "cell_type": "markdown",
   "id": "f3407ea4",
   "metadata": {},
   "source": [
    "```\n",
    "Courtesy:Generative AI with Python, by Fernando Amaral\n",
    "```"
   ]
  },
  {
   "cell_type": "markdown",
   "id": "19275345",
   "metadata": {},
   "source": [
    "# Setup"
   ]
  },
  {
   "cell_type": "code",
   "execution_count": 1,
   "id": "f9ddbfa3",
   "metadata": {},
   "outputs": [
    {
     "name": "stdout",
     "output_type": "stream",
     "text": [
      "Requirement already satisfied: transformers in c:\\users\\mmanasanjani\\appdata\\local\\anaconda3\\lib\\site-packages (4.38.2)\n",
      "Requirement already satisfied: filelock in c:\\users\\mmanasanjani\\appdata\\local\\anaconda3\\lib\\site-packages (from transformers) (3.9.0)\n",
      "Requirement already satisfied: huggingface-hub<1.0,>=0.19.3 in c:\\users\\mmanasanjani\\appdata\\local\\anaconda3\\lib\\site-packages (from transformers) (0.19.4)\n",
      "Requirement already satisfied: numpy>=1.17 in c:\\users\\mmanasanjani\\appdata\\local\\anaconda3\\lib\\site-packages (from transformers) (1.24.3)\n",
      "Requirement already satisfied: packaging>=20.0 in c:\\users\\mmanasanjani\\appdata\\local\\anaconda3\\lib\\site-packages (from transformers) (23.2)\n",
      "Requirement already satisfied: pyyaml>=5.1 in c:\\users\\mmanasanjani\\appdata\\local\\anaconda3\\lib\\site-packages (from transformers) (6.0)\n",
      "Requirement already satisfied: regex!=2019.12.17 in c:\\users\\mmanasanjani\\appdata\\local\\anaconda3\\lib\\site-packages (from transformers) (2022.7.9)\n",
      "Requirement already satisfied: requests in c:\\users\\mmanasanjani\\appdata\\local\\anaconda3\\lib\\site-packages (from transformers) (2.29.0)\n",
      "Requirement already satisfied: tokenizers<0.19,>=0.14 in c:\\users\\mmanasanjani\\appdata\\local\\anaconda3\\lib\\site-packages (from transformers) (0.15.2)\n",
      "Requirement already satisfied: safetensors>=0.4.1 in c:\\users\\mmanasanjani\\appdata\\local\\anaconda3\\lib\\site-packages (from transformers) (0.4.2)\n",
      "Requirement already satisfied: tqdm>=4.27 in c:\\users\\mmanasanjani\\appdata\\local\\anaconda3\\lib\\site-packages (from transformers) (4.65.0)\n",
      "Requirement already satisfied: fsspec>=2023.5.0 in c:\\users\\mmanasanjani\\appdata\\local\\anaconda3\\lib\\site-packages (from huggingface-hub<1.0,>=0.19.3->transformers) (2023.12.2)\n",
      "Requirement already satisfied: typing-extensions>=3.7.4.3 in c:\\users\\mmanasanjani\\appdata\\local\\anaconda3\\lib\\site-packages (from huggingface-hub<1.0,>=0.19.3->transformers) (4.9.0)\n",
      "Requirement already satisfied: colorama in c:\\users\\mmanasanjani\\appdata\\local\\anaconda3\\lib\\site-packages (from tqdm>=4.27->transformers) (0.4.6)\n",
      "Requirement already satisfied: charset-normalizer<4,>=2 in c:\\users\\mmanasanjani\\appdata\\local\\anaconda3\\lib\\site-packages (from requests->transformers) (2.0.4)\n",
      "Requirement already satisfied: idna<4,>=2.5 in c:\\users\\mmanasanjani\\appdata\\local\\anaconda3\\lib\\site-packages (from requests->transformers) (3.4)\n",
      "Requirement already satisfied: urllib3<1.27,>=1.21.1 in c:\\users\\mmanasanjani\\appdata\\local\\anaconda3\\lib\\site-packages (from requests->transformers) (1.26.16)\n",
      "Requirement already satisfied: certifi>=2017.4.17 in c:\\users\\mmanasanjani\\appdata\\local\\anaconda3\\lib\\site-packages (from requests->transformers) (2023.5.7)\n"
     ]
    }
   ],
   "source": [
    "!pip install transformers"
   ]
  },
  {
   "cell_type": "code",
   "execution_count": 2,
   "id": "649d4c9b",
   "metadata": {},
   "outputs": [
    {
     "name": "stdout",
     "output_type": "stream",
     "text": [
      "WARNING:tensorflow:From C:\\Users\\mmanasanjani\\AppData\\Local\\anaconda3\\Lib\\site-packages\\keras\\src\\losses.py:2976: The name tf.losses.sparse_softmax_cross_entropy is deprecated. Please use tf.compat.v1.losses.sparse_softmax_cross_entropy instead.\n",
      "\n"
     ]
    }
   ],
   "source": [
    "import transformers\n",
    "from transformers import pipeline"
   ]
  },
  {
   "cell_type": "markdown",
   "id": "1808f469",
   "metadata": {},
   "source": [
    "# Code:"
   ]
  },
  {
   "cell_type": "code",
   "execution_count": 3,
   "id": "860e4101",
   "metadata": {},
   "outputs": [],
   "source": [
    "def initialize_qa_pipeline(language=\"english\"):\n",
    "    models = {\n",
    "        \"english\": \"distilbert-base-cased-distilled-squad\",\n",
    "        \"portuguese\": \"pierreguillou/bert-base-cased-squad-v1.1-portuguese\"\n",
    "    }\n",
    "    return pipeline(\"question-answering\", model=models[language])"
   ]
  },
  {
   "cell_type": "code",
   "execution_count": 4,
   "id": "60856d86",
   "metadata": {},
   "outputs": [],
   "source": [
    "def get_context_and_questions():\n",
    "    context = input(\"Enter the context text: \")\n",
    "\n",
    "    questions = []\n",
    "    while True:\n",
    "        question = input(\"Enter a question (or 'exit' to stop): \")\n",
    "        if question.lower() == 'exit':\n",
    "            break\n",
    "        questions.append(question)\n",
    "\n",
    "    return context, questions"
   ]
  },
  {
   "cell_type": "code",
   "execution_count": 5,
   "id": "19eee798",
   "metadata": {},
   "outputs": [],
   "source": [
    "def display_results(questions, answers):\n",
    "    for q, ans in zip(questions, answers):\n",
    "        print(f\"Question: {q}\")\n",
    "        print(f\"Answer: {ans['answer']}\")\n",
    "        print(f\"Score: {ans['score']:.4f}\")\n",
    "        print(\"\\n\")"
   ]
  },
  {
   "cell_type": "code",
   "execution_count": 6,
   "id": "b0d24fe8",
   "metadata": {},
   "outputs": [],
   "source": [
    "def main():\n",
    "    language = input(\"Which language do you want to use? (english/portuguese): \").lower()\n",
    "    qa_pipeline = initialize_qa_pipeline(language)\n",
    "\n",
    "    while True:\n",
    "        context, questions = get_context_and_questions()\n",
    "        answers = [qa_pipeline(question=q, context=context) for q in questions]\n",
    "\n",
    "        display_results(questions, answers)\n",
    "\n",
    "        cont = input(\"Do you want to ask another set of questions? (yes/no) \").lower()\n",
    "        if cont != \"yes\":\n",
    "            break"
   ]
  },
  {
   "cell_type": "markdown",
   "id": "fdd5aed3",
   "metadata": {},
   "source": [
    "# Execution:"
   ]
  },
  {
   "cell_type": "code",
   "execution_count": 7,
   "id": "e933546b",
   "metadata": {},
   "outputs": [
    {
     "name": "stdout",
     "output_type": "stream",
     "text": [
      "Which language do you want to use? (english/portuguese): english\n",
      "Enter the context text: The great wall of china was built to protect chinese states and empires from invasions and stretches over 13,000 miles.\n",
      "Enter a question (or 'exit' to stop): Why was the Great wall of china built?\n",
      "Enter a question (or 'exit' to stop): How long is the great wall of china?\n",
      "Enter a question (or 'exit' to stop): exit\n",
      "Question: Why was the Great wall of china built?\n",
      "Answer: to protect chinese states and empires\n",
      "Score: 0.3628\n",
      "\n",
      "\n",
      "Question: How long is the great wall of china?\n",
      "Answer: 13,000 miles\n",
      "Score: 0.6089\n",
      "\n",
      "\n",
      "Do you want to ask another set of questions? (yes/no) yes\n",
      "Enter the context text: #source:e-reading worksheets:\n",
      "Enter a question (or 'exit' to stop): exit\n",
      "Do you want to ask another set of questions? (yes/no) yes\n",
      "Enter the context text: Even though they were sisters, Suzie and June were nothing alike. If Suzie wanted to jump rope, June wanted to play hopscotch. If June wanted to watch soap operas, Suzie wanted to watch talk shows. Tensions rose to the point that the girls could no longer stand one another’s company. It seemed that they had nothing in common, until the day that progress reports went home. On the bus the girls were startled by how upset the other looked. They realized that they were both failing a subject. Suzie was failing math and June was failing reading. Since both girls wanted to pass their classes, they agreed to help one another. So after school for the next few weeks, Suzie tutored June in reading and then June tutored Suzie in math. By the time report cards were distributed, Suzie and June were passing all their classes. The girls were delighted, but their mother was happiest of all. Not just because her daughters had passed their classes, but because they learned to be good sisters. (#source:ereadingworksheets)\n",
      "Enter a question (or 'exit' to stop): What is the theme of the story?\n",
      "Enter a question (or 'exit' to stop): What happens in the story that leads you to believe this?\n",
      "Enter a question (or 'exit' to stop): exit\n",
      "Question: What is the theme of the story?\n",
      "Answer: soap operas\n",
      "Score: 0.0196\n",
      "\n",
      "\n",
      "Question: What happens in the story that leads you to believe this?\n",
      "Answer: progress reports went home\n",
      "Score: 0.0487\n",
      "\n",
      "\n",
      "Do you want to ask another set of questions? (yes/no) yes\n",
      "Enter the context text: All Victor ever wanted to do with his life was be a singer. He didn't pay attention in school, and he spent all his time at home listening to music and impersonating his idols. His mother tried to teach him the value of getting an education and having a backup plan. But Victor would respond the same way every time, \"Mom, I won't need to know any of that boring old stuff when I'm famous. You'll see.\" There was one major problem with Victor's plan: he wasn't any good at singing. Victor enjoyed singing so much that he didn't notice the pained look on the faces of those who endured his singing. Some lied to him and said they liked his singing. Other people told him to find something else to do with his life. Victor accused those people of being \"jealous haters\" and ignored their advice. Soon Victor dropped out of high school to focus on his music career. The years passed and the doors never opened. (#source:ereadingworksheets)\n",
      "Enter a question (or 'exit' to stop): What is the theme of the story?\n",
      "Enter a question (or 'exit' to stop): What happens in the story that leads you to believe this?\n",
      "Enter a question (or 'exit' to stop): exit\n",
      "Question: What is the theme of the story?\n",
      "Answer: idols\n",
      "Score: 0.0239\n",
      "\n",
      "\n",
      "Question: What happens in the story that leads you to believe this?\n",
      "Answer: the doors never opened\n",
      "Score: 0.1184\n",
      "\n",
      "\n",
      "Do you want to ask another set of questions? (yes/no) yes\n",
      "Enter the context text: Kyle liked Lucy more than any other girl in the school, but he had an odd way of showing it. When she walked ahead of him in line, he kicked at her shoe. When she passed him on the school yard, he called her \"Lucy the Loser.\" He even wrote a mean word on her homework during the bus ride to school. But what puzzled Lucy the most was receiving an invitation to Kyle's birthday party. Figuring that he was just planning a mean trick on her, Lucy decided not to go. As Kyle eagerly awaited Lucy's arrival, Lucy talked on the phone to Jacob. When Kyle finally realized that Lucy was not coming to his party, he was devastated.(#soruce:ereadingworksheets)\n",
      "Enter a question (or 'exit' to stop): What is the theme of the story?\n",
      "Enter a question (or 'exit' to stop): What happens in the story that leads you to believe this?\n",
      "Enter a question (or 'exit' to stop): exit\n",
      "Question: What is the theme of the story?\n",
      "Answer: Figuring that he was just planning a mean trick on her\n",
      "Score: 0.0324\n",
      "\n",
      "\n",
      "Question: What happens in the story that leads you to believe this?\n",
      "Answer: he was devastated\n",
      "Score: 0.0622\n",
      "\n",
      "\n",
      "Do you want to ask another set of questions? (yes/no) yes\n",
      "Enter the context text: The little grey mouse that lived in my wall prospered for many days on nibbles of my lunch. I'd pack a meal before bed and, while I slept, he would take small bites of my lunch, which I left on the counter. He'd take a cracker crumble here, and a bread crumb there, but he wouldn't take too much and he'd always clean up after himself. Things were going quite well for him and I didn't even know that he existed, until he got sloppy. One night while I slept, he ate all my chips and left a big mess. When I awoke to this sight, I knew what had happened to my chips. The next night he returned for another snack. He found a nice, delicious piece of cheese... lightly balanced on a mousetrap. Now I don't have to share my chips anymore.(#source:ereadingworksheets)\n",
      "Enter a question (or 'exit' to stop): What is the theme of the story?\n",
      "Enter a question (or 'exit' to stop): What happens in the story that leads you to believe this?\n",
      "Enter a question (or 'exit' to stop): exit\n",
      "Question: What is the theme of the story?\n",
      "Answer: The little grey mouse\n",
      "Score: 0.1511\n",
      "\n",
      "\n",
      "Question: What happens in the story that leads you to believe this?\n",
      "Answer: he got sloppy\n",
      "Score: 0.1208\n",
      "\n",
      "\n",
      "Do you want to ask another set of questions? (yes/no) yes\n",
      "Enter the context text: Ulysses spent all his free time reading books and felt that he was very intelligent. One day a nice student from his class asked him if he wanted to go sledding. Ulysses responded, \"I've read about sledding in books, and it sounds miserable. No, thank you.\" On another day, a different friendly student asked Ulysses if he wanted to go out for hotdogs. Ulysses responded, \"I've read that hotdogs are filled with rat parts and pig bellies. No, thank you.\" Nobody asked Ulysses to hang out again, but he did read about friends in his books.(#source:ereadingworksheets)\n",
      "Enter a question (or 'exit' to stop): What is the theme of this story?\n",
      "Enter a question (or 'exit' to stop): What happens in the story that leads you to believe this?\n",
      "Enter a question (or 'exit' to stop): exit\n",
      "Question: What is the theme of this story?\n",
      "Answer: sledding in books, and it sounds miserable\n",
      "Score: 0.1979\n",
      "\n",
      "\n",
      "Question: What happens in the story that leads you to believe this?\n",
      "Answer: hotdogs are filled with rat parts and pig bellies\n",
      "Score: 0.1222\n",
      "\n",
      "\n",
      "Do you want to ask another set of questions? (yes/no) no\n"
     ]
    }
   ],
   "source": [
    "main()"
   ]
  }
 ],
 "metadata": {
  "kernelspec": {
   "display_name": "Python 3 (ipykernel)",
   "language": "python",
   "name": "python3"
  },
  "language_info": {
   "codemirror_mode": {
    "name": "ipython",
    "version": 3
   },
   "file_extension": ".py",
   "mimetype": "text/x-python",
   "name": "python",
   "nbconvert_exporter": "python",
   "pygments_lexer": "ipython3",
   "version": "3.11.3"
  }
 },
 "nbformat": 4,
 "nbformat_minor": 5
}
