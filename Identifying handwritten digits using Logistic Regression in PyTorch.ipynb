{
 "cells": [
  {
   "cell_type": "code",
   "execution_count": 1,
   "id": "e0ff6ad0-5a19-44d9-9de4-49cf1c335baf",
   "metadata": {},
   "outputs": [],
   "source": [
    "import torch\n",
    "import torch.nn as nn\n",
    "import torchvision.datasets as dsets\n",
    "import torchvision.transforms as transforms\n",
    "from torch.autograd import Variable"
   ]
  },
  {
   "cell_type": "code",
   "execution_count": 2,
   "id": "51b0815e-7e91-49ba-bd9f-83d754400026",
   "metadata": {},
   "outputs": [
    {
     "name": "stdout",
     "output_type": "stream",
     "text": [
      "Downloading http://yann.lecun.com/exdb/mnist/train-images-idx3-ubyte.gz\n",
      "Failed to download (trying next):\n",
      "HTTP Error 403: Forbidden\n",
      "\n",
      "Downloading https://ossci-datasets.s3.amazonaws.com/mnist/train-images-idx3-ubyte.gz\n",
      "Downloading https://ossci-datasets.s3.amazonaws.com/mnist/train-images-idx3-ubyte.gz to ./data\\MNIST\\raw\\train-images-idx3-ubyte.gz\n"
     ]
    },
    {
     "name": "stderr",
     "output_type": "stream",
     "text": [
      "100%|██████████| 9912422/9912422 [00:01<00:00, 8782022.68it/s]\n"
     ]
    },
    {
     "name": "stdout",
     "output_type": "stream",
     "text": [
      "Extracting ./data\\MNIST\\raw\\train-images-idx3-ubyte.gz to ./data\\MNIST\\raw\n",
      "\n",
      "Downloading http://yann.lecun.com/exdb/mnist/train-labels-idx1-ubyte.gz\n",
      "Failed to download (trying next):\n",
      "HTTP Error 403: Forbidden\n",
      "\n",
      "Downloading https://ossci-datasets.s3.amazonaws.com/mnist/train-labels-idx1-ubyte.gz\n",
      "Downloading https://ossci-datasets.s3.amazonaws.com/mnist/train-labels-idx1-ubyte.gz to ./data\\MNIST\\raw\\train-labels-idx1-ubyte.gz\n"
     ]
    },
    {
     "name": "stderr",
     "output_type": "stream",
     "text": [
      "100%|██████████| 28881/28881 [00:00<00:00, 27418672.21it/s]"
     ]
    },
    {
     "name": "stdout",
     "output_type": "stream",
     "text": [
      "Extracting ./data\\MNIST\\raw\\train-labels-idx1-ubyte.gz to ./data\\MNIST\\raw\n"
     ]
    },
    {
     "name": "stderr",
     "output_type": "stream",
     "text": [
      "\n"
     ]
    },
    {
     "name": "stdout",
     "output_type": "stream",
     "text": [
      "\n",
      "Downloading http://yann.lecun.com/exdb/mnist/t10k-images-idx3-ubyte.gz\n",
      "Failed to download (trying next):\n",
      "HTTP Error 403: Forbidden\n",
      "\n",
      "Downloading https://ossci-datasets.s3.amazonaws.com/mnist/t10k-images-idx3-ubyte.gz\n",
      "Downloading https://ossci-datasets.s3.amazonaws.com/mnist/t10k-images-idx3-ubyte.gz to ./data\\MNIST\\raw\\t10k-images-idx3-ubyte.gz\n"
     ]
    },
    {
     "name": "stderr",
     "output_type": "stream",
     "text": [
      "100%|██████████| 1648877/1648877 [00:00<00:00, 15566655.40it/s]\n"
     ]
    },
    {
     "name": "stdout",
     "output_type": "stream",
     "text": [
      "Extracting ./data\\MNIST\\raw\\t10k-images-idx3-ubyte.gz to ./data\\MNIST\\raw\n",
      "\n",
      "Downloading http://yann.lecun.com/exdb/mnist/t10k-labels-idx1-ubyte.gz\n",
      "Failed to download (trying next):\n",
      "HTTP Error 403: Forbidden\n",
      "\n",
      "Downloading https://ossci-datasets.s3.amazonaws.com/mnist/t10k-labels-idx1-ubyte.gz\n",
      "Downloading https://ossci-datasets.s3.amazonaws.com/mnist/t10k-labels-idx1-ubyte.gz to ./data\\MNIST\\raw\\t10k-labels-idx1-ubyte.gz\n"
     ]
    },
    {
     "name": "stderr",
     "output_type": "stream",
     "text": [
      "100%|██████████| 4542/4542 [00:00<00:00, 1657576.68it/s]"
     ]
    },
    {
     "name": "stdout",
     "output_type": "stream",
     "text": [
      "Extracting ./data\\MNIST\\raw\\t10k-labels-idx1-ubyte.gz to ./data\\MNIST\\raw\n",
      "\n"
     ]
    },
    {
     "name": "stderr",
     "output_type": "stream",
     "text": [
      "\n"
     ]
    }
   ],
   "source": [
    "# Set the batch size\n",
    "batch_size = 64\n",
    "\n",
    "# MNIST Dataset (Images and Labels)\n",
    "train_dataset = dsets.MNIST(root ='./data', \n",
    "                            train = True, \n",
    "                            transform = transforms.ToTensor(),\n",
    "                            download = True)\n",
    "\n",
    "test_dataset = dsets.MNIST(root ='./data', \n",
    "                           train = False, \n",
    "                           transform = transforms.ToTensor())\n",
    "\n",
    "# Dataset Loader (Input Pipeline)\n",
    "train_loader = torch.utils.data.DataLoader(dataset = train_dataset, \n",
    "                                           batch_size = batch_size, \n",
    "                                           shuffle = True)\n",
    "\n",
    "test_loader = torch.utils.data.DataLoader(dataset = test_dataset, \n",
    "                                          batch_size = batch_size, \n",
    "                                          shuffle = False)\n"
   ]
  },
  {
   "cell_type": "code",
   "execution_count": 5,
   "id": "bf8dc507-75a4-42bd-9791-58d966dce7c5",
   "metadata": {},
   "outputs": [],
   "source": [
    "# Hyper Parameters \n",
    "input_size = 784\n",
    "num_classes = 10\n",
    "num_epochs = 5\n",
    "batch_size = 100\n",
    "learning_rate = 0.001"
   ]
  },
  {
   "cell_type": "code",
   "execution_count": 7,
   "id": "dae09ade-0104-4a43-b362-2d773789ed1d",
   "metadata": {},
   "outputs": [],
   "source": [
    "class LogisticRegression(nn.Module):\n",
    "    def __init__(self, input_size, num_classes):\n",
    "        super(LogisticRegression, self).__init__()\n",
    "        self.linear = nn.Linear(input_size, num_classes)\n",
    "\n",
    "    def forward(self, x):\n",
    "        out = self.linear(x)\n",
    "        return out"
   ]
  },
  {
   "cell_type": "code",
   "execution_count": 9,
   "id": "93cac10a-f324-4a1f-82ea-f299f4ca8492",
   "metadata": {},
   "outputs": [],
   "source": [
    "model = LogisticRegression(input_size, num_classes)"
   ]
  },
  {
   "cell_type": "code",
   "execution_count": 11,
   "id": "720feae9-f225-444c-b6aa-4fcb9b0748e8",
   "metadata": {},
   "outputs": [],
   "source": [
    "criterion = nn.CrossEntropyLoss()\n",
    "optimizer = torch.optim.SGD(model.parameters(), lr = learning_rate)"
   ]
  },
  {
   "cell_type": "code",
   "execution_count": 13,
   "id": "9045265c-d652-4ec8-bab7-66e19da9a5b9",
   "metadata": {},
   "outputs": [
    {
     "name": "stdout",
     "output_type": "stream",
     "text": [
      "Epoch: [ 1/ 5], Step: [ 100/ 600], Loss: 2.1930\n",
      "Epoch: [ 1/ 5], Step: [ 200/ 600], Loss: 2.0997\n",
      "Epoch: [ 1/ 5], Step: [ 300/ 600], Loss: 1.9387\n",
      "Epoch: [ 1/ 5], Step: [ 400/ 600], Loss: 1.9121\n",
      "Epoch: [ 1/ 5], Step: [ 500/ 600], Loss: 1.8596\n",
      "Epoch: [ 1/ 5], Step: [ 600/ 600], Loss: 1.8159\n",
      "Epoch: [ 1/ 5], Step: [ 700/ 600], Loss: 1.5801\n",
      "Epoch: [ 1/ 5], Step: [ 800/ 600], Loss: 1.6859\n",
      "Epoch: [ 1/ 5], Step: [ 900/ 600], Loss: 1.6292\n",
      "Epoch: [ 2/ 5], Step: [ 100/ 600], Loss: 1.6065\n",
      "Epoch: [ 2/ 5], Step: [ 200/ 600], Loss: 1.4616\n",
      "Epoch: [ 2/ 5], Step: [ 300/ 600], Loss: 1.4356\n",
      "Epoch: [ 2/ 5], Step: [ 400/ 600], Loss: 1.4297\n",
      "Epoch: [ 2/ 5], Step: [ 500/ 600], Loss: 1.3133\n",
      "Epoch: [ 2/ 5], Step: [ 600/ 600], Loss: 1.4129\n",
      "Epoch: [ 2/ 5], Step: [ 700/ 600], Loss: 1.2791\n",
      "Epoch: [ 2/ 5], Step: [ 800/ 600], Loss: 1.3127\n",
      "Epoch: [ 2/ 5], Step: [ 900/ 600], Loss: 1.2652\n",
      "Epoch: [ 3/ 5], Step: [ 100/ 600], Loss: 1.3101\n",
      "Epoch: [ 3/ 5], Step: [ 200/ 600], Loss: 1.2378\n",
      "Epoch: [ 3/ 5], Step: [ 300/ 600], Loss: 1.0639\n",
      "Epoch: [ 3/ 5], Step: [ 400/ 600], Loss: 1.2313\n",
      "Epoch: [ 3/ 5], Step: [ 500/ 600], Loss: 1.1432\n",
      "Epoch: [ 3/ 5], Step: [ 600/ 600], Loss: 0.9405\n",
      "Epoch: [ 3/ 5], Step: [ 700/ 600], Loss: 1.2070\n",
      "Epoch: [ 3/ 5], Step: [ 800/ 600], Loss: 1.1263\n",
      "Epoch: [ 3/ 5], Step: [ 900/ 600], Loss: 0.9819\n",
      "Epoch: [ 4/ 5], Step: [ 100/ 600], Loss: 0.9570\n",
      "Epoch: [ 4/ 5], Step: [ 200/ 600], Loss: 1.1586\n",
      "Epoch: [ 4/ 5], Step: [ 300/ 600], Loss: 0.9187\n",
      "Epoch: [ 4/ 5], Step: [ 400/ 600], Loss: 0.8114\n",
      "Epoch: [ 4/ 5], Step: [ 500/ 600], Loss: 0.9355\n",
      "Epoch: [ 4/ 5], Step: [ 600/ 600], Loss: 1.0459\n",
      "Epoch: [ 4/ 5], Step: [ 700/ 600], Loss: 0.9760\n",
      "Epoch: [ 4/ 5], Step: [ 800/ 600], Loss: 0.8979\n",
      "Epoch: [ 4/ 5], Step: [ 900/ 600], Loss: 0.9604\n",
      "Epoch: [ 5/ 5], Step: [ 100/ 600], Loss: 0.8167\n",
      "Epoch: [ 5/ 5], Step: [ 200/ 600], Loss: 0.8187\n",
      "Epoch: [ 5/ 5], Step: [ 300/ 600], Loss: 0.8516\n",
      "Epoch: [ 5/ 5], Step: [ 400/ 600], Loss: 0.8743\n",
      "Epoch: [ 5/ 5], Step: [ 500/ 600], Loss: 0.9881\n",
      "Epoch: [ 5/ 5], Step: [ 600/ 600], Loss: 0.8147\n",
      "Epoch: [ 5/ 5], Step: [ 700/ 600], Loss: 0.8895\n",
      "Epoch: [ 5/ 5], Step: [ 800/ 600], Loss: 0.8026\n",
      "Epoch: [ 5/ 5], Step: [ 900/ 600], Loss: 0.8366\n"
     ]
    }
   ],
   "source": [
    "# Training the Model \n",
    "for epoch in range(num_epochs): \n",
    "    for i, (images, labels) in enumerate(train_loader): \n",
    "        images = Variable(images.view(-1, 28 * 28)) \n",
    "        labels = Variable(labels) \n",
    "\n",
    "        # Forward + Backward + Optimize \n",
    "        optimizer.zero_grad() \n",
    "        outputs = model(images) \n",
    "        loss = criterion(outputs, labels) \n",
    "        loss.backward() \n",
    "        optimizer.step() \n",
    "\n",
    "        if (i + 1) % 100 == 0: \n",
    "            print('Epoch: [% d/% d], Step: [% d/% d], Loss: %.4f'\n",
    "                % (epoch + 1, num_epochs, i + 1, \n",
    "                    len(train_dataset) // batch_size, loss.item())) # Use loss.item() to get the scalar value"
   ]
  },
  {
   "cell_type": "code",
   "execution_count": 15,
   "id": "8c6669b0-32fd-4846-b6a1-3d4365a134ab",
   "metadata": {},
   "outputs": [
    {
     "name": "stdout",
     "output_type": "stream",
     "text": [
      "Accuracy of the model on the 10000 test images:  84 %\n"
     ]
    }
   ],
   "source": [
    "# Test the Model\n",
    "correct = 0\n",
    "total = 0\n",
    "for images, labels in test_loader:\n",
    "    images = Variable(images.view(-1, 28 * 28))\n",
    "    outputs = model(images)\n",
    "    _, predicted = torch.max(outputs.data, 1)\n",
    "    total += labels.size(0)\n",
    "    correct += (predicted == labels).sum()\n",
    "\n",
    "print('Accuracy of the model on the 10000 test images: % d %%' % (\n",
    "            100 * correct / total))"
   ]
  },
  {
   "cell_type": "code",
   "execution_count": 17,
   "id": "586e37bf-8e1b-4157-96e6-4e66b732f409",
   "metadata": {},
   "outputs": [
    {
     "name": "stdout",
     "output_type": "stream",
     "text": [
      "Epoch: [ 1/ 5], Step: [ 100/ 600], Loss: 2.2108\n",
      "Epoch: [ 1/ 5], Step: [ 200/ 600], Loss: 2.0826\n",
      "Epoch: [ 1/ 5], Step: [ 300/ 600], Loss: 2.0222\n",
      "Epoch: [ 1/ 5], Step: [ 400/ 600], Loss: 1.9388\n",
      "Epoch: [ 1/ 5], Step: [ 500/ 600], Loss: 1.8609\n",
      "Epoch: [ 1/ 5], Step: [ 600/ 600], Loss: 1.7716\n",
      "Epoch: [ 2/ 5], Step: [ 100/ 600], Loss: 1.7669\n",
      "Epoch: [ 2/ 5], Step: [ 200/ 600], Loss: 1.6464\n",
      "Epoch: [ 2/ 5], Step: [ 300/ 600], Loss: 1.6363\n",
      "Epoch: [ 2/ 5], Step: [ 400/ 600], Loss: 1.5519\n",
      "Epoch: [ 2/ 5], Step: [ 500/ 600], Loss: 1.5032\n",
      "Epoch: [ 2/ 5], Step: [ 600/ 600], Loss: 1.4505\n",
      "Epoch: [ 3/ 5], Step: [ 100/ 600], Loss: 1.4290\n",
      "Epoch: [ 3/ 5], Step: [ 200/ 600], Loss: 1.3606\n",
      "Epoch: [ 3/ 5], Step: [ 300/ 600], Loss: 1.3023\n",
      "Epoch: [ 3/ 5], Step: [ 400/ 600], Loss: 1.3063\n",
      "Epoch: [ 3/ 5], Step: [ 500/ 600], Loss: 1.2950\n",
      "Epoch: [ 3/ 5], Step: [ 600/ 600], Loss: 1.2495\n",
      "Epoch: [ 4/ 5], Step: [ 100/ 600], Loss: 1.1873\n",
      "Epoch: [ 4/ 5], Step: [ 200/ 600], Loss: 1.1694\n",
      "Epoch: [ 4/ 5], Step: [ 300/ 600], Loss: 1.2498\n",
      "Epoch: [ 4/ 5], Step: [ 400/ 600], Loss: 1.1336\n",
      "Epoch: [ 4/ 5], Step: [ 500/ 600], Loss: 1.0433\n",
      "Epoch: [ 4/ 5], Step: [ 600/ 600], Loss: 1.1362\n",
      "Epoch: [ 5/ 5], Step: [ 100/ 600], Loss: 1.0332\n",
      "Epoch: [ 5/ 5], Step: [ 200/ 600], Loss: 1.0453\n",
      "Epoch: [ 5/ 5], Step: [ 300/ 600], Loss: 1.0200\n",
      "Epoch: [ 5/ 5], Step: [ 400/ 600], Loss: 1.0385\n",
      "Epoch: [ 5/ 5], Step: [ 500/ 600], Loss: 1.0476\n",
      "Epoch: [ 5/ 5], Step: [ 600/ 600], Loss: 1.0522\n",
      "Accuracy of the model on the 10000 test images:  83 %\n"
     ]
    }
   ],
   "source": [
    "import torch \n",
    "import torch.nn as nn \n",
    "import torchvision.datasets as dsets \n",
    "import torchvision.transforms as transforms \n",
    "from torch.autograd import Variable \n",
    "\n",
    "\n",
    "# MNIST Dataset (Images and Labels) \n",
    "train_dataset = dsets.MNIST(root ='./data', \n",
    "                            train = True, \n",
    "                            transform = transforms.ToTensor(), \n",
    "                            download = True) \n",
    "\n",
    "test_dataset = dsets.MNIST(root ='./data', \n",
    "                        train = False, \n",
    "                        transform = transforms.ToTensor()) \n",
    "\n",
    "# Dataset Loader (Input Pipeline) \n",
    "train_loader = torch.utils.data.DataLoader(dataset = train_dataset, \n",
    "                                        batch_size = batch_size, \n",
    "                                        shuffle = True) \n",
    "\n",
    "test_loader = torch.utils.data.DataLoader(dataset = test_dataset, \n",
    "                                        batch_size = batch_size, \n",
    "                                        shuffle = False) \n",
    "\n",
    "# Hyper Parameters \n",
    "input_size = 784\n",
    "num_classes = 10\n",
    "num_epochs = 5\n",
    "batch_size = 100\n",
    "learning_rate = 0.001\n",
    "\n",
    "# Model \n",
    "class LogisticRegression(nn.Module): \n",
    "    def __init__(self, input_size, num_classes): \n",
    "        super(LogisticRegression, self).__init__() \n",
    "        self.linear = nn.Linear(input_size, num_classes) \n",
    "\n",
    "    def forward(self, x): \n",
    "        out = self.linear(x) \n",
    "        return out \n",
    "\n",
    "\n",
    "model = LogisticRegression(input_size, num_classes) \n",
    "\n",
    "# Loss and Optimizer \n",
    "# Softmax is internally computed. \n",
    "# Set parameters to be updated. \n",
    "criterion = nn.CrossEntropyLoss() \n",
    "optimizer = torch.optim.SGD(model.parameters(), lr = learning_rate) \n",
    "\n",
    "# Training the Model \n",
    "for epoch in range(num_epochs): \n",
    "    for i, (images, labels) in enumerate(train_loader): \n",
    "        images = Variable(images.view(-1, 28 * 28)) \n",
    "        labels = Variable(labels) \n",
    "\n",
    "        # Forward + Backward + Optimize \n",
    "        optimizer.zero_grad() \n",
    "        outputs = model(images) \n",
    "        loss = criterion(outputs, labels) \n",
    "        loss.backward() \n",
    "        optimizer.step() \n",
    "\n",
    "        if (i + 1) % 100 == 0: \n",
    "            print('Epoch: [% d/% d], Step: [% d/% d], Loss: %.4f'\n",
    "                % (epoch + 1, num_epochs, i + 1, \n",
    "                    len(train_dataset) // batch_size, loss.item())) \n",
    "\n",
    "# Test the Model \n",
    "correct = 0\n",
    "total = 0\n",
    "for images, labels in test_loader: \n",
    "    images = Variable(images.view(-1, 28 * 28)) \n",
    "    outputs = model(images) \n",
    "    _, predicted = torch.max(outputs.data, 1) \n",
    "    total += labels.size(0) \n",
    "    correct += (predicted == labels).sum() \n",
    "\n",
    "print('Accuracy of the model on the 10000 test images: % d %%' % ( \n",
    "            100 * correct / total)) "
   ]
  }
 ],
 "metadata": {
  "kernelspec": {
   "display_name": "Python 3 (ipykernel)",
   "language": "python",
   "name": "python3"
  },
  "language_info": {
   "codemirror_mode": {
    "name": "ipython",
    "version": 3
   },
   "file_extension": ".py",
   "mimetype": "text/x-python",
   "name": "python",
   "nbconvert_exporter": "python",
   "pygments_lexer": "ipython3",
   "version": "3.12.4"
  }
 },
 "nbformat": 4,
 "nbformat_minor": 5
}
