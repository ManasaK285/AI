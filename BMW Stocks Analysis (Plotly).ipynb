{
 "cells": [
  {
   "cell_type": "code",
   "execution_count": 1,
   "id": "2ea05e10-78fc-4eaf-901b-6e87bce2e96c",
   "metadata": {},
   "outputs": [],
   "source": [
    "import pandas as pd\n",
    "import numpy as np\n",
    "import plotly.graph_objects as go\n",
    "import plotly.express as px\n",
    "from plotly.subplots import make_subplots\n",
    "import plotly.io as pio\n",
    "from statsmodels.tsa.seasonal import seasonal_decompose\n",
    "import warnings"
   ]
  },
  {
   "cell_type": "code",
   "execution_count": 2,
   "id": "b04d3758-4959-4957-ab1f-27ff4ea87d66",
   "metadata": {},
   "outputs": [],
   "source": [
    "pio.renderers.default = 'iframe'\n",
    "warnings.filterwarnings(\"ignore\")"
   ]
  },
  {
   "cell_type": "code",
   "execution_count": 3,
   "id": "7688d29e-eb87-4264-8d30-4d45284267b8",
   "metadata": {},
   "outputs": [],
   "source": [
    "df = pd.read_csv(r\"C:\\Users\\dell\\Desktop\\MyDocs\\Docs\\MK\\BMW_Data.csv\")"
   ]
  },
  {
   "cell_type": "code",
   "execution_count": 4,
   "id": "60f5f875-0ce2-4da1-9e88-431f38e8558b",
   "metadata": {},
   "outputs": [
    {
     "data": {
      "text/html": [
       "<div>\n",
       "<style scoped>\n",
       "    .dataframe tbody tr th:only-of-type {\n",
       "        vertical-align: middle;\n",
       "    }\n",
       "\n",
       "    .dataframe tbody tr th {\n",
       "        vertical-align: top;\n",
       "    }\n",
       "\n",
       "    .dataframe thead th {\n",
       "        text-align: right;\n",
       "    }\n",
       "</style>\n",
       "<table border=\"1\" class=\"dataframe\">\n",
       "  <thead>\n",
       "    <tr style=\"text-align: right;\">\n",
       "      <th></th>\n",
       "      <th>Date</th>\n",
       "      <th>Adj_Close</th>\n",
       "      <th>Close</th>\n",
       "      <th>High</th>\n",
       "      <th>Low</th>\n",
       "      <th>Open</th>\n",
       "      <th>Volume</th>\n",
       "    </tr>\n",
       "  </thead>\n",
       "  <tbody>\n",
       "    <tr>\n",
       "      <th>0</th>\n",
       "      <td>1996-11-08</td>\n",
       "      <td>8.100290</td>\n",
       "      <td>18.171000</td>\n",
       "      <td>18.209999</td>\n",
       "      <td>18.171000</td>\n",
       "      <td>18.209999</td>\n",
       "      <td>767000</td>\n",
       "    </tr>\n",
       "    <tr>\n",
       "      <th>1</th>\n",
       "      <td>1996-11-11</td>\n",
       "      <td>8.078445</td>\n",
       "      <td>18.122000</td>\n",
       "      <td>18.200001</td>\n",
       "      <td>18.082001</td>\n",
       "      <td>18.190001</td>\n",
       "      <td>260000</td>\n",
       "    </tr>\n",
       "    <tr>\n",
       "      <th>2</th>\n",
       "      <td>1996-11-12</td>\n",
       "      <td>8.139520</td>\n",
       "      <td>18.259001</td>\n",
       "      <td>18.327999</td>\n",
       "      <td>18.091999</td>\n",
       "      <td>18.160999</td>\n",
       "      <td>1066000</td>\n",
       "    </tr>\n",
       "    <tr>\n",
       "      <th>3</th>\n",
       "      <td>1996-11-13</td>\n",
       "      <td>8.126592</td>\n",
       "      <td>18.230000</td>\n",
       "      <td>18.344000</td>\n",
       "      <td>18.190001</td>\n",
       "      <td>18.344000</td>\n",
       "      <td>793000</td>\n",
       "    </tr>\n",
       "    <tr>\n",
       "      <th>4</th>\n",
       "      <td>1996-11-14</td>\n",
       "      <td>8.152893</td>\n",
       "      <td>18.289000</td>\n",
       "      <td>18.289000</td>\n",
       "      <td>18.132000</td>\n",
       "      <td>18.205000</td>\n",
       "      <td>351000</td>\n",
       "    </tr>\n",
       "  </tbody>\n",
       "</table>\n",
       "</div>"
      ],
      "text/plain": [
       "         Date  Adj_Close      Close       High        Low       Open   Volume\n",
       "0  1996-11-08   8.100290  18.171000  18.209999  18.171000  18.209999   767000\n",
       "1  1996-11-11   8.078445  18.122000  18.200001  18.082001  18.190001   260000\n",
       "2  1996-11-12   8.139520  18.259001  18.327999  18.091999  18.160999  1066000\n",
       "3  1996-11-13   8.126592  18.230000  18.344000  18.190001  18.344000   793000\n",
       "4  1996-11-14   8.152893  18.289000  18.289000  18.132000  18.205000   351000"
      ]
     },
     "execution_count": 4,
     "metadata": {},
     "output_type": "execute_result"
    }
   ],
   "source": [
    "df.head()"
   ]
  },
  {
   "cell_type": "code",
   "execution_count": 5,
   "id": "e0031b44-496c-4ae7-93f1-d045a502d3e9",
   "metadata": {},
   "outputs": [
    {
     "name": "stdout",
     "output_type": "stream",
     "text": [
      "<class 'pandas.core.frame.DataFrame'>\n",
      "RangeIndex: 7212 entries, 0 to 7211\n",
      "Data columns (total 7 columns):\n",
      " #   Column     Non-Null Count  Dtype  \n",
      "---  ------     --------------  -----  \n",
      " 0   Date       7212 non-null   object \n",
      " 1   Adj_Close  7212 non-null   float64\n",
      " 2   Close      7212 non-null   float64\n",
      " 3   High       7212 non-null   float64\n",
      " 4   Low        7212 non-null   float64\n",
      " 5   Open       7212 non-null   float64\n",
      " 6   Volume     7212 non-null   int64  \n",
      "dtypes: float64(5), int64(1), object(1)\n",
      "memory usage: 394.5+ KB\n"
     ]
    }
   ],
   "source": [
    "df.info()"
   ]
  },
  {
   "cell_type": "code",
   "execution_count": 6,
   "id": "b6034c84-b05f-4368-8a51-7a942443f168",
   "metadata": {},
   "outputs": [
    {
     "data": {
      "text/html": [
       "<div>\n",
       "<style scoped>\n",
       "    .dataframe tbody tr th:only-of-type {\n",
       "        vertical-align: middle;\n",
       "    }\n",
       "\n",
       "    .dataframe tbody tr th {\n",
       "        vertical-align: top;\n",
       "    }\n",
       "\n",
       "    .dataframe thead th {\n",
       "        text-align: right;\n",
       "    }\n",
       "</style>\n",
       "<table border=\"1\" class=\"dataframe\">\n",
       "  <thead>\n",
       "    <tr style=\"text-align: right;\">\n",
       "      <th></th>\n",
       "      <th>count</th>\n",
       "      <th>mean</th>\n",
       "      <th>std</th>\n",
       "      <th>min</th>\n",
       "      <th>25%</th>\n",
       "      <th>50%</th>\n",
       "      <th>75%</th>\n",
       "      <th>max</th>\n",
       "    </tr>\n",
       "  </thead>\n",
       "  <tbody>\n",
       "    <tr>\n",
       "      <th>High</th>\n",
       "      <td>7212.0</td>\n",
       "      <td>5.711114e+01</td>\n",
       "      <td>2.541515e+01</td>\n",
       "      <td>17.815001</td>\n",
       "      <td>3.490000e+01</td>\n",
       "      <td>5.009500e+01</td>\n",
       "      <td>8.010500e+01</td>\n",
       "      <td>1.237500e+02</td>\n",
       "    </tr>\n",
       "    <tr>\n",
       "      <th>Low</th>\n",
       "      <td>7212.0</td>\n",
       "      <td>5.572069e+01</td>\n",
       "      <td>2.505566e+01</td>\n",
       "      <td>16.000000</td>\n",
       "      <td>3.388750e+01</td>\n",
       "      <td>4.875250e+01</td>\n",
       "      <td>7.834250e+01</td>\n",
       "      <td>1.203500e+02</td>\n",
       "    </tr>\n",
       "    <tr>\n",
       "      <th>Open</th>\n",
       "      <td>7212.0</td>\n",
       "      <td>5.644673e+01</td>\n",
       "      <td>2.525226e+01</td>\n",
       "      <td>17.280001</td>\n",
       "      <td>3.446500e+01</td>\n",
       "      <td>4.926750e+01</td>\n",
       "      <td>7.938000e+01</td>\n",
       "      <td>1.233000e+02</td>\n",
       "    </tr>\n",
       "    <tr>\n",
       "      <th>Close</th>\n",
       "      <td>7212.0</td>\n",
       "      <td>5.642753e+01</td>\n",
       "      <td>2.524589e+01</td>\n",
       "      <td>17.040001</td>\n",
       "      <td>3.445750e+01</td>\n",
       "      <td>4.937250e+01</td>\n",
       "      <td>7.933250e+01</td>\n",
       "      <td>1.226000e+02</td>\n",
       "    </tr>\n",
       "    <tr>\n",
       "      <th>Adj_Close</th>\n",
       "      <td>7212.0</td>\n",
       "      <td>3.602020e+01</td>\n",
       "      <td>2.364110e+01</td>\n",
       "      <td>8.065074</td>\n",
       "      <td>1.644325e+01</td>\n",
       "      <td>2.632921e+01</td>\n",
       "      <td>5.332921e+01</td>\n",
       "      <td>1.080590e+02</td>\n",
       "    </tr>\n",
       "    <tr>\n",
       "      <th>Volume</th>\n",
       "      <td>7212.0</td>\n",
       "      <td>2.107946e+06</td>\n",
       "      <td>1.467180e+06</td>\n",
       "      <td>0.000000</td>\n",
       "      <td>1.194308e+06</td>\n",
       "      <td>1.793778e+06</td>\n",
       "      <td>2.636572e+06</td>\n",
       "      <td>2.871954e+07</td>\n",
       "    </tr>\n",
       "  </tbody>\n",
       "</table>\n",
       "</div>"
      ],
      "text/plain": [
       "            count          mean           std        min           25%  \\\n",
       "High       7212.0  5.711114e+01  2.541515e+01  17.815001  3.490000e+01   \n",
       "Low        7212.0  5.572069e+01  2.505566e+01  16.000000  3.388750e+01   \n",
       "Open       7212.0  5.644673e+01  2.525226e+01  17.280001  3.446500e+01   \n",
       "Close      7212.0  5.642753e+01  2.524589e+01  17.040001  3.445750e+01   \n",
       "Adj_Close  7212.0  3.602020e+01  2.364110e+01   8.065074  1.644325e+01   \n",
       "Volume     7212.0  2.107946e+06  1.467180e+06   0.000000  1.194308e+06   \n",
       "\n",
       "                    50%           75%           max  \n",
       "High       5.009500e+01  8.010500e+01  1.237500e+02  \n",
       "Low        4.875250e+01  7.834250e+01  1.203500e+02  \n",
       "Open       4.926750e+01  7.938000e+01  1.233000e+02  \n",
       "Close      4.937250e+01  7.933250e+01  1.226000e+02  \n",
       "Adj_Close  2.632921e+01  5.332921e+01  1.080590e+02  \n",
       "Volume     1.793778e+06  2.636572e+06  2.871954e+07  "
      ]
     },
     "execution_count": 6,
     "metadata": {},
     "output_type": "execute_result"
    }
   ],
   "source": [
    "df[['High', 'Low', 'Open', 'Close', 'Adj_Close', 'Volume']].describe().transpose()"
   ]
  },
  {
   "cell_type": "code",
   "execution_count": 7,
   "id": "a43c7503-dc8d-4630-9048-ffc0d451cd34",
   "metadata": {},
   "outputs": [],
   "source": [
    "df['Date'] = pd.to_datetime(df['Date'])\n",
    "\n",
    "df['Year'] = df['Date'].dt.year\n",
    "df['Month'] = df['Date'].dt.month\n",
    "df['Day'] = df['Date'].dt.day"
   ]
  },
  {
   "cell_type": "code",
   "execution_count": 8,
   "id": "79b2f692-ef1c-47c1-80a5-a97b4c2c8c67",
   "metadata": {},
   "outputs": [],
   "source": [
    "outliers = {}\n",
    "for column in ['High', 'Low', 'Open', 'Close', 'Adj_Close', 'Volume']:\n",
    "    Q1 = df[column].quantile(0.25)\n",
    "    Q3 = df[column].quantile(0.75)\n",
    "    IQR = Q3 - Q1\n",
    "    outliers[column] = df[(df[column] < Q1 - 1.5 * IQR) | (df[column] > Q3 + 1.5 * IQR)]\n",
    "\n",
    "# Highest and lowest stock prices and volumes by day/month\n",
    "highest_prices = df.loc[df['Adj_Close'].idxmax()]\n",
    "lowest_prices = df.loc[df['Adj_Close'].idxmin()]\n",
    "highest_volume = df.loc[df['Volume'].idxmax()]\n",
    "lowest_volume = df.loc[df['Volume'].idxmin()]"
   ]
  },
  {
   "cell_type": "code",
   "execution_count": 9,
   "id": "a32f8b71-18dd-4468-b55a-99ddad83ebd5",
   "metadata": {},
   "outputs": [
    {
     "data": {
      "text/plain": [
       "Date         2024-04-08 00:00:00\n",
       "Adj_Close             108.059044\n",
       "Close                     114.75\n",
       "High                      114.75\n",
       "Low                       112.75\n",
       "Open                  113.199997\n",
       "Volume                    827527\n",
       "Year                        2024\n",
       "Month                          4\n",
       "Day                            8\n",
       "Name: 7025, dtype: object"
      ]
     },
     "execution_count": 9,
     "metadata": {},
     "output_type": "execute_result"
    }
   ],
   "source": [
    "highest_prices"
   ]
  },
  {
   "cell_type": "code",
   "execution_count": 10,
   "id": "51bde94c-150e-44e6-b291-5ae9a6c89886",
   "metadata": {},
   "outputs": [
    {
     "data": {
      "text/plain": [
       "Date         2024-04-08 00:00:00\n",
       "Adj_Close             108.059044\n",
       "Close                     114.75\n",
       "High                      114.75\n",
       "Low                       112.75\n",
       "Open                  113.199997\n",
       "Volume                    827527\n",
       "Year                        2024\n",
       "Month                          4\n",
       "Day                            8\n",
       "Name: 7025, dtype: object"
      ]
     },
     "execution_count": 10,
     "metadata": {},
     "output_type": "execute_result"
    }
   ],
   "source": [
    "highest_prices"
   ]
  },
  {
   "cell_type": "code",
   "execution_count": 11,
   "id": "9d154679-839f-4492-bb3c-dce1ffa144d5",
   "metadata": {},
   "outputs": [
    {
     "data": {
      "text/plain": [
       "Date         2000-03-17 00:00:00\n",
       "Adj_Close              13.368979\n",
       "Close                      29.99\n",
       "High                       33.09\n",
       "Low                    29.610001\n",
       "Open                        32.5\n",
       "Volume                  28719542\n",
       "Year                        2000\n",
       "Month                          3\n",
       "Day                           17\n",
       "Name: 875, dtype: object"
      ]
     },
     "execution_count": 11,
     "metadata": {},
     "output_type": "execute_result"
    }
   ],
   "source": [
    "highest_volume"
   ]
  },
  {
   "cell_type": "code",
   "execution_count": 12,
   "id": "33210d65-b013-42b7-95d9-f791aad2d238",
   "metadata": {},
   "outputs": [
    {
     "data": {
      "text/plain": [
       "Date         1996-12-24 00:00:00\n",
       "Adj_Close               9.238817\n",
       "Close                     20.725\n",
       "High                      20.725\n",
       "Low                       20.725\n",
       "Open                      20.725\n",
       "Volume                         0\n",
       "Year                        1996\n",
       "Month                         12\n",
       "Day                           24\n",
       "Name: 32, dtype: object"
      ]
     },
     "execution_count": 12,
     "metadata": {},
     "output_type": "execute_result"
    }
   ],
   "source": [
    "lowest_volume"
   ]
  },
  {
   "cell_type": "code",
   "execution_count": 13,
   "id": "341e1e5e-e341-4194-a2a4-60ed77f31359",
   "metadata": {},
   "outputs": [
    {
     "data": {
      "text/html": [
       "<iframe\n",
       "    scrolling=\"no\"\n",
       "    width=\"100%\"\n",
       "    height=\"545px\"\n",
       "    src=\"iframe_figures/figure_13.html\"\n",
       "    frameborder=\"0\"\n",
       "    allowfullscreen\n",
       "></iframe>\n"
      ]
     },
     "metadata": {},
     "output_type": "display_data"
    }
   ],
   "source": [
    "monthly_avg = df.groupby(['Year', 'Month'])['Adj_Close'].mean().reset_index()\n",
    "monthly_avg['Year-Month'] = monthly_avg['Year'].astype(str) + '-' + monthly_avg['Month'].astype(str).str.zfill(2)\n",
    "\n",
    "fig1 = px.line(\n",
    "    monthly_avg,\n",
    "    x='Year-Month',\n",
    "    y='Adj_Close',\n",
    "    title='Monthly Average Adjusted Close Price',\n",
    "    labels={'Adj_Close': 'Average Adj Close Price', 'Year-Month': 'Year-Month'}\n",
    ")\n",
    "fig1.update_layout(plot_bgcolor='black', paper_bgcolor='black', font_color='white')\n",
    "fig1.show()"
   ]
  },
  {
   "cell_type": "code",
   "execution_count": 14,
   "id": "1668bf51-269c-43c4-8464-51f56f1b3c83",
   "metadata": {},
   "outputs": [
    {
     "data": {
      "text/html": [
       "<iframe\n",
       "    scrolling=\"no\"\n",
       "    width=\"100%\"\n",
       "    height=\"545px\"\n",
       "    src=\"iframe_figures/figure_14.html\"\n",
       "    frameborder=\"0\"\n",
       "    allowfullscreen\n",
       "></iframe>\n"
      ]
     },
     "metadata": {},
     "output_type": "display_data"
    }
   ],
   "source": [
    "fig2 = px.bar(\n",
    "    df,\n",
    "    x='Date',\n",
    "    y='Volume',\n",
    "    title='Volume Over Time',\n",
    "    labels={'Volume': 'Trading Volume', 'Date': 'Date'},\n",
    "    template='plotly_dark'\n",
    ")\n",
    "fig2.update_layout(plot_bgcolor='black', paper_bgcolor='black', font_color='white')\n",
    "fig2.show()"
   ]
  },
  {
   "cell_type": "code",
   "execution_count": 15,
   "id": "eb3bec7c-0b8b-4892-95e6-6ad34b1514b8",
   "metadata": {},
   "outputs": [],
   "source": [
    "# Calculating additional metrics for analysis\n",
    "df['Daily_Change'] = df['High'] - df['Low']"
   ]
  },
  {
   "cell_type": "code",
   "execution_count": 16,
   "id": "08a4f4a6-9f85-4f75-9533-3bfa5a9f19c0",
   "metadata": {},
   "outputs": [
    {
     "data": {
      "text/html": [
       "<iframe\n",
       "    scrolling=\"no\"\n",
       "    width=\"100%\"\n",
       "    height=\"545px\"\n",
       "    src=\"iframe_figures/figure_16.html\"\n",
       "    frameborder=\"0\"\n",
       "    allowfullscreen\n",
       "></iframe>\n"
      ]
     },
     "metadata": {},
     "output_type": "display_data"
    }
   ],
   "source": [
    "yearly_trends = df.groupby('Year')['Adj_Close'].mean().reset_index()\n",
    "\n",
    "fig1 = px.line(\n",
    "    yearly_trends,\n",
    "    x='Year',\n",
    "    y='Adj_Close',\n",
    "    title='Yearly Average Adjusted Close Price',\n",
    "    labels={'Adj_Close': 'Average Adj Close Price', 'Year': 'Year'},\n",
    ")\n",
    "fig1.update_layout(plot_bgcolor='black', paper_bgcolor='black', font_color='white')\n",
    "fig1.show()"
   ]
  },
  {
   "cell_type": "code",
   "execution_count": 17,
   "id": "27d1e208-ba6e-41ab-8ac3-9161cbcce011",
   "metadata": {},
   "outputs": [
    {
     "data": {
      "text/html": [
       "<iframe\n",
       "    scrolling=\"no\"\n",
       "    width=\"100%\"\n",
       "    height=\"545px\"\n",
       "    src=\"iframe_figures/figure_17.html\"\n",
       "    frameborder=\"0\"\n",
       "    allowfullscreen\n",
       "></iframe>\n"
      ]
     },
     "metadata": {},
     "output_type": "display_data"
    }
   ],
   "source": [
    "monthly_trends = df.groupby(['Year', 'Month'])['Adj_Close'].mean().reset_index()\n",
    "monthly_trends['Year-Month'] = monthly_trends['Year'].astype(str) + '-' + monthly_trends['Month'].astype(str).str.zfill(2)\n",
    "\n",
    "fig2 = px.line(\n",
    "    monthly_trends,\n",
    "    x='Year-Month',\n",
    "    y='Adj_Close',\n",
    "    title='Monthly Average Adjusted Close Price',\n",
    "    labels={'Adj_Close': 'Average Adj Close Price', 'Year-Month': 'Year-Month'}\n",
    ")\n",
    "fig2.update_layout(plot_bgcolor='black', paper_bgcolor='black', font_color='white')\n",
    "fig2.show()"
   ]
  },
  {
   "cell_type": "code",
   "execution_count": 18,
   "id": "026a21ea-0d54-4642-a027-db6b8df44188",
   "metadata": {},
   "outputs": [
    {
     "data": {
      "text/html": [
       "<iframe\n",
       "    scrolling=\"no\"\n",
       "    width=\"100%\"\n",
       "    height=\"545px\"\n",
       "    src=\"iframe_figures/figure_18.html\"\n",
       "    frameborder=\"0\"\n",
       "    allowfullscreen\n",
       "></iframe>\n"
      ]
     },
     "metadata": {},
     "output_type": "display_data"
    }
   ],
   "source": [
    "volatility = df.groupby('Year')['Daily_Change'].mean().reset_index()\n",
    "\n",
    "fig3 = px.bar(\n",
    "    volatility,\n",
    "    x='Year',\n",
    "    y='Daily_Change',\n",
    "    title='Average Yearly Volatility (High - Low)',\n",
    "    labels={'Daily_Change': 'Average Daily Price Change', 'Year': 'Year'}\n",
    ")\n",
    "fig3.update_layout(plot_bgcolor='black', paper_bgcolor='black', font_color='white')\n",
    "fig3.show()"
   ]
  },
  {
   "cell_type": "code",
   "execution_count": 19,
   "id": "c73d43e9-e202-45e1-ae92-2f6160023527",
   "metadata": {},
   "outputs": [
    {
     "data": {
      "text/html": [
       "<iframe\n",
       "    scrolling=\"no\"\n",
       "    width=\"100%\"\n",
       "    height=\"545px\"\n",
       "    src=\"iframe_figures/figure_19.html\"\n",
       "    frameborder=\"0\"\n",
       "    allowfullscreen\n",
       "></iframe>\n"
      ]
     },
     "metadata": {},
     "output_type": "display_data"
    }
   ],
   "source": [
    "volume_analysis = df.groupby(['Year', 'Month'])['Volume'].sum().reset_index()\n",
    "volume_analysis['Year-Month'] = volume_analysis['Year'].astype(str) + '-' + volume_analysis['Month'].astype(str).str.zfill(2)\n",
    "\n",
    "fig4 = px.bar(\n",
    "    volume_analysis,\n",
    "    x='Year-Month',\n",
    "    y='Volume',\n",
    "    title='Monthly Trading Volume',\n",
    "    labels={'Volume': 'Total Trading Volume', 'Year-Month': 'Year-Month'},\n",
    ")\n",
    "fig4.update_layout(plot_bgcolor='black', paper_bgcolor='black', font_color='white')\n",
    "fig4.show()"
   ]
  },
  {
   "cell_type": "code",
   "execution_count": 20,
   "id": "74151d30-8b7a-4991-ab2c-3c3b5a0392bd",
   "metadata": {},
   "outputs": [],
   "source": [
    "price_columns = ['High', 'Low', 'Open', 'Close', 'Adj_Close']\n",
    "price_correlation = df[price_columns].corr()"
   ]
  },
  {
   "cell_type": "code",
   "execution_count": 21,
   "id": "ba2dda47-1113-4df2-8bdd-ae55b3f61dc5",
   "metadata": {},
   "outputs": [
    {
     "data": {
      "text/html": [
       "<iframe\n",
       "    scrolling=\"no\"\n",
       "    width=\"100%\"\n",
       "    height=\"545px\"\n",
       "    src=\"iframe_figures/figure_21.html\"\n",
       "    frameborder=\"0\"\n",
       "    allowfullscreen\n",
       "></iframe>\n"
      ]
     },
     "metadata": {},
     "output_type": "display_data"
    }
   ],
   "source": [
    "fig1 = px.imshow(\n",
    "    price_correlation,\n",
    "    text_auto=True,\n",
    "    title='Correlation Between Stock Prices',\n",
    "    labels=dict(color='Correlation'),\n",
    "    color_continuous_scale='viridis'\n",
    ")\n",
    "fig1.update_layout(plot_bgcolor='black', paper_bgcolor='black', font_color='white')\n",
    "fig1.show()"
   ]
  },
  {
   "cell_type": "code",
   "execution_count": 22,
   "id": "f8f150aa-c9c7-4ebf-9399-f24c2722c31f",
   "metadata": {},
   "outputs": [
    {
     "data": {
      "text/html": [
       "<iframe\n",
       "    scrolling=\"no\"\n",
       "    width=\"100%\"\n",
       "    height=\"545px\"\n",
       "    src=\"iframe_figures/figure_22.html\"\n",
       "    frameborder=\"0\"\n",
       "    allowfullscreen\n",
       "></iframe>\n"
      ]
     },
     "metadata": {},
     "output_type": "display_data"
    }
   ],
   "source": [
    "fig2 = px.scatter(\n",
    "    df,\n",
    "    x='Open',\n",
    "    y='Close',\n",
    "    trendline='ols',\n",
    "    title='Relationship Between Open and Close Prices',\n",
    "    labels={'Open': 'Opening Price', 'Close': 'Closing Price'}\n",
    ")\n",
    "fig2.update_layout(plot_bgcolor='black', paper_bgcolor='black', font_color='white')\n",
    "fig2.show()\n"
   ]
  },
  {
   "cell_type": "code",
   "execution_count": 23,
   "id": "c0549efa-5bd9-4c90-a2f7-bc43a87a9140",
   "metadata": {},
   "outputs": [
    {
     "data": {
      "text/html": [
       "<iframe\n",
       "    scrolling=\"no\"\n",
       "    width=\"100%\"\n",
       "    height=\"545px\"\n",
       "    src=\"iframe_figures/figure_23.html\"\n",
       "    frameborder=\"0\"\n",
       "    allowfullscreen\n",
       "></iframe>\n"
      ]
     },
     "metadata": {},
     "output_type": "display_data"
    }
   ],
   "source": [
    "df['Daily_Change'] = df['High'] - df['Low']\n",
    "fig3 = px.scatter(\n",
    "    df,\n",
    "    x='Volume',\n",
    "    y='Daily_Change',\n",
    "    trendline='ols',\n",
    "    title='Volume vs. Daily Price Change',\n",
    "    labels={'Volume': 'Trading Volume', 'Daily_Change': 'Daily Price Change (High - Low)'}\n",
    ")\n",
    "fig3.update_layout(plot_bgcolor='black', paper_bgcolor='black', font_color='white')\n",
    "fig3.show()"
   ]
  },
  {
   "cell_type": "code",
   "execution_count": 24,
   "id": "31d4654f-a367-4b40-8148-2e4ee6f54b7b",
   "metadata": {},
   "outputs": [],
   "source": [
    "# Calculate daily percentage changes in Adj_Close\n",
    "df['Daily_Percentage_Change'] = df['Adj_Close'].pct_change() * 100\n",
    "\n",
    "# Identify best and worst-performing days\n",
    "best_day = df.loc[df['Daily_Percentage_Change'].idxmax()]\n",
    "worst_day = df.loc[df['Daily_Percentage_Change'].idxmin()]\n",
    "\n",
    "# Average daily return and cumulative return\n",
    "average_daily_return = df['Daily_Percentage_Change'].mean()\n",
    "df['Cumulative_Return'] = (1 + df['Daily_Percentage_Change'] / 100).cumprod()\n",
    "\n",
    "# Moving averages\n",
    "df['MA_50'] = df['Adj_Close'].rolling(window=50).mean()\n",
    "df['MA_100'] = df['Adj_Close'].rolling(window=100).mean()\n",
    "df['MA_200'] = df['Adj_Close'].rolling(window=200).mean()\n",
    "\n",
    "# Price spread\n",
    "df['Price_Spread'] = df['High'] - df['Low']"
   ]
  },
  {
   "cell_type": "code",
   "execution_count": 25,
   "id": "64a9dd6d-a2ae-4430-8773-38dd14c6e60d",
   "metadata": {},
   "outputs": [
    {
     "data": {
      "text/html": [
       "<iframe\n",
       "    scrolling=\"no\"\n",
       "    width=\"100%\"\n",
       "    height=\"545px\"\n",
       "    src=\"iframe_figures/figure_25.html\"\n",
       "    frameborder=\"0\"\n",
       "    allowfullscreen\n",
       "></iframe>\n"
      ]
     },
     "metadata": {},
     "output_type": "display_data"
    }
   ],
   "source": [
    "fig1 = px.line(\n",
    "    df,\n",
    "    x='Date',\n",
    "    y='Daily_Percentage_Change',\n",
    "    title='Daily Percentage Change in Adj Close Price',\n",
    "    labels={'Daily_Percentage_Change': 'Daily % Change', 'Date': 'Date'}\n",
    ")\n",
    "fig1.update_layout(plot_bgcolor='black', paper_bgcolor='black', font_color='white')\n",
    "fig1.show()"
   ]
  },
  {
   "cell_type": "code",
   "execution_count": 26,
   "id": "09891a3b-797d-4001-a4f2-afa29b4f236a",
   "metadata": {},
   "outputs": [
    {
     "data": {
      "text/html": [
       "<iframe\n",
       "    scrolling=\"no\"\n",
       "    width=\"100%\"\n",
       "    height=\"545px\"\n",
       "    src=\"iframe_figures/figure_26.html\"\n",
       "    frameborder=\"0\"\n",
       "    allowfullscreen\n",
       "></iframe>\n"
      ]
     },
     "metadata": {},
     "output_type": "display_data"
    }
   ],
   "source": [
    "fig2 = px.line(\n",
    "    df,\n",
    "    x='Date',\n",
    "    y='Cumulative_Return',\n",
    "    title='Cumulative Return Over Time',\n",
    "    labels={'Cumulative_Return': 'Cumulative Return', 'Date': 'Date'}\n",
    ")\n",
    "fig2.update_layout(plot_bgcolor='black', paper_bgcolor='black', font_color='white')\n",
    "fig3.show()"
   ]
  },
  {
   "cell_type": "code",
   "execution_count": 27,
   "id": "226b42e5-2074-4b58-8dcd-83b0085f300c",
   "metadata": {},
   "outputs": [
    {
     "data": {
      "text/html": [
       "<iframe\n",
       "    scrolling=\"no\"\n",
       "    width=\"100%\"\n",
       "    height=\"545px\"\n",
       "    src=\"iframe_figures/figure_27.html\"\n",
       "    frameborder=\"0\"\n",
       "    allowfullscreen\n",
       "></iframe>\n"
      ]
     },
     "metadata": {},
     "output_type": "display_data"
    }
   ],
   "source": [
    "fig3 = go.Figure()\n",
    "fig3.add_trace(go.Scatter(x=df['Date'], y=df['Adj_Close'], mode='lines', name='Adj Close'))\n",
    "fig3.add_trace(go.Scatter(x=df['Date'], y=df['MA_50'], mode='lines', name='50-Day MA'))\n",
    "fig3.add_trace(go.Scatter(x=df['Date'], y=df['MA_100'], mode='lines', name='100-Day MA'))\n",
    "fig3.add_trace(go.Scatter(x=df['Date'], y=df['MA_200'], mode='lines', name='200-Day MA'))\n",
    "fig3.update_layout(\n",
    "    title='Moving Averages and Adj Close Price',\n",
    "    xaxis_title='Date',\n",
    "    yaxis_title='Price',\n",
    "    plot_bgcolor='black',\n",
    "    paper_bgcolor='black',\n",
    "    font_color='white'\n",
    ")\n",
    "fig3.show()"
   ]
  },
  {
   "cell_type": "code",
   "execution_count": 28,
   "id": "f8c44310-7c39-4cac-9ed9-47ddec3ca1a8",
   "metadata": {},
   "outputs": [
    {
     "data": {
      "text/html": [
       "<iframe\n",
       "    scrolling=\"no\"\n",
       "    width=\"100%\"\n",
       "    height=\"545px\"\n",
       "    src=\"iframe_figures/figure_28.html\"\n",
       "    frameborder=\"0\"\n",
       "    allowfullscreen\n",
       "></iframe>\n"
      ]
     },
     "metadata": {},
     "output_type": "display_data"
    }
   ],
   "source": [
    "fig4 = px.line(\n",
    "    df,\n",
    "    x='Date',\n",
    "    y='Price_Spread',\n",
    "    title='Daily Price Spread (High - Low)',\n",
    "    labels={'Price_Spread': 'Price Spread', 'Date': 'Date'}\n",
    ")\n",
    "fig4.update_layout(plot_bgcolor='black', paper_bgcolor='black', font_color='white')\n",
    "fig4.show()"
   ]
  },
  {
   "cell_type": "code",
   "execution_count": 29,
   "id": "a6b16278-8241-428b-a755-48526ec1f180",
   "metadata": {},
   "outputs": [],
   "source": [
    "# Calculate whether Close is higher or lower than Open\n",
    "df['Close_Higher_Than_Open'] = df['Close'] > df['Open']\n",
    "\n",
    "# Calculate average price difference between Open and Close\n",
    "df['Price_Difference'] = df['Close'] - df['Open']\n",
    "average_price_difference = df['Price_Difference'].mean()\n",
    "\n",
    "# Calculate how often Close is close to High or Low\n",
    "df['Close_Near_High'] = abs(df['Close'] - df['High']) <= 0.01 * df['High']\n",
    "df['Close_Near_Low'] = abs(df['Close'] - df['Low']) <= 0.01 * df['Low']\n",
    "\n",
    "# Proportion of days Close > Open\n",
    "close_higher_count = df['Close_Higher_Than_Open'].sum()\n",
    "total_days = len(df)\n",
    "close_higher_percentage = (close_higher_count / total_days) * 100"
   ]
  },
  {
   "cell_type": "code",
   "execution_count": 30,
   "id": "fcb84b53-5ca3-4da3-bbe3-2c477819bbce",
   "metadata": {},
   "outputs": [
    {
     "data": {
      "text/html": [
       "<iframe\n",
       "    scrolling=\"no\"\n",
       "    width=\"100%\"\n",
       "    height=\"545px\"\n",
       "    src=\"iframe_figures/figure_30.html\"\n",
       "    frameborder=\"0\"\n",
       "    allowfullscreen\n",
       "></iframe>\n"
      ]
     },
     "metadata": {},
     "output_type": "display_data"
    }
   ],
   "source": [
    "fig1 = px.pie(\n",
    "    names=['Close > Open', 'Close ≤ Open'],\n",
    "    values=[close_higher_count, total_days - close_higher_count],\n",
    "    title='Proportion of Days Where Close is Higher Than Open',\n",
    ")\n",
    "fig1.update_traces(textinfo='percent', marker=dict(colors=['green', 'red']))\n",
    "fig1.update_layout(plot_bgcolor='black', paper_bgcolor='black', font_color='white')\n",
    "fig1.show()"
   ]
  },
  {
   "cell_type": "code",
   "execution_count": 31,
   "id": "fcad6eb0-93b1-4e37-ba09-15db7e3bd76e",
   "metadata": {},
   "outputs": [
    {
     "data": {
      "text/html": [
       "<iframe\n",
       "    scrolling=\"no\"\n",
       "    width=\"100%\"\n",
       "    height=\"545px\"\n",
       "    src=\"iframe_figures/figure_31.html\"\n",
       "    frameborder=\"0\"\n",
       "    allowfullscreen\n",
       "></iframe>\n"
      ]
     },
     "metadata": {},
     "output_type": "display_data"
    }
   ],
   "source": [
    "fig2 = px.histogram(\n",
    "    df,\n",
    "    x='Price_Difference',\n",
    "    title='Distribution of Price Difference (Close - Open)',\n",
    "    labels={'Price_Difference': 'Price Difference (Close - Open)'},\n",
    "    color_discrete_sequence=['cyan']\n",
    ")\n",
    "fig2.update_layout(plot_bgcolor='black', paper_bgcolor='black', font_color='white')\n",
    "fig2.show()"
   ]
  },
  {
   "cell_type": "code",
   "execution_count": 32,
   "id": "019a5540-edbb-49bc-80ed-168592a27376",
   "metadata": {},
   "outputs": [
    {
     "data": {
      "text/html": [
       "<iframe\n",
       "    scrolling=\"no\"\n",
       "    width=\"100%\"\n",
       "    height=\"545px\"\n",
       "    src=\"iframe_figures/figure_32.html\"\n",
       "    frameborder=\"0\"\n",
       "    allowfullscreen\n",
       "></iframe>\n"
      ]
     },
     "metadata": {},
     "output_type": "display_data"
    }
   ],
   "source": [
    "close_near_high_count = df['Close_Near_High'].sum()\n",
    "close_near_low_count = df['Close_Near_Low'].sum()\n",
    "fig3 = px.bar(\n",
    "    x=['Close Near High', 'Close Near Low'],\n",
    "    y=[close_near_high_count, close_near_low_count],\n",
    "    title='Frequency of Close Being Near High or Low',\n",
    "    labels={'x': 'Condition', 'y': 'Number of Days'},\n",
    "    text=[close_near_high_count, close_near_low_count],\n",
    "    color=['Close Near High', 'Close Near Low'],\n",
    "    color_discrete_sequence=['blue', 'orange']\n",
    ")\n",
    "fig3.update_layout(plot_bgcolor='black', paper_bgcolor='black', font_color='white')\n",
    "fig3.show()"
   ]
  },
  {
   "cell_type": "code",
   "execution_count": 33,
   "id": "70cedf0e-9b7c-4162-8762-1d96ea546db1",
   "metadata": {},
   "outputs": [],
   "source": [
    "# Identify peaks and troughs in Adj_Close\n",
    "max_adj_close_date = df.loc[df['Adj_Close'].idxmax(), 'Date']\n",
    "max_adj_close_value = df['Adj_Close'].max()\n",
    "min_adj_close_date = df.loc[df['Adj_Close'].idxmin(), 'Date']\n",
    "min_adj_close_value = df['Adj_Close'].min()\n",
    "\n",
    "# Identify volume spikes (above 95th percentile)\n",
    "volume_spike_threshold = df['Volume'].quantile(0.95)\n",
    "volume_spike_data = df[df['Volume'] > volume_spike_threshold]"
   ]
  },
  {
   "cell_type": "code",
   "execution_count": 34,
   "id": "e3e62f5c-fb55-4a70-8f0c-d8d0ba708a88",
   "metadata": {},
   "outputs": [
    {
     "data": {
      "text/html": [
       "<iframe\n",
       "    scrolling=\"no\"\n",
       "    width=\"100%\"\n",
       "    height=\"545px\"\n",
       "    src=\"iframe_figures/figure_34.html\"\n",
       "    frameborder=\"0\"\n",
       "    allowfullscreen\n",
       "></iframe>\n"
      ]
     },
     "metadata": {},
     "output_type": "display_data"
    }
   ],
   "source": [
    "fig1 = px.line(\n",
    "    df,\n",
    "    x='Date',\n",
    "    y='Adj_Close',\n",
    "    title='Adj_Close Peaks and Troughs',\n",
    "    labels={'Adj_Close': 'Adjusted Close Price'},\n",
    ")\n",
    "fig1.add_trace(\n",
    "    go.Scatter(\n",
    "        x=[max_adj_close_date, min_adj_close_date],\n",
    "        y=[max_adj_close_value, min_adj_close_value],\n",
    "        mode='markers+text',\n",
    "        marker=dict(size=10, color='red'),\n",
    "        text=[\"Peak\", \"Trough\"],\n",
    "        textposition=\"top center\"\n",
    "    )\n",
    ")\n",
    "fig1.update_layout(plot_bgcolor='black', paper_bgcolor='black', font_color='white')\n",
    "fig1.show()"
   ]
  },
  {
   "cell_type": "code",
   "execution_count": 35,
   "id": "4b96b660-288b-40f1-b3db-79ae273a29e0",
   "metadata": {},
   "outputs": [
    {
     "data": {
      "text/html": [
       "<iframe\n",
       "    scrolling=\"no\"\n",
       "    width=\"100%\"\n",
       "    height=\"545px\"\n",
       "    src=\"iframe_figures/figure_35.html\"\n",
       "    frameborder=\"0\"\n",
       "    allowfullscreen\n",
       "></iframe>\n"
      ]
     },
     "metadata": {},
     "output_type": "display_data"
    }
   ],
   "source": [
    "fig2 = px.scatter(\n",
    "    volume_spike_data,\n",
    "    x='Date',\n",
    "    y='Volume',\n",
    "    title='Volume Spikes Above 95th Percentile',\n",
    "    labels={'Volume': 'Trading Volume'},\n",
    "    color='Adj_Close',\n",
    "    color_continuous_scale='viridis'\n",
    ")\n",
    "fig2.update_layout(plot_bgcolor='black', paper_bgcolor='black', font_color='white')\n",
    "fig2.show()"
   ]
  },
  {
   "cell_type": "code",
   "execution_count": 36,
   "id": "bcf459d8-acda-4fd6-8961-7cb892aed9b6",
   "metadata": {},
   "outputs": [
    {
     "data": {
      "text/html": [
       "<iframe\n",
       "    scrolling=\"no\"\n",
       "    width=\"100%\"\n",
       "    height=\"545px\"\n",
       "    src=\"iframe_figures/figure_36.html\"\n",
       "    frameborder=\"0\"\n",
       "    allowfullscreen\n",
       "></iframe>\n"
      ]
     },
     "metadata": {},
     "output_type": "display_data"
    }
   ],
   "source": [
    "fig1 = go.Figure(data=[go.Candlestick(\n",
    "    x=df['Date'],\n",
    "    open=df['Open'],\n",
    "    high=df['High'],\n",
    "    low=df['Low'],\n",
    "    close=df['Close'],\n",
    "    increasing_line_color='green', decreasing_line_color='red'\n",
    ")])\n",
    "fig1.update_layout(\n",
    "    title='Candlestick Chart of BMW Stock',\n",
    "    xaxis_title='Date',\n",
    "    yaxis_title='Price',\n",
    "    plot_bgcolor='black',\n",
    "    paper_bgcolor='black',\n",
    "    font_color='white'\n",
    ")\n",
    "fig1.show()"
   ]
  },
  {
   "cell_type": "code",
   "execution_count": 37,
   "id": "1ff43c5a-8201-4ac7-b34b-f09c196db213",
   "metadata": {},
   "outputs": [
    {
     "data": {
      "text/html": [
       "<iframe\n",
       "    scrolling=\"no\"\n",
       "    width=\"100%\"\n",
       "    height=\"545px\"\n",
       "    src=\"iframe_figures/figure_37.html\"\n",
       "    frameborder=\"0\"\n",
       "    allowfullscreen\n",
       "></iframe>\n"
      ]
     },
     "metadata": {},
     "output_type": "display_data"
    }
   ],
   "source": [
    "fig2 = go.Figure()\n",
    "\n",
    "# Add Candlestick Chart\n",
    "fig2.add_trace(go.Candlestick(\n",
    "    x=df['Date'],\n",
    "    open=df['Open'],\n",
    "    high=df['High'],\n",
    "    low=df['Low'],\n",
    "    close=df['Close'],\n",
    "    increasing_line_color='green', decreasing_line_color='red'\n",
    "))\n",
    "\n",
    "# Add Volume Overlay\n",
    "fig2.add_trace(go.Bar(\n",
    "    x=df['Date'],\n",
    "    y=df['Volume'],\n",
    "    name='Volume',\n",
    "    marker=dict(color='rgba(255, 255, 255, 0.3)')\n",
    "))\n",
    "\n",
    "fig2.update_layout(\n",
    "    title='BMW Stock with Volume Overlay',\n",
    "    xaxis_title='Date',\n",
    "    yaxis_title='Price',\n",
    "    plot_bgcolor='black',\n",
    "    paper_bgcolor='black',\n",
    "    font_color='white'\n",
    ")\n",
    "fig2.show()"
   ]
  },
  {
   "cell_type": "code",
   "execution_count": 38,
   "id": "e37495f6-f2f2-4559-a552-c28430221ee9",
   "metadata": {},
   "outputs": [
    {
     "data": {
      "text/html": [
       "<iframe\n",
       "    scrolling=\"no\"\n",
       "    width=\"100%\"\n",
       "    height=\"545px\"\n",
       "    src=\"iframe_figures/figure_38.html\"\n",
       "    frameborder=\"0\"\n",
       "    allowfullscreen\n",
       "></iframe>\n"
      ]
     },
     "metadata": {},
     "output_type": "display_data"
    }
   ],
   "source": [
    "df['YearMonth'] = df['Date'].dt.to_period('M')\n",
    "monthly_avg = df.groupby('YearMonth')['Adj_Close'].mean().reset_index()\n",
    "monthly_avg['YearMonth'] = monthly_avg['YearMonth'].astype(str)\n",
    "\n",
    "fig3 = px.imshow(\n",
    "    monthly_avg.pivot_table(index='YearMonth', columns='YearMonth', values='Adj_Close'),\n",
    "    title=\"Monthly Performance Heatmap\",\n",
    "    labels={'x': 'Month', 'y': 'Year'},\n",
    "    color_continuous_scale='Viridis'\n",
    ")\n",
    "fig3.update_layout(\n",
    "    plot_bgcolor='black',\n",
    "    paper_bgcolor='black',\n",
    "    font_color='white'\n",
    ")\n",
    "fig3.show()"
   ]
  },
  {
   "cell_type": "code",
   "execution_count": 39,
   "id": "4319ed98-e271-4a9a-b752-a11c5f40c268",
   "metadata": {},
   "outputs": [
    {
     "data": {
      "text/html": [
       "<iframe\n",
       "    scrolling=\"no\"\n",
       "    width=\"100%\"\n",
       "    height=\"545px\"\n",
       "    src=\"iframe_figures/figure_39.html\"\n",
       "    frameborder=\"0\"\n",
       "    allowfullscreen\n",
       "></iframe>\n"
      ]
     },
     "metadata": {},
     "output_type": "display_data"
    }
   ],
   "source": [
    "df['Rolling_Std'] = df['Adj_Close'].rolling(window=30).std()\n",
    "\n",
    "fig4 = px.line(\n",
    "    df,\n",
    "    x='Date',\n",
    "    y='Rolling_Std',\n",
    "    title='30-Day Rolling Standard Deviation (Volatility)',\n",
    "    labels={'Rolling_Std': 'Rolling Std Dev'},\n",
    "    color_discrete_sequence=['cyan']\n",
    ")\n",
    "fig4.update_layout(\n",
    "    plot_bgcolor='black',\n",
    "    paper_bgcolor='black',\n",
    "    font_color='white'\n",
    ")\n",
    "fig4.show()"
   ]
  },
  {
   "cell_type": "code",
   "execution_count": 40,
   "id": "a679a8e2-070e-4006-bee1-206cc2e52360",
   "metadata": {},
   "outputs": [
    {
     "data": {
      "text/html": [
       "<iframe\n",
       "    scrolling=\"no\"\n",
       "    width=\"100%\"\n",
       "    height=\"545px\"\n",
       "    src=\"iframe_figures/figure_40.html\"\n",
       "    frameborder=\"0\"\n",
       "    allowfullscreen\n",
       "></iframe>\n"
      ]
     },
     "metadata": {},
     "output_type": "display_data"
    }
   ],
   "source": [
    "df['Daily_Price_Change'] = df['Adj_Close'].diff()\n",
    "\n",
    "fig5 = px.scatter(\n",
    "    df,\n",
    "    x='Volume',\n",
    "    y='Daily_Price_Change',\n",
    "    title='Volume vs. Daily Price Changes',\n",
    "    labels={'Volume': 'Volume', 'Daily_Price_Change': 'Daily Price Change'},\n",
    "    color='Adj_Close',\n",
    "    color_continuous_scale='Viridis'\n",
    ")\n",
    "fig5.update_layout(\n",
    "    plot_bgcolor='black',\n",
    "    paper_bgcolor='black',\n",
    "    font_color='white'\n",
    ")\n",
    "fig5.show()"
   ]
  },
  {
   "cell_type": "code",
   "execution_count": 41,
   "id": "475b9fc2-dce5-4ce5-95aa-f2d5944ef983",
   "metadata": {},
   "outputs": [],
   "source": [
    "# Seasonal Decomposition of Adj_Close\n",
    "df.set_index('Date', inplace=True)\n",
    "seasonal_decomposition = seasonal_decompose(df['Adj_Close'], model='multiplicative', period=365)"
   ]
  },
  {
   "cell_type": "code",
   "execution_count": 42,
   "id": "9f5d8e51-ba17-48bd-906a-5b0b859da637",
   "metadata": {},
   "outputs": [
    {
     "data": {
      "text/html": [
       "<iframe\n",
       "    scrolling=\"no\"\n",
       "    width=\"100%\"\n",
       "    height=\"545px\"\n",
       "    src=\"iframe_figures/figure_42.html\"\n",
       "    frameborder=\"0\"\n",
       "    allowfullscreen\n",
       "></iframe>\n"
      ]
     },
     "metadata": {},
     "output_type": "display_data"
    }
   ],
   "source": [
    "fig1 = make_subplots(rows=3, cols=1, shared_xaxes=True, vertical_spacing=0.1)\n",
    "\n",
    "fig1.add_trace(go.Scatter(x=seasonal_decomposition.trend.index, y=seasonal_decomposition.trend, mode='lines', name='Trend'), row=1, col=1)\n",
    "fig1.add_trace(go.Scatter(x=seasonal_decomposition.seasonal.index, y=seasonal_decomposition.seasonal, mode='lines', name='Seasonality'), row=2, col=1)\n",
    "fig1.add_trace(go.Scatter(x=seasonal_decomposition.resid.index, y=seasonal_decomposition.resid, mode='lines', name='Residuals'), row=3, col=1)\n",
    "\n",
    "fig1.update_layout(\n",
    "    title='Seasonal Decomposition of BMW Stock Adjusted Close',\n",
    "    plot_bgcolor='black', paper_bgcolor='black', font_color='white'\n",
    ")\n",
    "fig1.show()"
   ]
  },
  {
   "cell_type": "code",
   "execution_count": 43,
   "id": "1e3c46b8-56ac-42a4-b3ae-0e65f0ae8290",
   "metadata": {},
   "outputs": [
    {
     "data": {
      "text/html": [
       "<iframe\n",
       "    scrolling=\"no\"\n",
       "    width=\"100%\"\n",
       "    height=\"545px\"\n",
       "    src=\"iframe_figures/figure_43.html\"\n",
       "    frameborder=\"0\"\n",
       "    allowfullscreen\n",
       "></iframe>\n"
      ]
     },
     "metadata": {},
     "output_type": "display_data"
    }
   ],
   "source": [
    "df['DayOfWeek'] = df.index.dayofweek\n",
    "day_of_week_avg = df.groupby('DayOfWeek')['Adj_Close'].mean()\n",
    "\n",
    "fig2 = px.bar(\n",
    "    day_of_week_avg,\n",
    "    x=day_of_week_avg.index,\n",
    "    y=day_of_week_avg.values,\n",
    "    title='Average Adjusted Close Price by Day of the Week',\n",
    "    labels={'x': 'Day of Week', 'y': 'Average Adj_Close'},\n",
    "    color=day_of_week_avg.values,\n",
    "    color_continuous_scale='Viridis'\n",
    ")\n",
    "fig2.update_layout(plot_bgcolor='black', paper_bgcolor='black', font_color='white')\n",
    "fig2.show()"
   ]
  },
  {
   "cell_type": "code",
   "execution_count": 44,
   "id": "a00a102b-5791-4a76-bcfa-e021487cbe4d",
   "metadata": {},
   "outputs": [
    {
     "data": {
      "text/html": [
       "<iframe\n",
       "    scrolling=\"no\"\n",
       "    width=\"100%\"\n",
       "    height=\"545px\"\n",
       "    src=\"iframe_figures/figure_44.html\"\n",
       "    frameborder=\"0\"\n",
       "    allowfullscreen\n",
       "></iframe>\n"
      ]
     },
     "metadata": {},
     "output_type": "display_data"
    }
   ],
   "source": [
    "df['PriceChange'] = df['Adj_Close'].diff()\n",
    "df['VolumeChange'] = df['Volume'].diff()\n",
    "\n",
    "fig3 = px.scatter(\n",
    "    df,\n",
    "    x='VolumeChange',\n",
    "    y='PriceChange',\n",
    "    title='Volume Change vs. Price Change',\n",
    "    labels={'VolumeChange': 'Change in Volume', 'PriceChange': 'Change in Price'},\n",
    "    color='Adj_Close',\n",
    "    color_continuous_scale='Viridis'\n",
    ")\n",
    "fig3.update_layout(plot_bgcolor='black', paper_bgcolor='black', font_color='white')\n",
    "fig3.show()"
   ]
  }
 ],
 "metadata": {
  "kernelspec": {
   "display_name": "Python 3 (ipykernel)",
   "language": "python",
   "name": "python3"
  },
  "language_info": {
   "codemirror_mode": {
    "name": "ipython",
    "version": 3
   },
   "file_extension": ".py",
   "mimetype": "text/x-python",
   "name": "python",
   "nbconvert_exporter": "python",
   "pygments_lexer": "ipython3",
   "version": "3.12.7"
  }
 },
 "nbformat": 4,
 "nbformat_minor": 5
}
