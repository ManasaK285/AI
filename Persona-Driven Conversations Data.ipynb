{
 "cells": [
  {
   "cell_type": "code",
   "execution_count": 1,
   "id": "c4d272c8-253c-4b17-940c-2c8bd7394140",
   "metadata": {},
   "outputs": [],
   "source": [
    "import numpy as np # linear algebra\n",
    "import pandas as pd # data processing, CSV file I/O (e.g. pd.read_csv)"
   ]
  },
  {
   "cell_type": "code",
   "execution_count": 2,
   "id": "b324a987-0ba7-4409-bde9-633e1673deac",
   "metadata": {},
   "outputs": [],
   "source": [
    "import warnings\n",
    "warnings.filterwarnings('ignore')"
   ]
  },
  {
   "cell_type": "code",
   "execution_count": 3,
   "id": "868d9b2e-8786-4612-85a0-4e64d4947d14",
   "metadata": {},
   "outputs": [
    {
     "name": "stdout",
     "output_type": "stream",
     "text": [
      "Requirement already satisfied: nltk in c:\\users\\dell\\anaconda3\\lib\\site-packages (3.9.1)\n",
      "Requirement already satisfied: click in c:\\users\\dell\\anaconda3\\lib\\site-packages (from nltk) (8.1.7)\n",
      "Requirement already satisfied: joblib in c:\\users\\dell\\anaconda3\\lib\\site-packages (from nltk) (1.4.2)\n",
      "Requirement already satisfied: regex>=2021.8.3 in c:\\users\\dell\\anaconda3\\lib\\site-packages (from nltk) (2024.9.11)\n",
      "Requirement already satisfied: tqdm in c:\\users\\dell\\anaconda3\\lib\\site-packages (from nltk) (4.66.5)\n",
      "Requirement already satisfied: colorama in c:\\users\\dell\\anaconda3\\lib\\site-packages (from click->nltk) (0.4.6)\n"
     ]
    }
   ],
   "source": [
    "!pip install --upgrade nltk"
   ]
  },
  {
   "cell_type": "code",
   "execution_count": 4,
   "id": "4e8e5572-dd02-493c-ad87-35cd21b30838",
   "metadata": {},
   "outputs": [],
   "source": [
    "import nltk\n",
    "import string\n",
    "from nltk.tokenize import word_tokenize, sent_tokenize\n",
    "from nltk.corpus import stopwords\n",
    "from nltk.stem import PorterStemmer\n",
    "from nltk.stem import WordNetLemmatizer"
   ]
  },
  {
   "cell_type": "code",
   "execution_count": 5,
   "id": "d2366fb3-a224-4055-9677-96d502296ab5",
   "metadata": {},
   "outputs": [
    {
     "data": {
      "text/html": [
       "<div>\n",
       "<style scoped>\n",
       "    .dataframe tbody tr th:only-of-type {\n",
       "        vertical-align: middle;\n",
       "    }\n",
       "\n",
       "    .dataframe tbody tr th {\n",
       "        vertical-align: top;\n",
       "    }\n",
       "\n",
       "    .dataframe thead th {\n",
       "        text-align: right;\n",
       "    }\n",
       "</style>\n",
       "<table border=\"1\" class=\"dataframe\">\n",
       "  <thead>\n",
       "    <tr style=\"text-align: right;\">\n",
       "      <th></th>\n",
       "      <th>user 1 personas</th>\n",
       "      <th>user 2 personas</th>\n",
       "      <th>Best Generated Conversation</th>\n",
       "    </tr>\n",
       "  </thead>\n",
       "  <tbody>\n",
       "    <tr>\n",
       "      <th>10874</th>\n",
       "      <td>I love the smell of beans, but my stomach does...</td>\n",
       "      <td>I used to wear a lot of black because it was e...</td>\n",
       "      <td>User 1: Hi, how are you?\\nUser 2: Hey, I'm goo...</td>\n",
       "    </tr>\n",
       "    <tr>\n",
       "      <th>9810</th>\n",
       "      <td>I had pizza and a birthday cake, and then I hu...</td>\n",
       "      <td>I am grateful for my health and my ability to ...</td>\n",
       "      <td>User 1: What is your favorite thing to do on y...</td>\n",
       "    </tr>\n",
       "    <tr>\n",
       "      <th>7257</th>\n",
       "      <td>I listen to the music of my youth to feel like...</td>\n",
       "      <td>I love spending time with my dog, he is the be...</td>\n",
       "      <td>User 1: What is your favorite childhood memory...</td>\n",
       "    </tr>\n",
       "    <tr>\n",
       "      <th>968</th>\n",
       "      <td>I remember buying my first house with my husba...</td>\n",
       "      <td>I wake up early, work a full day, then practic...</td>\n",
       "      <td>User 1: What's up?\\nUser 2: Hey! Not much. Jus...</td>\n",
       "    </tr>\n",
       "    <tr>\n",
       "      <th>3628</th>\n",
       "      <td>I am always looking for ways to help others, a...</td>\n",
       "      <td>My favorite place to eat is at home, where I c...</td>\n",
       "      <td>User 1: Hey there!  How is your day going?\\nUs...</td>\n",
       "    </tr>\n",
       "    <tr>\n",
       "      <th>3728</th>\n",
       "      <td>I like to take up new hobbies, like skiing, to...</td>\n",
       "      <td>I find that my childhood cartoons inspire me t...</td>\n",
       "      <td>User 1: Hello!\\nUser 2: Hi there! How's it goi...</td>\n",
       "    </tr>\n",
       "    <tr>\n",
       "      <th>10441</th>\n",
       "      <td>I believe in a progressive tax system, which m...</td>\n",
       "      <td>I'm a solitary type and my favorite animal is ...</td>\n",
       "      <td>User 1: Hello! How is your evening going?\\nUse...</td>\n",
       "    </tr>\n",
       "    <tr>\n",
       "      <th>12</th>\n",
       "      <td>I enjoy reading Jane Austen novels and talking...</td>\n",
       "      <td>I've learned how to manage my time better and ...</td>\n",
       "      <td>User 1: What is your favorite thing to do?\\nUs...</td>\n",
       "    </tr>\n",
       "    <tr>\n",
       "      <th>8145</th>\n",
       "      <td>I'm a 35 year old male police officer who coll...</td>\n",
       "      <td>I like to spend time with my pets because it m...</td>\n",
       "      <td>User 1: Hello!\\nUser 2: Hey! How are you today...</td>\n",
       "    </tr>\n",
       "    <tr>\n",
       "      <th>7398</th>\n",
       "      <td>I like to sing in the rain, it helps me relax ...</td>\n",
       "      <td>My first job was working in my family's restau...</td>\n",
       "      <td>User 1: Hi, how are you?\\nUser 2: Hi, I'm doin...</td>\n",
       "    </tr>\n",
       "  </tbody>\n",
       "</table>\n",
       "</div>"
      ],
      "text/plain": [
       "                                         user 1 personas  \\\n",
       "10874  I love the smell of beans, but my stomach does...   \n",
       "9810   I had pizza and a birthday cake, and then I hu...   \n",
       "7257   I listen to the music of my youth to feel like...   \n",
       "968    I remember buying my first house with my husba...   \n",
       "3628   I am always looking for ways to help others, a...   \n",
       "3728   I like to take up new hobbies, like skiing, to...   \n",
       "10441  I believe in a progressive tax system, which m...   \n",
       "12     I enjoy reading Jane Austen novels and talking...   \n",
       "8145   I'm a 35 year old male police officer who coll...   \n",
       "7398   I like to sing in the rain, it helps me relax ...   \n",
       "\n",
       "                                         user 2 personas  \\\n",
       "10874  I used to wear a lot of black because it was e...   \n",
       "9810   I am grateful for my health and my ability to ...   \n",
       "7257   I love spending time with my dog, he is the be...   \n",
       "968    I wake up early, work a full day, then practic...   \n",
       "3628   My favorite place to eat is at home, where I c...   \n",
       "3728   I find that my childhood cartoons inspire me t...   \n",
       "10441  I'm a solitary type and my favorite animal is ...   \n",
       "12     I've learned how to manage my time better and ...   \n",
       "8145   I like to spend time with my pets because it m...   \n",
       "7398   My first job was working in my family's restau...   \n",
       "\n",
       "                             Best Generated Conversation  \n",
       "10874  User 1: Hi, how are you?\\nUser 2: Hey, I'm goo...  \n",
       "9810   User 1: What is your favorite thing to do on y...  \n",
       "7257   User 1: What is your favorite childhood memory...  \n",
       "968    User 1: What's up?\\nUser 2: Hey! Not much. Jus...  \n",
       "3628   User 1: Hey there!  How is your day going?\\nUs...  \n",
       "3728   User 1: Hello!\\nUser 2: Hi there! How's it goi...  \n",
       "10441  User 1: Hello! How is your evening going?\\nUse...  \n",
       "12     User 1: What is your favorite thing to do?\\nUs...  \n",
       "8145   User 1: Hello!\\nUser 2: Hey! How are you today...  \n",
       "7398   User 1: Hi, how are you?\\nUser 2: Hi, I'm doin...  "
      ]
     },
     "execution_count": 5,
     "metadata": {},
     "output_type": "execute_result"
    }
   ],
   "source": [
    "df=pd.read_csv(r'C:\\Users\\dell\\Desktop\\MyDocs\\Docs\\MK\\New-Persona-New-Conversations.csv')\n",
    "df.sample(10)"
   ]
  },
  {
   "cell_type": "code",
   "execution_count": 6,
   "id": "d351de1f-84e0-4930-8b5e-4bfe58c4ca17",
   "metadata": {},
   "outputs": [
    {
     "data": {
      "text/plain": [
       "(11001, 3)"
      ]
     },
     "execution_count": 6,
     "metadata": {},
     "output_type": "execute_result"
    }
   ],
   "source": [
    "df.shape"
   ]
  },
  {
   "cell_type": "code",
   "execution_count": 7,
   "id": "426e0e17-05ac-4361-9239-0bb42638f98e",
   "metadata": {},
   "outputs": [],
   "source": [
    "text =str(df['user 1 personas'][10])"
   ]
  },
  {
   "cell_type": "code",
   "execution_count": 8,
   "id": "30bf712a-6e50-468d-8c7c-7601bffc5145",
   "metadata": {},
   "outputs": [],
   "source": [
    "text_1 =str(df['user 2 personas'][10])"
   ]
  },
  {
   "cell_type": "code",
   "execution_count": 9,
   "id": "30959b0e-7158-4127-aafc-63deb3dbc046",
   "metadata": {},
   "outputs": [
    {
     "name": "stdout",
     "output_type": "stream",
     "text": [
      "Lower Case:_______________\n"
     ]
    },
    {
     "data": {
      "text/plain": [
       "\"i love the way my pets stare back at me.\\ni love to dance salsa.\\ni sometimes get too caught up in my own head and don't listen to my partner.\\ni sometimes scratch my nose for fun.\\ni love the band van halen.\""
      ]
     },
     "execution_count": 9,
     "metadata": {},
     "output_type": "execute_result"
    }
   ],
   "source": [
    "text_lower=text.lower()\n",
    "print(\"Lower Case:_______________\")\n",
    "text_lower"
   ]
  },
  {
   "cell_type": "code",
   "execution_count": 10,
   "id": "0941179b-b291-4a86-9e9a-5095af949991",
   "metadata": {},
   "outputs": [
    {
     "name": "stdout",
     "output_type": "stream",
     "text": [
      "Lower Case:_______________\n"
     ]
    },
    {
     "data": {
      "text/plain": [
       "'my current weight is a secret\\ni have a pet cat who loves to nap on my bed.\\ni sell paper products for a living.\\ni love my pet dog more than anything.\\ni am a fisherman.'"
      ]
     },
     "execution_count": 10,
     "metadata": {},
     "output_type": "execute_result"
    }
   ],
   "source": [
    "text_1_lower=text_1.lower()\n",
    "print(\"Lower Case:_______________\")\n",
    "text_1_lower"
   ]
  },
  {
   "cell_type": "code",
   "execution_count": 11,
   "id": "ee98a846-9d94-4cf0-8726-11c4191d768d",
   "metadata": {},
   "outputs": [
    {
     "name": "stdout",
     "output_type": "stream",
     "text": [
      "No Punctuation:_________________\n",
      "i love the way my pets stare back at me\n",
      "i love to dance salsa\n",
      "i sometimes get too caught up in my own head and dont listen to my partner\n",
      "i sometimes scratch my nose for fun\n",
      "i love the band van halen\n"
     ]
    }
   ],
   "source": [
    "text_no_punct=text_lower.translate(str.maketrans('','',string.punctuation))\n",
    "print(\"No Punctuation:_________________\")\n",
    "print( text_no_punct)"
   ]
  },
  {
   "cell_type": "code",
   "execution_count": 12,
   "id": "3519d532-41c1-4bab-bef8-a38af1e80149",
   "metadata": {},
   "outputs": [
    {
     "name": "stdout",
     "output_type": "stream",
     "text": [
      "No Punctuation:_________________\n",
      "my current weight is a secret\n",
      "i have a pet cat who loves to nap on my bed\n",
      "i sell paper products for a living\n",
      "i love my pet dog more than anything\n",
      "i am a fisherman\n"
     ]
    }
   ],
   "source": [
    "text_no_punct_1=text_1_lower.translate(str.maketrans('','',string.punctuation))\n",
    "print(\"No Punctuation:_________________\")\n",
    "print( text_no_punct_1)"
   ]
  },
  {
   "cell_type": "code",
   "execution_count": 13,
   "id": "f77aad10-7a5d-436f-b548-35ecab1a8d5f",
   "metadata": {},
   "outputs": [
    {
     "name": "stderr",
     "output_type": "stream",
     "text": [
      "[nltk_data] Downloading package punkt_tab to\n",
      "[nltk_data]     C:\\Users\\dell\\AppData\\Roaming\\nltk_data...\n",
      "[nltk_data]   Package punkt_tab is already up-to-date!\n"
     ]
    },
    {
     "data": {
      "text/plain": [
       "True"
      ]
     },
     "execution_count": 13,
     "metadata": {},
     "output_type": "execute_result"
    }
   ],
   "source": [
    "nltk.download('punkt_tab')"
   ]
  },
  {
   "cell_type": "code",
   "execution_count": 14,
   "id": "2cd94307-475c-43c7-ad29-ce05bedaf650",
   "metadata": {},
   "outputs": [
    {
     "name": "stdout",
     "output_type": "stream",
     "text": [
      "Word Tokens:\n",
      " ['i', 'love', 'the', 'way', 'my', 'pets', 'stare', 'back', 'at', 'me', 'i', 'love', 'to', 'dance', 'salsa', 'i', 'sometimes', 'get', 'too', 'caught', 'up', 'in', 'my', 'own', 'head', 'and', 'dont', 'listen', 'to', 'my', 'partner', 'i', 'sometimes', 'scratch', 'my', 'nose', 'for', 'fun', 'i', 'love', 'the', 'band', 'van', 'halen']\n"
     ]
    }
   ],
   "source": [
    "words = word_tokenize(text_no_punct)\n",
    "print(\"Word Tokens:\\n\", words)"
   ]
  },
  {
   "cell_type": "code",
   "execution_count": 15,
   "id": "ff8bcc35-5eef-4499-a474-5c84d918fc92",
   "metadata": {},
   "outputs": [
    {
     "name": "stdout",
     "output_type": "stream",
     "text": [
      "Word Tokens:\n",
      " ['my', 'current', 'weight', 'is', 'a', 'secret', 'i', 'have', 'a', 'pet', 'cat', 'who', 'loves', 'to', 'nap', 'on', 'my', 'bed', 'i', 'sell', 'paper', 'products', 'for', 'a', 'living', 'i', 'love', 'my', 'pet', 'dog', 'more', 'than', 'anything', 'i', 'am', 'a', 'fisherman']\n"
     ]
    }
   ],
   "source": [
    "words = word_tokenize(text_no_punct_1)\n",
    "print(\"Word Tokens:\\n\", words)"
   ]
  },
  {
   "cell_type": "code",
   "execution_count": 16,
   "id": "96e1e739-0328-4946-837a-13995932bc66",
   "metadata": {},
   "outputs": [
    {
     "name": "stdout",
     "output_type": "stream",
     "text": [
      "Sentence Tokens: ['I love the way my pets stare back at me.', 'i love to dance salsa.', \"I sometimes get too caught up in my own head and don't listen to my partner.\", 'i sometimes scratch my nose for fun.', 'i love the band van halen.']\n"
     ]
    }
   ],
   "source": [
    "sentences = sent_tokenize(text)\n",
    "print(\"Sentence Tokens:\", sentences)"
   ]
  },
  {
   "cell_type": "code",
   "execution_count": 17,
   "id": "896e5838-657f-4055-97d1-24a5cc286859",
   "metadata": {},
   "outputs": [
    {
     "name": "stdout",
     "output_type": "stream",
     "text": [
      "Sentence Tokens: ['My current weight is a secret\\nI have a pet cat who loves to nap on my bed.', 'i sell paper products for a living.', 'i love my pet dog more than anything.', 'i am a fisherman.']\n"
     ]
    }
   ],
   "source": [
    "sentences = sent_tokenize(text_1)\n",
    "print(\"Sentence Tokens:\", sentences)"
   ]
  },
  {
   "cell_type": "code",
   "execution_count": 18,
   "id": "6ab2e929-6624-4349-975a-09849dc72dc2",
   "metadata": {},
   "outputs": [
    {
     "name": "stderr",
     "output_type": "stream",
     "text": [
      "[nltk_data] Downloading package stopwords to\n",
      "[nltk_data]     C:\\Users\\dell\\AppData\\Roaming\\nltk_data...\n",
      "[nltk_data]   Package stopwords is already up-to-date!\n"
     ]
    },
    {
     "data": {
      "text/plain": [
       "True"
      ]
     },
     "execution_count": 18,
     "metadata": {},
     "output_type": "execute_result"
    }
   ],
   "source": [
    "nltk.download('stopwords')"
   ]
  },
  {
   "cell_type": "code",
   "execution_count": 19,
   "id": "e375e60e-3b1f-49cc-966b-37d41eb4643c",
   "metadata": {},
   "outputs": [],
   "source": [
    "stop_words = set(stopwords.words('english'))"
   ]
  },
  {
   "cell_type": "code",
   "execution_count": 20,
   "id": "44028b76-c17c-4422-b9b8-713ecf468567",
   "metadata": {},
   "outputs": [
    {
     "name": "stdout",
     "output_type": "stream",
     "text": [
      "No Stopwords:\n",
      " ['current', 'weight', 'secret', 'pet', 'cat', 'loves', 'nap', 'bed', 'sell', 'paper', 'products', 'living', 'love', 'pet', 'dog', 'anything', 'fisherman']\n"
     ]
    }
   ],
   "source": [
    "words_no_stopwords=[word for word in words if word not in stop_words]\n",
    "print(\"No Stopwords:\\n\",words_no_stopwords)"
   ]
  },
  {
   "cell_type": "code",
   "execution_count": 21,
   "id": "8193d73a-6542-4cf1-87a6-7f6038e05416",
   "metadata": {},
   "outputs": [],
   "source": [
    "stemmer = PorterStemmer()"
   ]
  },
  {
   "cell_type": "code",
   "execution_count": 22,
   "id": "26a8ce51-c245-4a2e-933c-a7cece8baa52",
   "metadata": {},
   "outputs": [
    {
     "name": "stdout",
     "output_type": "stream",
     "text": [
      "Stemmed Words:\n",
      " ['current', 'weight', 'secret', 'pet', 'cat', 'love', 'nap', 'bed', 'sell', 'paper', 'product', 'live', 'love', 'pet', 'dog', 'anyth', 'fisherman']\n"
     ]
    }
   ],
   "source": [
    "stemmed_words=[stemmer.stem(word) for word in  words_no_stopwords]\n",
    "print(\"Stemmed Words:\\n\",stemmed_words)"
   ]
  },
  {
   "cell_type": "code",
   "execution_count": 23,
   "id": "9eb3cae2-b860-4564-a5b8-1c30a7873e01",
   "metadata": {},
   "outputs": [
    {
     "name": "stderr",
     "output_type": "stream",
     "text": [
      "[nltk_data] Downloading package wordnet to\n",
      "[nltk_data]     C:\\Users\\dell\\AppData\\Roaming\\nltk_data...\n",
      "[nltk_data]   Package wordnet is already up-to-date!\n"
     ]
    },
    {
     "data": {
      "text/plain": [
       "True"
      ]
     },
     "execution_count": 23,
     "metadata": {},
     "output_type": "execute_result"
    }
   ],
   "source": [
    "nltk.download('wordnet')"
   ]
  },
  {
   "cell_type": "code",
   "execution_count": 24,
   "id": "c52be568-d15c-46b2-b903-776879b75943",
   "metadata": {},
   "outputs": [
    {
     "name": "stderr",
     "output_type": "stream",
     "text": [
      "[nltk_data] Downloading package omw-1.4 to\n",
      "[nltk_data]     C:\\Users\\dell\\AppData\\Roaming\\nltk_data...\n",
      "[nltk_data]   Package omw-1.4 is already up-to-date!\n"
     ]
    },
    {
     "data": {
      "text/plain": [
       "True"
      ]
     },
     "execution_count": 24,
     "metadata": {},
     "output_type": "execute_result"
    }
   ],
   "source": [
    "nltk.download('omw-1.4')"
   ]
  },
  {
   "cell_type": "code",
   "execution_count": 25,
   "id": "79a9b943-1b9d-4975-9b11-53215b233e18",
   "metadata": {},
   "outputs": [],
   "source": [
    "nltk.data.path.append('/usr/local/share/nltk_data')  # Replace with the correct path."
   ]
  },
  {
   "cell_type": "code",
   "execution_count": 26,
   "id": "fe438508-1182-4fbb-90e6-d406c0f5259d",
   "metadata": {},
   "outputs": [
    {
     "name": "stdout",
     "output_type": "stream",
     "text": [
      "['C:\\\\Users\\\\dell/nltk_data', 'C:\\\\Users\\\\dell\\\\anaconda3\\\\nltk_data', 'C:\\\\Users\\\\dell\\\\anaconda3\\\\share\\\\nltk_data', 'C:\\\\Users\\\\dell\\\\anaconda3\\\\lib\\\\nltk_data', 'C:\\\\Users\\\\dell\\\\AppData\\\\Roaming\\\\nltk_data', 'C:\\\\nltk_data', 'D:\\\\nltk_data', 'E:\\\\nltk_data', '/usr/local/share/nltk_data']\n"
     ]
    }
   ],
   "source": [
    "print(nltk.data.path)"
   ]
  },
  {
   "cell_type": "code",
   "execution_count": 27,
   "id": "a6b56ed0-c86d-4736-905d-b75434d28a3a",
   "metadata": {},
   "outputs": [
    {
     "name": "stdout",
     "output_type": "stream",
     "text": [
      "Lemmatized Words:\n",
      " ['current', 'weight', 'secret', 'pet', 'cat', 'love', 'nap', 'bed', 'sell', 'paper', 'product', 'living', 'love', 'pet', 'dog', 'anything', 'fisherman']\n"
     ]
    }
   ],
   "source": [
    "lemmatizer = WordNetLemmatizer()\n",
    "lemmatized_words =[lemmatizer.lemmatize(word) for word in  words_no_stopwords]\n",
    "print(\"Lemmatized Words:\\n\", lemmatized_words)"
   ]
  },
  {
   "cell_type": "code",
   "execution_count": 28,
   "id": "098be7ab-c4d2-4aba-847d-2b4e1513cb58",
   "metadata": {},
   "outputs": [
    {
     "data": {
      "text/plain": [
       "['current',\n",
       " 'weight',\n",
       " 'secret',\n",
       " 'pet',\n",
       " 'cat',\n",
       " 'loves',\n",
       " 'nap',\n",
       " 'bed',\n",
       " 'sell',\n",
       " 'paper',\n",
       " 'products',\n",
       " 'living',\n",
       " 'love',\n",
       " 'pet',\n",
       " 'dog',\n",
       " 'anything',\n",
       " 'fisherman']"
      ]
     },
     "execution_count": 28,
     "metadata": {},
     "output_type": "execute_result"
    }
   ],
   "source": [
    "words_no_stopwords"
   ]
  },
  {
   "cell_type": "code",
   "execution_count": 29,
   "id": "c8af02e2-95fc-4624-bd06-7ad4128988e4",
   "metadata": {},
   "outputs": [
    {
     "name": "stderr",
     "output_type": "stream",
     "text": [
      "[nltk_data] Downloading package averaged_perceptron_tagger_eng to\n",
      "[nltk_data]     C:\\Users\\dell\\AppData\\Roaming\\nltk_data...\n",
      "[nltk_data]   Unzipping taggers\\averaged_perceptron_tagger_eng.zip.\n"
     ]
    },
    {
     "data": {
      "text/plain": [
       "True"
      ]
     },
     "execution_count": 29,
     "metadata": {},
     "output_type": "execute_result"
    }
   ],
   "source": [
    "nltk.download('averaged_perceptron_tagger_eng')"
   ]
  },
  {
   "cell_type": "code",
   "execution_count": 30,
   "id": "7fa2238e-0312-47e3-879d-9dae6541d0f0",
   "metadata": {},
   "outputs": [
    {
     "name": "stdout",
     "output_type": "stream",
     "text": [
      "POS Tags:\n",
      " [('current', 'JJ'), ('weight', 'NN'), ('secret', 'NN'), ('pet', 'NN'), ('cat', 'NN'), ('love', 'VB'), ('nap', 'JJ'), ('bed', 'NN'), ('sell', 'VBP'), ('paper', 'NN'), ('product', 'NN'), ('living', 'VBG'), ('love', 'JJ'), ('pet', 'JJ'), ('dog', 'NN'), ('anything', 'NN'), ('fisherman', 'JJ')]\n"
     ]
    }
   ],
   "source": [
    "from nltk import pos_tag\n",
    "# POS Tagging\n",
    "pos_tags = pos_tag(lemmatized_words)\n",
    "print(\"POS Tags:\\n\", pos_tags)"
   ]
  },
  {
   "cell_type": "code",
   "execution_count": 31,
   "id": "f71b3e89-3f17-4c4e-8786-40d800dd51d8",
   "metadata": {},
   "outputs": [
    {
     "data": {
      "text/plain": [
       "Index(['user 1 personas', 'user 2 personas', 'Best Generated Conversation'], dtype='object')"
      ]
     },
     "execution_count": 31,
     "metadata": {},
     "output_type": "execute_result"
    }
   ],
   "source": [
    "df.columns"
   ]
  },
  {
   "cell_type": "code",
   "execution_count": 32,
   "id": "78925be0-b0de-4bb1-8b93-6f20f34f5f4f",
   "metadata": {},
   "outputs": [
    {
     "data": {
      "text/plain": [
       "Index(['user 1 personas', 'user 2 personas', 'Best Generated Conversation'], dtype='object')"
      ]
     },
     "execution_count": 32,
     "metadata": {},
     "output_type": "execute_result"
    }
   ],
   "source": [
    "df.columns"
   ]
  },
  {
   "cell_type": "code",
   "execution_count": 33,
   "id": "013d8acb-c05e-4426-aee3-cb6022f01f72",
   "metadata": {},
   "outputs": [
    {
     "data": {
      "text/html": [
       "<div>\n",
       "<style scoped>\n",
       "    .dataframe tbody tr th:only-of-type {\n",
       "        vertical-align: middle;\n",
       "    }\n",
       "\n",
       "    .dataframe tbody tr th {\n",
       "        vertical-align: top;\n",
       "    }\n",
       "\n",
       "    .dataframe thead th {\n",
       "        text-align: right;\n",
       "    }\n",
       "</style>\n",
       "<table border=\"1\" class=\"dataframe\">\n",
       "  <thead>\n",
       "    <tr style=\"text-align: right;\">\n",
       "      <th></th>\n",
       "      <th>user 1 personas</th>\n",
       "      <th>user 2 personas</th>\n",
       "      <th>Best Generated Conversation</th>\n",
       "    </tr>\n",
       "  </thead>\n",
       "  <tbody>\n",
       "    <tr>\n",
       "      <th>0</th>\n",
       "      <td>I'm moving to a new city to pursue my culinary...</td>\n",
       "      <td>I am comfortable with the weather, and enjoy s...</td>\n",
       "      <td>User 1: Hi! How are you?\\nUser 2: Good, thanks...</td>\n",
       "    </tr>\n",
       "    <tr>\n",
       "      <th>1</th>\n",
       "      <td>I used my artistic skills to teach children ho...</td>\n",
       "      <td>I like to run and do yoga in my spare time.\\nM...</td>\n",
       "      <td>User 1: Hey how are you doing?\\nUser 2: Doing ...</td>\n",
       "    </tr>\n",
       "    <tr>\n",
       "      <th>2</th>\n",
       "      <td>I enjoy spending time with my pets, and I love...</td>\n",
       "      <td>I am close to my mother and love to spend time...</td>\n",
       "      <td>User 1: Hello there, how are you doing today?\\...</td>\n",
       "    </tr>\n",
       "    <tr>\n",
       "      <th>3</th>\n",
       "      <td>My cupcake business keeps me busy, but I also ...</td>\n",
       "      <td>I collect memories and seashells from my trave...</td>\n",
       "      <td>User 1: hi there!\\nUser 2: Hey! How's your day...</td>\n",
       "    </tr>\n",
       "    <tr>\n",
       "      <th>4</th>\n",
       "      <td>The weather is perfect for cheering!\\ni listen...</td>\n",
       "      <td>I had to move across country for my job.\\nI go...</td>\n",
       "      <td>User 1: How is your day going?\\nUser 2: Great!...</td>\n",
       "    </tr>\n",
       "  </tbody>\n",
       "</table>\n",
       "</div>"
      ],
      "text/plain": [
       "                                     user 1 personas  \\\n",
       "0  I'm moving to a new city to pursue my culinary...   \n",
       "1  I used my artistic skills to teach children ho...   \n",
       "2  I enjoy spending time with my pets, and I love...   \n",
       "3  My cupcake business keeps me busy, but I also ...   \n",
       "4  The weather is perfect for cheering!\\ni listen...   \n",
       "\n",
       "                                     user 2 personas  \\\n",
       "0  I am comfortable with the weather, and enjoy s...   \n",
       "1  I like to run and do yoga in my spare time.\\nM...   \n",
       "2  I am close to my mother and love to spend time...   \n",
       "3  I collect memories and seashells from my trave...   \n",
       "4  I had to move across country for my job.\\nI go...   \n",
       "\n",
       "                         Best Generated Conversation  \n",
       "0  User 1: Hi! How are you?\\nUser 2: Good, thanks...  \n",
       "1  User 1: Hey how are you doing?\\nUser 2: Doing ...  \n",
       "2  User 1: Hello there, how are you doing today?\\...  \n",
       "3  User 1: hi there!\\nUser 2: Hey! How's your day...  \n",
       "4  User 1: How is your day going?\\nUser 2: Great!...  "
      ]
     },
     "execution_count": 33,
     "metadata": {},
     "output_type": "execute_result"
    }
   ],
   "source": [
    "df.head()"
   ]
  },
  {
   "cell_type": "code",
   "execution_count": 34,
   "id": "714a5178-97a6-423d-b0ad-5b512c9c97b9",
   "metadata": {},
   "outputs": [],
   "source": [
    "import string\n",
    "stop_words = set(stopwords.words('english'))\n",
    "def preprocess_text(text):\n",
    "    text=text.lower()\n",
    "    #Remove Punctuation\n",
    "    text=''.join([c for c in text if c not in string.punctuation])\n",
    "    #Remove stopwords\n",
    "    text=' '.join([word for word in text.split() if word not in stop_words])\n",
    "    return text"
   ]
  },
  {
   "cell_type": "code",
   "execution_count": 35,
   "id": "4fcdbbf6-22b1-41e7-bc44-0cd7a3034911",
   "metadata": {},
   "outputs": [
    {
     "data": {
      "text/html": [
       "<div>\n",
       "<style scoped>\n",
       "    .dataframe tbody tr th:only-of-type {\n",
       "        vertical-align: middle;\n",
       "    }\n",
       "\n",
       "    .dataframe tbody tr th {\n",
       "        vertical-align: top;\n",
       "    }\n",
       "\n",
       "    .dataframe thead th {\n",
       "        text-align: right;\n",
       "    }\n",
       "</style>\n",
       "<table border=\"1\" class=\"dataframe\">\n",
       "  <thead>\n",
       "    <tr style=\"text-align: right;\">\n",
       "      <th></th>\n",
       "      <th>user 1 personas</th>\n",
       "      <th>user 2 personas</th>\n",
       "      <th>Best Generated Conversation</th>\n",
       "      <th>user_1_cleaned_text</th>\n",
       "    </tr>\n",
       "  </thead>\n",
       "  <tbody>\n",
       "    <tr>\n",
       "      <th>0</th>\n",
       "      <td>I'm moving to a new city to pursue my culinary...</td>\n",
       "      <td>I am comfortable with the weather, and enjoy s...</td>\n",
       "      <td>User 1: Hi! How are you?\\nUser 2: Good, thanks...</td>\n",
       "      <td>im moving new city pursue culinary dreams mara...</td>\n",
       "    </tr>\n",
       "    <tr>\n",
       "      <th>1</th>\n",
       "      <td>I used my artistic skills to teach children ho...</td>\n",
       "      <td>I like to run and do yoga in my spare time.\\nM...</td>\n",
       "      <td>User 1: Hey how are you doing?\\nUser 2: Doing ...</td>\n",
       "      <td>used artistic skills teach children create bea...</td>\n",
       "    </tr>\n",
       "    <tr>\n",
       "      <th>2</th>\n",
       "      <td>I enjoy spending time with my pets, and I love...</td>\n",
       "      <td>I am close to my mother and love to spend time...</td>\n",
       "      <td>User 1: Hello there, how are you doing today?\\...</td>\n",
       "      <td>enjoy spending time pets love eat strawberries...</td>\n",
       "    </tr>\n",
       "    <tr>\n",
       "      <th>3</th>\n",
       "      <td>My cupcake business keeps me busy, but I also ...</td>\n",
       "      <td>I collect memories and seashells from my trave...</td>\n",
       "      <td>User 1: hi there!\\nUser 2: Hey! How's your day...</td>\n",
       "      <td>cupcake business keeps busy also enjoy hiking ...</td>\n",
       "    </tr>\n",
       "    <tr>\n",
       "      <th>4</th>\n",
       "      <td>The weather is perfect for cheering!\\ni listen...</td>\n",
       "      <td>I had to move across country for my job.\\nI go...</td>\n",
       "      <td>User 1: How is your day going?\\nUser 2: Great!...</td>\n",
       "      <td>weather perfect cheering listen fall boy recor...</td>\n",
       "    </tr>\n",
       "  </tbody>\n",
       "</table>\n",
       "</div>"
      ],
      "text/plain": [
       "                                     user 1 personas  \\\n",
       "0  I'm moving to a new city to pursue my culinary...   \n",
       "1  I used my artistic skills to teach children ho...   \n",
       "2  I enjoy spending time with my pets, and I love...   \n",
       "3  My cupcake business keeps me busy, but I also ...   \n",
       "4  The weather is perfect for cheering!\\ni listen...   \n",
       "\n",
       "                                     user 2 personas  \\\n",
       "0  I am comfortable with the weather, and enjoy s...   \n",
       "1  I like to run and do yoga in my spare time.\\nM...   \n",
       "2  I am close to my mother and love to spend time...   \n",
       "3  I collect memories and seashells from my trave...   \n",
       "4  I had to move across country for my job.\\nI go...   \n",
       "\n",
       "                         Best Generated Conversation  \\\n",
       "0  User 1: Hi! How are you?\\nUser 2: Good, thanks...   \n",
       "1  User 1: Hey how are you doing?\\nUser 2: Doing ...   \n",
       "2  User 1: Hello there, how are you doing today?\\...   \n",
       "3  User 1: hi there!\\nUser 2: Hey! How's your day...   \n",
       "4  User 1: How is your day going?\\nUser 2: Great!...   \n",
       "\n",
       "                                 user_1_cleaned_text  \n",
       "0  im moving new city pursue culinary dreams mara...  \n",
       "1  used artistic skills teach children create bea...  \n",
       "2  enjoy spending time pets love eat strawberries...  \n",
       "3  cupcake business keeps busy also enjoy hiking ...  \n",
       "4  weather perfect cheering listen fall boy recor...  "
      ]
     },
     "execution_count": 35,
     "metadata": {},
     "output_type": "execute_result"
    }
   ],
   "source": [
    "df['user_1_cleaned_text'] = df['user 1 personas'].apply(preprocess_text)\n",
    "df.head()"
   ]
  },
  {
   "cell_type": "code",
   "execution_count": 37,
   "id": "8d73fdaa-70f8-4942-be24-bba2b1f5f7b5",
   "metadata": {},
   "outputs": [],
   "source": [
    "import string\n",
    "stop_words = set(stopwords.words('english'))\n",
    "def preprocess_text(text_1):\n",
    "    text_1=text_1.lower()\n",
    "    #Remove Punctuation\n",
    "    text_1=''.join([c for c in text_1 if c not in string.punctuation])\n",
    "    #Remove stopwords\n",
    "    text_1=' '.join([word for word in text_1.split() if word not in stop_words])\n",
    "    return text_1"
   ]
  },
  {
   "cell_type": "code",
   "execution_count": 38,
   "id": "e6f071fd-b417-49f9-9180-ee62e48ad638",
   "metadata": {},
   "outputs": [
    {
     "data": {
      "text/html": [
       "<div>\n",
       "<style scoped>\n",
       "    .dataframe tbody tr th:only-of-type {\n",
       "        vertical-align: middle;\n",
       "    }\n",
       "\n",
       "    .dataframe tbody tr th {\n",
       "        vertical-align: top;\n",
       "    }\n",
       "\n",
       "    .dataframe thead th {\n",
       "        text-align: right;\n",
       "    }\n",
       "</style>\n",
       "<table border=\"1\" class=\"dataframe\">\n",
       "  <thead>\n",
       "    <tr style=\"text-align: right;\">\n",
       "      <th></th>\n",
       "      <th>user 1 personas</th>\n",
       "      <th>user 2 personas</th>\n",
       "      <th>Best Generated Conversation</th>\n",
       "      <th>user_1_cleaned_text</th>\n",
       "      <th>user_2_cleaned_text</th>\n",
       "    </tr>\n",
       "  </thead>\n",
       "  <tbody>\n",
       "    <tr>\n",
       "      <th>0</th>\n",
       "      <td>I'm moving to a new city to pursue my culinary...</td>\n",
       "      <td>I am comfortable with the weather, and enjoy s...</td>\n",
       "      <td>User 1: Hi! How are you?\\nUser 2: Good, thanks...</td>\n",
       "      <td>im moving new city pursue culinary dreams mara...</td>\n",
       "      <td>comfortable weather enjoy spending time outdoo...</td>\n",
       "    </tr>\n",
       "    <tr>\n",
       "      <th>1</th>\n",
       "      <td>I used my artistic skills to teach children ho...</td>\n",
       "      <td>I like to run and do yoga in my spare time.\\nM...</td>\n",
       "      <td>User 1: Hey how are you doing?\\nUser 2: Doing ...</td>\n",
       "      <td>used artistic skills teach children create bea...</td>\n",
       "      <td>like run yoga spare time impala needs new pain...</td>\n",
       "    </tr>\n",
       "    <tr>\n",
       "      <th>2</th>\n",
       "      <td>I enjoy spending time with my pets, and I love...</td>\n",
       "      <td>I am close to my mother and love to spend time...</td>\n",
       "      <td>User 1: Hello there, how are you doing today?\\...</td>\n",
       "      <td>enjoy spending time pets love eat strawberries...</td>\n",
       "      <td>close mother love spend time love read cook us...</td>\n",
       "    </tr>\n",
       "    <tr>\n",
       "      <th>3</th>\n",
       "      <td>My cupcake business keeps me busy, but I also ...</td>\n",
       "      <td>I collect memories and seashells from my trave...</td>\n",
       "      <td>User 1: hi there!\\nUser 2: Hey! How's your day...</td>\n",
       "      <td>cupcake business keeps busy also enjoy hiking ...</td>\n",
       "      <td>collect memories seashells travels try keep fi...</td>\n",
       "    </tr>\n",
       "    <tr>\n",
       "      <th>4</th>\n",
       "      <td>The weather is perfect for cheering!\\ni listen...</td>\n",
       "      <td>I had to move across country for my job.\\nI go...</td>\n",
       "      <td>User 1: How is your day going?\\nUser 2: Great!...</td>\n",
       "      <td>weather perfect cheering listen fall boy recor...</td>\n",
       "      <td>move across country job go fishing uncle remin...</td>\n",
       "    </tr>\n",
       "  </tbody>\n",
       "</table>\n",
       "</div>"
      ],
      "text/plain": [
       "                                     user 1 personas  \\\n",
       "0  I'm moving to a new city to pursue my culinary...   \n",
       "1  I used my artistic skills to teach children ho...   \n",
       "2  I enjoy spending time with my pets, and I love...   \n",
       "3  My cupcake business keeps me busy, but I also ...   \n",
       "4  The weather is perfect for cheering!\\ni listen...   \n",
       "\n",
       "                                     user 2 personas  \\\n",
       "0  I am comfortable with the weather, and enjoy s...   \n",
       "1  I like to run and do yoga in my spare time.\\nM...   \n",
       "2  I am close to my mother and love to spend time...   \n",
       "3  I collect memories and seashells from my trave...   \n",
       "4  I had to move across country for my job.\\nI go...   \n",
       "\n",
       "                         Best Generated Conversation  \\\n",
       "0  User 1: Hi! How are you?\\nUser 2: Good, thanks...   \n",
       "1  User 1: Hey how are you doing?\\nUser 2: Doing ...   \n",
       "2  User 1: Hello there, how are you doing today?\\...   \n",
       "3  User 1: hi there!\\nUser 2: Hey! How's your day...   \n",
       "4  User 1: How is your day going?\\nUser 2: Great!...   \n",
       "\n",
       "                                 user_1_cleaned_text  \\\n",
       "0  im moving new city pursue culinary dreams mara...   \n",
       "1  used artistic skills teach children create bea...   \n",
       "2  enjoy spending time pets love eat strawberries...   \n",
       "3  cupcake business keeps busy also enjoy hiking ...   \n",
       "4  weather perfect cheering listen fall boy recor...   \n",
       "\n",
       "                                 user_2_cleaned_text  \n",
       "0  comfortable weather enjoy spending time outdoo...  \n",
       "1  like run yoga spare time impala needs new pain...  \n",
       "2  close mother love spend time love read cook us...  \n",
       "3  collect memories seashells travels try keep fi...  \n",
       "4  move across country job go fishing uncle remin...  "
      ]
     },
     "execution_count": 38,
     "metadata": {},
     "output_type": "execute_result"
    }
   ],
   "source": [
    "df['user_2_cleaned_text'] = df['user 2 personas'].apply(preprocess_text)\n",
    "df.head()"
   ]
  },
  {
   "cell_type": "code",
   "execution_count": 39,
   "id": "f58cf8e7-4129-4348-baee-638dc47f91e6",
   "metadata": {},
   "outputs": [],
   "source": [
    "from sklearn.feature_extraction.text import CountVectorizer, TfidfVectorizer"
   ]
  },
  {
   "cell_type": "code",
   "execution_count": 40,
   "id": "59c6a86f-8881-4efe-a9b1-ec49743dcb34",
   "metadata": {},
   "outputs": [
    {
     "name": "stdout",
     "output_type": "stream",
     "text": [
      "Bag of Words DataFrame:\n",
      "    advice  favorite  for  give  it  ll  relax  shot  thanks  the  to  way  \\\n",
      "0       0         1    0     0   0   0      1     0       0    0   1    1   \n",
      "1       1         0    1     1   1   1      0     1       1    1   0    0   \n",
      "\n",
      "   what  your  \n",
      "0     1     1  \n",
      "1     0     0  \n"
     ]
    }
   ],
   "source": [
    "texts = [\"What's your favorite way to relax?\", \"Thanks for the advice! I’ll give it a shot.\"]\n",
    "\n",
    "# Bag of Words\n",
    "bow_vectorizer = CountVectorizer()\n",
    "bow_vectors = bow_vectorizer.fit_transform(texts)\n",
    "bow_feature_names = bow_vectorizer.get_feature_names_out()\n",
    "bow_df = pd.DataFrame(bow_vectors.toarray(), columns=bow_feature_names)\n",
    "print(\"Bag of Words DataFrame:\\n\", bow_df)"
   ]
  },
  {
   "cell_type": "code",
   "execution_count": 41,
   "id": "5cc4c723-7a03-497c-8662-b4b48e23289e",
   "metadata": {},
   "outputs": [
    {
     "name": "stdout",
     "output_type": "stream",
     "text": [
      "\n",
      "TF-IDF DataFrame:\n",
      "      advice  favorite       for      give        it        ll     relax  \\\n",
      "0  0.000000  0.408248  0.000000  0.000000  0.000000  0.000000  0.408248   \n",
      "1  0.353553  0.000000  0.353553  0.353553  0.353553  0.353553  0.000000   \n",
      "\n",
      "       shot    thanks       the        to       way      what      your  \n",
      "0  0.000000  0.000000  0.000000  0.408248  0.408248  0.408248  0.408248  \n",
      "1  0.353553  0.353553  0.353553  0.000000  0.000000  0.000000  0.000000  \n"
     ]
    }
   ],
   "source": [
    "# TF-IDF\n",
    "tfidf_vectorizer = TfidfVectorizer()\n",
    "tfidf_vectors = tfidf_vectorizer.fit_transform(texts)\n",
    "tfidf_feature_names = tfidf_vectorizer.get_feature_names_out()\n",
    "tfidf_df = pd.DataFrame(tfidf_vectors.toarray(), columns=tfidf_feature_names)\n",
    "print(\"\\nTF-IDF DataFrame:\\n\", tfidf_df)"
   ]
  },
  {
   "cell_type": "code",
   "execution_count": 42,
   "id": "0e24f4cd-bc3b-42e5-ad0e-2a862193944a",
   "metadata": {},
   "outputs": [
    {
     "name": "stderr",
     "output_type": "stream",
     "text": [
      "[nltk_data] Downloading package vader_lexicon to\n",
      "[nltk_data]     C:\\Users\\dell\\AppData\\Roaming\\nltk_data...\n",
      "[nltk_data]   Package vader_lexicon is already up-to-date!\n",
      "[nltk_data] Downloading package punkt to\n",
      "[nltk_data]     C:\\Users\\dell\\AppData\\Roaming\\nltk_data...\n",
      "[nltk_data]   Package punkt is already up-to-date!\n"
     ]
    },
    {
     "data": {
      "text/plain": [
       "True"
      ]
     },
     "execution_count": 42,
     "metadata": {},
     "output_type": "execute_result"
    }
   ],
   "source": [
    "nltk.download('vader_lexicon')\n",
    "nltk.download('punkt')  # If tokenizing is needed"
   ]
  },
  {
   "cell_type": "code",
   "execution_count": 43,
   "id": "70ef9c1d-4834-4d3c-8d16-4365f8bf68cd",
   "metadata": {},
   "outputs": [],
   "source": [
    "from nltk.sentiment import SentimentIntensityAnalyzer\n",
    "\n",
    "# Initialize the Sentiment Intensity Analyzer\n",
    "sia = SentimentIntensityAnalyzer()\n",
    "\n",
    "# Define a function to map sentiment to emotions\n",
    "def sentiment_to_emotion(sentiment_scores):\n",
    "    \"\"\"\n",
    "    Maps sentiment scores to basic emotions.\n",
    "    - Positive -> Joy\n",
    "    - Negative -> Sadness/Anger\n",
    "    - Neutral -> Neutral\n",
    "    \"\"\"\n",
    "    if sentiment_scores['compound'] >= 0.05:\n",
    "        return 'joy'\n",
    "    elif sentiment_scores['compound'] <= -0.05:\n",
    "        return 'sadness'\n",
    "    else:\n",
    "        return 'neutral'\n",
    "\n",
    "# Apply emotion detection to the utterances\n",
    "df['user_1_emotion'] = df['user_1_cleaned_text'].apply(lambda x: sentiment_to_emotion(sia.polarity_scores(x)))\n",
    "df['user_2_emotion'] = df['user_2_cleaned_text'].apply(lambda x: sentiment_to_emotion(sia.polarity_scores(x)))"
   ]
  },
  {
   "cell_type": "code",
   "execution_count": 44,
   "id": "c9429150-4cf5-41a7-9bc6-88f3e7c905bb",
   "metadata": {},
   "outputs": [
    {
     "name": "stdout",
     "output_type": "stream",
     "text": [
      "                                     user_1_cleaned_text user_1_emotion\n",
      "6026   start day quick cup coffee read news feed dog ...            joy\n",
      "1504   first cup coffee morning inspires write create...            joy\n",
      "3746   im close parents try family works support drea...            joy\n",
      "6589   close mother love spend time love read cook us...            joy\n",
      "2950   im best maintain healthy weight loved playing ...            joy\n",
      "7414   new job medical field much fulfilling old job ...            joy\n",
      "10897  enjoy eating fruit child spend time together g...            joy\n",
      "7323   im loyal friend always people like shoot bow p...            joy\n",
      "3789   im always trying find new ways make home feel ...            joy\n",
      "186    take break playing guitar eat banana replenish...            joy\n"
     ]
    }
   ],
   "source": [
    "print(df[['user_1_cleaned_text', 'user_1_emotion']].sample(10))"
   ]
  },
  {
   "cell_type": "code",
   "execution_count": 45,
   "id": "860cdf43-d164-4779-b697-624edc4b90c8",
   "metadata": {},
   "outputs": [
    {
     "name": "stdout",
     "output_type": "stream",
     "text": [
      "                                     user_2_cleaned_text user_2_emotion\n",
      "1602   like wear warm clothes keep family warm love l...            joy\n",
      "1780   used live small town midwest trouble getting a...            joy\n",
      "1375   work coworkers really accepting like horseback...            joy\n",
      "10938  im ready tell family sexuality listen beatles ...            joy\n",
      "2679   dont dye hair single live dog great listener f...            joy\n",
      "3201   get drive around day listening favorite countr...            joy\n",
      "1593   got pulled speeding cop didnt believe said lat...            joy\n",
      "8212   live house bass guitar named big bertha single...            joy\n",
      "1976   ive kept geocaching hobby secret parents yes f...            joy\n",
      "9680   im proud im able use creative talents make cla...            joy\n"
     ]
    }
   ],
   "source": [
    "print(df[['user_2_cleaned_text', 'user_2_emotion']].sample(10))"
   ]
  },
  {
   "cell_type": "code",
   "execution_count": 46,
   "id": "eae0c38f-d214-47ba-9582-0b2ebe291a25",
   "metadata": {},
   "outputs": [
    {
     "data": {
      "text/plain": [
       "113          joy\n",
       "8807         joy\n",
       "9204     neutral\n",
       "2950         joy\n",
       "10808        joy\n",
       "7741         joy\n",
       "10277        joy\n",
       "5736         joy\n",
       "6561         joy\n",
       "10408        joy\n",
       "9447         joy\n",
       "10497        joy\n",
       "8771         joy\n",
       "8044         joy\n",
       "1261         joy\n",
       "Name: user_1_emotion, dtype: object"
      ]
     },
     "execution_count": 46,
     "metadata": {},
     "output_type": "execute_result"
    }
   ],
   "source": [
    "df['user_1_emotion'].sample(15)"
   ]
  },
  {
   "cell_type": "code",
   "execution_count": 47,
   "id": "1b0aa72a-cf82-4cee-95a2-d3abee9f42e2",
   "metadata": {},
   "outputs": [
    {
     "data": {
      "text/plain": [
       "5369         joy\n",
       "5319         joy\n",
       "3507         joy\n",
       "3130     sadness\n",
       "7985         joy\n",
       "1808         joy\n",
       "5023         joy\n",
       "10883        joy\n",
       "2571         joy\n",
       "7048         joy\n",
       "6072         joy\n",
       "3208         joy\n",
       "6824         joy\n",
       "9738         joy\n",
       "9895         joy\n",
       "Name: user_2_emotion, dtype: object"
      ]
     },
     "execution_count": 47,
     "metadata": {},
     "output_type": "execute_result"
    }
   ],
   "source": [
    "df['user_2_emotion'].sample(15)"
   ]
  },
  {
   "cell_type": "code",
   "execution_count": 48,
   "id": "d5575b10-4ee4-4f3b-9cd8-4b47ca56347d",
   "metadata": {},
   "outputs": [
    {
     "data": {
      "text/plain": [
       "array(['joy', 'sadness', 'neutral'], dtype=object)"
      ]
     },
     "execution_count": 48,
     "metadata": {},
     "output_type": "execute_result"
    }
   ],
   "source": [
    "df.user_1_emotion.unique()"
   ]
  },
  {
   "cell_type": "code",
   "execution_count": 49,
   "id": "39dfda90-16b2-45f4-9210-37f6c2571825",
   "metadata": {},
   "outputs": [
    {
     "data": {
      "text/plain": [
       "array(['joy', 'sadness', 'neutral'], dtype=object)"
      ]
     },
     "execution_count": 49,
     "metadata": {},
     "output_type": "execute_result"
    }
   ],
   "source": [
    "df.user_2_emotion.unique()"
   ]
  },
  {
   "cell_type": "code",
   "execution_count": 50,
   "id": "f63de8a1-ba7b-4a71-bee4-7b4778390d70",
   "metadata": {},
   "outputs": [],
   "source": [
    "df['label'] = df['user_1_emotion'].replace({'joy': 1, 'sadness': 0, 'neutral':2})\n",
    "df['label'] = df['user_2_emotion'].replace({'joy': 1, 'sadness': 0, 'neutral':2})"
   ]
  },
  {
   "cell_type": "code",
   "execution_count": 51,
   "id": "286eaa45-0be3-4543-92a6-50630869e3cc",
   "metadata": {},
   "outputs": [
    {
     "data": {
      "text/html": [
       "<div>\n",
       "<style scoped>\n",
       "    .dataframe tbody tr th:only-of-type {\n",
       "        vertical-align: middle;\n",
       "    }\n",
       "\n",
       "    .dataframe tbody tr th {\n",
       "        vertical-align: top;\n",
       "    }\n",
       "\n",
       "    .dataframe thead th {\n",
       "        text-align: right;\n",
       "    }\n",
       "</style>\n",
       "<table border=\"1\" class=\"dataframe\">\n",
       "  <thead>\n",
       "    <tr style=\"text-align: right;\">\n",
       "      <th></th>\n",
       "      <th>user 1 personas</th>\n",
       "      <th>user 2 personas</th>\n",
       "      <th>Best Generated Conversation</th>\n",
       "      <th>user_1_cleaned_text</th>\n",
       "      <th>user_2_cleaned_text</th>\n",
       "      <th>user_1_emotion</th>\n",
       "      <th>user_2_emotion</th>\n",
       "      <th>label</th>\n",
       "    </tr>\n",
       "  </thead>\n",
       "  <tbody>\n",
       "    <tr>\n",
       "      <th>0</th>\n",
       "      <td>I'm moving to a new city to pursue my culinary...</td>\n",
       "      <td>I am comfortable with the weather, and enjoy s...</td>\n",
       "      <td>User 1: Hi! How are you?\\nUser 2: Good, thanks...</td>\n",
       "      <td>im moving new city pursue culinary dreams mara...</td>\n",
       "      <td>comfortable weather enjoy spending time outdoo...</td>\n",
       "      <td>joy</td>\n",
       "      <td>joy</td>\n",
       "      <td>1</td>\n",
       "    </tr>\n",
       "    <tr>\n",
       "      <th>1</th>\n",
       "      <td>I used my artistic skills to teach children ho...</td>\n",
       "      <td>I like to run and do yoga in my spare time.\\nM...</td>\n",
       "      <td>User 1: Hey how are you doing?\\nUser 2: Doing ...</td>\n",
       "      <td>used artistic skills teach children create bea...</td>\n",
       "      <td>like run yoga spare time impala needs new pain...</td>\n",
       "      <td>joy</td>\n",
       "      <td>joy</td>\n",
       "      <td>1</td>\n",
       "    </tr>\n",
       "    <tr>\n",
       "      <th>2</th>\n",
       "      <td>I enjoy spending time with my pets, and I love...</td>\n",
       "      <td>I am close to my mother and love to spend time...</td>\n",
       "      <td>User 1: Hello there, how are you doing today?\\...</td>\n",
       "      <td>enjoy spending time pets love eat strawberries...</td>\n",
       "      <td>close mother love spend time love read cook us...</td>\n",
       "      <td>joy</td>\n",
       "      <td>joy</td>\n",
       "      <td>1</td>\n",
       "    </tr>\n",
       "    <tr>\n",
       "      <th>3</th>\n",
       "      <td>My cupcake business keeps me busy, but I also ...</td>\n",
       "      <td>I collect memories and seashells from my trave...</td>\n",
       "      <td>User 1: hi there!\\nUser 2: Hey! How's your day...</td>\n",
       "      <td>cupcake business keeps busy also enjoy hiking ...</td>\n",
       "      <td>collect memories seashells travels try keep fi...</td>\n",
       "      <td>joy</td>\n",
       "      <td>joy</td>\n",
       "      <td>1</td>\n",
       "    </tr>\n",
       "    <tr>\n",
       "      <th>4</th>\n",
       "      <td>The weather is perfect for cheering!\\ni listen...</td>\n",
       "      <td>I had to move across country for my job.\\nI go...</td>\n",
       "      <td>User 1: How is your day going?\\nUser 2: Great!...</td>\n",
       "      <td>weather perfect cheering listen fall boy recor...</td>\n",
       "      <td>move across country job go fishing uncle remin...</td>\n",
       "      <td>joy</td>\n",
       "      <td>joy</td>\n",
       "      <td>1</td>\n",
       "    </tr>\n",
       "  </tbody>\n",
       "</table>\n",
       "</div>"
      ],
      "text/plain": [
       "                                     user 1 personas  \\\n",
       "0  I'm moving to a new city to pursue my culinary...   \n",
       "1  I used my artistic skills to teach children ho...   \n",
       "2  I enjoy spending time with my pets, and I love...   \n",
       "3  My cupcake business keeps me busy, but I also ...   \n",
       "4  The weather is perfect for cheering!\\ni listen...   \n",
       "\n",
       "                                     user 2 personas  \\\n",
       "0  I am comfortable with the weather, and enjoy s...   \n",
       "1  I like to run and do yoga in my spare time.\\nM...   \n",
       "2  I am close to my mother and love to spend time...   \n",
       "3  I collect memories and seashells from my trave...   \n",
       "4  I had to move across country for my job.\\nI go...   \n",
       "\n",
       "                         Best Generated Conversation  \\\n",
       "0  User 1: Hi! How are you?\\nUser 2: Good, thanks...   \n",
       "1  User 1: Hey how are you doing?\\nUser 2: Doing ...   \n",
       "2  User 1: Hello there, how are you doing today?\\...   \n",
       "3  User 1: hi there!\\nUser 2: Hey! How's your day...   \n",
       "4  User 1: How is your day going?\\nUser 2: Great!...   \n",
       "\n",
       "                                 user_1_cleaned_text  \\\n",
       "0  im moving new city pursue culinary dreams mara...   \n",
       "1  used artistic skills teach children create bea...   \n",
       "2  enjoy spending time pets love eat strawberries...   \n",
       "3  cupcake business keeps busy also enjoy hiking ...   \n",
       "4  weather perfect cheering listen fall boy recor...   \n",
       "\n",
       "                                 user_2_cleaned_text user_1_emotion  \\\n",
       "0  comfortable weather enjoy spending time outdoo...            joy   \n",
       "1  like run yoga spare time impala needs new pain...            joy   \n",
       "2  close mother love spend time love read cook us...            joy   \n",
       "3  collect memories seashells travels try keep fi...            joy   \n",
       "4  move across country job go fishing uncle remin...            joy   \n",
       "\n",
       "  user_2_emotion  label  \n",
       "0            joy      1  \n",
       "1            joy      1  \n",
       "2            joy      1  \n",
       "3            joy      1  \n",
       "4            joy      1  "
      ]
     },
     "execution_count": 51,
     "metadata": {},
     "output_type": "execute_result"
    }
   ],
   "source": [
    "df.head()"
   ]
  },
  {
   "cell_type": "code",
   "execution_count": 52,
   "id": "7aced3c8-574b-4707-a576-44f6940db616",
   "metadata": {},
   "outputs": [],
   "source": [
    "# Bag of Words\n",
    "bow_vectorizer = CountVectorizer(max_features=10000)\n",
    "bow_vectors = bow_vectorizer.fit_transform(df['user_1_cleaned_text'])\n",
    "bow_feature_names = bow_vectorizer.get_feature_names_out()\n",
    "bow_df = pd.DataFrame(bow_vectors.toarray(), columns=bow_feature_names)"
   ]
  },
  {
   "cell_type": "code",
   "execution_count": 53,
   "id": "f65e4263-7c84-46f0-b119-a0a1272ecb7d",
   "metadata": {},
   "outputs": [
    {
     "data": {
      "text/html": [
       "<div>\n",
       "<style scoped>\n",
       "    .dataframe tbody tr th:only-of-type {\n",
       "        vertical-align: middle;\n",
       "    }\n",
       "\n",
       "    .dataframe tbody tr th {\n",
       "        vertical-align: top;\n",
       "    }\n",
       "\n",
       "    .dataframe thead th {\n",
       "        text-align: right;\n",
       "    }\n",
       "</style>\n",
       "<table border=\"1\" class=\"dataframe\">\n",
       "  <thead>\n",
       "    <tr style=\"text-align: right;\">\n",
       "      <th></th>\n",
       "      <th>000</th>\n",
       "      <th>10</th>\n",
       "      <th>100</th>\n",
       "      <th>11</th>\n",
       "      <th>12</th>\n",
       "      <th>128</th>\n",
       "      <th>130</th>\n",
       "      <th>14</th>\n",
       "      <th>140</th>\n",
       "      <th>15</th>\n",
       "      <th>...</th>\n",
       "      <th>youthful</th>\n",
       "      <th>youtube</th>\n",
       "      <th>youtuber</th>\n",
       "      <th>zappos</th>\n",
       "      <th>zebra</th>\n",
       "      <th>zebras</th>\n",
       "      <th>zone</th>\n",
       "      <th>zoo</th>\n",
       "      <th>zookeeper</th>\n",
       "      <th>zumba</th>\n",
       "    </tr>\n",
       "  </thead>\n",
       "  <tbody>\n",
       "    <tr>\n",
       "      <th>0</th>\n",
       "      <td>0</td>\n",
       "      <td>0</td>\n",
       "      <td>0</td>\n",
       "      <td>0</td>\n",
       "      <td>0</td>\n",
       "      <td>0</td>\n",
       "      <td>0</td>\n",
       "      <td>0</td>\n",
       "      <td>0</td>\n",
       "      <td>0</td>\n",
       "      <td>...</td>\n",
       "      <td>0</td>\n",
       "      <td>0</td>\n",
       "      <td>0</td>\n",
       "      <td>0</td>\n",
       "      <td>0</td>\n",
       "      <td>0</td>\n",
       "      <td>0</td>\n",
       "      <td>0</td>\n",
       "      <td>0</td>\n",
       "      <td>0</td>\n",
       "    </tr>\n",
       "    <tr>\n",
       "      <th>1</th>\n",
       "      <td>0</td>\n",
       "      <td>0</td>\n",
       "      <td>0</td>\n",
       "      <td>0</td>\n",
       "      <td>0</td>\n",
       "      <td>0</td>\n",
       "      <td>0</td>\n",
       "      <td>0</td>\n",
       "      <td>0</td>\n",
       "      <td>0</td>\n",
       "      <td>...</td>\n",
       "      <td>0</td>\n",
       "      <td>0</td>\n",
       "      <td>0</td>\n",
       "      <td>0</td>\n",
       "      <td>0</td>\n",
       "      <td>0</td>\n",
       "      <td>0</td>\n",
       "      <td>0</td>\n",
       "      <td>0</td>\n",
       "      <td>0</td>\n",
       "    </tr>\n",
       "    <tr>\n",
       "      <th>2</th>\n",
       "      <td>0</td>\n",
       "      <td>0</td>\n",
       "      <td>0</td>\n",
       "      <td>0</td>\n",
       "      <td>0</td>\n",
       "      <td>0</td>\n",
       "      <td>0</td>\n",
       "      <td>0</td>\n",
       "      <td>0</td>\n",
       "      <td>0</td>\n",
       "      <td>...</td>\n",
       "      <td>0</td>\n",
       "      <td>0</td>\n",
       "      <td>0</td>\n",
       "      <td>0</td>\n",
       "      <td>0</td>\n",
       "      <td>0</td>\n",
       "      <td>0</td>\n",
       "      <td>0</td>\n",
       "      <td>0</td>\n",
       "      <td>0</td>\n",
       "    </tr>\n",
       "    <tr>\n",
       "      <th>3</th>\n",
       "      <td>0</td>\n",
       "      <td>0</td>\n",
       "      <td>0</td>\n",
       "      <td>0</td>\n",
       "      <td>0</td>\n",
       "      <td>0</td>\n",
       "      <td>0</td>\n",
       "      <td>0</td>\n",
       "      <td>0</td>\n",
       "      <td>0</td>\n",
       "      <td>...</td>\n",
       "      <td>0</td>\n",
       "      <td>0</td>\n",
       "      <td>0</td>\n",
       "      <td>0</td>\n",
       "      <td>0</td>\n",
       "      <td>0</td>\n",
       "      <td>0</td>\n",
       "      <td>0</td>\n",
       "      <td>0</td>\n",
       "      <td>0</td>\n",
       "    </tr>\n",
       "    <tr>\n",
       "      <th>4</th>\n",
       "      <td>0</td>\n",
       "      <td>0</td>\n",
       "      <td>0</td>\n",
       "      <td>0</td>\n",
       "      <td>0</td>\n",
       "      <td>0</td>\n",
       "      <td>0</td>\n",
       "      <td>0</td>\n",
       "      <td>0</td>\n",
       "      <td>0</td>\n",
       "      <td>...</td>\n",
       "      <td>0</td>\n",
       "      <td>0</td>\n",
       "      <td>0</td>\n",
       "      <td>0</td>\n",
       "      <td>0</td>\n",
       "      <td>0</td>\n",
       "      <td>0</td>\n",
       "      <td>0</td>\n",
       "      <td>0</td>\n",
       "      <td>0</td>\n",
       "    </tr>\n",
       "    <tr>\n",
       "      <th>...</th>\n",
       "      <td>...</td>\n",
       "      <td>...</td>\n",
       "      <td>...</td>\n",
       "      <td>...</td>\n",
       "      <td>...</td>\n",
       "      <td>...</td>\n",
       "      <td>...</td>\n",
       "      <td>...</td>\n",
       "      <td>...</td>\n",
       "      <td>...</td>\n",
       "      <td>...</td>\n",
       "      <td>...</td>\n",
       "      <td>...</td>\n",
       "      <td>...</td>\n",
       "      <td>...</td>\n",
       "      <td>...</td>\n",
       "      <td>...</td>\n",
       "      <td>...</td>\n",
       "      <td>...</td>\n",
       "      <td>...</td>\n",
       "      <td>...</td>\n",
       "    </tr>\n",
       "    <tr>\n",
       "      <th>10996</th>\n",
       "      <td>0</td>\n",
       "      <td>0</td>\n",
       "      <td>0</td>\n",
       "      <td>0</td>\n",
       "      <td>0</td>\n",
       "      <td>0</td>\n",
       "      <td>0</td>\n",
       "      <td>0</td>\n",
       "      <td>0</td>\n",
       "      <td>0</td>\n",
       "      <td>...</td>\n",
       "      <td>0</td>\n",
       "      <td>0</td>\n",
       "      <td>0</td>\n",
       "      <td>0</td>\n",
       "      <td>0</td>\n",
       "      <td>0</td>\n",
       "      <td>0</td>\n",
       "      <td>0</td>\n",
       "      <td>0</td>\n",
       "      <td>0</td>\n",
       "    </tr>\n",
       "    <tr>\n",
       "      <th>10997</th>\n",
       "      <td>0</td>\n",
       "      <td>0</td>\n",
       "      <td>0</td>\n",
       "      <td>0</td>\n",
       "      <td>0</td>\n",
       "      <td>0</td>\n",
       "      <td>0</td>\n",
       "      <td>0</td>\n",
       "      <td>0</td>\n",
       "      <td>0</td>\n",
       "      <td>...</td>\n",
       "      <td>0</td>\n",
       "      <td>1</td>\n",
       "      <td>0</td>\n",
       "      <td>0</td>\n",
       "      <td>0</td>\n",
       "      <td>0</td>\n",
       "      <td>0</td>\n",
       "      <td>0</td>\n",
       "      <td>0</td>\n",
       "      <td>0</td>\n",
       "    </tr>\n",
       "    <tr>\n",
       "      <th>10998</th>\n",
       "      <td>0</td>\n",
       "      <td>0</td>\n",
       "      <td>0</td>\n",
       "      <td>0</td>\n",
       "      <td>0</td>\n",
       "      <td>0</td>\n",
       "      <td>0</td>\n",
       "      <td>0</td>\n",
       "      <td>0</td>\n",
       "      <td>0</td>\n",
       "      <td>...</td>\n",
       "      <td>0</td>\n",
       "      <td>0</td>\n",
       "      <td>0</td>\n",
       "      <td>0</td>\n",
       "      <td>0</td>\n",
       "      <td>0</td>\n",
       "      <td>0</td>\n",
       "      <td>0</td>\n",
       "      <td>0</td>\n",
       "      <td>0</td>\n",
       "    </tr>\n",
       "    <tr>\n",
       "      <th>10999</th>\n",
       "      <td>0</td>\n",
       "      <td>0</td>\n",
       "      <td>0</td>\n",
       "      <td>0</td>\n",
       "      <td>0</td>\n",
       "      <td>0</td>\n",
       "      <td>0</td>\n",
       "      <td>0</td>\n",
       "      <td>0</td>\n",
       "      <td>0</td>\n",
       "      <td>...</td>\n",
       "      <td>0</td>\n",
       "      <td>0</td>\n",
       "      <td>0</td>\n",
       "      <td>0</td>\n",
       "      <td>0</td>\n",
       "      <td>0</td>\n",
       "      <td>0</td>\n",
       "      <td>0</td>\n",
       "      <td>0</td>\n",
       "      <td>0</td>\n",
       "    </tr>\n",
       "    <tr>\n",
       "      <th>11000</th>\n",
       "      <td>0</td>\n",
       "      <td>0</td>\n",
       "      <td>0</td>\n",
       "      <td>0</td>\n",
       "      <td>0</td>\n",
       "      <td>0</td>\n",
       "      <td>0</td>\n",
       "      <td>0</td>\n",
       "      <td>0</td>\n",
       "      <td>0</td>\n",
       "      <td>...</td>\n",
       "      <td>0</td>\n",
       "      <td>0</td>\n",
       "      <td>0</td>\n",
       "      <td>0</td>\n",
       "      <td>0</td>\n",
       "      <td>0</td>\n",
       "      <td>0</td>\n",
       "      <td>0</td>\n",
       "      <td>0</td>\n",
       "      <td>0</td>\n",
       "    </tr>\n",
       "  </tbody>\n",
       "</table>\n",
       "<p>11001 rows × 5533 columns</p>\n",
       "</div>"
      ],
      "text/plain": [
       "       000  10  100  11  12  128  130  14  140  15  ...  youthful  youtube  \\\n",
       "0        0   0    0   0   0    0    0   0    0   0  ...         0        0   \n",
       "1        0   0    0   0   0    0    0   0    0   0  ...         0        0   \n",
       "2        0   0    0   0   0    0    0   0    0   0  ...         0        0   \n",
       "3        0   0    0   0   0    0    0   0    0   0  ...         0        0   \n",
       "4        0   0    0   0   0    0    0   0    0   0  ...         0        0   \n",
       "...    ...  ..  ...  ..  ..  ...  ...  ..  ...  ..  ...       ...      ...   \n",
       "10996    0   0    0   0   0    0    0   0    0   0  ...         0        0   \n",
       "10997    0   0    0   0   0    0    0   0    0   0  ...         0        1   \n",
       "10998    0   0    0   0   0    0    0   0    0   0  ...         0        0   \n",
       "10999    0   0    0   0   0    0    0   0    0   0  ...         0        0   \n",
       "11000    0   0    0   0   0    0    0   0    0   0  ...         0        0   \n",
       "\n",
       "       youtuber  zappos  zebra  zebras  zone  zoo  zookeeper  zumba  \n",
       "0             0       0      0       0     0    0          0      0  \n",
       "1             0       0      0       0     0    0          0      0  \n",
       "2             0       0      0       0     0    0          0      0  \n",
       "3             0       0      0       0     0    0          0      0  \n",
       "4             0       0      0       0     0    0          0      0  \n",
       "...         ...     ...    ...     ...   ...  ...        ...    ...  \n",
       "10996         0       0      0       0     0    0          0      0  \n",
       "10997         0       0      0       0     0    0          0      0  \n",
       "10998         0       0      0       0     0    0          0      0  \n",
       "10999         0       0      0       0     0    0          0      0  \n",
       "11000         0       0      0       0     0    0          0      0  \n",
       "\n",
       "[11001 rows x 5533 columns]"
      ]
     },
     "execution_count": 53,
     "metadata": {},
     "output_type": "execute_result"
    }
   ],
   "source": [
    "bow_df"
   ]
  },
  {
   "cell_type": "code",
   "execution_count": 54,
   "id": "3a6240e8-772b-4319-95bb-368592df9f8e",
   "metadata": {},
   "outputs": [],
   "source": [
    "merged_df = pd.concat([df, bow_df], axis=1)"
   ]
  },
  {
   "cell_type": "code",
   "execution_count": 55,
   "id": "21e2cb81-7421-4ec1-9b13-2c651f8b5011",
   "metadata": {},
   "outputs": [
    {
     "data": {
      "text/html": [
       "<div>\n",
       "<style scoped>\n",
       "    .dataframe tbody tr th:only-of-type {\n",
       "        vertical-align: middle;\n",
       "    }\n",
       "\n",
       "    .dataframe tbody tr th {\n",
       "        vertical-align: top;\n",
       "    }\n",
       "\n",
       "    .dataframe thead th {\n",
       "        text-align: right;\n",
       "    }\n",
       "</style>\n",
       "<table border=\"1\" class=\"dataframe\">\n",
       "  <thead>\n",
       "    <tr style=\"text-align: right;\">\n",
       "      <th></th>\n",
       "      <th>user 1 personas</th>\n",
       "      <th>user 2 personas</th>\n",
       "      <th>Best Generated Conversation</th>\n",
       "      <th>user_1_cleaned_text</th>\n",
       "      <th>user_2_cleaned_text</th>\n",
       "      <th>user_1_emotion</th>\n",
       "      <th>user_2_emotion</th>\n",
       "      <th>label</th>\n",
       "      <th>000</th>\n",
       "      <th>10</th>\n",
       "      <th>...</th>\n",
       "      <th>youthful</th>\n",
       "      <th>youtube</th>\n",
       "      <th>youtuber</th>\n",
       "      <th>zappos</th>\n",
       "      <th>zebra</th>\n",
       "      <th>zebras</th>\n",
       "      <th>zone</th>\n",
       "      <th>zoo</th>\n",
       "      <th>zookeeper</th>\n",
       "      <th>zumba</th>\n",
       "    </tr>\n",
       "  </thead>\n",
       "  <tbody>\n",
       "    <tr>\n",
       "      <th>0</th>\n",
       "      <td>I'm moving to a new city to pursue my culinary...</td>\n",
       "      <td>I am comfortable with the weather, and enjoy s...</td>\n",
       "      <td>User 1: Hi! How are you?\\nUser 2: Good, thanks...</td>\n",
       "      <td>im moving new city pursue culinary dreams mara...</td>\n",
       "      <td>comfortable weather enjoy spending time outdoo...</td>\n",
       "      <td>joy</td>\n",
       "      <td>joy</td>\n",
       "      <td>1</td>\n",
       "      <td>0</td>\n",
       "      <td>0</td>\n",
       "      <td>...</td>\n",
       "      <td>0</td>\n",
       "      <td>0</td>\n",
       "      <td>0</td>\n",
       "      <td>0</td>\n",
       "      <td>0</td>\n",
       "      <td>0</td>\n",
       "      <td>0</td>\n",
       "      <td>0</td>\n",
       "      <td>0</td>\n",
       "      <td>0</td>\n",
       "    </tr>\n",
       "    <tr>\n",
       "      <th>1</th>\n",
       "      <td>I used my artistic skills to teach children ho...</td>\n",
       "      <td>I like to run and do yoga in my spare time.\\nM...</td>\n",
       "      <td>User 1: Hey how are you doing?\\nUser 2: Doing ...</td>\n",
       "      <td>used artistic skills teach children create bea...</td>\n",
       "      <td>like run yoga spare time impala needs new pain...</td>\n",
       "      <td>joy</td>\n",
       "      <td>joy</td>\n",
       "      <td>1</td>\n",
       "      <td>0</td>\n",
       "      <td>0</td>\n",
       "      <td>...</td>\n",
       "      <td>0</td>\n",
       "      <td>0</td>\n",
       "      <td>0</td>\n",
       "      <td>0</td>\n",
       "      <td>0</td>\n",
       "      <td>0</td>\n",
       "      <td>0</td>\n",
       "      <td>0</td>\n",
       "      <td>0</td>\n",
       "      <td>0</td>\n",
       "    </tr>\n",
       "    <tr>\n",
       "      <th>2</th>\n",
       "      <td>I enjoy spending time with my pets, and I love...</td>\n",
       "      <td>I am close to my mother and love to spend time...</td>\n",
       "      <td>User 1: Hello there, how are you doing today?\\...</td>\n",
       "      <td>enjoy spending time pets love eat strawberries...</td>\n",
       "      <td>close mother love spend time love read cook us...</td>\n",
       "      <td>joy</td>\n",
       "      <td>joy</td>\n",
       "      <td>1</td>\n",
       "      <td>0</td>\n",
       "      <td>0</td>\n",
       "      <td>...</td>\n",
       "      <td>0</td>\n",
       "      <td>0</td>\n",
       "      <td>0</td>\n",
       "      <td>0</td>\n",
       "      <td>0</td>\n",
       "      <td>0</td>\n",
       "      <td>0</td>\n",
       "      <td>0</td>\n",
       "      <td>0</td>\n",
       "      <td>0</td>\n",
       "    </tr>\n",
       "    <tr>\n",
       "      <th>3</th>\n",
       "      <td>My cupcake business keeps me busy, but I also ...</td>\n",
       "      <td>I collect memories and seashells from my trave...</td>\n",
       "      <td>User 1: hi there!\\nUser 2: Hey! How's your day...</td>\n",
       "      <td>cupcake business keeps busy also enjoy hiking ...</td>\n",
       "      <td>collect memories seashells travels try keep fi...</td>\n",
       "      <td>joy</td>\n",
       "      <td>joy</td>\n",
       "      <td>1</td>\n",
       "      <td>0</td>\n",
       "      <td>0</td>\n",
       "      <td>...</td>\n",
       "      <td>0</td>\n",
       "      <td>0</td>\n",
       "      <td>0</td>\n",
       "      <td>0</td>\n",
       "      <td>0</td>\n",
       "      <td>0</td>\n",
       "      <td>0</td>\n",
       "      <td>0</td>\n",
       "      <td>0</td>\n",
       "      <td>0</td>\n",
       "    </tr>\n",
       "    <tr>\n",
       "      <th>4</th>\n",
       "      <td>The weather is perfect for cheering!\\ni listen...</td>\n",
       "      <td>I had to move across country for my job.\\nI go...</td>\n",
       "      <td>User 1: How is your day going?\\nUser 2: Great!...</td>\n",
       "      <td>weather perfect cheering listen fall boy recor...</td>\n",
       "      <td>move across country job go fishing uncle remin...</td>\n",
       "      <td>joy</td>\n",
       "      <td>joy</td>\n",
       "      <td>1</td>\n",
       "      <td>0</td>\n",
       "      <td>0</td>\n",
       "      <td>...</td>\n",
       "      <td>0</td>\n",
       "      <td>0</td>\n",
       "      <td>0</td>\n",
       "      <td>0</td>\n",
       "      <td>0</td>\n",
       "      <td>0</td>\n",
       "      <td>0</td>\n",
       "      <td>0</td>\n",
       "      <td>0</td>\n",
       "      <td>0</td>\n",
       "    </tr>\n",
       "    <tr>\n",
       "      <th>...</th>\n",
       "      <td>...</td>\n",
       "      <td>...</td>\n",
       "      <td>...</td>\n",
       "      <td>...</td>\n",
       "      <td>...</td>\n",
       "      <td>...</td>\n",
       "      <td>...</td>\n",
       "      <td>...</td>\n",
       "      <td>...</td>\n",
       "      <td>...</td>\n",
       "      <td>...</td>\n",
       "      <td>...</td>\n",
       "      <td>...</td>\n",
       "      <td>...</td>\n",
       "      <td>...</td>\n",
       "      <td>...</td>\n",
       "      <td>...</td>\n",
       "      <td>...</td>\n",
       "      <td>...</td>\n",
       "      <td>...</td>\n",
       "      <td>...</td>\n",
       "    </tr>\n",
       "    <tr>\n",
       "      <th>10996</th>\n",
       "      <td>I've never been in a relationship, but I'm not...</td>\n",
       "      <td>I recall spending long hours in the woods with...</td>\n",
       "      <td>User 1: Hi there, what's up?\\nUser 2: Nothing ...</td>\n",
       "      <td>ive never relationship im lonely friends loved...</td>\n",
       "      <td>recall spending long hours woods dog chasing r...</td>\n",
       "      <td>joy</td>\n",
       "      <td>joy</td>\n",
       "      <td>1</td>\n",
       "      <td>0</td>\n",
       "      <td>0</td>\n",
       "      <td>...</td>\n",
       "      <td>0</td>\n",
       "      <td>0</td>\n",
       "      <td>0</td>\n",
       "      <td>0</td>\n",
       "      <td>0</td>\n",
       "      <td>0</td>\n",
       "      <td>0</td>\n",
       "      <td>0</td>\n",
       "      <td>0</td>\n",
       "      <td>0</td>\n",
       "    </tr>\n",
       "    <tr>\n",
       "      <th>10997</th>\n",
       "      <td>I'm not rich, but I'm passionate about my writ...</td>\n",
       "      <td>I love to play with my cat Mater when I have f...</td>\n",
       "      <td>User 1: Hey, what are you up to today?\\nUser 2...</td>\n",
       "      <td>im rich im passionate writing im learning heri...</td>\n",
       "      <td>love play cat mater free time concerned appear...</td>\n",
       "      <td>joy</td>\n",
       "      <td>joy</td>\n",
       "      <td>1</td>\n",
       "      <td>0</td>\n",
       "      <td>0</td>\n",
       "      <td>...</td>\n",
       "      <td>0</td>\n",
       "      <td>1</td>\n",
       "      <td>0</td>\n",
       "      <td>0</td>\n",
       "      <td>0</td>\n",
       "      <td>0</td>\n",
       "      <td>0</td>\n",
       "      <td>0</td>\n",
       "      <td>0</td>\n",
       "      <td>0</td>\n",
       "    </tr>\n",
       "    <tr>\n",
       "      <th>10998</th>\n",
       "      <td>I am afraid to tell my parents how I feel abou...</td>\n",
       "      <td>I'm learning to swim and I'm doing my best.\\ni...</td>\n",
       "      <td>User 1: Hi there, how are you?\\nUser 2: Hello,...</td>\n",
       "      <td>afraid tell parents feel job know disappointed...</td>\n",
       "      <td>im learning swim im best five children doctor ...</td>\n",
       "      <td>sadness</td>\n",
       "      <td>joy</td>\n",
       "      <td>1</td>\n",
       "      <td>0</td>\n",
       "      <td>0</td>\n",
       "      <td>...</td>\n",
       "      <td>0</td>\n",
       "      <td>0</td>\n",
       "      <td>0</td>\n",
       "      <td>0</td>\n",
       "      <td>0</td>\n",
       "      <td>0</td>\n",
       "      <td>0</td>\n",
       "      <td>0</td>\n",
       "      <td>0</td>\n",
       "      <td>0</td>\n",
       "    </tr>\n",
       "    <tr>\n",
       "      <th>10999</th>\n",
       "      <td>My biggest fear is that something will happen ...</td>\n",
       "      <td>My family encourages me to eat healthy foods a...</td>\n",
       "      <td>User 1: Hi there!\\nUser 2: Hey!\\nUser 1: How a...</td>\n",
       "      <td>biggest fear something happen kids favorite mu...</td>\n",
       "      <td>family encourages eat healthy foods get plenty...</td>\n",
       "      <td>joy</td>\n",
       "      <td>joy</td>\n",
       "      <td>1</td>\n",
       "      <td>0</td>\n",
       "      <td>0</td>\n",
       "      <td>...</td>\n",
       "      <td>0</td>\n",
       "      <td>0</td>\n",
       "      <td>0</td>\n",
       "      <td>0</td>\n",
       "      <td>0</td>\n",
       "      <td>0</td>\n",
       "      <td>0</td>\n",
       "      <td>0</td>\n",
       "      <td>0</td>\n",
       "      <td>0</td>\n",
       "    </tr>\n",
       "    <tr>\n",
       "      <th>11000</th>\n",
       "      <td>I like to pamper myself.\\nI like to go hiking ...</td>\n",
       "      <td>I spend time with my book club and read books ...</td>\n",
       "      <td>User 1: Hello, how are you?\\nUser 2: I'm doing...</td>\n",
       "      <td>like pamper like go hiking woods brother lapto...</td>\n",
       "      <td>spend time book club read books love started c...</td>\n",
       "      <td>joy</td>\n",
       "      <td>joy</td>\n",
       "      <td>1</td>\n",
       "      <td>0</td>\n",
       "      <td>0</td>\n",
       "      <td>...</td>\n",
       "      <td>0</td>\n",
       "      <td>0</td>\n",
       "      <td>0</td>\n",
       "      <td>0</td>\n",
       "      <td>0</td>\n",
       "      <td>0</td>\n",
       "      <td>0</td>\n",
       "      <td>0</td>\n",
       "      <td>0</td>\n",
       "      <td>0</td>\n",
       "    </tr>\n",
       "  </tbody>\n",
       "</table>\n",
       "<p>11001 rows × 5541 columns</p>\n",
       "</div>"
      ],
      "text/plain": [
       "                                         user 1 personas  \\\n",
       "0      I'm moving to a new city to pursue my culinary...   \n",
       "1      I used my artistic skills to teach children ho...   \n",
       "2      I enjoy spending time with my pets, and I love...   \n",
       "3      My cupcake business keeps me busy, but I also ...   \n",
       "4      The weather is perfect for cheering!\\ni listen...   \n",
       "...                                                  ...   \n",
       "10996  I've never been in a relationship, but I'm not...   \n",
       "10997  I'm not rich, but I'm passionate about my writ...   \n",
       "10998  I am afraid to tell my parents how I feel abou...   \n",
       "10999  My biggest fear is that something will happen ...   \n",
       "11000  I like to pamper myself.\\nI like to go hiking ...   \n",
       "\n",
       "                                         user 2 personas  \\\n",
       "0      I am comfortable with the weather, and enjoy s...   \n",
       "1      I like to run and do yoga in my spare time.\\nM...   \n",
       "2      I am close to my mother and love to spend time...   \n",
       "3      I collect memories and seashells from my trave...   \n",
       "4      I had to move across country for my job.\\nI go...   \n",
       "...                                                  ...   \n",
       "10996  I recall spending long hours in the woods with...   \n",
       "10997  I love to play with my cat Mater when I have f...   \n",
       "10998  I'm learning to swim and I'm doing my best.\\ni...   \n",
       "10999  My family encourages me to eat healthy foods a...   \n",
       "11000  I spend time with my book club and read books ...   \n",
       "\n",
       "                             Best Generated Conversation  \\\n",
       "0      User 1: Hi! How are you?\\nUser 2: Good, thanks...   \n",
       "1      User 1: Hey how are you doing?\\nUser 2: Doing ...   \n",
       "2      User 1: Hello there, how are you doing today?\\...   \n",
       "3      User 1: hi there!\\nUser 2: Hey! How's your day...   \n",
       "4      User 1: How is your day going?\\nUser 2: Great!...   \n",
       "...                                                  ...   \n",
       "10996  User 1: Hi there, what's up?\\nUser 2: Nothing ...   \n",
       "10997  User 1: Hey, what are you up to today?\\nUser 2...   \n",
       "10998  User 1: Hi there, how are you?\\nUser 2: Hello,...   \n",
       "10999  User 1: Hi there!\\nUser 2: Hey!\\nUser 1: How a...   \n",
       "11000  User 1: Hello, how are you?\\nUser 2: I'm doing...   \n",
       "\n",
       "                                     user_1_cleaned_text  \\\n",
       "0      im moving new city pursue culinary dreams mara...   \n",
       "1      used artistic skills teach children create bea...   \n",
       "2      enjoy spending time pets love eat strawberries...   \n",
       "3      cupcake business keeps busy also enjoy hiking ...   \n",
       "4      weather perfect cheering listen fall boy recor...   \n",
       "...                                                  ...   \n",
       "10996  ive never relationship im lonely friends loved...   \n",
       "10997  im rich im passionate writing im learning heri...   \n",
       "10998  afraid tell parents feel job know disappointed...   \n",
       "10999  biggest fear something happen kids favorite mu...   \n",
       "11000  like pamper like go hiking woods brother lapto...   \n",
       "\n",
       "                                     user_2_cleaned_text user_1_emotion  \\\n",
       "0      comfortable weather enjoy spending time outdoo...            joy   \n",
       "1      like run yoga spare time impala needs new pain...            joy   \n",
       "2      close mother love spend time love read cook us...            joy   \n",
       "3      collect memories seashells travels try keep fi...            joy   \n",
       "4      move across country job go fishing uncle remin...            joy   \n",
       "...                                                  ...            ...   \n",
       "10996  recall spending long hours woods dog chasing r...            joy   \n",
       "10997  love play cat mater free time concerned appear...            joy   \n",
       "10998  im learning swim im best five children doctor ...        sadness   \n",
       "10999  family encourages eat healthy foods get plenty...            joy   \n",
       "11000  spend time book club read books love started c...            joy   \n",
       "\n",
       "      user_2_emotion  label  000  10  ...  youthful  youtube  youtuber  \\\n",
       "0                joy      1    0   0  ...         0        0         0   \n",
       "1                joy      1    0   0  ...         0        0         0   \n",
       "2                joy      1    0   0  ...         0        0         0   \n",
       "3                joy      1    0   0  ...         0        0         0   \n",
       "4                joy      1    0   0  ...         0        0         0   \n",
       "...              ...    ...  ...  ..  ...       ...      ...       ...   \n",
       "10996            joy      1    0   0  ...         0        0         0   \n",
       "10997            joy      1    0   0  ...         0        1         0   \n",
       "10998            joy      1    0   0  ...         0        0         0   \n",
       "10999            joy      1    0   0  ...         0        0         0   \n",
       "11000            joy      1    0   0  ...         0        0         0   \n",
       "\n",
       "       zappos  zebra  zebras  zone  zoo  zookeeper  zumba  \n",
       "0           0      0       0     0    0          0      0  \n",
       "1           0      0       0     0    0          0      0  \n",
       "2           0      0       0     0    0          0      0  \n",
       "3           0      0       0     0    0          0      0  \n",
       "4           0      0       0     0    0          0      0  \n",
       "...       ...    ...     ...   ...  ...        ...    ...  \n",
       "10996       0      0       0     0    0          0      0  \n",
       "10997       0      0       0     0    0          0      0  \n",
       "10998       0      0       0     0    0          0      0  \n",
       "10999       0      0       0     0    0          0      0  \n",
       "11000       0      0       0     0    0          0      0  \n",
       "\n",
       "[11001 rows x 5541 columns]"
      ]
     },
     "execution_count": 55,
     "metadata": {},
     "output_type": "execute_result"
    }
   ],
   "source": [
    "merged_df"
   ]
  },
  {
   "cell_type": "code",
   "execution_count": 56,
   "id": "7098cc27-b243-4451-a1ed-6ee86521bf92",
   "metadata": {},
   "outputs": [],
   "source": [
    "X=bow_df\n",
    "y=df['label']"
   ]
  },
  {
   "cell_type": "code",
   "execution_count": 57,
   "id": "1a08370c-d047-408d-bc81-a8f750771062",
   "metadata": {},
   "outputs": [
    {
     "data": {
      "text/plain": [
       "((11001, 5533), (11001,))"
      ]
     },
     "execution_count": 57,
     "metadata": {},
     "output_type": "execute_result"
    }
   ],
   "source": [
    "X.shape,y.shape"
   ]
  },
  {
   "cell_type": "code",
   "execution_count": 58,
   "id": "2111c260-ada8-44e5-bdeb-0a11f4af9782",
   "metadata": {},
   "outputs": [],
   "source": [
    "from sklearn.model_selection import train_test_split\n",
    "from sklearn.naive_bayes import MultinomialNB\n",
    "from sklearn.metrics import accuracy_score, classification_report"
   ]
  },
  {
   "cell_type": "code",
   "execution_count": 59,
   "id": "bb60301a-6b12-438e-a95c-e3d16e1793b6",
   "metadata": {},
   "outputs": [],
   "source": [
    "X_train, X_test, y_train, y_test = train_test_split(X, y, test_size=0.2, random_state=42)"
   ]
  },
  {
   "cell_type": "code",
   "execution_count": 60,
   "id": "08f1676a-a811-4ce5-9efd-0f491ce4f1dc",
   "metadata": {},
   "outputs": [
    {
     "data": {
      "text/plain": [
       "((8800, 5533), (8800,))"
      ]
     },
     "execution_count": 60,
     "metadata": {},
     "output_type": "execute_result"
    }
   ],
   "source": [
    "X_train.shape,y_train.shape"
   ]
  },
  {
   "cell_type": "code",
   "execution_count": 61,
   "id": "5dba55ea-5001-46ed-bee3-33d2654015bf",
   "metadata": {},
   "outputs": [
    {
     "data": {
      "text/plain": [
       "((2201, 5533), (2201,))"
      ]
     },
     "execution_count": 61,
     "metadata": {},
     "output_type": "execute_result"
    }
   ],
   "source": [
    "X_test.shape,y_test.shape"
   ]
  },
  {
   "cell_type": "code",
   "execution_count": 62,
   "id": "03f3fdee-dc55-4157-9569-3f77c3a6dd68",
   "metadata": {},
   "outputs": [
    {
     "data": {
      "text/html": [
       "<style>#sk-container-id-1 {\n",
       "  /* Definition of color scheme common for light and dark mode */\n",
       "  --sklearn-color-text: black;\n",
       "  --sklearn-color-line: gray;\n",
       "  /* Definition of color scheme for unfitted estimators */\n",
       "  --sklearn-color-unfitted-level-0: #fff5e6;\n",
       "  --sklearn-color-unfitted-level-1: #f6e4d2;\n",
       "  --sklearn-color-unfitted-level-2: #ffe0b3;\n",
       "  --sklearn-color-unfitted-level-3: chocolate;\n",
       "  /* Definition of color scheme for fitted estimators */\n",
       "  --sklearn-color-fitted-level-0: #f0f8ff;\n",
       "  --sklearn-color-fitted-level-1: #d4ebff;\n",
       "  --sklearn-color-fitted-level-2: #b3dbfd;\n",
       "  --sklearn-color-fitted-level-3: cornflowerblue;\n",
       "\n",
       "  /* Specific color for light theme */\n",
       "  --sklearn-color-text-on-default-background: var(--sg-text-color, var(--theme-code-foreground, var(--jp-content-font-color1, black)));\n",
       "  --sklearn-color-background: var(--sg-background-color, var(--theme-background, var(--jp-layout-color0, white)));\n",
       "  --sklearn-color-border-box: var(--sg-text-color, var(--theme-code-foreground, var(--jp-content-font-color1, black)));\n",
       "  --sklearn-color-icon: #696969;\n",
       "\n",
       "  @media (prefers-color-scheme: dark) {\n",
       "    /* Redefinition of color scheme for dark theme */\n",
       "    --sklearn-color-text-on-default-background: var(--sg-text-color, var(--theme-code-foreground, var(--jp-content-font-color1, white)));\n",
       "    --sklearn-color-background: var(--sg-background-color, var(--theme-background, var(--jp-layout-color0, #111)));\n",
       "    --sklearn-color-border-box: var(--sg-text-color, var(--theme-code-foreground, var(--jp-content-font-color1, white)));\n",
       "    --sklearn-color-icon: #878787;\n",
       "  }\n",
       "}\n",
       "\n",
       "#sk-container-id-1 {\n",
       "  color: var(--sklearn-color-text);\n",
       "}\n",
       "\n",
       "#sk-container-id-1 pre {\n",
       "  padding: 0;\n",
       "}\n",
       "\n",
       "#sk-container-id-1 input.sk-hidden--visually {\n",
       "  border: 0;\n",
       "  clip: rect(1px 1px 1px 1px);\n",
       "  clip: rect(1px, 1px, 1px, 1px);\n",
       "  height: 1px;\n",
       "  margin: -1px;\n",
       "  overflow: hidden;\n",
       "  padding: 0;\n",
       "  position: absolute;\n",
       "  width: 1px;\n",
       "}\n",
       "\n",
       "#sk-container-id-1 div.sk-dashed-wrapped {\n",
       "  border: 1px dashed var(--sklearn-color-line);\n",
       "  margin: 0 0.4em 0.5em 0.4em;\n",
       "  box-sizing: border-box;\n",
       "  padding-bottom: 0.4em;\n",
       "  background-color: var(--sklearn-color-background);\n",
       "}\n",
       "\n",
       "#sk-container-id-1 div.sk-container {\n",
       "  /* jupyter's `normalize.less` sets `[hidden] { display: none; }`\n",
       "     but bootstrap.min.css set `[hidden] { display: none !important; }`\n",
       "     so we also need the `!important` here to be able to override the\n",
       "     default hidden behavior on the sphinx rendered scikit-learn.org.\n",
       "     See: https://github.com/scikit-learn/scikit-learn/issues/21755 */\n",
       "  display: inline-block !important;\n",
       "  position: relative;\n",
       "}\n",
       "\n",
       "#sk-container-id-1 div.sk-text-repr-fallback {\n",
       "  display: none;\n",
       "}\n",
       "\n",
       "div.sk-parallel-item,\n",
       "div.sk-serial,\n",
       "div.sk-item {\n",
       "  /* draw centered vertical line to link estimators */\n",
       "  background-image: linear-gradient(var(--sklearn-color-text-on-default-background), var(--sklearn-color-text-on-default-background));\n",
       "  background-size: 2px 100%;\n",
       "  background-repeat: no-repeat;\n",
       "  background-position: center center;\n",
       "}\n",
       "\n",
       "/* Parallel-specific style estimator block */\n",
       "\n",
       "#sk-container-id-1 div.sk-parallel-item::after {\n",
       "  content: \"\";\n",
       "  width: 100%;\n",
       "  border-bottom: 2px solid var(--sklearn-color-text-on-default-background);\n",
       "  flex-grow: 1;\n",
       "}\n",
       "\n",
       "#sk-container-id-1 div.sk-parallel {\n",
       "  display: flex;\n",
       "  align-items: stretch;\n",
       "  justify-content: center;\n",
       "  background-color: var(--sklearn-color-background);\n",
       "  position: relative;\n",
       "}\n",
       "\n",
       "#sk-container-id-1 div.sk-parallel-item {\n",
       "  display: flex;\n",
       "  flex-direction: column;\n",
       "}\n",
       "\n",
       "#sk-container-id-1 div.sk-parallel-item:first-child::after {\n",
       "  align-self: flex-end;\n",
       "  width: 50%;\n",
       "}\n",
       "\n",
       "#sk-container-id-1 div.sk-parallel-item:last-child::after {\n",
       "  align-self: flex-start;\n",
       "  width: 50%;\n",
       "}\n",
       "\n",
       "#sk-container-id-1 div.sk-parallel-item:only-child::after {\n",
       "  width: 0;\n",
       "}\n",
       "\n",
       "/* Serial-specific style estimator block */\n",
       "\n",
       "#sk-container-id-1 div.sk-serial {\n",
       "  display: flex;\n",
       "  flex-direction: column;\n",
       "  align-items: center;\n",
       "  background-color: var(--sklearn-color-background);\n",
       "  padding-right: 1em;\n",
       "  padding-left: 1em;\n",
       "}\n",
       "\n",
       "\n",
       "/* Toggleable style: style used for estimator/Pipeline/ColumnTransformer box that is\n",
       "clickable and can be expanded/collapsed.\n",
       "- Pipeline and ColumnTransformer use this feature and define the default style\n",
       "- Estimators will overwrite some part of the style using the `sk-estimator` class\n",
       "*/\n",
       "\n",
       "/* Pipeline and ColumnTransformer style (default) */\n",
       "\n",
       "#sk-container-id-1 div.sk-toggleable {\n",
       "  /* Default theme specific background. It is overwritten whether we have a\n",
       "  specific estimator or a Pipeline/ColumnTransformer */\n",
       "  background-color: var(--sklearn-color-background);\n",
       "}\n",
       "\n",
       "/* Toggleable label */\n",
       "#sk-container-id-1 label.sk-toggleable__label {\n",
       "  cursor: pointer;\n",
       "  display: block;\n",
       "  width: 100%;\n",
       "  margin-bottom: 0;\n",
       "  padding: 0.5em;\n",
       "  box-sizing: border-box;\n",
       "  text-align: center;\n",
       "}\n",
       "\n",
       "#sk-container-id-1 label.sk-toggleable__label-arrow:before {\n",
       "  /* Arrow on the left of the label */\n",
       "  content: \"▸\";\n",
       "  float: left;\n",
       "  margin-right: 0.25em;\n",
       "  color: var(--sklearn-color-icon);\n",
       "}\n",
       "\n",
       "#sk-container-id-1 label.sk-toggleable__label-arrow:hover:before {\n",
       "  color: var(--sklearn-color-text);\n",
       "}\n",
       "\n",
       "/* Toggleable content - dropdown */\n",
       "\n",
       "#sk-container-id-1 div.sk-toggleable__content {\n",
       "  max-height: 0;\n",
       "  max-width: 0;\n",
       "  overflow: hidden;\n",
       "  text-align: left;\n",
       "  /* unfitted */\n",
       "  background-color: var(--sklearn-color-unfitted-level-0);\n",
       "}\n",
       "\n",
       "#sk-container-id-1 div.sk-toggleable__content.fitted {\n",
       "  /* fitted */\n",
       "  background-color: var(--sklearn-color-fitted-level-0);\n",
       "}\n",
       "\n",
       "#sk-container-id-1 div.sk-toggleable__content pre {\n",
       "  margin: 0.2em;\n",
       "  border-radius: 0.25em;\n",
       "  color: var(--sklearn-color-text);\n",
       "  /* unfitted */\n",
       "  background-color: var(--sklearn-color-unfitted-level-0);\n",
       "}\n",
       "\n",
       "#sk-container-id-1 div.sk-toggleable__content.fitted pre {\n",
       "  /* unfitted */\n",
       "  background-color: var(--sklearn-color-fitted-level-0);\n",
       "}\n",
       "\n",
       "#sk-container-id-1 input.sk-toggleable__control:checked~div.sk-toggleable__content {\n",
       "  /* Expand drop-down */\n",
       "  max-height: 200px;\n",
       "  max-width: 100%;\n",
       "  overflow: auto;\n",
       "}\n",
       "\n",
       "#sk-container-id-1 input.sk-toggleable__control:checked~label.sk-toggleable__label-arrow:before {\n",
       "  content: \"▾\";\n",
       "}\n",
       "\n",
       "/* Pipeline/ColumnTransformer-specific style */\n",
       "\n",
       "#sk-container-id-1 div.sk-label input.sk-toggleable__control:checked~label.sk-toggleable__label {\n",
       "  color: var(--sklearn-color-text);\n",
       "  background-color: var(--sklearn-color-unfitted-level-2);\n",
       "}\n",
       "\n",
       "#sk-container-id-1 div.sk-label.fitted input.sk-toggleable__control:checked~label.sk-toggleable__label {\n",
       "  background-color: var(--sklearn-color-fitted-level-2);\n",
       "}\n",
       "\n",
       "/* Estimator-specific style */\n",
       "\n",
       "/* Colorize estimator box */\n",
       "#sk-container-id-1 div.sk-estimator input.sk-toggleable__control:checked~label.sk-toggleable__label {\n",
       "  /* unfitted */\n",
       "  background-color: var(--sklearn-color-unfitted-level-2);\n",
       "}\n",
       "\n",
       "#sk-container-id-1 div.sk-estimator.fitted input.sk-toggleable__control:checked~label.sk-toggleable__label {\n",
       "  /* fitted */\n",
       "  background-color: var(--sklearn-color-fitted-level-2);\n",
       "}\n",
       "\n",
       "#sk-container-id-1 div.sk-label label.sk-toggleable__label,\n",
       "#sk-container-id-1 div.sk-label label {\n",
       "  /* The background is the default theme color */\n",
       "  color: var(--sklearn-color-text-on-default-background);\n",
       "}\n",
       "\n",
       "/* On hover, darken the color of the background */\n",
       "#sk-container-id-1 div.sk-label:hover label.sk-toggleable__label {\n",
       "  color: var(--sklearn-color-text);\n",
       "  background-color: var(--sklearn-color-unfitted-level-2);\n",
       "}\n",
       "\n",
       "/* Label box, darken color on hover, fitted */\n",
       "#sk-container-id-1 div.sk-label.fitted:hover label.sk-toggleable__label.fitted {\n",
       "  color: var(--sklearn-color-text);\n",
       "  background-color: var(--sklearn-color-fitted-level-2);\n",
       "}\n",
       "\n",
       "/* Estimator label */\n",
       "\n",
       "#sk-container-id-1 div.sk-label label {\n",
       "  font-family: monospace;\n",
       "  font-weight: bold;\n",
       "  display: inline-block;\n",
       "  line-height: 1.2em;\n",
       "}\n",
       "\n",
       "#sk-container-id-1 div.sk-label-container {\n",
       "  text-align: center;\n",
       "}\n",
       "\n",
       "/* Estimator-specific */\n",
       "#sk-container-id-1 div.sk-estimator {\n",
       "  font-family: monospace;\n",
       "  border: 1px dotted var(--sklearn-color-border-box);\n",
       "  border-radius: 0.25em;\n",
       "  box-sizing: border-box;\n",
       "  margin-bottom: 0.5em;\n",
       "  /* unfitted */\n",
       "  background-color: var(--sklearn-color-unfitted-level-0);\n",
       "}\n",
       "\n",
       "#sk-container-id-1 div.sk-estimator.fitted {\n",
       "  /* fitted */\n",
       "  background-color: var(--sklearn-color-fitted-level-0);\n",
       "}\n",
       "\n",
       "/* on hover */\n",
       "#sk-container-id-1 div.sk-estimator:hover {\n",
       "  /* unfitted */\n",
       "  background-color: var(--sklearn-color-unfitted-level-2);\n",
       "}\n",
       "\n",
       "#sk-container-id-1 div.sk-estimator.fitted:hover {\n",
       "  /* fitted */\n",
       "  background-color: var(--sklearn-color-fitted-level-2);\n",
       "}\n",
       "\n",
       "/* Specification for estimator info (e.g. \"i\" and \"?\") */\n",
       "\n",
       "/* Common style for \"i\" and \"?\" */\n",
       "\n",
       ".sk-estimator-doc-link,\n",
       "a:link.sk-estimator-doc-link,\n",
       "a:visited.sk-estimator-doc-link {\n",
       "  float: right;\n",
       "  font-size: smaller;\n",
       "  line-height: 1em;\n",
       "  font-family: monospace;\n",
       "  background-color: var(--sklearn-color-background);\n",
       "  border-radius: 1em;\n",
       "  height: 1em;\n",
       "  width: 1em;\n",
       "  text-decoration: none !important;\n",
       "  margin-left: 1ex;\n",
       "  /* unfitted */\n",
       "  border: var(--sklearn-color-unfitted-level-1) 1pt solid;\n",
       "  color: var(--sklearn-color-unfitted-level-1);\n",
       "}\n",
       "\n",
       ".sk-estimator-doc-link.fitted,\n",
       "a:link.sk-estimator-doc-link.fitted,\n",
       "a:visited.sk-estimator-doc-link.fitted {\n",
       "  /* fitted */\n",
       "  border: var(--sklearn-color-fitted-level-1) 1pt solid;\n",
       "  color: var(--sklearn-color-fitted-level-1);\n",
       "}\n",
       "\n",
       "/* On hover */\n",
       "div.sk-estimator:hover .sk-estimator-doc-link:hover,\n",
       ".sk-estimator-doc-link:hover,\n",
       "div.sk-label-container:hover .sk-estimator-doc-link:hover,\n",
       ".sk-estimator-doc-link:hover {\n",
       "  /* unfitted */\n",
       "  background-color: var(--sklearn-color-unfitted-level-3);\n",
       "  color: var(--sklearn-color-background);\n",
       "  text-decoration: none;\n",
       "}\n",
       "\n",
       "div.sk-estimator.fitted:hover .sk-estimator-doc-link.fitted:hover,\n",
       ".sk-estimator-doc-link.fitted:hover,\n",
       "div.sk-label-container:hover .sk-estimator-doc-link.fitted:hover,\n",
       ".sk-estimator-doc-link.fitted:hover {\n",
       "  /* fitted */\n",
       "  background-color: var(--sklearn-color-fitted-level-3);\n",
       "  color: var(--sklearn-color-background);\n",
       "  text-decoration: none;\n",
       "}\n",
       "\n",
       "/* Span, style for the box shown on hovering the info icon */\n",
       ".sk-estimator-doc-link span {\n",
       "  display: none;\n",
       "  z-index: 9999;\n",
       "  position: relative;\n",
       "  font-weight: normal;\n",
       "  right: .2ex;\n",
       "  padding: .5ex;\n",
       "  margin: .5ex;\n",
       "  width: min-content;\n",
       "  min-width: 20ex;\n",
       "  max-width: 50ex;\n",
       "  color: var(--sklearn-color-text);\n",
       "  box-shadow: 2pt 2pt 4pt #999;\n",
       "  /* unfitted */\n",
       "  background: var(--sklearn-color-unfitted-level-0);\n",
       "  border: .5pt solid var(--sklearn-color-unfitted-level-3);\n",
       "}\n",
       "\n",
       ".sk-estimator-doc-link.fitted span {\n",
       "  /* fitted */\n",
       "  background: var(--sklearn-color-fitted-level-0);\n",
       "  border: var(--sklearn-color-fitted-level-3);\n",
       "}\n",
       "\n",
       ".sk-estimator-doc-link:hover span {\n",
       "  display: block;\n",
       "}\n",
       "\n",
       "/* \"?\"-specific style due to the `<a>` HTML tag */\n",
       "\n",
       "#sk-container-id-1 a.estimator_doc_link {\n",
       "  float: right;\n",
       "  font-size: 1rem;\n",
       "  line-height: 1em;\n",
       "  font-family: monospace;\n",
       "  background-color: var(--sklearn-color-background);\n",
       "  border-radius: 1rem;\n",
       "  height: 1rem;\n",
       "  width: 1rem;\n",
       "  text-decoration: none;\n",
       "  /* unfitted */\n",
       "  color: var(--sklearn-color-unfitted-level-1);\n",
       "  border: var(--sklearn-color-unfitted-level-1) 1pt solid;\n",
       "}\n",
       "\n",
       "#sk-container-id-1 a.estimator_doc_link.fitted {\n",
       "  /* fitted */\n",
       "  border: var(--sklearn-color-fitted-level-1) 1pt solid;\n",
       "  color: var(--sklearn-color-fitted-level-1);\n",
       "}\n",
       "\n",
       "/* On hover */\n",
       "#sk-container-id-1 a.estimator_doc_link:hover {\n",
       "  /* unfitted */\n",
       "  background-color: var(--sklearn-color-unfitted-level-3);\n",
       "  color: var(--sklearn-color-background);\n",
       "  text-decoration: none;\n",
       "}\n",
       "\n",
       "#sk-container-id-1 a.estimator_doc_link.fitted:hover {\n",
       "  /* fitted */\n",
       "  background-color: var(--sklearn-color-fitted-level-3);\n",
       "}\n",
       "</style><div id=\"sk-container-id-1\" class=\"sk-top-container\"><div class=\"sk-text-repr-fallback\"><pre>MultinomialNB()</pre><b>In a Jupyter environment, please rerun this cell to show the HTML representation or trust the notebook. <br />On GitHub, the HTML representation is unable to render, please try loading this page with nbviewer.org.</b></div><div class=\"sk-container\" hidden><div class=\"sk-item\"><div class=\"sk-estimator fitted sk-toggleable\"><input class=\"sk-toggleable__control sk-hidden--visually\" id=\"sk-estimator-id-1\" type=\"checkbox\" checked><label for=\"sk-estimator-id-1\" class=\"sk-toggleable__label fitted sk-toggleable__label-arrow fitted\">&nbsp;&nbsp;MultinomialNB<a class=\"sk-estimator-doc-link fitted\" rel=\"noreferrer\" target=\"_blank\" href=\"https://scikit-learn.org/1.5/modules/generated/sklearn.naive_bayes.MultinomialNB.html\">?<span>Documentation for MultinomialNB</span></a><span class=\"sk-estimator-doc-link fitted\">i<span>Fitted</span></span></label><div class=\"sk-toggleable__content fitted\"><pre>MultinomialNB()</pre></div> </div></div></div></div>"
      ],
      "text/plain": [
       "MultinomialNB()"
      ]
     },
     "execution_count": 62,
     "metadata": {},
     "output_type": "execute_result"
    }
   ],
   "source": [
    "# Train a Naive Bayes model with Bag of Words\n",
    "nb_model_bow = MultinomialNB()\n",
    "nb_model_bow.fit(X_train, y_train)"
   ]
  },
  {
   "cell_type": "code",
   "execution_count": 63,
   "id": "7aae8aa4-39b3-4c5b-9bfd-c6416fccd786",
   "metadata": {},
   "outputs": [
    {
     "name": "stdout",
     "output_type": "stream",
     "text": [
      "Bag of Words Model Performance:\n",
      "Accuracy: 0.919127669241254\n",
      "              precision    recall  f1-score   support\n",
      "\n",
      "           0       0.04      0.04      0.04        83\n",
      "           1       0.95      0.96      0.96      2098\n",
      "           2       0.00      0.00      0.00        20\n",
      "\n",
      "    accuracy                           0.92      2201\n",
      "   macro avg       0.33      0.33      0.33      2201\n",
      "weighted avg       0.91      0.92      0.91      2201\n",
      "\n"
     ]
    }
   ],
   "source": [
    "# Predict and evaluate\n",
    "y_pred_bow = nb_model_bow.predict(X_test)\n",
    "print(\"Bag of Words Model Performance:\")\n",
    "print(\"Accuracy:\", accuracy_score(y_test, y_pred_bow))\n",
    "print(classification_report(y_test, y_pred_bow))"
   ]
  },
  {
   "cell_type": "code",
   "execution_count": 64,
   "id": "64ff8636-42b5-4b86-b9df-492fc2d46077",
   "metadata": {},
   "outputs": [],
   "source": [
    "new_chat=['I really enjoyed the movie and the performances were amazing']"
   ]
  },
  {
   "cell_type": "code",
   "execution_count": 65,
   "id": "983c3b74-342e-43cb-8563-9ddc1213479b",
   "metadata": {},
   "outputs": [],
   "source": [
    "new_chat_bow = bow_vectorizer.transform(new_chat)"
   ]
  },
  {
   "cell_type": "code",
   "execution_count": 66,
   "id": "fac3c79e-caec-47bc-9b00-fefa4a6d05bd",
   "metadata": {},
   "outputs": [
    {
     "data": {
      "text/plain": [
       "array([[0, 0, 0, ..., 0, 0, 0]], dtype=int64)"
      ]
     },
     "execution_count": 66,
     "metadata": {},
     "output_type": "execute_result"
    }
   ],
   "source": [
    "new_chat_bow.toarray()"
   ]
  },
  {
   "cell_type": "code",
   "execution_count": 67,
   "id": "b2c5512c-123d-46c7-b43d-03965ce520f5",
   "metadata": {},
   "outputs": [],
   "source": [
    "y_pred_new_chat = nb_model_bow.predict(new_chat_bow)"
   ]
  },
  {
   "cell_type": "code",
   "execution_count": 68,
   "id": "e461c4c3-ee59-4a4b-b9d0-6d66d92b187a",
   "metadata": {},
   "outputs": [
    {
     "data": {
      "text/plain": [
       "array([1], dtype=int64)"
      ]
     },
     "execution_count": 68,
     "metadata": {},
     "output_type": "execute_result"
    }
   ],
   "source": [
    "y_pred_new_chat"
   ]
  },
  {
   "cell_type": "code",
   "execution_count": 69,
   "id": "06137b4d-3cda-478f-b379-b1812b6860d3",
   "metadata": {},
   "outputs": [
    {
     "name": "stdout",
     "output_type": "stream",
     "text": [
      "joy\n"
     ]
    }
   ],
   "source": [
    "# Assuming y_pred_new_chat[0] can now take the value 0, 1, or 2\n",
    "if y_pred_new_chat[0] == 1:\n",
    "    emotion = 'joy'\n",
    "elif y_pred_new_chat[0] == 0:\n",
    "    emotion = 'sadness'\n",
    "elif y_pred_new_chat[0] == 2:\n",
    "    emotion = 'neutral'\n",
    "else:\n",
    "    emotion = 'unknown'  # Optional: handle unexpected cases\n",
    "\n",
    "print(emotion)"
   ]
  }
 ],
 "metadata": {
  "kernelspec": {
   "display_name": "Python 3 (ipykernel)",
   "language": "python",
   "name": "python3"
  },
  "language_info": {
   "codemirror_mode": {
    "name": "ipython",
    "version": 3
   },
   "file_extension": ".py",
   "mimetype": "text/x-python",
   "name": "python",
   "nbconvert_exporter": "python",
   "pygments_lexer": "ipython3",
   "version": "3.12.7"
  }
 },
 "nbformat": 4,
 "nbformat_minor": 5
}
