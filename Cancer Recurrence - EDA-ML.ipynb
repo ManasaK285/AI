{
 "cells": [
  {
   "cell_type": "code",
   "execution_count": 1,
   "id": "d7df0a91-e8b1-4fea-b0b2-02380c7ab68d",
   "metadata": {},
   "outputs": [],
   "source": [
    "import math\n",
    "import numpy as np\n",
    "import pandas as pd\n",
    "import seaborn as sns\n",
    "import plotly.express as px\n",
    "import matplotlib.pyplot as plt\n",
    "from sklearn.preprocessing import LabelEncoder\n",
    "from sklearn.tree import DecisionTreeClassifier\n",
    "from sklearn.linear_model import LogisticRegression\n",
    "from sklearn.neighbors import KNeighborsClassifier\n",
    "from sklearn.model_selection import train_test_split\n",
    "from sklearn.ensemble import RandomForestClassifier\n",
    "from sklearn.metrics import accuracy_score, classification_report, confusion_matrix\n",
    "\n",
    "\n",
    "import warnings\n",
    "warnings.filterwarnings('ignore')"
   ]
  },
  {
   "cell_type": "code",
   "execution_count": 2,
   "id": "4e91c6b9-0bd5-4ff2-a64b-f12a6998f63f",
   "metadata": {},
   "outputs": [
    {
     "data": {
      "text/html": [
       "<div>\n",
       "<style scoped>\n",
       "    .dataframe tbody tr th:only-of-type {\n",
       "        vertical-align: middle;\n",
       "    }\n",
       "\n",
       "    .dataframe tbody tr th {\n",
       "        vertical-align: top;\n",
       "    }\n",
       "\n",
       "    .dataframe thead th {\n",
       "        text-align: right;\n",
       "    }\n",
       "</style>\n",
       "<table border=\"1\" class=\"dataframe\">\n",
       "  <thead>\n",
       "    <tr style=\"text-align: right;\">\n",
       "      <th></th>\n",
       "      <th>PatientID</th>\n",
       "      <th>Age</th>\n",
       "      <th>Gender</th>\n",
       "      <th>Race/Ethnicity</th>\n",
       "      <th>BMI</th>\n",
       "      <th>SmokingStatus</th>\n",
       "      <th>FamilyHistory</th>\n",
       "      <th>CancerType</th>\n",
       "      <th>Stage</th>\n",
       "      <th>TumorSize</th>\n",
       "      <th>TreatmentType</th>\n",
       "      <th>TreatmentResponse</th>\n",
       "      <th>SurvivalMonths</th>\n",
       "      <th>Recurrence</th>\n",
       "      <th>GeneticMarker</th>\n",
       "      <th>HospitalRegion</th>\n",
       "    </tr>\n",
       "  </thead>\n",
       "  <tbody>\n",
       "    <tr>\n",
       "      <th>0</th>\n",
       "      <td>1</td>\n",
       "      <td>80</td>\n",
       "      <td>Female</td>\n",
       "      <td>Other</td>\n",
       "      <td>23.3</td>\n",
       "      <td>Smoker</td>\n",
       "      <td>Yes</td>\n",
       "      <td>Breast</td>\n",
       "      <td>II</td>\n",
       "      <td>1.7</td>\n",
       "      <td>Combination Therapy</td>\n",
       "      <td>No Response</td>\n",
       "      <td>103</td>\n",
       "      <td>Yes</td>\n",
       "      <td>NaN</td>\n",
       "      <td>South</td>\n",
       "    </tr>\n",
       "    <tr>\n",
       "      <th>1</th>\n",
       "      <td>2</td>\n",
       "      <td>76</td>\n",
       "      <td>Male</td>\n",
       "      <td>Caucasian</td>\n",
       "      <td>22.4</td>\n",
       "      <td>Former Smoker</td>\n",
       "      <td>Yes</td>\n",
       "      <td>Colon</td>\n",
       "      <td>IV</td>\n",
       "      <td>4.7</td>\n",
       "      <td>Surgery</td>\n",
       "      <td>No Response</td>\n",
       "      <td>14</td>\n",
       "      <td>Yes</td>\n",
       "      <td>BRCA1</td>\n",
       "      <td>West</td>\n",
       "    </tr>\n",
       "    <tr>\n",
       "      <th>2</th>\n",
       "      <td>3</td>\n",
       "      <td>69</td>\n",
       "      <td>Male</td>\n",
       "      <td>Asian</td>\n",
       "      <td>21.5</td>\n",
       "      <td>Smoker</td>\n",
       "      <td>Yes</td>\n",
       "      <td>Breast</td>\n",
       "      <td>III</td>\n",
       "      <td>8.3</td>\n",
       "      <td>Combination Therapy</td>\n",
       "      <td>Complete Remission</td>\n",
       "      <td>61</td>\n",
       "      <td>Yes</td>\n",
       "      <td>BRCA1</td>\n",
       "      <td>West</td>\n",
       "    </tr>\n",
       "    <tr>\n",
       "      <th>3</th>\n",
       "      <td>4</td>\n",
       "      <td>77</td>\n",
       "      <td>Male</td>\n",
       "      <td>Asian</td>\n",
       "      <td>30.4</td>\n",
       "      <td>Former Smoker</td>\n",
       "      <td>Yes</td>\n",
       "      <td>Prostate</td>\n",
       "      <td>II</td>\n",
       "      <td>1.7</td>\n",
       "      <td>Radiation</td>\n",
       "      <td>Partial Remission</td>\n",
       "      <td>64</td>\n",
       "      <td>No</td>\n",
       "      <td>KRAS</td>\n",
       "      <td>South</td>\n",
       "    </tr>\n",
       "    <tr>\n",
       "      <th>4</th>\n",
       "      <td>5</td>\n",
       "      <td>89</td>\n",
       "      <td>Male</td>\n",
       "      <td>Caucasian</td>\n",
       "      <td>20.9</td>\n",
       "      <td>Smoker</td>\n",
       "      <td>Yes</td>\n",
       "      <td>Lung</td>\n",
       "      <td>IV</td>\n",
       "      <td>7.4</td>\n",
       "      <td>Radiation</td>\n",
       "      <td>No Response</td>\n",
       "      <td>82</td>\n",
       "      <td>Yes</td>\n",
       "      <td>KRAS</td>\n",
       "      <td>South</td>\n",
       "    </tr>\n",
       "  </tbody>\n",
       "</table>\n",
       "</div>"
      ],
      "text/plain": [
       "   PatientID  Age  Gender Race/Ethnicity   BMI  SmokingStatus FamilyHistory  \\\n",
       "0          1   80  Female          Other  23.3         Smoker           Yes   \n",
       "1          2   76    Male      Caucasian  22.4  Former Smoker           Yes   \n",
       "2          3   69    Male          Asian  21.5         Smoker           Yes   \n",
       "3          4   77    Male          Asian  30.4  Former Smoker           Yes   \n",
       "4          5   89    Male      Caucasian  20.9         Smoker           Yes   \n",
       "\n",
       "  CancerType Stage  TumorSize        TreatmentType   TreatmentResponse  \\\n",
       "0     Breast    II        1.7  Combination Therapy         No Response   \n",
       "1      Colon    IV        4.7              Surgery         No Response   \n",
       "2     Breast   III        8.3  Combination Therapy  Complete Remission   \n",
       "3   Prostate    II        1.7            Radiation   Partial Remission   \n",
       "4       Lung    IV        7.4            Radiation         No Response   \n",
       "\n",
       "   SurvivalMonths Recurrence GeneticMarker HospitalRegion  \n",
       "0             103        Yes           NaN          South  \n",
       "1              14        Yes         BRCA1           West  \n",
       "2              61        Yes         BRCA1           West  \n",
       "3              64         No          KRAS          South  \n",
       "4              82        Yes          KRAS          South  "
      ]
     },
     "execution_count": 2,
     "metadata": {},
     "output_type": "execute_result"
    }
   ],
   "source": [
    "data = pd.read_csv(r'C:\\Users\\dell\\Desktop\\MyDocs\\Docs\\MK\\cancer issue.csv')\n",
    "df = data.copy()\n",
    "df.head()"
   ]
  },
  {
   "cell_type": "code",
   "execution_count": 3,
   "id": "54bd078d-35f7-44c0-b7e3-1d9397d54fbe",
   "metadata": {},
   "outputs": [
    {
     "name": "stdout",
     "output_type": "stream",
     "text": [
      "<class 'pandas.core.frame.DataFrame'>\n",
      "RangeIndex: 17686 entries, 0 to 17685\n",
      "Data columns (total 16 columns):\n",
      " #   Column             Non-Null Count  Dtype  \n",
      "---  ------             --------------  -----  \n",
      " 0   PatientID          17686 non-null  int64  \n",
      " 1   Age                17686 non-null  int64  \n",
      " 2   Gender             17686 non-null  object \n",
      " 3   Race/Ethnicity     17686 non-null  object \n",
      " 4   BMI                17686 non-null  float64\n",
      " 5   SmokingStatus      17686 non-null  object \n",
      " 6   FamilyHistory      17686 non-null  object \n",
      " 7   CancerType         17686 non-null  object \n",
      " 8   Stage              17686 non-null  object \n",
      " 9   TumorSize          17686 non-null  float64\n",
      " 10  TreatmentType      17686 non-null  object \n",
      " 11  TreatmentResponse  17686 non-null  object \n",
      " 12  SurvivalMonths     17686 non-null  int64  \n",
      " 13  Recurrence         17686 non-null  object \n",
      " 14  GeneticMarker      13360 non-null  object \n",
      " 15  HospitalRegion     17686 non-null  object \n",
      "dtypes: float64(2), int64(3), object(11)\n",
      "memory usage: 2.2+ MB\n"
     ]
    }
   ],
   "source": [
    "df.info()"
   ]
  },
  {
   "cell_type": "code",
   "execution_count": 4,
   "id": "28cb4bf1-983e-4202-b332-fb3c65ecb9dd",
   "metadata": {},
   "outputs": [
    {
     "data": {
      "text/plain": [
       "PatientID               0\n",
       "Age                     0\n",
       "Gender                  0\n",
       "Race/Ethnicity          0\n",
       "BMI                     0\n",
       "SmokingStatus           0\n",
       "FamilyHistory           0\n",
       "CancerType              0\n",
       "Stage                   0\n",
       "TumorSize               0\n",
       "TreatmentType           0\n",
       "TreatmentResponse       0\n",
       "SurvivalMonths          0\n",
       "Recurrence              0\n",
       "GeneticMarker        4326\n",
       "HospitalRegion          0\n",
       "dtype: int64"
      ]
     },
     "execution_count": 4,
     "metadata": {},
     "output_type": "execute_result"
    }
   ],
   "source": [
    "df.isnull().sum()"
   ]
  },
  {
   "cell_type": "code",
   "execution_count": 5,
   "id": "ca86bec6-bdfa-4f06-994e-a2846faa41a9",
   "metadata": {},
   "outputs": [
    {
     "data": {
      "text/plain": [
       "CancerType  Stage\n",
       "Breast      I        196\n",
       "            II       177\n",
       "            III      177\n",
       "            IV       152\n",
       "Colon       I        191\n",
       "            II       197\n",
       "            III      189\n",
       "            IV       172\n",
       "Leukemia    I        192\n",
       "            II       170\n",
       "            III      158\n",
       "            IV       168\n",
       "Lung        I        186\n",
       "            II       172\n",
       "            III      209\n",
       "            IV       183\n",
       "Prostate    I        174\n",
       "            II       208\n",
       "            III      166\n",
       "            IV       173\n",
       "Skin        I        187\n",
       "            II       165\n",
       "            III      188\n",
       "            IV       176\n",
       "dtype: int64"
      ]
     },
     "execution_count": 5,
     "metadata": {},
     "output_type": "execute_result"
    }
   ],
   "source": [
    "df[df['GeneticMarker'].isnull()].groupby(['CancerType', 'Stage']).size()"
   ]
  },
  {
   "cell_type": "code",
   "execution_count": 6,
   "id": "5d3ec85e-5110-4d5d-8500-664e8c9d8c70",
   "metadata": {},
   "outputs": [],
   "source": [
    "df['GeneticMarker'] = df.groupby(['CancerType', 'Stage'])['GeneticMarker'].transform(\n",
    "    lambda x: x.fillna(x.mode()[0] if not x.mode().empty else 'Unknown')\n",
    ")"
   ]
  },
  {
   "cell_type": "code",
   "execution_count": 7,
   "id": "9cf33a06-a3ca-4b6c-9011-7773cdeab014",
   "metadata": {},
   "outputs": [
    {
     "data": {
      "text/plain": [
       "0"
      ]
     },
     "execution_count": 7,
     "metadata": {},
     "output_type": "execute_result"
    }
   ],
   "source": [
    "df['GeneticMarker'].isnull().sum()"
   ]
  },
  {
   "cell_type": "code",
   "execution_count": 8,
   "id": "1da089a7-f0e3-4585-aa5f-557c5526e556",
   "metadata": {},
   "outputs": [],
   "source": [
    "df = df.drop(columns=['PatientID'])"
   ]
  },
  {
   "cell_type": "code",
   "execution_count": 9,
   "id": "a511e5d6-d989-4f3e-ab0d-03bab21dfd69",
   "metadata": {},
   "outputs": [
    {
     "data": {
      "text/html": [
       "<div>\n",
       "<style scoped>\n",
       "    .dataframe tbody tr th:only-of-type {\n",
       "        vertical-align: middle;\n",
       "    }\n",
       "\n",
       "    .dataframe tbody tr th {\n",
       "        vertical-align: top;\n",
       "    }\n",
       "\n",
       "    .dataframe thead th {\n",
       "        text-align: right;\n",
       "    }\n",
       "</style>\n",
       "<table border=\"1\" class=\"dataframe\">\n",
       "  <thead>\n",
       "    <tr style=\"text-align: right;\">\n",
       "      <th></th>\n",
       "      <th>count</th>\n",
       "      <th>mean</th>\n",
       "      <th>std</th>\n",
       "      <th>min</th>\n",
       "      <th>25%</th>\n",
       "      <th>50%</th>\n",
       "      <th>75%</th>\n",
       "      <th>max</th>\n",
       "    </tr>\n",
       "  </thead>\n",
       "  <tbody>\n",
       "    <tr>\n",
       "      <th>Age</th>\n",
       "      <td>17686.0</td>\n",
       "      <td>53.758396</td>\n",
       "      <td>21.079473</td>\n",
       "      <td>18.0</td>\n",
       "      <td>35.0</td>\n",
       "      <td>54.0</td>\n",
       "      <td>72.0</td>\n",
       "      <td>90.0</td>\n",
       "    </tr>\n",
       "    <tr>\n",
       "      <th>BMI</th>\n",
       "      <td>17686.0</td>\n",
       "      <td>29.253805</td>\n",
       "      <td>6.203575</td>\n",
       "      <td>18.5</td>\n",
       "      <td>23.9</td>\n",
       "      <td>29.2</td>\n",
       "      <td>34.6</td>\n",
       "      <td>40.0</td>\n",
       "    </tr>\n",
       "    <tr>\n",
       "      <th>TumorSize</th>\n",
       "      <td>17686.0</td>\n",
       "      <td>5.499751</td>\n",
       "      <td>2.603107</td>\n",
       "      <td>1.0</td>\n",
       "      <td>3.3</td>\n",
       "      <td>5.5</td>\n",
       "      <td>7.7</td>\n",
       "      <td>10.0</td>\n",
       "    </tr>\n",
       "    <tr>\n",
       "      <th>SurvivalMonths</th>\n",
       "      <td>17686.0</td>\n",
       "      <td>60.387821</td>\n",
       "      <td>34.794859</td>\n",
       "      <td>1.0</td>\n",
       "      <td>30.0</td>\n",
       "      <td>60.0</td>\n",
       "      <td>91.0</td>\n",
       "      <td>120.0</td>\n",
       "    </tr>\n",
       "  </tbody>\n",
       "</table>\n",
       "</div>"
      ],
      "text/plain": [
       "                  count       mean        std   min   25%   50%   75%    max\n",
       "Age             17686.0  53.758396  21.079473  18.0  35.0  54.0  72.0   90.0\n",
       "BMI             17686.0  29.253805   6.203575  18.5  23.9  29.2  34.6   40.0\n",
       "TumorSize       17686.0   5.499751   2.603107   1.0   3.3   5.5   7.7   10.0\n",
       "SurvivalMonths  17686.0  60.387821  34.794859   1.0  30.0  60.0  91.0  120.0"
      ]
     },
     "execution_count": 9,
     "metadata": {},
     "output_type": "execute_result"
    }
   ],
   "source": [
    "df.describe().T"
   ]
  },
  {
   "cell_type": "code",
   "execution_count": 10,
   "id": "bbbb0872-a2f4-4b39-843b-bed2cf740c6a",
   "metadata": {},
   "outputs": [
    {
     "data": {
      "text/html": [
       "<iframe\n",
       "    scrolling=\"no\"\n",
       "    width=\"100%\"\n",
       "    height=\"545px\"\n",
       "    src=\"iframe_figures/figure_10.html\"\n",
       "    frameborder=\"0\"\n",
       "    allowfullscreen\n",
       "></iframe>\n"
      ]
     },
     "metadata": {},
     "output_type": "display_data"
    }
   ],
   "source": [
    "cancer_type_counts = df['CancerType'].value_counts().reset_index()\n",
    "cancer_type_counts.columns = ['CancerType', 'Count']  \n",
    "\n",
    "fig = px.bar(\n",
    "    cancer_type_counts,\n",
    "    x='CancerType',\n",
    "    y='Count',\n",
    "    labels={'CancerType': 'Cancer Type', 'Count': 'Count'},\n",
    "    title='Distribution of Cancer Types',\n",
    "    color='CancerType',\n",
    "    color_discrete_sequence=px.colors.qualitative.T10\n",
    ")\n",
    "fig.update_layout(xaxis_title='Cancer Type', yaxis_title='Count')\n",
    "fig.show(renderer='iframe')"
   ]
  },
  {
   "cell_type": "code",
   "execution_count": 11,
   "id": "ea4d57b5-25d9-49b4-a8e8-f019deb4d5bf",
   "metadata": {},
   "outputs": [
    {
     "data": {
      "text/html": [
       "<iframe\n",
       "    scrolling=\"no\"\n",
       "    width=\"100%\"\n",
       "    height=\"545px\"\n",
       "    src=\"iframe_figures/figure_11.html\"\n",
       "    frameborder=\"0\"\n",
       "    allowfullscreen\n",
       "></iframe>\n"
      ]
     },
     "metadata": {},
     "output_type": "display_data"
    }
   ],
   "source": [
    "fig = px.histogram(\n",
    "    df,\n",
    "    x='Stage',\n",
    "    color='CancerType',\n",
    "    barmode='group',\n",
    "    title='Cancer Stages by Type',\n",
    "    labels={'Stage': 'Stage', 'count': 'Count'},\n",
    "    color_discrete_sequence=px.colors.qualitative.T10\n",
    ")\n",
    "fig.update_layout(xaxis_title='Stage', yaxis_title='Count')\n",
    "fig.show(renderer='iframe')"
   ]
  },
  {
   "cell_type": "code",
   "execution_count": 12,
   "id": "e1071b5e-e670-47f8-8eeb-c8c1526bd344",
   "metadata": {},
   "outputs": [
    {
     "data": {
      "text/html": [
       "<iframe\n",
       "    scrolling=\"no\"\n",
       "    width=\"100%\"\n",
       "    height=\"545px\"\n",
       "    src=\"iframe_figures/figure_12.html\"\n",
       "    frameborder=\"0\"\n",
       "    allowfullscreen\n",
       "></iframe>\n"
      ]
     },
     "metadata": {},
     "output_type": "display_data"
    }
   ],
   "source": [
    "fig = px.box(\n",
    "    df,\n",
    "    x='CancerType',\n",
    "    y='BMI',\n",
    "    title='BMI Distribution by Cancer Type',\n",
    "    labels={'CancerType': 'Cancer Type', 'BMI': 'BMI'},\n",
    "    color='CancerType',\n",
    "    color_discrete_sequence=px.colors.qualitative.T10\n",
    ")\n",
    "fig.update_layout(xaxis_title='Cancer Type', yaxis_title='BMI')\n",
    "fig.show(renderer='iframe')"
   ]
  },
  {
   "cell_type": "code",
   "execution_count": 13,
   "id": "e7af52dc-5852-4a3d-8b4b-65f95c53ce7e",
   "metadata": {},
   "outputs": [
    {
     "data": {
      "text/html": [
       "<iframe\n",
       "    scrolling=\"no\"\n",
       "    width=\"100%\"\n",
       "    height=\"545px\"\n",
       "    src=\"iframe_figures/figure_13.html\"\n",
       "    frameborder=\"0\"\n",
       "    allowfullscreen\n",
       "></iframe>\n"
      ]
     },
     "metadata": {},
     "output_type": "display_data"
    }
   ],
   "source": [
    "# TreatmentType ve CancerType sütunlarına göre gruplandırıp sayım yap\n",
    "treatment_counts = df.groupby(['CancerType', 'TreatmentType']).size().reset_index(name='Count')\n",
    "\n",
    "fig = px.bar(\n",
    "    treatment_counts,\n",
    "    x='CancerType',\n",
    "    y='Count',\n",
    "    color='TreatmentType',\n",
    "    title='Treatment Types by Cancer Type',\n",
    "    labels={'CancerType': 'Cancer Type', 'Count': 'Count', 'TreatmentType': 'Treatment Type'},\n",
    "    barmode='stack',\n",
    "    color_discrete_sequence=px.colors.qualitative.T10\n",
    ")\n",
    "fig.update_layout(xaxis_title='Cancer Type', yaxis_title='Count')\n",
    "fig.show(renderer='iframe')"
   ]
  },
  {
   "cell_type": "code",
   "execution_count": 14,
   "id": "8630c0c8-f04a-42f3-ae61-c58c19329994",
   "metadata": {},
   "outputs": [
    {
     "data": {
      "text/html": [
       "<iframe\n",
       "    scrolling=\"no\"\n",
       "    width=\"100%\"\n",
       "    height=\"545px\"\n",
       "    src=\"iframe_figures/figure_14.html\"\n",
       "    frameborder=\"0\"\n",
       "    allowfullscreen\n",
       "></iframe>\n"
      ]
     },
     "metadata": {},
     "output_type": "display_data"
    }
   ],
   "source": [
    "fig = px.box(\n",
    "    df,\n",
    "    x='CancerType',\n",
    "    y='Age',\n",
    "    title='Age Distribution by Cancer Type',\n",
    "    labels={'CancerType': 'Cancer Type', 'Age': 'Age'},\n",
    "    color='CancerType',\n",
    "    color_discrete_sequence=px.colors.qualitative.T10\n",
    ")\n",
    "fig.update_layout(xaxis_title='Cancer Type', yaxis_title='Age')\n",
    "fig.show(renderer='iframe')"
   ]
  },
  {
   "cell_type": "code",
   "execution_count": 15,
   "id": "fd4f3e07-8914-430b-bbea-f5cb5de210a9",
   "metadata": {},
   "outputs": [
    {
     "data": {
      "text/html": [
       "<iframe\n",
       "    scrolling=\"no\"\n",
       "    width=\"100%\"\n",
       "    height=\"545px\"\n",
       "    src=\"iframe_figures/figure_15.html\"\n",
       "    frameborder=\"0\"\n",
       "    allowfullscreen\n",
       "></iframe>\n"
      ]
     },
     "metadata": {},
     "output_type": "display_data"
    }
   ],
   "source": [
    "fig = px.scatter(\n",
    "    df,\n",
    "    x='Age',\n",
    "    y='BMI',\n",
    "    title='BMI vs Age',\n",
    "    labels={'Age': 'Age', 'BMI': 'Body Mass Index (BMI)'},\n",
    "    color='CancerType',\n",
    "    color_discrete_sequence=px.colors.qualitative.T10\n",
    ")\n",
    "fig.update_layout(xaxis_title='Age', yaxis_title='BMI')\n",
    "fig.show(renderer='iframe')"
   ]
  },
  {
   "cell_type": "code",
   "execution_count": 16,
   "id": "f7357599-6af5-458b-8466-16f8b01dd25e",
   "metadata": {},
   "outputs": [
    {
     "data": {
      "text/html": [
       "<iframe\n",
       "    scrolling=\"no\"\n",
       "    width=\"100%\"\n",
       "    height=\"545px\"\n",
       "    src=\"iframe_figures/figure_16.html\"\n",
       "    frameborder=\"0\"\n",
       "    allowfullscreen\n",
       "></iframe>\n"
      ]
     },
     "metadata": {},
     "output_type": "display_data"
    }
   ],
   "source": [
    "fig = px.violin(\n",
    "    df,\n",
    "    x='Stage',\n",
    "    y='GeneticMarker',\n",
    "    box=True,\n",
    "    title='Genetic Marker Distribution by Stage',\n",
    "    labels={'Stage': 'Stage', 'GeneticMarker': 'Genetic Marker'},\n",
    "    color='Stage',\n",
    "    color_discrete_sequence=px.colors.qualitative.T10\n",
    ")\n",
    "fig.update_layout(xaxis_title='Stage', yaxis_title='Genetic Marker')\n",
    "fig.show(renderer='iframe')"
   ]
  },
  {
   "cell_type": "code",
   "execution_count": 17,
   "id": "a6df8cfb-71cf-4ecc-a21b-4520c3eb2f42",
   "metadata": {},
   "outputs": [
    {
     "name": "stdout",
     "output_type": "stream",
     "text": [
      "\n",
      "Gender Encoding and Decoding:\n",
      "0 -> Female\n",
      "1 -> Male\n",
      "\n",
      "Race/Ethnicity Encoding and Decoding:\n",
      "4 -> Other\n",
      "2 -> Caucasian\n",
      "1 -> Asian\n",
      "3 -> Hispanic\n",
      "0 -> African American\n",
      "\n",
      "SmokingStatus Encoding and Decoding:\n",
      "2 -> Smoker\n",
      "0 -> Former Smoker\n",
      "1 -> Non-Smoker\n",
      "\n",
      "FamilyHistory Encoding and Decoding:\n",
      "1 -> Yes\n",
      "0 -> No\n",
      "\n",
      "CancerType Encoding and Decoding:\n",
      "0 -> Breast\n",
      "1 -> Colon\n",
      "4 -> Prostate\n",
      "3 -> Lung\n",
      "2 -> Leukemia\n",
      "5 -> Skin\n",
      "\n",
      "Stage Encoding and Decoding:\n",
      "1 -> II\n",
      "3 -> IV\n",
      "2 -> III\n",
      "0 -> I\n",
      "\n",
      "TreatmentType Encoding and Decoding:\n",
      "1 -> Combination Therapy\n",
      "3 -> Surgery\n",
      "2 -> Radiation\n",
      "0 -> Chemotherapy\n",
      "\n",
      "TreatmentResponse Encoding and Decoding:\n",
      "1 -> No Response\n",
      "0 -> Complete Remission\n",
      "2 -> Partial Remission\n",
      "\n",
      "Recurrence Encoding and Decoding:\n",
      "1 -> Yes\n",
      "0 -> No\n",
      "\n",
      "GeneticMarker Encoding and Decoding:\n",
      "2 -> KRAS\n",
      "0 -> BRCA1\n",
      "1 -> EGFR\n",
      "\n",
      "HospitalRegion Encoding and Decoding:\n",
      "2 -> South\n",
      "3 -> West\n",
      "1 -> North\n",
      "0 -> East\n"
     ]
    }
   ],
   "source": [
    "label_encoders = {}\n",
    "\n",
    "\n",
    "categorical_columns = df.select_dtypes(include=['object']).columns\n",
    "\n",
    "\n",
    "for column in categorical_columns:\n",
    "   \n",
    "    original_values = df[column].unique()\n",
    "    \n",
    " \n",
    "    label_encoders[column] = LabelEncoder()\n",
    "    df[column] = label_encoders[column].fit_transform(df[column])\n",
    "    \n",
    "    \n",
    "    encoded_values = df[column].unique()\n",
    "    \n",
    "    decoded_values = label_encoders[column].inverse_transform(encoded_values)\n",
    "    \n",
    "\n",
    "    print(f\"\\n{column} Encoding and Decoding:\")\n",
    "    for enc, dec in zip(encoded_values, decoded_values):\n",
    "        print(f\"{enc} -> {dec}\")"
   ]
  },
  {
   "cell_type": "code",
   "execution_count": 18,
   "id": "ce7149bc-3006-4433-bd3c-6c46077e4a31",
   "metadata": {},
   "outputs": [],
   "source": [
    "X = df.drop(['Recurrence'], axis=1)  \n",
    "y = df['Recurrence']"
   ]
  },
  {
   "cell_type": "code",
   "execution_count": 19,
   "id": "582e059e-c87e-4c07-acb3-07735c402cf9",
   "metadata": {},
   "outputs": [],
   "source": [
    "X_train, X_test, y_train, y_test = train_test_split(X, y, test_size=0.3, random_state=42)"
   ]
  },
  {
   "cell_type": "code",
   "execution_count": 20,
   "id": "671e8f9a-4f9d-4229-b1d3-d1fd4f0980c9",
   "metadata": {},
   "outputs": [
    {
     "name": "stdout",
     "output_type": "stream",
     "text": [
      "Accuracy: 0.5037693177534867\n",
      "Classification Report:\n",
      "              precision    recall  f1-score   support\n",
      "\n",
      "           0       0.50      0.56      0.53      2615\n",
      "           1       0.51      0.45      0.48      2691\n",
      "\n",
      "    accuracy                           0.50      5306\n",
      "   macro avg       0.50      0.50      0.50      5306\n",
      "weighted avg       0.50      0.50      0.50      5306\n",
      "\n",
      "Confusion Matrix:\n",
      "[[1459 1156]\n",
      " [1477 1214]]\n"
     ]
    }
   ],
   "source": [
    "rf_model = RandomForestClassifier(n_estimators=100, random_state=42)\n",
    "\n",
    "\n",
    "rf_model.fit(X_train, y_train)\n",
    "\n",
    "\n",
    "y_pred = rf_model.predict(X_test)\n",
    "\n",
    "print(\"Accuracy:\", accuracy_score(y_test, y_pred))\n",
    "print(\"Classification Report:\")\n",
    "print(classification_report(y_test, y_pred))\n",
    "print(\"Confusion Matrix:\")\n",
    "print(confusion_matrix(y_test, y_pred))"
   ]
  },
  {
   "cell_type": "code",
   "execution_count": 21,
   "id": "5417ef3e-72ac-4c75-a519-c8c0c5290475",
   "metadata": {},
   "outputs": [
    {
     "name": "stdout",
     "output_type": "stream",
     "text": [
      "Accuracy: 0.49660761402186204\n",
      "Classification Report:\n",
      "              precision    recall  f1-score   support\n",
      "\n",
      "           0       0.49      0.61      0.55      2615\n",
      "           1       0.50      0.38      0.43      2691\n",
      "\n",
      "    accuracy                           0.50      5306\n",
      "   macro avg       0.50      0.50      0.49      5306\n",
      "weighted avg       0.50      0.50      0.49      5306\n",
      "\n",
      "Confusion Matrix:\n",
      "[[1608 1007]\n",
      " [1664 1027]]\n"
     ]
    }
   ],
   "source": [
    "lr_model = LogisticRegression(max_iter=1000, random_state=42)\n",
    "\n",
    "\n",
    "lr_model.fit(X_train, y_train)\n",
    "\n",
    "\n",
    "y_pred_lr = lr_model.predict(X_test)\n",
    "\n",
    "\n",
    "print(\"Accuracy:\", accuracy_score(y_test, y_pred_lr))\n",
    "print(\"Classification Report:\")\n",
    "print(classification_report(y_test, y_pred_lr))\n",
    "print(\"Confusion Matrix:\")\n",
    "print(confusion_matrix(y_test, y_pred_lr))"
   ]
  },
  {
   "cell_type": "code",
   "execution_count": 22,
   "id": "a139e0a7-a48a-400d-be30-4b6ae7688bc9",
   "metadata": {},
   "outputs": [
    {
     "name": "stdout",
     "output_type": "stream",
     "text": [
      "Accuracy: 0.5049001130795326\n",
      "Classification Report:\n",
      "              precision    recall  f1-score   support\n",
      "\n",
      "           0       0.50      0.51      0.50      2615\n",
      "           1       0.51      0.50      0.51      2691\n",
      "\n",
      "    accuracy                           0.50      5306\n",
      "   macro avg       0.50      0.50      0.50      5306\n",
      "weighted avg       0.51      0.50      0.50      5306\n",
      "\n",
      "Confusion Matrix:\n",
      "[[1338 1277]\n",
      " [1350 1341]]\n"
     ]
    }
   ],
   "source": [
    "dt_model = DecisionTreeClassifier(random_state=42)\n",
    "\n",
    "\n",
    "dt_model.fit(X_train, y_train)\n",
    "\n",
    "\n",
    "y_pred_dt = dt_model.predict(X_test)\n",
    "\n",
    "\n",
    "print(\"Accuracy:\", accuracy_score(y_test, y_pred_dt))\n",
    "print(\"Classification Report:\")\n",
    "print(classification_report(y_test, y_pred_dt))\n",
    "print(\"Confusion Matrix:\")\n",
    "print(confusion_matrix(y_test, y_pred_dt))"
   ]
  },
  {
   "cell_type": "code",
   "execution_count": 23,
   "id": "91bf5f8e-1a93-46ac-91ed-cfd72e31c515",
   "metadata": {},
   "outputs": [
    {
     "name": "stdout",
     "output_type": "stream",
     "text": [
      "Accuracy: 0.5058424425179042\n",
      "Classification Report:\n",
      "              precision    recall  f1-score   support\n",
      "\n",
      "           0       0.50      0.50      0.50      2615\n",
      "           1       0.51      0.51      0.51      2691\n",
      "\n",
      "    accuracy                           0.51      5306\n",
      "   macro avg       0.51      0.51      0.51      5306\n",
      "weighted avg       0.51      0.51      0.51      5306\n",
      "\n",
      "Confusion Matrix:\n",
      "[[1320 1295]\n",
      " [1327 1364]]\n"
     ]
    }
   ],
   "source": [
    "knn_model = KNeighborsClassifier()\n",
    "\n",
    "\n",
    "knn_model.fit(X_train, y_train)\n",
    "\n",
    "\n",
    "y_pred_knn = knn_model.predict(X_test)\n",
    "\n",
    "\n",
    "print(\"Accuracy:\", accuracy_score(y_test, y_pred_knn))\n",
    "print(\"Classification Report:\")\n",
    "print(classification_report(y_test, y_pred_knn))\n",
    "print(\"Confusion Matrix:\")\n",
    "print(confusion_matrix(y_test, y_pred_knn))"
   ]
  },
  {
   "cell_type": "code",
   "execution_count": 24,
   "id": "bcb1ecc9-8d93-4bb2-b018-72232c926668",
   "metadata": {},
   "outputs": [
    {
     "name": "stdout",
     "output_type": "stream",
     "text": [
      "                 Model  Accuracy\n",
      "0        Random Forest  0.503769\n",
      "1  Logistic Regression  0.496608\n",
      "2        Decision Tree  0.504900\n",
      "3                  KNN  0.505842\n"
     ]
    }
   ],
   "source": [
    "models = ['Random Forest', 'Logistic Regression', 'Decision Tree','KNN']\n",
    "accuracies = [accuracy_score(y_test, rf_model.predict(X_test)),\n",
    "              accuracy_score(y_test, lr_model.predict(X_test)),\n",
    "              accuracy_score(y_test, dt_model.predict(X_test)),\n",
    "              accuracy_score(y_test, knn_model.predict(X_test)),\n",
    "             ]\n",
    "\n",
    "\n",
    "model_comparison = pd.DataFrame({\n",
    "    'Model': models,\n",
    "    'Accuracy': accuracies\n",
    "})\n",
    "\n",
    "print(model_comparison)"
   ]
  }
 ],
 "metadata": {
  "kernelspec": {
   "display_name": "Python 3 (ipykernel)",
   "language": "python",
   "name": "python3"
  },
  "language_info": {
   "codemirror_mode": {
    "name": "ipython",
    "version": 3
   },
   "file_extension": ".py",
   "mimetype": "text/x-python",
   "name": "python",
   "nbconvert_exporter": "python",
   "pygments_lexer": "ipython3",
   "version": "3.12.7"
  }
 },
 "nbformat": 4,
 "nbformat_minor": 5
}
