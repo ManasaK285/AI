{
 "cells": [
  {
   "cell_type": "markdown",
   "id": "6944547f",
   "metadata": {},
   "source": [
    "```\n",
    "Courtesy: Generative AI with Python, by Fernando Amaral\n",
    "```"
   ]
  },
  {
   "cell_type": "markdown",
   "id": "4ea85095",
   "metadata": {},
   "source": [
    "# Setup"
   ]
  },
  {
   "cell_type": "code",
   "execution_count": 1,
   "id": "af90eb15",
   "metadata": {},
   "outputs": [
    {
     "name": "stdout",
     "output_type": "stream",
     "text": [
      "Requirement already satisfied: transformers in c:\\users\\mmanasanjani\\appdata\\local\\anaconda3\\lib\\site-packages (4.38.2)\n",
      "Requirement already satisfied: filelock in c:\\users\\mmanasanjani\\appdata\\local\\anaconda3\\lib\\site-packages (from transformers) (3.9.0)\n",
      "Requirement already satisfied: huggingface-hub<1.0,>=0.19.3 in c:\\users\\mmanasanjani\\appdata\\local\\anaconda3\\lib\\site-packages (from transformers) (0.19.4)\n",
      "Requirement already satisfied: numpy>=1.17 in c:\\users\\mmanasanjani\\appdata\\local\\anaconda3\\lib\\site-packages (from transformers) (1.24.3)\n",
      "Requirement already satisfied: packaging>=20.0 in c:\\users\\mmanasanjani\\appdata\\local\\anaconda3\\lib\\site-packages (from transformers) (23.2)\n",
      "Requirement already satisfied: pyyaml>=5.1 in c:\\users\\mmanasanjani\\appdata\\local\\anaconda3\\lib\\site-packages (from transformers) (6.0)\n",
      "Requirement already satisfied: regex!=2019.12.17 in c:\\users\\mmanasanjani\\appdata\\local\\anaconda3\\lib\\site-packages (from transformers) (2022.7.9)\n",
      "Requirement already satisfied: requests in c:\\users\\mmanasanjani\\appdata\\local\\anaconda3\\lib\\site-packages (from transformers) (2.29.0)\n",
      "Requirement already satisfied: tokenizers<0.19,>=0.14 in c:\\users\\mmanasanjani\\appdata\\local\\anaconda3\\lib\\site-packages (from transformers) (0.15.2)\n",
      "Requirement already satisfied: safetensors>=0.4.1 in c:\\users\\mmanasanjani\\appdata\\local\\anaconda3\\lib\\site-packages (from transformers) (0.4.2)\n",
      "Requirement already satisfied: tqdm>=4.27 in c:\\users\\mmanasanjani\\appdata\\local\\anaconda3\\lib\\site-packages (from transformers) (4.65.0)\n",
      "Requirement already satisfied: fsspec>=2023.5.0 in c:\\users\\mmanasanjani\\appdata\\local\\anaconda3\\lib\\site-packages (from huggingface-hub<1.0,>=0.19.3->transformers) (2023.12.2)\n",
      "Requirement already satisfied: typing-extensions>=3.7.4.3 in c:\\users\\mmanasanjani\\appdata\\local\\anaconda3\\lib\\site-packages (from huggingface-hub<1.0,>=0.19.3->transformers) (4.9.0)\n",
      "Requirement already satisfied: colorama in c:\\users\\mmanasanjani\\appdata\\local\\anaconda3\\lib\\site-packages (from tqdm>=4.27->transformers) (0.4.6)\n",
      "Requirement already satisfied: charset-normalizer<4,>=2 in c:\\users\\mmanasanjani\\appdata\\local\\anaconda3\\lib\\site-packages (from requests->transformers) (2.0.4)\n",
      "Requirement already satisfied: idna<4,>=2.5 in c:\\users\\mmanasanjani\\appdata\\local\\anaconda3\\lib\\site-packages (from requests->transformers) (3.4)\n",
      "Requirement already satisfied: urllib3<1.27,>=1.21.1 in c:\\users\\mmanasanjani\\appdata\\local\\anaconda3\\lib\\site-packages (from requests->transformers) (1.26.16)\n",
      "Requirement already satisfied: certifi>=2017.4.17 in c:\\users\\mmanasanjani\\appdata\\local\\anaconda3\\lib\\site-packages (from requests->transformers) (2023.5.7)\n"
     ]
    }
   ],
   "source": [
    "!pip install transformers"
   ]
  },
  {
   "cell_type": "code",
   "execution_count": 2,
   "id": "00969f91",
   "metadata": {},
   "outputs": [
    {
     "name": "stdout",
     "output_type": "stream",
     "text": [
      "WARNING:tensorflow:From C:\\Users\\mmanasanjani\\AppData\\Local\\anaconda3\\Lib\\site-packages\\keras\\src\\losses.py:2976: The name tf.losses.sparse_softmax_cross_entropy is deprecated. Please use tf.compat.v1.losses.sparse_softmax_cross_entropy instead.\n",
      "\n"
     ]
    }
   ],
   "source": [
    "import transformers\n",
    "from transformers import pipeline"
   ]
  },
  {
   "cell_type": "markdown",
   "id": "3470c0f6",
   "metadata": {},
   "source": [
    "# Code"
   ]
  },
  {
   "cell_type": "code",
   "execution_count": 3,
   "id": "0f35935a",
   "metadata": {},
   "outputs": [],
   "source": [
    "def initialize_mask_filling(model_name=\"bert-base-uncased\"):\n",
    "    return pipeline(\"fill-mask\", model=model_name)"
   ]
  },
  {
   "cell_type": "code",
   "execution_count": 4,
   "id": "cff2cb37",
   "metadata": {},
   "outputs": [],
   "source": [
    "def get_hyperparameters():\n",
    "    top_k = int(input(\"Number of top predictions to return [5]: \") or \"5\")\n",
    "    return {\"top_k\": top_k}"
   ]
  },
  {
   "cell_type": "code",
   "execution_count": 5,
   "id": "669848e1",
   "metadata": {},
   "outputs": [],
   "source": [
    "def get_sentence():\n",
    "    sentence = input(f\"Enter sentence (place [MASK] where you want the mask): \")\n",
    "    if \"[MASK]\" not in sentence:\n",
    "        print(\"Warning: You didn't provide a [MASK]. Adding one at the end.\")\n",
    "        sentence += \" [MASK]\"\n",
    "    return sentence"
   ]
  },
  {
   "cell_type": "code",
   "execution_count": 6,
   "id": "8d260758",
   "metadata": {},
   "outputs": [],
   "source": [
    "def display_result(results):\n",
    "    for item in results:\n",
    "        print(\"Score: {:<20} Token: {:<10} Token String: {:<10} Sequence: {}\".format(\n",
    "            item['score'],\n",
    "            item['token'],\n",
    "            item['token_str'],\n",
    "            item['sequence']\n",
    "        ))"
   ]
  },
  {
   "cell_type": "code",
   "execution_count": 7,
   "id": "301ca196",
   "metadata": {},
   "outputs": [],
   "source": [
    "def main():\n",
    "    mask_filler = initialize_mask_filling()\n",
    "    hyperparameters = get_hyperparameters()\n",
    "    sentences = get_sentence()\n",
    "    result = mask_filler(sentences, **hyperparameters)\n",
    "    display_result(result)"
   ]
  },
  {
   "cell_type": "markdown",
   "id": "a6a2ad0f",
   "metadata": {},
   "source": [
    "# Execution"
   ]
  },
  {
   "cell_type": "code",
   "execution_count": 16,
   "id": "aa5393e0",
   "metadata": {},
   "outputs": [
    {
     "name": "stderr",
     "output_type": "stream",
     "text": [
      "Some weights of the model checkpoint at bert-base-uncased were not used when initializing BertForMaskedLM: ['bert.pooler.dense.bias', 'bert.pooler.dense.weight', 'cls.seq_relationship.bias', 'cls.seq_relationship.weight']\n",
      "- This IS expected if you are initializing BertForMaskedLM from the checkpoint of a model trained on another task or with another architecture (e.g. initializing a BertForSequenceClassification model from a BertForPreTraining model).\n",
      "- This IS NOT expected if you are initializing BertForMaskedLM from the checkpoint of a model that you expect to be exactly identical (initializing a BertForSequenceClassification model from a BertForSequenceClassification model).\n"
     ]
    },
    {
     "name": "stdout",
     "output_type": "stream",
     "text": [
      "Number of top predictions to return [5]: 5\n",
      "Enter sentence (place [MASK] where you want the mask): It is a [MASK] day\n",
      "Score: 0.33615198731422424  Token: 3376       Token String: beautiful  Sequence: it is a beautiful day\n",
      "Score: 0.09203864634037018  Token: 2204       Token String: good       Sequence: it is a good day\n",
      "Score: 0.04116262122988701  Token: 8403       Token String: lovely     Sequence: it is a lovely day\n",
      "Score: 0.02952701970934868  Token: 5697       Token String: busy       Sequence: it is a busy day\n",
      "Score: 0.02227369137108326  Token: 2980       Token String: hot        Sequence: it is a hot day\n"
     ]
    }
   ],
   "source": [
    "main()"
   ]
  },
  {
   "cell_type": "code",
   "execution_count": 17,
   "id": "e55fb9f8",
   "metadata": {},
   "outputs": [
    {
     "name": "stderr",
     "output_type": "stream",
     "text": [
      "Some weights of the model checkpoint at bert-base-uncased were not used when initializing BertForMaskedLM: ['bert.pooler.dense.bias', 'bert.pooler.dense.weight', 'cls.seq_relationship.bias', 'cls.seq_relationship.weight']\n",
      "- This IS expected if you are initializing BertForMaskedLM from the checkpoint of a model trained on another task or with another architecture (e.g. initializing a BertForSequenceClassification model from a BertForPreTraining model).\n",
      "- This IS NOT expected if you are initializing BertForMaskedLM from the checkpoint of a model that you expect to be exactly identical (initializing a BertForSequenceClassification model from a BertForSequenceClassification model).\n"
     ]
    },
    {
     "name": "stdout",
     "output_type": "stream",
     "text": [
      "Number of top predictions to return [5]: 5\n",
      "Enter sentence (place [MASK] where you want the mask): Most people like [MASK] Chocolate.\n",
      "Score: 0.6825828552246094   Token: 2980       Token String: hot        Sequence: most people like hot chocolate.\n",
      "Score: 0.06633727997541428  Token: 2037       Token String: their      Sequence: most people like their chocolate.\n",
      "Score: 0.03351602703332901  Token: 1996       Token String: the        Sequence: most people like the chocolate.\n",
      "Score: 0.017825886607170105 Token: 6501       Token String: milk       Sequence: most people like milk chocolate.\n",
      "Score: 0.011737735010683537 Token: 3147       Token String: cold       Sequence: most people like cold chocolate.\n"
     ]
    }
   ],
   "source": [
    "main()"
   ]
  },
  {
   "cell_type": "code",
   "execution_count": 25,
   "id": "8597fb74",
   "metadata": {},
   "outputs": [
    {
     "name": "stderr",
     "output_type": "stream",
     "text": [
      "Some weights of the model checkpoint at bert-base-uncased were not used when initializing BertForMaskedLM: ['bert.pooler.dense.bias', 'bert.pooler.dense.weight', 'cls.seq_relationship.bias', 'cls.seq_relationship.weight']\n",
      "- This IS expected if you are initializing BertForMaskedLM from the checkpoint of a model trained on another task or with another architecture (e.g. initializing a BertForSequenceClassification model from a BertForPreTraining model).\n",
      "- This IS NOT expected if you are initializing BertForMaskedLM from the checkpoint of a model that you expect to be exactly identical (initializing a BertForSequenceClassification model from a BertForSequenceClassification model).\n"
     ]
    },
    {
     "name": "stdout",
     "output_type": "stream",
     "text": [
      "Number of top predictions to return [5]: 5\n",
      "Enter sentence (place [MASK] where you want the mask): It is a [MASK] palace.\n",
      "Score: 0.19270682334899902  Token: 2548       Token String: royal      Sequence: it is a royal palace.\n",
      "Score: 0.04337456449866295  Token: 2280       Token String: former     Sequence: it is a former palace.\n",
      "Score: 0.0340392105281353   Token: 5781       Token String: medieval   Sequence: it is a medieval palace.\n",
      "Score: 0.030230842530727386 Token: 9868       Token String: ruined     Sequence: it is a ruined palace.\n",
      "Score: 0.024084849283099174 Token: 10456      Token String: baroque    Sequence: it is a baroque palace.\n"
     ]
    }
   ],
   "source": [
    "main()"
   ]
  },
  {
   "cell_type": "code",
   "execution_count": null,
   "id": "02785d3f",
   "metadata": {},
   "outputs": [],
   "source": []
  }
 ],
 "metadata": {
  "kernelspec": {
   "display_name": "Python 3 (ipykernel)",
   "language": "python",
   "name": "python3"
  },
  "language_info": {
   "codemirror_mode": {
    "name": "ipython",
    "version": 3
   },
   "file_extension": ".py",
   "mimetype": "text/x-python",
   "name": "python",
   "nbconvert_exporter": "python",
   "pygments_lexer": "ipython3",
   "version": "3.11.3"
  }
 },
 "nbformat": 4,
 "nbformat_minor": 5
}
