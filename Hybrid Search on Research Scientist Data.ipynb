{
 "cells": [
  {
   "cell_type": "code",
   "execution_count": 1,
   "id": "ebce15c2-58b2-46cd-b84d-8e092352650b",
   "metadata": {},
   "outputs": [
    {
     "name": "stdout",
     "output_type": "stream",
     "text": [
      "Collecting fastembed\n",
      "  Downloading fastembed-0.5.1-py3-none-any.whl.metadata (8.5 kB)\n",
      "Requirement already satisfied: huggingface-hub<1.0,>=0.20 in c:\\users\\dell\\anaconda3\\lib\\site-packages (from fastembed) (0.27.0)\n",
      "Collecting loguru<0.8.0,>=0.7.2 (from fastembed)\n",
      "  Downloading loguru-0.7.3-py3-none-any.whl.metadata (22 kB)\n",
      "Collecting mmh3<5.0.0,>=4.1.0 (from fastembed)\n",
      "  Downloading mmh3-4.1.0-cp312-cp312-win_amd64.whl.metadata (13 kB)\n",
      "Requirement already satisfied: numpy>=1.26 in c:\\users\\dell\\anaconda3\\lib\\site-packages (from fastembed) (1.26.4)\n",
      "Collecting onnxruntime!=1.20.0,>=1.17.0 (from fastembed)\n",
      "  Downloading onnxruntime-1.20.1-cp312-cp312-win_amd64.whl.metadata (4.7 kB)\n",
      "Requirement already satisfied: pillow<11.0.0,>=10.3.0 in c:\\users\\dell\\anaconda3\\lib\\site-packages (from fastembed) (10.4.0)\n",
      "Collecting py-rust-stemmers<0.2.0,>=0.1.0 (from fastembed)\n",
      "  Downloading py_rust_stemmers-0.1.3-cp312-none-win_amd64.whl.metadata (3.4 kB)\n",
      "Requirement already satisfied: requests<3.0,>=2.31 in c:\\users\\dell\\anaconda3\\lib\\site-packages (from fastembed) (2.32.3)\n",
      "Requirement already satisfied: tokenizers<1.0,>=0.15 in c:\\users\\dell\\anaconda3\\lib\\site-packages (from fastembed) (0.21.0)\n",
      "Requirement already satisfied: tqdm<5.0,>=4.66 in c:\\users\\dell\\anaconda3\\lib\\site-packages (from fastembed) (4.66.5)\n",
      "Requirement already satisfied: filelock in c:\\users\\dell\\anaconda3\\lib\\site-packages (from huggingface-hub<1.0,>=0.20->fastembed) (3.13.1)\n",
      "Requirement already satisfied: fsspec>=2023.5.0 in c:\\users\\dell\\anaconda3\\lib\\site-packages (from huggingface-hub<1.0,>=0.20->fastembed) (2024.6.1)\n",
      "Requirement already satisfied: packaging>=20.9 in c:\\users\\dell\\anaconda3\\lib\\site-packages (from huggingface-hub<1.0,>=0.20->fastembed) (24.1)\n",
      "Requirement already satisfied: pyyaml>=5.1 in c:\\users\\dell\\anaconda3\\lib\\site-packages (from huggingface-hub<1.0,>=0.20->fastembed) (6.0.1)\n",
      "Requirement already satisfied: typing-extensions>=3.7.4.3 in c:\\users\\dell\\anaconda3\\lib\\site-packages (from huggingface-hub<1.0,>=0.20->fastembed) (4.12.2)\n",
      "Requirement already satisfied: colorama>=0.3.4 in c:\\users\\dell\\anaconda3\\lib\\site-packages (from loguru<0.8.0,>=0.7.2->fastembed) (0.4.6)\n",
      "Collecting win32-setctime>=1.0.0 (from loguru<0.8.0,>=0.7.2->fastembed)\n",
      "  Downloading win32_setctime-1.2.0-py3-none-any.whl.metadata (2.4 kB)\n",
      "Collecting coloredlogs (from onnxruntime!=1.20.0,>=1.17.0->fastembed)\n",
      "  Downloading coloredlogs-15.0.1-py2.py3-none-any.whl.metadata (12 kB)\n",
      "Requirement already satisfied: flatbuffers in c:\\users\\dell\\anaconda3\\lib\\site-packages (from onnxruntime!=1.20.0,>=1.17.0->fastembed) (24.12.23)\n",
      "Requirement already satisfied: protobuf in c:\\users\\dell\\anaconda3\\lib\\site-packages (from onnxruntime!=1.20.0,>=1.17.0->fastembed) (4.25.3)\n",
      "Requirement already satisfied: sympy in c:\\users\\dell\\anaconda3\\lib\\site-packages (from onnxruntime!=1.20.0,>=1.17.0->fastembed) (1.13.1)\n",
      "Requirement already satisfied: charset-normalizer<4,>=2 in c:\\users\\dell\\anaconda3\\lib\\site-packages (from requests<3.0,>=2.31->fastembed) (3.3.2)\n",
      "Requirement already satisfied: idna<4,>=2.5 in c:\\users\\dell\\anaconda3\\lib\\site-packages (from requests<3.0,>=2.31->fastembed) (3.7)\n",
      "Requirement already satisfied: urllib3<3,>=1.21.1 in c:\\users\\dell\\anaconda3\\lib\\site-packages (from requests<3.0,>=2.31->fastembed) (2.2.3)\n",
      "Requirement already satisfied: certifi>=2017.4.17 in c:\\users\\dell\\anaconda3\\lib\\site-packages (from requests<3.0,>=2.31->fastembed) (2024.8.30)\n",
      "Collecting humanfriendly>=9.1 (from coloredlogs->onnxruntime!=1.20.0,>=1.17.0->fastembed)\n",
      "  Downloading humanfriendly-10.0-py2.py3-none-any.whl.metadata (9.2 kB)\n",
      "Requirement already satisfied: mpmath<1.4,>=1.1.0 in c:\\users\\dell\\anaconda3\\lib\\site-packages (from sympy->onnxruntime!=1.20.0,>=1.17.0->fastembed) (1.3.0)\n",
      "Collecting pyreadline3 (from humanfriendly>=9.1->coloredlogs->onnxruntime!=1.20.0,>=1.17.0->fastembed)\n",
      "  Downloading pyreadline3-3.5.4-py3-none-any.whl.metadata (4.7 kB)\n",
      "Downloading fastembed-0.5.1-py3-none-any.whl (69 kB)\n",
      "Downloading loguru-0.7.3-py3-none-any.whl (61 kB)\n",
      "Downloading mmh3-4.1.0-cp312-cp312-win_amd64.whl (31 kB)\n",
      "Downloading onnxruntime-1.20.1-cp312-cp312-win_amd64.whl (11.3 MB)\n",
      "   ---------------------------------------- 0.0/11.3 MB ? eta -:--:--\n",
      "   ------------- -------------------------- 3.9/11.3 MB 19.5 MB/s eta 0:00:01\n",
      "   ---------------------------- ----------- 8.1/11.3 MB 20.1 MB/s eta 0:00:01\n",
      "   ---------------------------------------- 11.3/11.3 MB 18.6 MB/s eta 0:00:00\n",
      "Downloading py_rust_stemmers-0.1.3-cp312-none-win_amd64.whl (208 kB)\n",
      "Downloading win32_setctime-1.2.0-py3-none-any.whl (4.1 kB)\n",
      "Downloading coloredlogs-15.0.1-py2.py3-none-any.whl (46 kB)\n",
      "Downloading humanfriendly-10.0-py2.py3-none-any.whl (86 kB)\n",
      "Downloading pyreadline3-3.5.4-py3-none-any.whl (83 kB)\n",
      "Installing collected packages: py-rust-stemmers, mmh3, win32-setctime, pyreadline3, loguru, humanfriendly, coloredlogs, onnxruntime, fastembed\n",
      "Successfully installed coloredlogs-15.0.1 fastembed-0.5.1 humanfriendly-10.0 loguru-0.7.3 mmh3-4.1.0 onnxruntime-1.20.1 py-rust-stemmers-0.1.3 pyreadline3-3.5.4 win32-setctime-1.2.0\n"
     ]
    }
   ],
   "source": [
    "!pip install fastembed"
   ]
  },
  {
   "cell_type": "code",
   "execution_count": 2,
   "id": "4d90fee0-3b56-4912-9da5-9dd5fb05087e",
   "metadata": {},
   "outputs": [],
   "source": [
    "import pandas as pd\n",
    "import numpy as np\n",
    "from fastembed import TextEmbedding, SparseTextEmbedding\n",
    "from sklearn.metrics.pairwise import cosine_similarity\n",
    "import time\n",
    "import warnings\n",
    "\n",
    "warnings.filterwarnings(\"ignore\")"
   ]
  },
  {
   "cell_type": "code",
   "execution_count": 4,
   "id": "cacea36a-ff60-47cf-b558-7fd6e8bd598b",
   "metadata": {},
   "outputs": [
    {
     "name": "stdout",
     "output_type": "stream",
     "text": [
      "Number of rows: 15500\n"
     ]
    },
    {
     "data": {
      "text/html": [
       "<div>\n",
       "<style scoped>\n",
       "    .dataframe tbody tr th:only-of-type {\n",
       "        vertical-align: middle;\n",
       "    }\n",
       "\n",
       "    .dataframe tbody tr th {\n",
       "        vertical-align: top;\n",
       "    }\n",
       "\n",
       "    .dataframe thead th {\n",
       "        text-align: right;\n",
       "    }\n",
       "</style>\n",
       "<table border=\"1\" class=\"dataframe\">\n",
       "  <thead>\n",
       "    <tr style=\"text-align: right;\">\n",
       "      <th></th>\n",
       "      <th>Vidwan-ID</th>\n",
       "      <th>Name</th>\n",
       "      <th>Position</th>\n",
       "      <th>Department</th>\n",
       "      <th>University</th>\n",
       "      <th>Location</th>\n",
       "      <th>Profile URL</th>\n",
       "      <th>Expertise</th>\n",
       "      <th>Experience</th>\n",
       "      <th>Qualification</th>\n",
       "      <th>Honours and Awards</th>\n",
       "      <th>Highest Qualification</th>\n",
       "      <th>Has Awards</th>\n",
       "      <th>Start Year</th>\n",
       "      <th>Years of Experience</th>\n",
       "    </tr>\n",
       "  </thead>\n",
       "  <tbody>\n",
       "    <tr>\n",
       "      <th>0</th>\n",
       "      <td>556330</td>\n",
       "      <td>Ms Dixita Kagathara</td>\n",
       "      <td>Assistant Professor</td>\n",
       "      <td>Department of Computer Science and Engineering</td>\n",
       "      <td>Darshan University</td>\n",
       "      <td>Gujarat</td>\n",
       "      <td>https://darshan.irins.org/profile/556330</td>\n",
       "      <td>Computer Science Software Engineering</td>\n",
       "      <td>2021 -                            Present; Ass...</td>\n",
       "      <td>2013; MTech; Gujarat University</td>\n",
       "      <td>NaN</td>\n",
       "      <td>MTech</td>\n",
       "      <td>0</td>\n",
       "      <td>2021.0</td>\n",
       "      <td>3.0</td>\n",
       "    </tr>\n",
       "    <tr>\n",
       "      <th>1</th>\n",
       "      <td>556331</td>\n",
       "      <td>Mr Firoz Sherasiya</td>\n",
       "      <td>Assistant Professor</td>\n",
       "      <td>Department of Computer Science and Engineering</td>\n",
       "      <td>Darshan University</td>\n",
       "      <td>Gujarat</td>\n",
       "      <td>https://darshan.irins.org/profile/556331</td>\n",
       "      <td>Computer Science Software Engineering</td>\n",
       "      <td>2022 -                            Present; Ass...</td>\n",
       "      <td>2015; MTech; Gujarat Technological University</td>\n",
       "      <td>NaN</td>\n",
       "      <td>MTech</td>\n",
       "      <td>0</td>\n",
       "      <td>2022.0</td>\n",
       "      <td>2.0</td>\n",
       "    </tr>\n",
       "    <tr>\n",
       "      <th>2</th>\n",
       "      <td>556358</td>\n",
       "      <td>Mr Bhavin Kanani</td>\n",
       "      <td>Assistant Professor</td>\n",
       "      <td>Department of Electrical Engineering</td>\n",
       "      <td>Darshan University</td>\n",
       "      <td>Gujarat</td>\n",
       "      <td>https://darshan.irins.org/profile/556358</td>\n",
       "      <td>Electrical and Electronic Engineering</td>\n",
       "      <td>2021 -                            Present; Ass...</td>\n",
       "      <td>2008; PhD; Gujarat Technological University</td>\n",
       "      <td>NaN</td>\n",
       "      <td>PhD</td>\n",
       "      <td>0</td>\n",
       "      <td>2021.0</td>\n",
       "      <td>3.0</td>\n",
       "    </tr>\n",
       "  </tbody>\n",
       "</table>\n",
       "</div>"
      ],
      "text/plain": [
       "   Vidwan-ID                 Name             Position  \\\n",
       "0     556330  Ms Dixita Kagathara  Assistant Professor   \n",
       "1     556331   Mr Firoz Sherasiya  Assistant Professor   \n",
       "2     556358     Mr Bhavin Kanani  Assistant Professor   \n",
       "\n",
       "                                       Department          University  \\\n",
       "0  Department of Computer Science and Engineering  Darshan University   \n",
       "1  Department of Computer Science and Engineering  Darshan University   \n",
       "2            Department of Electrical Engineering  Darshan University   \n",
       "\n",
       "  Location                               Profile URL  \\\n",
       "0  Gujarat  https://darshan.irins.org/profile/556330   \n",
       "1  Gujarat  https://darshan.irins.org/profile/556331   \n",
       "2  Gujarat  https://darshan.irins.org/profile/556358   \n",
       "\n",
       "                               Expertise  \\\n",
       "0  Computer Science Software Engineering   \n",
       "1  Computer Science Software Engineering   \n",
       "2  Electrical and Electronic Engineering   \n",
       "\n",
       "                                          Experience  \\\n",
       "0  2021 -                            Present; Ass...   \n",
       "1  2022 -                            Present; Ass...   \n",
       "2  2021 -                            Present; Ass...   \n",
       "\n",
       "                                   Qualification Honours and Awards  \\\n",
       "0                2013; MTech; Gujarat University                NaN   \n",
       "1  2015; MTech; Gujarat Technological University                NaN   \n",
       "2    2008; PhD; Gujarat Technological University                NaN   \n",
       "\n",
       "  Highest Qualification  Has Awards  Start Year  Years of Experience  \n",
       "0                 MTech           0      2021.0                  3.0  \n",
       "1                 MTech           0      2022.0                  2.0  \n",
       "2                   PhD           0      2021.0                  3.0  "
      ]
     },
     "execution_count": 4,
     "metadata": {},
     "output_type": "execute_result"
    }
   ],
   "source": [
    "df = pd.read_csv(r'C:\\Users\\dell\\Desktop\\MyDocs\\Docs\\MK\\indian_faculty_dataset.csv')\n",
    "\n",
    "print(\"Number of rows:\", len(df))\n",
    "df.head(3)"
   ]
  },
  {
   "cell_type": "code",
   "execution_count": 5,
   "id": "5950dff0-db66-456e-af32-b7bf5b487665",
   "metadata": {},
   "outputs": [
    {
     "data": {
      "text/plain": [
       "0    Ms Dixita Kagathara | Assistant Professor | De...\n",
       "1    Mr Firoz Sherasiya | Assistant Professor | Dep...\n",
       "2    Mr Bhavin Kanani | Assistant Professor | Depar...\n",
       "3    Ms Vrunda Amrutiya | Assistant Professor | Dep...\n",
       "4    Mr Raj Mehta | Assistant Professor | Departmen...\n",
       "Name: combined_text, dtype: object"
      ]
     },
     "execution_count": 5,
     "metadata": {},
     "output_type": "execute_result"
    }
   ],
   "source": [
    "def combine_text_fields(row):\n",
    "    \"\"\"Combine relevant columns into a single string for embedding.\"\"\"\n",
    "    fields = [\n",
    "        str(row.get(\"Name\", \"\")),\n",
    "        str(row.get(\"Position\", \"\")),\n",
    "        str(row.get(\"Department\", \"\")),\n",
    "        str(row.get(\"University\", \"\")),\n",
    "        str(row.get(\"Expertise\", \"\")),\n",
    "        str(row.get(\"Honours and Awards\", \"\")),\n",
    "        str(row.get(\"Location\", \"\")),\t\n",
    "    ]\n",
    "    return \" | \".join([f for f in fields if f])\n",
    "\n",
    "df[\"combined_text\"] = df.apply(combine_text_fields, axis=1)\n",
    "df[\"combined_text\"].head()"
   ]
  },
  {
   "cell_type": "code",
   "execution_count": 6,
   "id": "9b4b56ff-6a66-4af6-8cd2-0aa8db4151ed",
   "metadata": {},
   "outputs": [],
   "source": [
    "df = df.sample(50, random_state=890).reset_index(drop=True)"
   ]
  },
  {
   "cell_type": "code",
   "execution_count": 7,
   "id": "085fcccf-b2b4-4dfa-b324-6f8ab3d83242",
   "metadata": {},
   "outputs": [
    {
     "data": {
      "application/vnd.jupyter.widget-view+json": {
       "model_id": "e025c72780b14a728182f5a4f8f29910",
       "version_major": 2,
       "version_minor": 0
      },
      "text/plain": [
       "Fetching 5 files:   0%|          | 0/5 [00:00<?, ?it/s]"
      ]
     },
     "metadata": {},
     "output_type": "display_data"
    },
    {
     "data": {
      "application/vnd.jupyter.widget-view+json": {
       "model_id": "545021c484304200b6f559bc46036c88",
       "version_major": 2,
       "version_minor": 0
      },
      "text/plain": [
       "config.json:   0%|          | 0.00/706 [00:00<?, ?B/s]"
      ]
     },
     "metadata": {},
     "output_type": "display_data"
    },
    {
     "data": {
      "application/vnd.jupyter.widget-view+json": {
       "model_id": "eff6136d65784b7f816605d8b81d27ff",
       "version_major": 2,
       "version_minor": 0
      },
      "text/plain": [
       "tokenizer.json:   0%|          | 0.00/711k [00:00<?, ?B/s]"
      ]
     },
     "metadata": {},
     "output_type": "display_data"
    },
    {
     "data": {
      "application/vnd.jupyter.widget-view+json": {
       "model_id": "e99931e5d0384313bc238dc6ddc72e84",
       "version_major": 2,
       "version_minor": 0
      },
      "text/plain": [
       "model_optimized.onnx:   0%|          | 0.00/66.5M [00:00<?, ?B/s]"
      ]
     },
     "metadata": {},
     "output_type": "display_data"
    },
    {
     "data": {
      "application/vnd.jupyter.widget-view+json": {
       "model_id": "1f71e74472e249028537d182b739dfff",
       "version_major": 2,
       "version_minor": 0
      },
      "text/plain": [
       "tokenizer_config.json:   0%|          | 0.00/1.24k [00:00<?, ?B/s]"
      ]
     },
     "metadata": {},
     "output_type": "display_data"
    },
    {
     "data": {
      "application/vnd.jupyter.widget-view+json": {
       "model_id": "69be4d3548de4755814f129e00ca98aa",
       "version_major": 2,
       "version_minor": 0
      },
      "text/plain": [
       "special_tokens_map.json:   0%|          | 0.00/695 [00:00<?, ?B/s]"
      ]
     },
     "metadata": {},
     "output_type": "display_data"
    },
    {
     "data": {
      "application/vnd.jupyter.widget-view+json": {
       "model_id": "7eb622585da24d3580dfbea4f7722ab1",
       "version_major": 2,
       "version_minor": 0
      },
      "text/plain": [
       "Fetching 5 files:   0%|          | 0/5 [00:00<?, ?it/s]"
      ]
     },
     "metadata": {},
     "output_type": "display_data"
    },
    {
     "data": {
      "application/vnd.jupyter.widget-view+json": {
       "model_id": "a44c6073bed744d39575ea0fb05c0080",
       "version_major": 2,
       "version_minor": 0
      },
      "text/plain": [
       "tokenizer.json:   0%|          | 0.00/712k [00:00<?, ?B/s]"
      ]
     },
     "metadata": {},
     "output_type": "display_data"
    },
    {
     "data": {
      "application/vnd.jupyter.widget-view+json": {
       "model_id": "18a88f136b1c4385bf6aafcc5ae09a88",
       "version_major": 2,
       "version_minor": 0
      },
      "text/plain": [
       "special_tokens_map.json:   0%|          | 0.00/695 [00:00<?, ?B/s]"
      ]
     },
     "metadata": {},
     "output_type": "display_data"
    },
    {
     "data": {
      "application/vnd.jupyter.widget-view+json": {
       "model_id": "507034d5a19f4c3885a754ebfe4a06a2",
       "version_major": 2,
       "version_minor": 0
      },
      "text/plain": [
       "tokenizer_config.json:   0%|          | 0.00/1.38k [00:00<?, ?B/s]"
      ]
     },
     "metadata": {},
     "output_type": "display_data"
    },
    {
     "data": {
      "application/vnd.jupyter.widget-view+json": {
       "model_id": "c9d50a95682a41a08c1c79303a889c57",
       "version_major": 2,
       "version_minor": 0
      },
      "text/plain": [
       "model.onnx:   0%|          | 0.00/532M [00:00<?, ?B/s]"
      ]
     },
     "metadata": {},
     "output_type": "display_data"
    },
    {
     "data": {
      "application/vnd.jupyter.widget-view+json": {
       "model_id": "bbcf8e4aad564677a72a124903fd0af3",
       "version_major": 2,
       "version_minor": 0
      },
      "text/plain": [
       "config.json:   0%|          | 0.00/755 [00:00<?, ?B/s]"
      ]
     },
     "metadata": {},
     "output_type": "display_data"
    },
    {
     "name": "stderr",
     "output_type": "stream",
     "text": [
      "\u001b[32m2025-01-16 21:32:37.402\u001b[0m | \u001b[31m\u001b[1mERROR   \u001b[0m | \u001b[36mfastembed.common.model_management\u001b[0m:\u001b[36mdownload_model\u001b[0m:\u001b[36m274\u001b[0m - \u001b[31m\u001b[1mCould not download model from HuggingFace: [WinError 1314] A required privilege is not held by the client: '..\\\\..\\\\blobs\\\\9bbecc17cabbcbd3112c14d6982b51403b264bfa' -> 'C:\\\\Users\\\\dell\\\\AppData\\\\Local\\\\Temp\\\\fastembed_cache\\\\models--Qdrant--SPLADE_PP_en_v1\\\\snapshots\\\\efcd182bc7eb351e81a9445752d4388c2bab500b\\\\special_tokens_map.json' Falling back to other sources.\u001b[0m\n",
      "\u001b[32m2025-01-16 21:32:37.402\u001b[0m | \u001b[31m\u001b[1mERROR   \u001b[0m | \u001b[36mfastembed.common.model_management\u001b[0m:\u001b[36mdownload_model\u001b[0m:\u001b[36m295\u001b[0m - \u001b[31m\u001b[1mCould not download model from either source, sleeping for 3.0 seconds, 2 retries left.\u001b[0m\n"
     ]
    }
   ],
   "source": [
    "dense_model = TextEmbedding(model_name=\"BAAI/bge-small-en-v1.5\")\n",
    "sparse_model = SparseTextEmbedding(model_name=\"prithivida/Splade_PP_en_v1\")"
   ]
  },
  {
   "cell_type": "code",
   "execution_count": 8,
   "id": "33d56842-5c57-4295-a682-a806f7aebc99",
   "metadata": {},
   "outputs": [
    {
     "name": "stdout",
     "output_type": "stream",
     "text": [
      "Dense Embedding Dim: 384\n",
      "Sparse Embedding Example (indices/values): SparseEmbedding(values=array([0.57314658, 0.06666028, 0.14102256, 0.82257289, 0.981305  ,\n",
      "       0.01780456, 0.96968335, 0.83644873, 0.89304149, 0.90372348,\n",
      "       0.49755338, 0.21594474, 0.20043802, 1.19442868, 0.21652034,\n",
      "       1.00194573, 0.20309684, 1.33174181, 0.82499838, 1.46889472,\n",
      "       1.10186934, 0.36939579, 0.3927218 , 0.26545632, 1.3722887 ,\n",
      "       0.09362   , 0.27352765, 1.59535003, 0.99887669, 0.35719705,\n",
      "       0.05526805, 0.47717029, 0.47269845, 0.40670124, 0.05592263,\n",
      "       0.12073908, 0.20867622, 2.6108191 , 0.51808959, 0.59664899,\n",
      "       0.46154112, 1.54633021, 0.11469325, 0.34793094, 0.06080704,\n",
      "       0.15513813, 0.32537818, 1.61819375, 0.08000456, 0.18148032,\n",
      "       0.08159585, 0.81181163, 1.56031966, 0.73602504, 0.94190085,\n",
      "       0.51210779, 0.47059438, 2.684659  ]), indices=array([ 1055,  2010,  2016,  2040,  2078,  2082,  2118,  2267,  2533,\n",
      "        2634,  2671,  2796,  2820,  2852,  2902,  2934,  3183,  3274,\n",
      "        3330,  3353,  3460,  3836,  3992,  4112,  4454,  4513,  4670,\n",
      "        4698,  4886,  5162,  5205,  5482,  6008,  6212,  6529,  6627,\n",
      "        7155,  7354,  7473,  7588,  7640,  7976,  8065,  8325,  8619,\n",
      "        8862,  8972,  9067,  9340,  9431, 12249, 12655, 16660, 16838,\n",
      "       20704, 25917, 26264, 27313], dtype=int64))\n"
     ]
    }
   ],
   "source": [
    "dense_input_docs = df[\"combined_text\"].tolist()\n",
    "dense_vectors = list(dense_model.passage_embed(dense_input_docs))\n",
    "\n",
    "# Sparse Embeddings (using prithivida/Splade_PP_en_v1)\n",
    "sparse_input_docs = df[\"combined_text\"].tolist()\n",
    "sparse_vectors = list(sparse_model.passage_embed(sparse_input_docs))\n",
    "\n",
    "df[\"dense_embedding\"] = dense_vectors\n",
    "df[\"sparse_embedding\"] = sparse_vectors\n",
    "\n",
    "print(f\"Dense Embedding Dim: {len(df['dense_embedding'][0])}\")\n",
    "print(\"Sparse Embedding Example (indices/values):\", df[\"sparse_embedding\"][0])"
   ]
  },
  {
   "cell_type": "code",
   "execution_count": 9,
   "id": "f0fc930a-74d0-4bb3-a82f-c27e8853ed97",
   "metadata": {},
   "outputs": [],
   "source": [
    "def hybrid_search(query, df, dense_model, sparse_model, alpha=1.0, beta=1.0, top_k=5):\n",
    "    \"\"\"\n",
    "    Perform Hybrid Search over the provided dataframe:\n",
    "      1) Generate dense and sparse embeddings for 'query'\n",
    "      2) Calculate cos similarity for dense vectors\n",
    "      3) Calculate dot or cos for sparse vectors\n",
    "      4) Combine the two scores via alpha, beta\n",
    "      5) Return top_k results\n",
    "    \"\"\"\n",
    "    # Generate query embeddings\n",
    "    query_dense = list(dense_model.embed([query]))[0]\n",
    "    query_sparse = list(sparse_model.embed([query]))[0]\n",
    "\n",
    "\n",
    "    query_dense_arr = np.array(query_dense).reshape(1, -1)\n",
    "    query_sparse_dict = dict(zip(query_sparse.indices, query_sparse.values))\n",
    "\n",
    "    results = []\n",
    "    for i, row in df.iterrows():\n",
    "        doc_dense = np.array(row[\"dense_embedding\"]).reshape(1, -1)\n",
    "        doc_sparse = dict(zip(row[\"sparse_embedding\"].indices, row[\"sparse_embedding\"].values))\n",
    "\n",
    "        # Compute Dense similarity\n",
    "        dense_score = cosine_similarity(query_dense_arr, doc_dense)[0][0]\n",
    "\n",
    "        # Compute Sparse similarity (dot-product)\n",
    "        common_indices = set(query_sparse_dict.keys()).intersection(set(doc_sparse.keys()))\n",
    "        sparse_score = sum(query_sparse_dict[idx] * doc_sparse[idx] for idx in common_indices)\n",
    "\n",
    "        # Combine Scores \n",
    "        final_score = alpha * dense_score + beta * sparse_score\n",
    "        results.append((i, final_score))\n",
    "\n",
    "    # Sort by final hybrid score in descending order\n",
    "    results.sort(key=lambda x: x[1], reverse=True)\n",
    "\n",
    "    top_indices = [t[0] for t in results[:top_k]]\n",
    "    top_scores  = [t[1] for t in results[:top_k]]\n",
    "\n",
    "    return top_indices, top_scores"
   ]
  },
  {
   "cell_type": "code",
   "execution_count": 10,
   "id": "471222fe-485e-4287-9ded-254aea426649",
   "metadata": {},
   "outputs": [],
   "source": [
    "def perform_query_and_display(query, df, dense_model, sparse_model, alpha=1.0, beta=1.0, top_k=5):\n",
    "    \"\"\"\n",
    "    Perform Hybrid Search and display results for a given query.\n",
    "    \n",
    "    Parameters:\n",
    "    - query: The query string to search for.\n",
    "    - df: The dataframe containing the data.\n",
    "    - dense_model: Pre-trained dense embedding model.\n",
    "    - sparse_model: Pre-trained sparse embedding model.\n",
    "    - alpha: Weight for the dense similarity score.\n",
    "    - beta: Weight for the sparse similarity score.\n",
    "    - top_k: Number of top results to display.\n",
    "    \"\"\"\n",
    "    # Measure the query time\n",
    "    start_time = time.time()\n",
    "    \n",
    "    # Perform hybrid search\n",
    "    top_indices, top_scores = hybrid_search(\n",
    "        query=query,\n",
    "        df=df,\n",
    "        dense_model=dense_model,\n",
    "        sparse_model=sparse_model,\n",
    "        alpha=alpha,\n",
    "        beta=beta,\n",
    "        top_k=top_k\n",
    "    )\n",
    "    \n",
    "    end_time = time.time()\n",
    "    query_time = end_time - start_time\n",
    "\n",
    "    # Display results\n",
    "    print(\"===============================================================\")\n",
    "    print(f\"\\033[92m\\033[1mResults for Query:\\033[0m \\033[94m{query}\\033[0m\")\n",
    "    print(\"===============================================================\")\n",
    "    print(f\"\\033[92mQuery Time:\\033[0m {query_time:.4f} seconds\")\n",
    "    print(\"===============================================================\")\n",
    "\n",
    "    for rank, (idx, score) in enumerate(zip(top_indices, top_scores), start=1):\n",
    "        row = df.iloc[idx]\n",
    "        print(f\"\\033[93mRank #{rank}\\033[0m | \\033[92mHybrid Score:\\033[0m {score:.4f}\")\n",
    "        print(f\"Name: {row['Name']}\")\n",
    "        print(f\"Position: {row['Position']}\")\n",
    "        print(f\"Department/Expertise: {row['Department']}, {row['Expertise']}\")\n",
    "        print(f\"University: {row['University']}\")\n",
    "        print(f\"Location: {row['Location']}\")\n",
    "        print(\"------\")"
   ]
  },
  {
   "cell_type": "code",
   "execution_count": 11,
   "id": "12d6d442-ecfe-4546-88a9-c7564bf65c68",
   "metadata": {},
   "outputs": [
    {
     "name": "stdout",
     "output_type": "stream",
     "text": [
      "===============================================================\n",
      "\u001b[92m\u001b[1mResults for Query:\u001b[0m \u001b[94mIndian Institute of Technology Kharagpur\u001b[0m\n",
      "===============================================================\n",
      "\u001b[92mQuery Time:\u001b[0m 0.2391 seconds\n",
      "===============================================================\n",
      "\u001b[93mRank #1\u001b[0m | \u001b[92mHybrid Score:\u001b[0m 0.6826\n",
      "Name: Dr S Santhosh Baboo\n",
      "Position: Principal\n",
      "Department/Expertise: Department of MCA, 7\n",
      "University: Dwaraka Doss Goverdhan Doss Vaishnav College\n",
      "Location: Tamil Nadu\n",
      "------\n",
      "\u001b[93mRank #2\u001b[0m | \u001b[92mHybrid Score:\u001b[0m 0.6520\n",
      "Name: Dr Karuppaiah P\n",
      "Position: Professor\n",
      "Department/Expertise: Department of Horticulture, Horticulture\n",
      "University: Annamalai University\n",
      "Location: Tamil Nadu\n",
      "------\n",
      "\u001b[93mRank #3\u001b[0m | \u001b[92mHybrid Score:\u001b[0m 0.6380\n",
      "Name: Dr Rajini G\n",
      "Position: Professor\n",
      "Department/Expertise: Management Studies, Management\n",
      "University: Vels Institute of Science, Technology and Advanced Studies (VISTAS)\n",
      "Location: Tamil Nadu\n",
      "------\n"
     ]
    }
   ],
   "source": [
    "perform_query_and_display(\"Indian Institute of Technology Kharagpur\",\n",
    "                          df, dense_model, sparse_model,\n",
    "                          alpha=1.0, beta=0, top_k=3)"
   ]
  },
  {
   "cell_type": "code",
   "execution_count": 12,
   "id": "f1ed82cb-aa2b-498e-8083-c6cd72909706",
   "metadata": {},
   "outputs": [
    {
     "name": "stdout",
     "output_type": "stream",
     "text": [
      "===============================================================\n",
      "\u001b[92m\u001b[1mResults for Query:\u001b[0m \u001b[94mIndian Institute of Technology Kharagpur \u001b[0m\n",
      "===============================================================\n",
      "\u001b[92mQuery Time:\u001b[0m 0.1878 seconds\n",
      "===============================================================\n",
      "\u001b[93mRank #1\u001b[0m | \u001b[92mHybrid Score:\u001b[0m 20.7817\n",
      "Name: Dr TRILOK SINGH\n",
      "Position: Assistant Professor (Grade-I)\n",
      "Department/Expertise: Department of Materials Science, Materials Science Multidisciplinary\n",
      "University: Indian Institute of Technology Kharagpur\n",
      "Location: West Bengal\n",
      "------\n",
      "\u001b[93mRank #2\u001b[0m | \u001b[92mHybrid Score:\u001b[0m 20.1012\n",
      "Name: Prof Kamal Lochan Panigrahi\n",
      "Position: Professor\n",
      "Department/Expertise: Department of Physics, Multidisciplinary Physics\n",
      "University: Indian Institute of Technology Kharagpur\n",
      "Location: West Bengal\n",
      "------\n",
      "\u001b[93mRank #3\u001b[0m | \u001b[92mHybrid Score:\u001b[0m 19.9671\n",
      "Name: Prof Debjani Chakraborty\n",
      "Position: Professor\n",
      "Department/Expertise: Department of Mathematics, Mathematics\n",
      "University: Indian Institute of Technology Kharagpur\n",
      "Location: West Bengal\n",
      "------\n"
     ]
    }
   ],
   "source": [
    "perform_query_and_display(\"Indian Institute of Technology Kharagpur \",\n",
    "                          df, dense_model, sparse_model,\n",
    "                          alpha=0, beta=1.0, top_k=3)"
   ]
  },
  {
   "cell_type": "code",
   "execution_count": 13,
   "id": "b2cf17e7-d14e-400c-ad71-4b71c0855c62",
   "metadata": {},
   "outputs": [
    {
     "name": "stdout",
     "output_type": "stream",
     "text": [
      "===============================================================\n",
      "\u001b[92m\u001b[1mResults for Query:\u001b[0m \u001b[94mIndian Institute of Technology Kharagpur\u001b[0m\n",
      "===============================================================\n",
      "\u001b[92mQuery Time:\u001b[0m 0.2451 seconds\n",
      "===============================================================\n",
      "\u001b[93mRank #1\u001b[0m | \u001b[92mHybrid Score:\u001b[0m 5.6668\n",
      "Name: Dr TRILOK SINGH\n",
      "Position: Assistant Professor (Grade-I)\n",
      "Department/Expertise: Department of Materials Science, Materials Science Multidisciplinary\n",
      "University: Indian Institute of Technology Kharagpur\n",
      "Location: West Bengal\n",
      "------\n",
      "\u001b[93mRank #2\u001b[0m | \u001b[92mHybrid Score:\u001b[0m 5.4409\n",
      "Name: Prof Kamal Lochan Panigrahi\n",
      "Position: Professor\n",
      "Department/Expertise: Department of Physics, Multidisciplinary Physics\n",
      "University: Indian Institute of Technology Kharagpur\n",
      "Location: West Bengal\n",
      "------\n",
      "\u001b[93mRank #3\u001b[0m | \u001b[92mHybrid Score:\u001b[0m 5.4278\n",
      "Name: Prof Debjani Chakraborty\n",
      "Position: Professor\n",
      "Department/Expertise: Department of Mathematics, Mathematics\n",
      "University: Indian Institute of Technology Kharagpur\n",
      "Location: West Bengal\n",
      "------\n"
     ]
    }
   ],
   "source": [
    "perform_query_and_display(\"Indian Institute of Technology Kharagpur\",\n",
    "                          df, dense_model, sparse_model,\n",
    "                          alpha=0.75, beta=0.25, top_k=3)"
   ]
  },
  {
   "cell_type": "code",
   "execution_count": 14,
   "id": "5d5bcc69-2684-48fb-9b2e-8faccfd366db",
   "metadata": {},
   "outputs": [
    {
     "name": "stdout",
     "output_type": "stream",
     "text": [
      "===============================================================\n",
      "\u001b[92m\u001b[1mResults for Query:\u001b[0m \u001b[94mAn expert in a the branch of science that deals with the structure of things around us and how the fundamental constituents of the universe interact.\u001b[0m\n",
      "===============================================================\n",
      "\u001b[92mQuery Time:\u001b[0m 0.2511 seconds\n",
      "===============================================================\n",
      "\u001b[93mRank #1\u001b[0m | \u001b[92mHybrid Score:\u001b[0m 0.5603\n",
      "Name: Prof Kamal Lochan Panigrahi\n",
      "Position: Professor\n",
      "Department/Expertise: Department of Physics, Multidisciplinary Physics\n",
      "University: Indian Institute of Technology Kharagpur\n",
      "Location: West Bengal\n",
      "------\n",
      "\u001b[93mRank #2\u001b[0m | \u001b[92mHybrid Score:\u001b[0m 0.5528\n",
      "Name: Prof Souvik Chakraborty\n",
      "Position: Assistant Professor\n",
      "Department/Expertise: Department of Applied Mechanics, Applied Mathematics\n",
      "University: Indian Institute of Technology Delhi\n",
      "Location: nan\n",
      "------\n",
      "\u001b[93mRank #3\u001b[0m | \u001b[92mHybrid Score:\u001b[0m 0.5474\n",
      "Name: Dr Navdeep Goyal\n",
      "Position: Dean\n",
      "Department/Expertise: Department of Physics, Condensed Matter Physics\n",
      "University: Panjab University\n",
      "Location: Chandigarh\n",
      "------\n"
     ]
    }
   ],
   "source": [
    "# Vector Search\n",
    "perform_query_and_display(\"An expert in a the branch of science that deals with the structure of things around us and how the fundamental constituents of the universe interact.\",\n",
    "                          df, dense_model, sparse_model,\n",
    "                          alpha=1.0, beta=0, top_k=3)"
   ]
  },
  {
   "cell_type": "code",
   "execution_count": 15,
   "id": "9a88e070-265a-42f3-a970-0fba68af8658",
   "metadata": {},
   "outputs": [
    {
     "name": "stdout",
     "output_type": "stream",
     "text": [
      "===============================================================\n",
      "\u001b[92m\u001b[1mResults for Query:\u001b[0m \u001b[94mAn expert in a the branch of science that deals with the structure of things around us and how the fundamental constituents of the universe interact.\u001b[0m\n",
      "===============================================================\n",
      "\u001b[92mQuery Time:\u001b[0m 0.2077 seconds\n",
      "===============================================================\n",
      "\u001b[93mRank #1\u001b[0m | \u001b[92mHybrid Score:\u001b[0m 3.8383\n",
      "Name: Dr Jessy Jose\n",
      "Position: Assistant Professor\n",
      "Department/Expertise: Physics, Astrophysics\n",
      "University: Indian Institute of Science Education and Research, Tirupati\n",
      "Location: Andhra Pradesh\n",
      "------\n",
      "\u001b[93mRank #2\u001b[0m | \u001b[92mHybrid Score:\u001b[0m 3.4995\n",
      "Name: Dr Rajini G\n",
      "Position: Professor\n",
      "Department/Expertise: Management Studies, Management\n",
      "University: Vels Institute of Science, Technology and Advanced Studies (VISTAS)\n",
      "Location: Tamil Nadu\n",
      "------\n",
      "\u001b[93mRank #3\u001b[0m | \u001b[92mHybrid Score:\u001b[0m 3.3762\n",
      "Name: Dr Utpal S Joshi\n",
      "Position: Professor\n",
      "Department/Expertise: Department of Physics, Electronics and Space Science, Condensed Matter Physics\n",
      "University: Gujarat University\n",
      "Location: Gujarat\n",
      "------\n"
     ]
    }
   ],
   "source": [
    "# Keyword Search\n",
    "perform_query_and_display(\"An expert in a the branch of science that deals with the structure of things around us and how the fundamental constituents of the universe interact.\",\n",
    "                          df, dense_model, sparse_model,\n",
    "                          alpha=0, beta=1.0, top_k=3)"
   ]
  },
  {
   "cell_type": "code",
   "execution_count": 16,
   "id": "2e1221f3-02ae-4933-a7bf-ebf8be7ec903",
   "metadata": {},
   "outputs": [
    {
     "name": "stdout",
     "output_type": "stream",
     "text": [
      "===============================================================\n",
      "\u001b[92m\u001b[1mResults for Query:\u001b[0m \u001b[94mAn expert in a the branch of science that deals with the structure of things around us and how the fundamental constituents of the universe interact.\u001b[0m\n",
      "===============================================================\n",
      "\u001b[92mQuery Time:\u001b[0m 0.1904 seconds\n",
      "===============================================================\n",
      "\u001b[93mRank #1\u001b[0m | \u001b[92mHybrid Score:\u001b[0m 1.3655\n",
      "Name: Dr Jessy Jose\n",
      "Position: Assistant Professor\n",
      "Department/Expertise: Physics, Astrophysics\n",
      "University: Indian Institute of Science Education and Research, Tirupati\n",
      "Location: Andhra Pradesh\n",
      "------\n",
      "\u001b[93mRank #2\u001b[0m | \u001b[92mHybrid Score:\u001b[0m 1.2649\n",
      "Name: Dr Rajini G\n",
      "Position: Professor\n",
      "Department/Expertise: Management Studies, Management\n",
      "University: Vels Institute of Science, Technology and Advanced Studies (VISTAS)\n",
      "Location: Tamil Nadu\n",
      "------\n",
      "\u001b[93mRank #3\u001b[0m | \u001b[92mHybrid Score:\u001b[0m 1.2354\n",
      "Name: Dr Utpal S Joshi\n",
      "Position: Professor\n",
      "Department/Expertise: Department of Physics, Electronics and Space Science, Condensed Matter Physics\n",
      "University: Gujarat University\n",
      "Location: Gujarat\n",
      "------\n"
     ]
    }
   ],
   "source": [
    "# Hybrid Search\n",
    "perform_query_and_display(\"An expert in a the branch of science that deals with the structure of things around us and how the fundamental constituents of the universe interact.\",\n",
    "                          df, dense_model, sparse_model,\n",
    "                          alpha=0.75, beta=0.25, top_k=3)"
   ]
  },
  {
   "cell_type": "code",
   "execution_count": 17,
   "id": "8019ccb9-5d7e-41ea-bac2-4a51352cea89",
   "metadata": {},
   "outputs": [
    {
     "name": "stdout",
     "output_type": "stream",
     "text": [
      "===============================================================\n",
      "\u001b[92m\u001b[1mResults for Query:\u001b[0m \u001b[94mAn expert in Chemistry based in Tamil Nadu\u001b[0m\n",
      "===============================================================\n",
      "\u001b[92mQuery Time:\u001b[0m 0.1451 seconds\n",
      "===============================================================\n",
      "\u001b[93mRank #1\u001b[0m | \u001b[92mHybrid Score:\u001b[0m 0.7664\n",
      "Name: Dr Srinivasan Krishnan\n",
      "Position: Associate Professor\n",
      "Department/Expertise: Department of Chemistry, Inorganic and Nuclear Chemistry\n",
      "University: Thiruvalluvar University\n",
      "Location: Tamil Nadu\n",
      "------\n",
      "\u001b[93mRank #2\u001b[0m | \u001b[92mHybrid Score:\u001b[0m 0.7418\n",
      "Name: Dr Manoj Kumar Bharty\n",
      "Position: Assistant Professor\n",
      "Department/Expertise: Department of Chemistry, Multidisciplinary Chemistry\n",
      "University: Banaras Hindu University\n",
      "Location: Uttar Pradesh\n",
      "------\n",
      "\u001b[93mRank #3\u001b[0m | \u001b[92mHybrid Score:\u001b[0m 0.7412\n",
      "Name: Prof Debashis Chakraborty\n",
      "Position: Professor\n",
      "Department/Expertise: Department of Chemistry, Organic Chemistry\n",
      "University: Indian Institute of Technology Madras\n",
      "Location: Tamil Nadu\n",
      "------\n"
     ]
    }
   ],
   "source": [
    "# Vector Search\n",
    "perform_query_and_display(\"An expert in Chemistry based in Tamil Nadu\",\n",
    "                          df, dense_model, sparse_model,\n",
    "                          alpha=1.0, beta=0.0, top_k=3)"
   ]
  },
  {
   "cell_type": "code",
   "execution_count": 18,
   "id": "9aabac7d-e0fb-4540-bb38-e4aff71aa145",
   "metadata": {},
   "outputs": [
    {
     "name": "stdout",
     "output_type": "stream",
     "text": [
      "===============================================================\n",
      "\u001b[92m\u001b[1mResults for Query:\u001b[0m \u001b[94mAn expert in Chemistry based in Tamil Nadu\u001b[0m\n",
      "===============================================================\n",
      "\u001b[92mQuery Time:\u001b[0m 0.1660 seconds\n",
      "===============================================================\n",
      "\u001b[93mRank #1\u001b[0m | \u001b[92mHybrid Score:\u001b[0m 18.2916\n",
      "Name: Dr Srinivasan Krishnan\n",
      "Position: Associate Professor\n",
      "Department/Expertise: Department of Chemistry, Inorganic and Nuclear Chemistry\n",
      "University: Thiruvalluvar University\n",
      "Location: Tamil Nadu\n",
      "------\n",
      "\u001b[93mRank #2\u001b[0m | \u001b[92mHybrid Score:\u001b[0m 17.0644\n",
      "Name: Prof Debashis Chakraborty\n",
      "Position: Professor\n",
      "Department/Expertise: Department of Chemistry, Organic Chemistry\n",
      "University: Indian Institute of Technology Madras\n",
      "Location: Tamil Nadu\n",
      "------\n",
      "\u001b[93mRank #3\u001b[0m | \u001b[92mHybrid Score:\u001b[0m 14.2652\n",
      "Name: Dr Geethanjali Purushothaman\n",
      "Position: Associate Professor\n",
      "Department/Expertise: School of Electrical Engineering, Biomedical Engineering\n",
      "University: Vellore Institute of Technology\n",
      "Location: Tamil Nadu\n",
      "------\n"
     ]
    }
   ],
   "source": [
    "# Keyword Search\n",
    "perform_query_and_display(\"An expert in Chemistry based in Tamil Nadu\",\n",
    "                          df, dense_model, sparse_model,\n",
    "                          alpha=0.0, beta=1.0, top_k=3)"
   ]
  },
  {
   "cell_type": "code",
   "execution_count": 19,
   "id": "e1c2d1c7-ebcd-4ab0-b5a4-0afdf7f6797c",
   "metadata": {},
   "outputs": [
    {
     "name": "stdout",
     "output_type": "stream",
     "text": [
      "===============================================================\n",
      "\u001b[92m\u001b[1mResults for Query:\u001b[0m \u001b[94mAn expert in Chemistry based in Tamil Nadu\u001b[0m\n",
      "===============================================================\n",
      "\u001b[92mQuery Time:\u001b[0m 0.1334 seconds\n",
      "===============================================================\n",
      "\u001b[93mRank #1\u001b[0m | \u001b[92mHybrid Score:\u001b[0m 5.1477\n",
      "Name: Dr Srinivasan Krishnan\n",
      "Position: Associate Professor\n",
      "Department/Expertise: Department of Chemistry, Inorganic and Nuclear Chemistry\n",
      "University: Thiruvalluvar University\n",
      "Location: Tamil Nadu\n",
      "------\n",
      "\u001b[93mRank #2\u001b[0m | \u001b[92mHybrid Score:\u001b[0m 4.8220\n",
      "Name: Prof Debashis Chakraborty\n",
      "Position: Professor\n",
      "Department/Expertise: Department of Chemistry, Organic Chemistry\n",
      "University: Indian Institute of Technology Madras\n",
      "Location: Tamil Nadu\n",
      "------\n",
      "\u001b[93mRank #3\u001b[0m | \u001b[92mHybrid Score:\u001b[0m 4.0418\n",
      "Name: Dr Balasundaram O N\n",
      "Position: Associate Professor\n",
      "Department/Expertise: Department of Physics, Materials Science Coatings and Films\n",
      "University: PSG College of Arts and Science\n",
      "Location: Tamil Nadu\n",
      "------\n"
     ]
    }
   ],
   "source": [
    "# Hybrid Search\n",
    "perform_query_and_display(\"An expert in Chemistry based in Tamil Nadu\",\n",
    "                          df, dense_model, sparse_model,\n",
    "                          alpha=0.75, beta=0.25, top_k=3)"
   ]
  }
 ],
 "metadata": {
  "kernelspec": {
   "display_name": "Python 3 (ipykernel)",
   "language": "python",
   "name": "python3"
  },
  "language_info": {
   "codemirror_mode": {
    "name": "ipython",
    "version": 3
   },
   "file_extension": ".py",
   "mimetype": "text/x-python",
   "name": "python",
   "nbconvert_exporter": "python",
   "pygments_lexer": "ipython3",
   "version": "3.12.7"
  }
 },
 "nbformat": 4,
 "nbformat_minor": 5
}
