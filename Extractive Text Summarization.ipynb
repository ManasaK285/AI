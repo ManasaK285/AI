{
 "cells": [
  {
   "cell_type": "code",
   "execution_count": 1,
   "id": "27ef1e3e",
   "metadata": {},
   "outputs": [
    {
     "name": "stdout",
     "output_type": "stream",
     "text": [
      "Requirement already satisfied: sentence-transformers in c:\\users\\mmanasanjani\\appdata\\local\\anaconda3\\lib\\site-packages (2.5.1)\n",
      "Requirement already satisfied: transformers<5.0.0,>=4.32.0 in c:\\users\\mmanasanjani\\appdata\\local\\anaconda3\\lib\\site-packages (from sentence-transformers) (4.38.2)\n",
      "Requirement already satisfied: tqdm in c:\\users\\mmanasanjani\\appdata\\local\\anaconda3\\lib\\site-packages (from sentence-transformers) (4.65.0)\n",
      "Requirement already satisfied: torch>=1.11.0 in c:\\users\\mmanasanjani\\appdata\\local\\anaconda3\\lib\\site-packages (from sentence-transformers) (2.2.1)\n",
      "Requirement already satisfied: numpy in c:\\users\\mmanasanjani\\appdata\\local\\anaconda3\\lib\\site-packages (from sentence-transformers) (1.24.3)\n",
      "Requirement already satisfied: scikit-learn in c:\\users\\mmanasanjani\\appdata\\local\\anaconda3\\lib\\site-packages (from sentence-transformers) (1.2.2)\n",
      "Requirement already satisfied: scipy in c:\\users\\mmanasanjani\\appdata\\local\\anaconda3\\lib\\site-packages (from sentence-transformers) (1.10.1)\n",
      "Requirement already satisfied: huggingface-hub>=0.15.1 in c:\\users\\mmanasanjani\\appdata\\local\\anaconda3\\lib\\site-packages (from sentence-transformers) (0.19.4)\n",
      "Requirement already satisfied: Pillow in c:\\users\\mmanasanjani\\appdata\\local\\anaconda3\\lib\\site-packages (from sentence-transformers) (9.4.0)\n",
      "Requirement already satisfied: filelock in c:\\users\\mmanasanjani\\appdata\\local\\anaconda3\\lib\\site-packages (from huggingface-hub>=0.15.1->sentence-transformers) (3.9.0)\n",
      "Requirement already satisfied: fsspec>=2023.5.0 in c:\\users\\mmanasanjani\\appdata\\local\\anaconda3\\lib\\site-packages (from huggingface-hub>=0.15.1->sentence-transformers) (2023.12.2)\n",
      "Requirement already satisfied: requests in c:\\users\\mmanasanjani\\appdata\\local\\anaconda3\\lib\\site-packages (from huggingface-hub>=0.15.1->sentence-transformers) (2.29.0)\n",
      "Requirement already satisfied: pyyaml>=5.1 in c:\\users\\mmanasanjani\\appdata\\local\\anaconda3\\lib\\site-packages (from huggingface-hub>=0.15.1->sentence-transformers) (6.0)\n",
      "Requirement already satisfied: typing-extensions>=3.7.4.3 in c:\\users\\mmanasanjani\\appdata\\local\\anaconda3\\lib\\site-packages (from huggingface-hub>=0.15.1->sentence-transformers) (4.9.0)\n",
      "Requirement already satisfied: packaging>=20.9 in c:\\users\\mmanasanjani\\appdata\\local\\anaconda3\\lib\\site-packages (from huggingface-hub>=0.15.1->sentence-transformers) (23.2)\n",
      "Requirement already satisfied: sympy in c:\\users\\mmanasanjani\\appdata\\local\\anaconda3\\lib\\site-packages (from torch>=1.11.0->sentence-transformers) (1.11.1)\n",
      "Requirement already satisfied: networkx in c:\\users\\mmanasanjani\\appdata\\local\\anaconda3\\lib\\site-packages (from torch>=1.11.0->sentence-transformers) (2.8.4)\n",
      "Requirement already satisfied: jinja2 in c:\\users\\mmanasanjani\\appdata\\local\\anaconda3\\lib\\site-packages (from torch>=1.11.0->sentence-transformers) (3.1.2)\n",
      "Requirement already satisfied: colorama in c:\\users\\mmanasanjani\\appdata\\local\\anaconda3\\lib\\site-packages (from tqdm->sentence-transformers) (0.4.6)\n",
      "Requirement already satisfied: regex!=2019.12.17 in c:\\users\\mmanasanjani\\appdata\\local\\anaconda3\\lib\\site-packages (from transformers<5.0.0,>=4.32.0->sentence-transformers) (2022.7.9)\n",
      "Requirement already satisfied: tokenizers<0.19,>=0.14 in c:\\users\\mmanasanjani\\appdata\\local\\anaconda3\\lib\\site-packages (from transformers<5.0.0,>=4.32.0->sentence-transformers) (0.15.2)\n",
      "Requirement already satisfied: safetensors>=0.4.1 in c:\\users\\mmanasanjani\\appdata\\local\\anaconda3\\lib\\site-packages (from transformers<5.0.0,>=4.32.0->sentence-transformers) (0.4.2)\n",
      "Requirement already satisfied: joblib>=1.1.1 in c:\\users\\mmanasanjani\\appdata\\local\\anaconda3\\lib\\site-packages (from scikit-learn->sentence-transformers) (1.2.0)\n",
      "Requirement already satisfied: threadpoolctl>=2.0.0 in c:\\users\\mmanasanjani\\appdata\\local\\anaconda3\\lib\\site-packages (from scikit-learn->sentence-transformers) (2.2.0)\n",
      "Requirement already satisfied: MarkupSafe>=2.0 in c:\\users\\mmanasanjani\\appdata\\local\\anaconda3\\lib\\site-packages (from jinja2->torch>=1.11.0->sentence-transformers) (2.1.1)\n",
      "Requirement already satisfied: charset-normalizer<4,>=2 in c:\\users\\mmanasanjani\\appdata\\local\\anaconda3\\lib\\site-packages (from requests->huggingface-hub>=0.15.1->sentence-transformers) (2.0.4)\n",
      "Requirement already satisfied: idna<4,>=2.5 in c:\\users\\mmanasanjani\\appdata\\local\\anaconda3\\lib\\site-packages (from requests->huggingface-hub>=0.15.1->sentence-transformers) (3.4)\n",
      "Requirement already satisfied: urllib3<1.27,>=1.21.1 in c:\\users\\mmanasanjani\\appdata\\local\\anaconda3\\lib\\site-packages (from requests->huggingface-hub>=0.15.1->sentence-transformers) (1.26.16)\n",
      "Requirement already satisfied: certifi>=2017.4.17 in c:\\users\\mmanasanjani\\appdata\\local\\anaconda3\\lib\\site-packages (from requests->huggingface-hub>=0.15.1->sentence-transformers) (2023.5.7)\n",
      "Requirement already satisfied: mpmath>=0.19 in c:\\users\\mmanasanjani\\appdata\\local\\anaconda3\\lib\\site-packages (from sympy->torch>=1.11.0->sentence-transformers) (1.2.1)\n"
     ]
    }
   ],
   "source": [
    "!pip install sentence-transformers"
   ]
  },
  {
   "cell_type": "code",
   "execution_count": 14,
   "id": "9e5d0c62",
   "metadata": {},
   "outputs": [],
   "source": [
    "from sentence_transformers import SentenceTransformer,util"
   ]
  },
  {
   "cell_type": "code",
   "execution_count": 5,
   "id": "1faa0317",
   "metadata": {},
   "outputs": [],
   "source": [
    "from LexRank import degree_centrality_scores"
   ]
  },
  {
   "cell_type": "code",
   "execution_count": 6,
   "id": "48d64f08",
   "metadata": {},
   "outputs": [
    {
     "name": "stderr",
     "output_type": "stream",
     "text": [
      "[nltk_data] Downloading package punkt to\n",
      "[nltk_data]     C:\\Users\\mmanasanjani\\AppData\\Roaming\\nltk_data...\n",
      "[nltk_data]   Unzipping tokenizers\\punkt.zip.\n"
     ]
    },
    {
     "data": {
      "text/plain": [
       "True"
      ]
     },
     "execution_count": 6,
     "metadata": {},
     "output_type": "execute_result"
    }
   ],
   "source": [
    "import nltk\n",
    "nltk.download('punkt')"
   ]
  },
  {
   "cell_type": "code",
   "execution_count": 7,
   "id": "1cd1e1c1",
   "metadata": {},
   "outputs": [],
   "source": [
    "import numpy as np"
   ]
  },
  {
   "cell_type": "code",
   "execution_count": 8,
   "id": "668a9476",
   "metadata": {},
   "outputs": [],
   "source": [
    "model=SentenceTransformer('all-MiniLM-L6-v2')"
   ]
  },
  {
   "cell_type": "code",
   "execution_count": 9,
   "id": "eb1a5c37",
   "metadata": {},
   "outputs": [],
   "source": [
    "#source:Indian Express\n",
    "document=\"\"\"In today’s rapidly evolving digital landscape, the traditional notion of education is undergoing rapid change and development. With the emergence of edupreneurship, a mindset emphasizing sustainability and innovation, educational institutions are redefining their curriculum to empower students with entrepreneurial skills from an early stage. This shift not only equips students with the tools to navigate an increasingly competitive job market but also cultivates a mindset of innovation and resilience crucial for success in the digital era.\n",
    "\n",
    "One significant trend in this paradigm shift is recognizing the importance of nurturing an entrepreneurial spirit from a young age, educational institutions are offering specialized programmes and courses that expose students to the fundamentals of entrepreneurship. By providing them with opportunities to develop business plans, engage in real-world projects, and interact with successful entrepreneurs, schools are fostering a culture of innovation and risk-taking among students.\n",
    "\n",
    "For example, the Atal Innovation Mission (AIM), by NITI Aayog in India has launched the Atal Tinkering Lab (ATL) programme aimed at fostering innovation. With 72 Atal Incubation Centers nationwide, AIM is dedicated to fostering world-class innovation and empowering dynamic entrepreneurs. This initiative has successfully incubated over 3500 startups, generating more than 32,000 job opportunities, with significant participation from women leaders.\"\"\""
   ]
  },
  {
   "cell_type": "code",
   "execution_count": 10,
   "id": "7094189a",
   "metadata": {},
   "outputs": [],
   "source": [
    "sentences=nltk.sent_tokenize(document)"
   ]
  },
  {
   "cell_type": "code",
   "execution_count": 11,
   "id": "3379e83d",
   "metadata": {},
   "outputs": [
    {
     "name": "stdout",
     "output_type": "stream",
     "text": [
      "8\n"
     ]
    }
   ],
   "source": [
    "print(len(sentences))"
   ]
  },
  {
   "cell_type": "code",
   "execution_count": 13,
   "id": "69d03f7d",
   "metadata": {},
   "outputs": [],
   "source": [
    "embeddings=model.encode(sentences,convert_to_tensor=True)"
   ]
  },
  {
   "cell_type": "code",
   "execution_count": 16,
   "id": "5a024fb3",
   "metadata": {},
   "outputs": [],
   "source": [
    "cos_scores=util.cos_sim(embeddings,embeddings).numpy()\n",
    "#to change to cpu if created on gpu,cos_scores=util.cos_sim(embeddings,embeddings).cpu().numpy()"
   ]
  },
  {
   "cell_type": "code",
   "execution_count": 17,
   "id": "a240a4d6",
   "metadata": {},
   "outputs": [
    {
     "data": {
      "text/plain": [
       "array([[1.0000001 , 0.38977322, 0.5804369 , 0.38129234, 0.4227783 ,\n",
       "        0.20678848, 0.23174793, 0.15090913],\n",
       "       [0.38977322, 1.0000001 , 0.53789043, 0.66745806, 0.54958415,\n",
       "        0.17362133, 0.37045553, 0.24095818],\n",
       "       [0.5804369 , 0.53789043, 1.0000001 , 0.49581915, 0.59402585,\n",
       "        0.33962232, 0.39188534, 0.28345525],\n",
       "       [0.38129234, 0.66745806, 0.49581915, 1.0000002 , 0.58112144,\n",
       "        0.22055414, 0.36169595, 0.2946477 ],\n",
       "       [0.4227783 , 0.54958415, 0.59402585, 0.58112144, 1.0000002 ,\n",
       "        0.29215366, 0.39432415, 0.26708657],\n",
       "       [0.20678848, 0.17362133, 0.33962232, 0.22055414, 0.29215366,\n",
       "        1.        , 0.63642347, 0.28831172],\n",
       "       [0.23174793, 0.37045553, 0.39188534, 0.36169595, 0.39432415,\n",
       "        0.63642347, 1.        , 0.5685338 ],\n",
       "       [0.15090911, 0.24095817, 0.28345525, 0.29464763, 0.26708657,\n",
       "        0.2883117 , 0.5685338 , 0.99999994]], dtype=float32)"
      ]
     },
     "execution_count": 17,
     "metadata": {},
     "output_type": "execute_result"
    }
   ],
   "source": [
    "cos_scores #8x8 as there are 8 sentences"
   ]
  },
  {
   "cell_type": "code",
   "execution_count": 18,
   "id": "4c58ef7e",
   "metadata": {},
   "outputs": [],
   "source": [
    "centrality_score=degree_centrality_scores(cos_scores,threshold=None)"
   ]
  },
  {
   "cell_type": "code",
   "execution_count": 19,
   "id": "f284bdd5",
   "metadata": {},
   "outputs": [],
   "source": [
    "most_centrality_sentence_indices=np.argsort(-centrality_score) #sorting based on descending order"
   ]
  },
  {
   "cell_type": "code",
   "execution_count": 20,
   "id": "946cb358",
   "metadata": {},
   "outputs": [
    {
     "data": {
      "text/plain": [
       "array([2, 4, 3, 6, 1, 0, 5, 7], dtype=int64)"
      ]
     },
     "execution_count": 20,
     "metadata": {},
     "output_type": "execute_result"
    }
   ],
   "source": [
    "most_centrality_sentence_indices"
   ]
  },
  {
   "cell_type": "code",
   "execution_count": 21,
   "id": "43c801ac",
   "metadata": {},
   "outputs": [
    {
     "name": "stdout",
     "output_type": "stream",
     "text": [
      "This shift not only equips students with the tools to navigate an increasingly competitive job market but also cultivates a mindset of innovation and resilience crucial for success in the digital era.\n",
      "By providing them with opportunities to develop business plans, engage in real-world projects, and interact with successful entrepreneurs, schools are fostering a culture of innovation and risk-taking among students.\n",
      "One significant trend in this paradigm shift is recognizing the importance of nurturing an entrepreneurial spirit from a young age, educational institutions are offering specialized programmes and courses that expose students to the fundamentals of entrepreneurship.\n",
      "With 72 Atal Incubation Centers nationwide, AIM is dedicated to fostering world-class innovation and empowering dynamic entrepreneurs.\n",
      "With the emergence of edupreneurship, a mindset emphasizing sustainability and innovation, educational institutions are redefining their curriculum to empower students with entrepreneurial skills from an early stage.\n",
      "In today’s rapidly evolving digital landscape, the traditional notion of education is undergoing rapid change and development.\n",
      "For example, the Atal Innovation Mission (AIM), by NITI Aayog in India has launched the Atal Tinkering Lab (ATL) programme aimed at fostering innovation.\n",
      "This initiative has successfully incubated over 3500 startups, generating more than 32,000 job opportunities, with significant participation from women leaders.\n"
     ]
    }
   ],
   "source": [
    "for id in most_centrality_sentence_indices:\n",
    "    print(sentences[id].strip())\n",
    "#gives all the sentences    "
   ]
  },
  {
   "cell_type": "code",
   "execution_count": 22,
   "id": "1bb457dc",
   "metadata": {},
   "outputs": [
    {
     "name": "stdout",
     "output_type": "stream",
     "text": [
      "This shift not only equips students with the tools to navigate an increasingly competitive job market but also cultivates a mindset of innovation and resilience crucial for success in the digital era.\n",
      "By providing them with opportunities to develop business plans, engage in real-world projects, and interact with successful entrepreneurs, schools are fostering a culture of innovation and risk-taking among students.\n",
      "One significant trend in this paradigm shift is recognizing the importance of nurturing an entrepreneurial spirit from a young age, educational institutions are offering specialized programmes and courses that expose students to the fundamentals of entrepreneurship.\n"
     ]
    }
   ],
   "source": [
    "#printing only top3\n",
    "for id in most_centrality_sentence_indices[:3]:\n",
    "    print(sentences[id].strip())"
   ]
  }
 ],
 "metadata": {
  "kernelspec": {
   "display_name": "Python 3 (ipykernel)",
   "language": "python",
   "name": "python3"
  },
  "language_info": {
   "codemirror_mode": {
    "name": "ipython",
    "version": 3
   },
   "file_extension": ".py",
   "mimetype": "text/x-python",
   "name": "python",
   "nbconvert_exporter": "python",
   "pygments_lexer": "ipython3",
   "version": "3.11.3"
  }
 },
 "nbformat": 4,
 "nbformat_minor": 5
}
