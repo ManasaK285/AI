{
 "cells": [
  {
   "cell_type": "code",
   "execution_count": 2,
   "id": "8236fd59",
   "metadata": {},
   "outputs": [
    {
     "name": "stdout",
     "output_type": "stream",
     "text": [
      "Requirement already satisfied: langchain==0.0.351 in c:\\users\\mmanasanjani\\appdata\\local\\anaconda3\\lib\\site-packages (0.0.351)\n",
      "Requirement already satisfied: PyYAML>=5.3 in c:\\users\\mmanasanjani\\appdata\\local\\anaconda3\\lib\\site-packages (from langchain==0.0.351) (6.0)\n",
      "Requirement already satisfied: SQLAlchemy<3,>=1.4 in c:\\users\\mmanasanjani\\appdata\\local\\anaconda3\\lib\\site-packages (from langchain==0.0.351) (1.4.39)\n",
      "Requirement already satisfied: aiohttp<4.0.0,>=3.8.3 in c:\\users\\mmanasanjani\\appdata\\local\\anaconda3\\lib\\site-packages (from langchain==0.0.351) (3.8.3)\n",
      "Requirement already satisfied: dataclasses-json<0.7,>=0.5.7 in c:\\users\\mmanasanjani\\appdata\\local\\anaconda3\\lib\\site-packages (from langchain==0.0.351) (0.6.3)\n",
      "Requirement already satisfied: jsonpatch<2.0,>=1.33 in c:\\users\\mmanasanjani\\appdata\\local\\anaconda3\\lib\\site-packages (from langchain==0.0.351) (1.33)\n",
      "Requirement already satisfied: langchain-community<0.1,>=0.0.2 in c:\\users\\mmanasanjani\\appdata\\local\\anaconda3\\lib\\site-packages (from langchain==0.0.351) (0.0.13)\n",
      "Requirement already satisfied: langchain-core<0.2,>=0.1 in c:\\users\\mmanasanjani\\appdata\\local\\anaconda3\\lib\\site-packages (from langchain==0.0.351) (0.1.13)\n",
      "Requirement already satisfied: langsmith<0.1.0,>=0.0.70 in c:\\users\\mmanasanjani\\appdata\\local\\anaconda3\\lib\\site-packages (from langchain==0.0.351) (0.0.83)\n",
      "Requirement already satisfied: numpy<2,>=1 in c:\\users\\mmanasanjani\\appdata\\local\\anaconda3\\lib\\site-packages (from langchain==0.0.351) (1.24.3)\n",
      "Requirement already satisfied: pydantic<3,>=1 in c:\\users\\mmanasanjani\\appdata\\local\\anaconda3\\lib\\site-packages (from langchain==0.0.351) (2.5.3)\n",
      "Requirement already satisfied: requests<3,>=2 in c:\\users\\mmanasanjani\\appdata\\local\\anaconda3\\lib\\site-packages (from langchain==0.0.351) (2.29.0)\n",
      "Requirement already satisfied: tenacity<9.0.0,>=8.1.0 in c:\\users\\mmanasanjani\\appdata\\local\\anaconda3\\lib\\site-packages (from langchain==0.0.351) (8.2.2)\n",
      "Requirement already satisfied: attrs>=17.3.0 in c:\\users\\mmanasanjani\\appdata\\local\\anaconda3\\lib\\site-packages (from aiohttp<4.0.0,>=3.8.3->langchain==0.0.351) (22.1.0)\n",
      "Requirement already satisfied: charset-normalizer<3.0,>=2.0 in c:\\users\\mmanasanjani\\appdata\\local\\anaconda3\\lib\\site-packages (from aiohttp<4.0.0,>=3.8.3->langchain==0.0.351) (2.0.4)\n",
      "Requirement already satisfied: multidict<7.0,>=4.5 in c:\\users\\mmanasanjani\\appdata\\local\\anaconda3\\lib\\site-packages (from aiohttp<4.0.0,>=3.8.3->langchain==0.0.351) (6.0.2)\n",
      "Requirement already satisfied: async-timeout<5.0,>=4.0.0a3 in c:\\users\\mmanasanjani\\appdata\\local\\anaconda3\\lib\\site-packages (from aiohttp<4.0.0,>=3.8.3->langchain==0.0.351) (4.0.2)\n",
      "Requirement already satisfied: yarl<2.0,>=1.0 in c:\\users\\mmanasanjani\\appdata\\local\\anaconda3\\lib\\site-packages (from aiohttp<4.0.0,>=3.8.3->langchain==0.0.351) (1.8.1)\n",
      "Requirement already satisfied: frozenlist>=1.1.1 in c:\\users\\mmanasanjani\\appdata\\local\\anaconda3\\lib\\site-packages (from aiohttp<4.0.0,>=3.8.3->langchain==0.0.351) (1.3.3)\n",
      "Requirement already satisfied: aiosignal>=1.1.2 in c:\\users\\mmanasanjani\\appdata\\local\\anaconda3\\lib\\site-packages (from aiohttp<4.0.0,>=3.8.3->langchain==0.0.351) (1.2.0)\n",
      "Requirement already satisfied: marshmallow<4.0.0,>=3.18.0 in c:\\users\\mmanasanjani\\appdata\\local\\anaconda3\\lib\\site-packages (from dataclasses-json<0.7,>=0.5.7->langchain==0.0.351) (3.20.2)\n",
      "Requirement already satisfied: typing-inspect<1,>=0.4.0 in c:\\users\\mmanasanjani\\appdata\\local\\anaconda3\\lib\\site-packages (from dataclasses-json<0.7,>=0.5.7->langchain==0.0.351) (0.9.0)\n",
      "Requirement already satisfied: jsonpointer>=1.9 in c:\\users\\mmanasanjani\\appdata\\local\\anaconda3\\lib\\site-packages (from jsonpatch<2.0,>=1.33->langchain==0.0.351) (2.1)\n",
      "Requirement already satisfied: anyio<5,>=3 in c:\\users\\mmanasanjani\\appdata\\local\\anaconda3\\lib\\site-packages (from langchain-core<0.2,>=0.1->langchain==0.0.351) (3.5.0)\n",
      "Requirement already satisfied: packaging<24.0,>=23.2 in c:\\users\\mmanasanjani\\appdata\\local\\anaconda3\\lib\\site-packages (from langchain-core<0.2,>=0.1->langchain==0.0.351) (23.2)\n",
      "Requirement already satisfied: annotated-types>=0.4.0 in c:\\users\\mmanasanjani\\appdata\\local\\anaconda3\\lib\\site-packages (from pydantic<3,>=1->langchain==0.0.351) (0.6.0)\n",
      "Requirement already satisfied: pydantic-core==2.14.6 in c:\\users\\mmanasanjani\\appdata\\local\\anaconda3\\lib\\site-packages (from pydantic<3,>=1->langchain==0.0.351) (2.14.6)\n",
      "Requirement already satisfied: typing-extensions>=4.6.1 in c:\\users\\mmanasanjani\\appdata\\local\\anaconda3\\lib\\site-packages (from pydantic<3,>=1->langchain==0.0.351) (4.9.0)\n",
      "Requirement already satisfied: idna<4,>=2.5 in c:\\users\\mmanasanjani\\appdata\\local\\anaconda3\\lib\\site-packages (from requests<3,>=2->langchain==0.0.351) (3.4)\n",
      "Requirement already satisfied: urllib3<1.27,>=1.21.1 in c:\\users\\mmanasanjani\\appdata\\local\\anaconda3\\lib\\site-packages (from requests<3,>=2->langchain==0.0.351) (1.26.16)\n",
      "Requirement already satisfied: certifi>=2017.4.17 in c:\\users\\mmanasanjani\\appdata\\local\\anaconda3\\lib\\site-packages (from requests<3,>=2->langchain==0.0.351) (2023.5.7)\n",
      "Requirement already satisfied: greenlet!=0.4.17 in c:\\users\\mmanasanjani\\appdata\\local\\anaconda3\\lib\\site-packages (from SQLAlchemy<3,>=1.4->langchain==0.0.351) (2.0.1)\n",
      "Requirement already satisfied: sniffio>=1.1 in c:\\users\\mmanasanjani\\appdata\\local\\anaconda3\\lib\\site-packages (from anyio<5,>=3->langchain-core<0.2,>=0.1->langchain==0.0.351) (1.2.0)\n",
      "Requirement already satisfied: mypy-extensions>=0.3.0 in c:\\users\\mmanasanjani\\appdata\\local\\anaconda3\\lib\\site-packages (from typing-inspect<1,>=0.4.0->dataclasses-json<0.7,>=0.5.7->langchain==0.0.351) (0.4.3)\n",
      "Requirement already satisfied: PyPDF2 in c:\\users\\mmanasanjani\\appdata\\local\\anaconda3\\lib\\site-packages (3.0.1)\n",
      "Requirement already satisfied: faiss-cpu in c:\\users\\mmanasanjani\\appdata\\local\\anaconda3\\lib\\site-packages (1.7.4)\n",
      "Requirement already satisfied: tiktoken in c:\\users\\mmanasanjani\\appdata\\local\\anaconda3\\lib\\site-packages (0.5.2)\n",
      "Requirement already satisfied: regex>=2022.1.18 in c:\\users\\mmanasanjani\\appdata\\local\\anaconda3\\lib\\site-packages (from tiktoken) (2022.7.9)\n",
      "Requirement already satisfied: requests>=2.26.0 in c:\\users\\mmanasanjani\\appdata\\local\\anaconda3\\lib\\site-packages (from tiktoken) (2.29.0)\n",
      "Requirement already satisfied: charset-normalizer<4,>=2 in c:\\users\\mmanasanjani\\appdata\\local\\anaconda3\\lib\\site-packages (from requests>=2.26.0->tiktoken) (2.0.4)\n",
      "Requirement already satisfied: idna<4,>=2.5 in c:\\users\\mmanasanjani\\appdata\\local\\anaconda3\\lib\\site-packages (from requests>=2.26.0->tiktoken) (3.4)\n",
      "Requirement already satisfied: urllib3<1.27,>=1.21.1 in c:\\users\\mmanasanjani\\appdata\\local\\anaconda3\\lib\\site-packages (from requests>=2.26.0->tiktoken) (1.26.16)\n",
      "Requirement already satisfied: certifi>=2017.4.17 in c:\\users\\mmanasanjani\\appdata\\local\\anaconda3\\lib\\site-packages (from requests>=2.26.0->tiktoken) (2023.5.7)\n"
     ]
    }
   ],
   "source": [
    "#install Libraries\n",
    "!pip install langchain==0.0.351\n",
    "!!pip install openai==1.5.0\n",
    "!pip install PyPDF2\n",
    "!pip install faiss-cpu\n",
    "!pip install tiktoken"
   ]
  },
  {
   "cell_type": "markdown",
   "id": "e2085724",
   "metadata": {},
   "source": [
    "## Using Open Source LLM hosted on Hugging Face"
   ]
  },
  {
   "cell_type": "code",
   "execution_count": 3,
   "id": "eb4f9984",
   "metadata": {},
   "outputs": [
    {
     "name": "stdout",
     "output_type": "stream",
     "text": [
      "Collecting huggingface-hub==0.19.4\n",
      "  Downloading huggingface_hub-0.19.4-py3-none-any.whl (311 kB)\n",
      "                                              0.0/311.7 kB ? eta -:--:--\n",
      "     ---------------------------------      276.5/311.7 kB 8.6 MB/s eta 0:00:01\n",
      "     -------------------------------------- 311.7/311.7 kB 6.6 MB/s eta 0:00:00\n",
      "Requirement already satisfied: filelock in c:\\users\\mmanasanjani\\appdata\\local\\anaconda3\\lib\\site-packages (from huggingface-hub==0.19.4) (3.9.0)\n",
      "Requirement already satisfied: fsspec>=2023.5.0 in c:\\users\\mmanasanjani\\appdata\\local\\anaconda3\\lib\\site-packages (from huggingface-hub==0.19.4) (2023.12.2)\n",
      "Requirement already satisfied: requests in c:\\users\\mmanasanjani\\appdata\\local\\anaconda3\\lib\\site-packages (from huggingface-hub==0.19.4) (2.29.0)\n",
      "Requirement already satisfied: tqdm>=4.42.1 in c:\\users\\mmanasanjani\\appdata\\local\\anaconda3\\lib\\site-packages (from huggingface-hub==0.19.4) (4.65.0)\n",
      "Requirement already satisfied: pyyaml>=5.1 in c:\\users\\mmanasanjani\\appdata\\local\\anaconda3\\lib\\site-packages (from huggingface-hub==0.19.4) (6.0)\n",
      "Requirement already satisfied: typing-extensions>=3.7.4.3 in c:\\users\\mmanasanjani\\appdata\\local\\anaconda3\\lib\\site-packages (from huggingface-hub==0.19.4) (4.9.0)\n",
      "Requirement already satisfied: packaging>=20.9 in c:\\users\\mmanasanjani\\appdata\\local\\anaconda3\\lib\\site-packages (from huggingface-hub==0.19.4) (23.2)\n",
      "Requirement already satisfied: colorama in c:\\users\\mmanasanjani\\appdata\\local\\anaconda3\\lib\\site-packages (from tqdm>=4.42.1->huggingface-hub==0.19.4) (0.4.6)\n",
      "Requirement already satisfied: charset-normalizer<4,>=2 in c:\\users\\mmanasanjani\\appdata\\local\\anaconda3\\lib\\site-packages (from requests->huggingface-hub==0.19.4) (2.0.4)\n",
      "Requirement already satisfied: idna<4,>=2.5 in c:\\users\\mmanasanjani\\appdata\\local\\anaconda3\\lib\\site-packages (from requests->huggingface-hub==0.19.4) (3.4)\n",
      "Requirement already satisfied: urllib3<1.27,>=1.21.1 in c:\\users\\mmanasanjani\\appdata\\local\\anaconda3\\lib\\site-packages (from requests->huggingface-hub==0.19.4) (1.26.16)\n",
      "Requirement already satisfied: certifi>=2017.4.17 in c:\\users\\mmanasanjani\\appdata\\local\\anaconda3\\lib\\site-packages (from requests->huggingface-hub==0.19.4) (2023.5.7)\n",
      "Installing collected packages: huggingface-hub\n",
      "  Attempting uninstall: huggingface-hub\n",
      "    Found existing installation: huggingface-hub 0.20.2\n",
      "    Uninstalling huggingface-hub-0.20.2:\n",
      "      Successfully uninstalled huggingface-hub-0.20.2\n",
      "Successfully installed huggingface-hub-0.19.4\n"
     ]
    }
   ],
   "source": [
    "!pip install huggingface-hub==0.19.4"
   ]
  },
  {
   "cell_type": "code",
   "execution_count": 4,
   "id": "18ba8425",
   "metadata": {},
   "outputs": [],
   "source": [
    "import os\n",
    "os.environ[\"HUGGINGFACEHUB_API_TOKEN\"] = \"<<Huggingface_API_token>>\""
   ]
  },
  {
   "cell_type": "code",
   "execution_count": 5,
   "id": "9548eede",
   "metadata": {},
   "outputs": [],
   "source": [
    "from langchain.llms import HuggingFaceHub"
   ]
  },
  {
   "cell_type": "code",
   "execution_count": 6,
   "id": "099a0220",
   "metadata": {},
   "outputs": [
    {
     "name": "stderr",
     "output_type": "stream",
     "text": [
      "C:\\Users\\mmanasanjani\\AppData\\Local\\anaconda3\\Lib\\site-packages\\huggingface_hub\\utils\\_deprecation.py:127: FutureWarning: '__init__' (from 'huggingface_hub.inference_api') is deprecated and will be removed from version '1.0'. `InferenceApi` client is deprecated in favor of the more feature-complete `InferenceClient`. Check out this guide to learn how to convert your script to use it: https://huggingface.co/docs/huggingface_hub/guides/inference#legacy-inferenceapi-client.\n",
      "  warnings.warn(warning_message, FutureWarning)\n"
     ]
    }
   ],
   "source": [
    "llm = HuggingFaceHub(repo_id = \"google/flan-t5-large\")"
   ]
  },
  {
   "cell_type": "code",
   "execution_count": 7,
   "id": "3beee630",
   "metadata": {},
   "outputs": [
    {
     "name": "stderr",
     "output_type": "stream",
     "text": [
      "C:\\Users\\mmanasanjani\\AppData\\Local\\anaconda3\\Lib\\site-packages\\langchain_core\\_api\\deprecation.py:117: LangChainDeprecationWarning: The function `__call__` was deprecated in LangChain 0.1.7 and will be removed in 0.2.0. Use invoke instead.\n",
      "  warn_deprecated(\n"
     ]
    }
   ],
   "source": [
    "query = \"What is the currency of India?\"\n",
    "completion = llm(query)"
   ]
  },
  {
   "cell_type": "code",
   "execution_count": 8,
   "id": "259e2628",
   "metadata": {},
   "outputs": [
    {
     "name": "stdout",
     "output_type": "stream",
     "text": [
      "rupee\n"
     ]
    }
   ],
   "source": [
    "print(completion)"
   ]
  },
  {
   "cell_type": "code",
   "execution_count": 9,
   "id": "8f2563a0",
   "metadata": {},
   "outputs": [],
   "source": [
    "query2 = \"Suggest me a thriller Sci-fi Novel\"\n",
    "completion2 = llm(query2)"
   ]
  },
  {
   "cell_type": "code",
   "execution_count": 10,
   "id": "ef6ddb8c",
   "metadata": {},
   "outputs": [
    {
     "name": "stdout",
     "output_type": "stream",
     "text": [
      "The Last of the Mohicans\n"
     ]
    }
   ],
   "source": [
    "print(completion2)"
   ]
  },
  {
   "cell_type": "markdown",
   "id": "32c225b4",
   "metadata": {},
   "source": [
    "## Using Open AI Proprietary LLM Model"
   ]
  },
  {
   "cell_type": "code",
   "execution_count": 12,
   "id": "a4d278e8",
   "metadata": {},
   "outputs": [],
   "source": [
    "import os\n",
    "os.environ[\"OPENAI_API_KEY\"] = \"<<OPENAI_API_KEY>>\""
   ]
  },
  {
   "cell_type": "code",
   "execution_count": 13,
   "id": "db64eaa7",
   "metadata": {},
   "outputs": [],
   "source": [
    "from langchain.llms import OpenAI"
   ]
  },
  {
   "cell_type": "code",
   "execution_count": 14,
   "id": "9a3be989",
   "metadata": {},
   "outputs": [],
   "source": [
    "llm = OpenAI(model_name=\"gpt-3.5-turbo-instruct\")"
   ]
  },
  {
   "cell_type": "code",
   "execution_count": 15,
   "id": "a2e267f6",
   "metadata": {},
   "outputs": [],
   "source": [
    "query = \"What is the currency of India?\"\n",
    "completion = llm(query)"
   ]
  },
  {
   "cell_type": "code",
   "execution_count": 16,
   "id": "39f1b87e",
   "metadata": {
    "scrolled": true
   },
   "outputs": [
    {
     "name": "stdout",
     "output_type": "stream",
     "text": [
      "\n",
      "\n",
      "The currency of India is the Indian Rupee (INR).\n"
     ]
    }
   ],
   "source": [
    "print(completion)"
   ]
  }
 ],
 "metadata": {
  "kernelspec": {
   "display_name": "Python 3 (ipykernel)",
   "language": "python",
   "name": "python3"
  },
  "language_info": {
   "codemirror_mode": {
    "name": "ipython",
    "version": 3
   },
   "file_extension": ".py",
   "mimetype": "text/x-python",
   "name": "python",
   "nbconvert_exporter": "python",
   "pygments_lexer": "ipython3",
   "version": "3.11.3"
  }
 },
 "nbformat": 4,
 "nbformat_minor": 5
}
